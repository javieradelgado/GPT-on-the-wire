{
 "cells": [
  {
   "cell_type": "markdown",
   "id": "98857f5a-567a-4941-996a-019e0ba694f4",
   "metadata": {
    "tags": []
   },
   "source": [
    "# Creación de paquetes DNS"
   ]
  },
  {
   "cell_type": "markdown",
   "id": "833d122f-03c1-4db6-9953-5864d8f68b9e",
   "metadata": {
    "tags": []
   },
   "source": [
    "### Descripción: \n",
    "Con este código se va a intentar crear diferentes tipos de paquetes DNS, mediante IA generativa. Se pretende pasar una descripción de estos paquetes al modelo y que este sea capaz de crear todos los campos necesarios para replicar un paquete con esas mismas especificaciones."
   ]
  },
  {
   "cell_type": "code",
   "execution_count": 1,
   "id": "af19945d-5027-48fa-a906-7efdf0b93876",
   "metadata": {
    "tags": []
   },
   "outputs": [
    {
     "name": "stderr",
     "output_type": "stream",
     "text": [
      "C:\\Users\\adayd\\anaconda3\\envs\\PAC-GPT\\Lib\\site-packages\\scapy\\layers\\ipsec.py:469: CryptographyDeprecationWarning: Blowfish has been deprecated\n",
      "  cipher=algorithms.Blowfish,\n",
      "C:\\Users\\adayd\\anaconda3\\envs\\PAC-GPT\\Lib\\site-packages\\scapy\\layers\\ipsec.py:483: CryptographyDeprecationWarning: CAST5 has been deprecated\n",
      "  cipher=algorithms.CAST5,\n"
     ]
    },
    {
     "data": {
      "text/plain": [
       "'1.10.0'"
      ]
     },
     "execution_count": 1,
     "metadata": {},
     "output_type": "execute_result"
    }
   ],
   "source": [
    "import random\n",
    "import re\n",
    "import pickle\n",
    "\n",
    "import openai\n",
    "openai.api_key = \"FILL\"\n",
    "\n",
    "from scapy.all import *\n",
    "from scapy.utils import RawPcapReader, wrpcap\n",
    "import scapy.all as scapy\n",
    "\n",
    "from scapy.layers.l2 import Ether\n",
    "from scapy.layers.inet import IP\n",
    "from scapy.all import DNS\n",
    "\n",
    "openai.__version__"
   ]
  },
  {
   "cell_type": "markdown",
   "id": "966c530c-db4b-4638-920b-2bdbf500b2d1",
   "metadata": {},
   "source": [
    "## Generación de la descipción de un paquete ICMP"
   ]
  },
  {
   "cell_type": "markdown",
   "id": "c2022cfe-d5b3-4f83-a64d-c828d9053c45",
   "metadata": {
    "tags": []
   },
   "source": [
    "<center><img src=\"https://miro.medium.com/v2/resize:fit:1400/1*EBKCNBODkcQMuvtXq9Vhog.png\">\n",
    "    \n",
    "<center> Teniendo estos mensajes enviados la siguiente cabecera.\n",
    "\n",
    "<center><img src=\"https://www.google.com/url?sa=i&url=http%3A%2F%2Fbastionado.blogspot.com%2F2013%2F02%2Fconsulta-dns-con-snort.html&psig=AOvVaw1cFLv_RkEKpsD_AUT71cnj&ust=1711802500271000&source=images&cd=vfe&opi=89978449&ved=0CBIQjRxqFwoTCPjIi7W_mYUDFQAAAAAdAAAAABAJ\">"
   ]
  },
  {
   "cell_type": "code",
   "execution_count": 54,
   "id": "42c7d91e-37a8-49e9-8c56-2b075754e0aa",
   "metadata": {
    "tags": []
   },
   "outputs": [],
   "source": [
    "query = \"In the next lines, I'll provide you with some packet descriptions for different types of DNS packets and how to construct each one of them using scapy. Use each one of this as a base to guide you while creating packets if they are the same type, but DONT create ALL these types of packets for every description, evaluate to wich type does the summary belong, and generate JUST that packet command.\\n\\n\"\n",
    "\n",
    "# Standard DNS Query\n",
    "query += \"This is a standard DNS query packet summary:\\n\"\n",
    "query += \"192.168.2.102 192.168.2.1 DNS 86 Standard query 0xd7fa PTR 80.144.99.193.in-addr.arpa\\n\"\n",
    "query += \"The command to generate this packet would be:\\n\"\n",
    "query += 'IP(src=\"192.168.2.102\", dst=\"192.168.2.1\", proto=17)/UDP(sport=\"RANDOM_NUMBER\", dport=53)/DNS(id=0xd7fa, qr=0, rd=1, opcode=0, qdcount=1, ancount=0, nscount=0, arcount=0, qd=DNSQR(qname=\"80.144.99.193.in-addr.arpa\", qtype=\"PTR\", qclass=\"IN\"))\\n\\n'\n",
    "\n",
    "#Standard DNS Response\n",
    "query += \"This is a standard DNS query response packet summary:\\n\"\n",
    "query += \"9.9.9.9 193.24.227.230 DNS 127 Standard query response 0x0aba A many-rrs.weberdns.de A 192.0.2.43 A 192.0.2.42 OPT\\n\"\n",
    "query += \"This is the python code to generate the packet:\\n\"\n",
    "query += 'IP(src=\"9.9.9.9\", dst=\"193.24.227.230\", proto=17)/UDP(sport=53, dport=\"RANDOM_NUMBER\")/DNS(id=0x0aba, qr=1, opcode=0, ra=1, rcode=0, qdcount=1, ancount=2, nscount=0, arcount=1, qd=DNSQR(qname=\"many-rrs.weberdns.de\", qtype=\"A\", qclass=\"IN\"), an=DNSRR(rrname=\"many-rrs.weberdns.de\", type=\"A\", rclass=\"IN\", ttl=255, rdata=\"192.0.2.43\")/DNSRR(rrname=\"many-rrs.weberdns.de\", type=\"A\", rclass=\"IN\", ttl=255, rdata=\"192.0.2.42\"), ar=DNSRROPT(rrname=\".\", type=41, rclass=4096, z=0x0000 rdlen=None, rdata=\"\"))\\n\\n'\n",
    "\n",
    "#query += 'A value for varible \"var_1\" must be defined randomly in every new packet. You must generate a random port number for every new packet and substitute it for the variable. for example, if you randomly generate number 395, in a DNS query, the UDP part must me UDP(sport=395, dport=53). This is EXTREMELY important.\\n\\n'\n",
    "\n",
    "query += \"Please, be especially carefull with the variables and flags, take your time to consider if the summary means recursiveness in the query, if the response is authoritative, etc\\n\"\n",
    "query += \"The variable 'qr' depends on the type of the packet, queries qr=0 and responses have opcode=1\\n\\n\"\n",
    "\n",
    "query += \"Take into consideration especificacitions of each query like the type and the class\\n\"\n",
    "query += \"The 'type' variable of the query specificies the type of the query, it can be: A(host address)->type=1, CNAME->type=5, PTR(domain name pointer)->type=12, MX(Mail exchange)->type=15, and much more.\\n\"\n",
    "query += \"The 'class' variable can be: 1= Internet(IN), 255= QCLASS *ANY, etc\\n\\n\"\n",
    "\n",
    "query += \"While creating de commands, take your time to process the summaries. Dont create commands with obvious errors like repeated variables.\\n\"\n",
    "query += \"Dont create comands with both DNSQR (DNS Question Record) and  DNSRR (DNS Response Record) if the packet is a query, this is an obvious error as a query cant have its own response\\n\"\n",
    "\n",
    "query += \"The ancount variable gives us the number of an answers in the responses, it must be coherent with this part, ESPECIALLY IN THE QUERY RESPONSES, the same goes for the other (qdcount, nscount, arcount)\\n\"\n",
    "query += \"If you need to put various qd, an, ns, ar in the packet, they are added as follows, for example, if you want to add 3 ar : ar=DNSRR(...)/DNSRR(..)/DNSRR(...). This is really important, and the same structure (separated by / ) aplies to an, qd, ns and ar \\n\"\n",
    "query += \"Use DNSRRSOA(..) to create SOA responses, DNSRROPT(..) for OPT responses, etc\\n\\n\"\n",
    "\n",
    "query += \"Take a few seconds (5s) to think about your answer and consider all requirements previosuly established, don't come up with an answer until all of them are satisfied\\n\\n\"\n",
    "\n",
    "query += \"RANDOM_NUMBER is a variable that must be redefined in every packet\\n\"\n",
    "query += \"Generate a random number between 1024 and 65535 for every new command and substitute it for the variable 'RANDOM_NUMBER' in the UDP port definition. This is CRUCIAL, without this, you will be wrongfully generating tha packets. You must also take into account, that in the query response, sport is always 53, d port is the one that needs to be defined\\n\\n\""
   ]
  },
  {
   "cell_type": "code",
   "execution_count": 56,
   "id": "661e3e74-0651-4cc3-98bc-cc7892344165",
   "metadata": {
    "tags": []
   },
   "outputs": [
    {
     "name": "stdout",
     "output_type": "stream",
     "text": [
      "In the next lines, I'll provide you with some packet descriptions for different types of DNS packets and how to construct each one of them using scapy. Use each one of this as a base to guide you while creating packets if they are the same type, but DONT create ALL these types of packets for every description, evaluate to wich type does the summary belong, and generate JUST that packet command.\n",
      "\n",
      "This is a standard DNS query packet summary:\n",
      "192.168.2.102 192.168.2.1 DNS 86 Standard query 0xd7fa PTR 80.144.99.193.in-addr.arpa\n",
      "The command to generate this packet would be:\n",
      "IP(src=\"192.168.2.102\", dst=\"192.168.2.1\", proto=17)/UDP(sport=\"RANDOM_NUMBER\", dport=53)/DNS(id=0xd7fa, qr=0, rd=1, opcode=0, qdcount=1, ancount=0, nscount=0, arcount=0, qd=DNSQR(qname=\"80.144.99.193.in-addr.arpa\", qtype=\"PTR\", qclass=\"IN\"))\n",
      "\n",
      "This is a standard DNS query response packet summary:\n",
      "9.9.9.9 193.24.227.230 DNS 127 Standard query response 0x0aba A many-rrs.weberdns.de A 192.0.2.43 A 192.0.2.42 OPT\n",
      "This is the python code to generate the packet:\n",
      "IP(src=\"9.9.9.9\", dst=\"193.24.227.230\", proto=17)/UDP(sport=53, dport=\"RANDOM_NUMBER\")/DNS(id=0x0aba, qr=1, opcode=0, ra=1, rcode=0, qdcount=1, ancount=2, nscount=0, arcount=1, qd=DNSQR(qname=\"many-rrs.weberdns.de\", qtype=\"A\", qclass=\"IN\"), an=DNSRR(rrname=\"many-rrs.weberdns.de\", type=\"A\", rclass=\"IN\", ttl=255, rdata=\"192.0.2.43\")/DNSRR(rrname=\"many-rrs.weberdns.de\", type=\"A\", rclass=\"IN\", ttl=255, rdata=\"192.0.2.42\"), ar=DNSRROPT(rrname=\".\", type=41, rclass=4096, z=0x0000 rdlen=None, rdata=\"\"))\n",
      "\n",
      "Please, be especially carefull with the variables and flags, take your time to consider if the summary means recursiveness in the query, if the response is authoritative, etc\n",
      "The variable 'qr' depends on the type of the packet, queries qr=0 and responses have opcode=1\n",
      "\n",
      "Take into consideration especificacitions of each query like the type and the class\n",
      "The 'type' variable of the query specificies the type of the query, it can be: A(host address)->type=1, CNAME->type=5, PTR(domain name pointer)->type=12, MX(Mail exchange)->type=15, and much more.\n",
      "The 'class' variable can be: 1= Internet(IN), 255= QCLASS *ANY, etc\n",
      "\n",
      "While creating de commands, take your time to process the summaries. Dont create commands with obvious errors like repeated variables.\n",
      "Dont create comands with both DNSQR (DNS Question Record) and  DNSRR (DNS Response Record) if the packet is a query, this is an obvious error as a query cant have its own response\n",
      "The ancount variable gives us the number of an answers in the responses, it must be coherent with this part, ESPECIALLY IN THE QUERY RESPONSES, the same goes for the other (qdcount, nscount, arcount)\n",
      "If you need to put various qd, an, ns, ar in the packet, they are added as follows, for example, if you want to add 3 ar : ar=DNSRR(...)/DNSRR(..)/DNSRR(...). This is really important, and the same structure (separated by / ) aplies to an, qd, ns and ar \n",
      "Use DNSRRSOA(..) to create SOA responses, DNSRROPT(..) for OPT responses, etc\n",
      "\n",
      "Take a few seconds (5s) to think about your answer and consider all requirements previosuly established, don't come up with an answer until all of them are satisfied\n",
      "\n",
      "RANDOM_NUMBER is a variable that must be redefined in every packet\n",
      "Generate a random number between 1024 and 65535 for every new command and substitute it for the variable 'RANDOM_NUMBER' in the UDP port definition. This is CRUCIAL, without this, you will be wrongfully generating tha packets. You must also take into account, that in the query response, sport is always 53, d port is the one that needs to be defined\n",
      "\n",
      "\n"
     ]
    }
   ],
   "source": [
    "print(query)"
   ]
  },
  {
   "cell_type": "markdown",
   "id": "42b6a1d3-3645-4f96-9aef-2f47afbb2f43",
   "metadata": {},
   "source": [
    "## Carga de posibles descripciones"
   ]
  },
  {
   "cell_type": "code",
   "execution_count": 59,
   "id": "4bf501e4-7aa3-405f-bacd-3531b83e585b",
   "metadata": {
    "tags": []
   },
   "outputs": [
    {
     "data": {
      "text/plain": [
       "526"
      ]
     },
     "execution_count": 59,
     "metadata": {},
     "output_type": "execute_result"
    }
   ],
   "source": [
    "with open(\"../../data/text/DNS_summaries.txt\",\"r\") as f:\n",
    "    packets_summary = f.read().splitlines()\n",
    "len(packets_summary)"
   ]
  },
  {
   "cell_type": "markdown",
   "id": "9e216e1b-854d-4604-9c76-38593c60809f",
   "metadata": {},
   "source": [
    "### Carga de posibles conversaciones anteriores para concatenarlas"
   ]
  },
  {
   "cell_type": "code",
   "execution_count": 62,
   "id": "2bc08d0e-16e4-4943-8ddd-fd72e52afcd5",
   "metadata": {
    "tags": []
   },
   "outputs": [],
   "source": [
    "class response():\n",
    "    \"Stores name and place pairs\"\n",
    "    def __init__(self, name, place):\n",
    "        self.prompt_summary = name\n",
    "        self.completion = place"
   ]
  },
  {
   "cell_type": "code",
   "execution_count": 64,
   "id": "6e264363-3f91-42e1-85b8-2b75028f09c8",
   "metadata": {
    "tags": []
   },
   "outputs": [],
   "source": [
    "responses = pickle.load( open(\"../../data/Packets/DNS/pickle/DNS_packet_pairs_Aday.pkl\", \"rb\" ))\n",
    "\n",
    "responses = []"
   ]
  },
  {
   "cell_type": "code",
   "execution_count": 66,
   "id": "2e7343b6-89dc-49ed-955b-5c9f7a012311",
   "metadata": {
    "tags": []
   },
   "outputs": [],
   "source": [
    "responses = []"
   ]
  },
  {
   "cell_type": "markdown",
   "id": "4de1f79a-ab55-452f-a43e-052930c04968",
   "metadata": {},
   "source": [
    "## Generación de comandos de paquetes DNS"
   ]
  },
  {
   "cell_type": "code",
   "execution_count": 144,
   "id": "9d093b9c-3e06-4e66-aa8e-478b68372d7a",
   "metadata": {
    "tags": []
   },
   "outputs": [],
   "source": [
    "summaries_per_request = 5 # por que normalmente solo querremos generar una conversación"
   ]
  },
  {
   "cell_type": "code",
   "execution_count": 178,
   "id": "4895a35a-1f63-4263-a20e-0452e8c56621",
   "metadata": {
    "tags": []
   },
   "outputs": [
    {
     "name": "stdout",
     "output_type": "stream",
     "text": [
      "['130.231.202.234 â†’ 130.231.240.70 DNS 97 Standard query 0x1043 A encrypted-tbn0.gstatic.com OPT', '130.231.240.70 â†’ 130.231.202.234 DNS 148 Standard query response 0x23f8 No such name A usage.fdown.net.oulu.fi SOA ousrvr.oulu.fi OPT', '130.231.202.234 â†’ 130.231.240.70 DNS 94 Standard query 0x8939 A api-partner.spotify.com OPT', '130.231.240.70 â†’ 130.231.202.234 DNS 201 Standard query response 0x3407 A platform.openai.com CNAME platform.api.openai.com CNAME platform.openai.com.cdn.cloudflare.net A 104.18.1.104 A 104.18.0.104 OPT', '130.231.202.234 â†’ 130.231.240.70 DNS 105 Standard query 0x3c1c A audio-ak-spotify-com.akamaized.net OPT']\n"
     ]
    }
   ],
   "source": [
    "## Luego seleccionas aleatoriamente resumenes ya generados para pedirle que te saque el comando a partir del paquete\n",
    "summaries = random.choices(packets_summary,k=summaries_per_request)\n",
    "print(summaries)"
   ]
  },
  {
   "cell_type": "code",
   "execution_count": 2,
   "id": "14da1bd3-70c8-4cc0-b889-3894c4c67486",
   "metadata": {
    "tags": []
   },
   "outputs": [
    {
     "ename": "NameError",
     "evalue": "name 'query' is not defined",
     "output_type": "error",
     "traceback": [
      "\u001b[1;31m---------------------------------------------------------------------------\u001b[0m",
      "\u001b[1;31mNameError\u001b[0m                                 Traceback (most recent call last)",
      "Cell \u001b[1;32mIn[2], line 1\u001b[0m\n\u001b[1;32m----> 1\u001b[0m query1 \u001b[38;5;241m=\u001b[39m query\n\u001b[0;32m      3\u001b[0m \u001b[38;5;28;01mfor\u001b[39;00m i \u001b[38;5;129;01min\u001b[39;00m \u001b[38;5;28mrange\u001b[39m(\u001b[38;5;241m1\u001b[39m):\n\u001b[0;32m      5\u001b[0m     \u001b[38;5;28mprint\u001b[39m(\u001b[38;5;124m\"\u001b[39m\u001b[38;5;124m...........................................\u001b[39m\u001b[38;5;124m\"\u001b[39m)\n",
      "\u001b[1;31mNameError\u001b[0m: name 'query' is not defined"
     ]
    }
   ],
   "source": [
    "query1 = query\n",
    "\n",
    "for i in range(len(packets_summary)/summaries_per_request):\n",
    "    \n",
    "    summaries = random.choices(packets_summary,k=summaries_per_request)\n",
    "    \n",
    "    print(\"...........................................\")\n",
    "    print( \" GENERATING SCAPY COMMANDS FOR THE FOLLOWING PACKETS (iter \" +str(i+1) +\")\")\n",
    "    \n",
    "\n",
    "    text_sum = \"\"\n",
    "    \n",
    "    query1 += \"\\nBelow, I'll give you the descriptions of the packets you have to generate, the previous where just examples\\n\\n\"\n",
    "    \n",
    "    for summary in summaries:\n",
    "        query1 += \"This is a packet summary:\\n\"\n",
    "        query1 += summary + \"\\n\"\n",
    "        text_sum += summary + \"\\n\"\n",
    "        \n",
    "    query1 += \"\\nGenerate python code for creating JUST the packets of the summaries given with scapy framework and put them all in a list named pkt_list. DO NOT create commands for other types of DNS rather than the ones belonging to the packets wanted to generate\\n\"\n",
    "    \n",
    "    print(query1)\n",
    "    \n",
    "    #Esta es la petición que le mandas al modelo de IA\n",
    "    completion = openai.completions.create(\n",
    "        model=\"gpt-3.5-turbo-instruct\", \n",
    "        prompt=query1,\n",
    "        max_tokens=2600,\n",
    "        temperature=0.1)\n",
    "\n",
    "    \n",
    "    print(\"...Generated!\")\n",
    "    \n",
    "    # Guardamos tanto el resumen de los paquetes que solicitamos y lo que devuelve el modelo para estos paquetes\n",
    "    responses.append(response(text_sum, completion))\n",
    "    \n",
    "    exec(responses[-1].completion.choices[0].text)\n",
    "    \n",
    "    with open(\"../../data/Packets/DNS/pcap/DNSgenerated_3_5_turbo-instruct_conv.pcap\", \"ba+\") as f:\n",
    "        wrpcap(f, pkt_list, append=True)\n",
    "    \n",
    "    # Guardamos tanto la petición como la respuesta en un archivo\n",
    "    pickle.dump(responses, open( \"../../data/Packets/DNS/pickle/DNS_packet_pairs_Aday.pkl\", \"wb\" ) )\n",
    "    \n",
    "    print(\"Number of completitions done: \" + str(len(responses)))"
   ]
  },
  {
   "cell_type": "code",
   "execution_count": 181,
   "id": "028d4d32-86ae-4ba6-afc7-62dd15a99ce4",
   "metadata": {
    "tags": []
   },
   "outputs": [
    {
     "name": "stdout",
     "output_type": "stream",
     "text": [
      "130.231.202.234 â†’ 130.231.240.70 DNS 97 Standard query 0x1043 A encrypted-tbn0.gstatic.com OPT\n",
      "130.231.240.70 â†’ 130.231.202.234 DNS 148 Standard query response 0x23f8 No such name A usage.fdown.net.oulu.fi SOA ousrvr.oulu.fi OPT\n",
      "130.231.202.234 â†’ 130.231.240.70 DNS 94 Standard query 0x8939 A api-partner.spotify.com OPT\n",
      "130.231.240.70 â†’ 130.231.202.234 DNS 201 Standard query response 0x3407 A platform.openai.com CNAME platform.api.openai.com CNAME platform.openai.com.cdn.cloudflare.net A 104.18.1.104 A 104.18.0.104 OPT\n",
      "130.231.202.234 â†’ 130.231.240.70 DNS 105 Standard query 0x3c1c A audio-ak-spotify-com.akamaized.net OPT\n",
      "\n",
      "\n",
      "pkt_list = []\n",
      "\n",
      "# Packet 1\n",
      "pkt1 = IP(src=\"130.231.202.234\", dst=\"130.231.240.70\", proto=17)/UDP(sport=12345, dport=53)/DNS(id=0x1043, qr=0, rd=1, opcode=0, qdcount=1, ancount=0, nscount=0, arcount=1, qd=DNSQR(qname=\"encrypted-tbn0.gstatic.com\", qtype=\"A\", qclass=\"IN\"), ar=DNSRROPT(rrname=\".\", type=41, rclass=4096, z=0x0000, rdlen=None, rdata=\"\"))\n",
      "pkt_list.append(pkt1)\n",
      "\n",
      "# Packet 2\n",
      "pkt2 = IP(src=\"130.231.240.70\", dst=\"130.231.202.234\", proto=17)/UDP(sport=53, dport=12345)/DNS(id=0x23f8, qr=1, opcode=0, ra=1, rcode=3, qdcount=1, ancount=1, nscount=0, arcount=1, qd=DNSQR(qname=\"usage.fdown.net.oulu.fi\", qtype=\"A\", qclass=\"IN\"), an=DNSRR(rrname=\"usage.fdown.net.oulu.fi\", type=\"SOA\", rclass=\"IN\", ttl=255, rdata=\"ousrvr.oulu.fi\")/DNSRROPT(rrname=\".\", type=41, rclass=4096, z=0x0000, rdlen=None, rdata=\"\"))\n",
      "pkt_list.append(pkt2)\n",
      "\n",
      "# Packet 3\n",
      "pkt3 = IP(src=\"130.231.202.234\", dst=\"130.231.240.70\", proto=17)/UDP(sport=23456, dport=53)/DNS(id=0x8939, qr=0, rd=1, opcode=0, qdcount=1, ancount=0, nscount=0, arcount=1, qd=DNSQR(qname=\"api-partner.spotify.com\", qtype=\"A\", qclass=\"IN\"), ar=DNSRROPT(rrname=\".\", type=41, rclass=4096, z=0x0000, rdlen=None, rdata=\"\"))\n",
      "pkt_list.append(pkt3)\n",
      "\n",
      "# Packet 4\n",
      "pkt4 = IP(src=\"130.231.240.70\", dst=\"130.231.202.234\", proto=17)/UDP(sport=53, dport=23456)/DNS(id=0x3407, qr=1, opcode=0, ra=1, rcode=0, qdcount=1, ancount=3, nscount=0, arcount=1, qd=DNSQR(qname=\"platform.openai.com\", qtype=\"A\", qclass=\"IN\"), an=DNSRR(rrname=\"platform.openai.com\", type=\"CNAME\", rclass=\"IN\", ttl=255, rdata=\"platform.api.openai.com\")/DNSRR(rrname=\"platform.api.openai.com\", type=\"CNAME\", rclass=\"IN\", ttl=255, rdata=\"platform.openai.com.cdn.cloudflare.net\")/DNSRR(rrname=\"platform.openai.com.cdn.cloudflare.net\", type=\"A\", rclass=\"IN\", ttl=255, rdata=\"104.18.1.104\")/DNSRR(rrname=\"platform.openai.com.cdn.cloudflare.net\", type=\"A\", rclass=\"IN\", ttl=255, rdata=\"104.18.0.104\")/DNSRROPT(rrname=\".\", type=41, rclass=4096, z=0x0000, rdlen=None, rdata=\"\"))\n",
      "pkt_list.append(pkt4)\n",
      "\n",
      "# Packet 5\n",
      "pkt5 = IP(src=\"130.231.202.234\", dst=\"130.231.240.70\", proto=17)/UDP(sport=34567, dport=53)/DNS(id=0x3c1c, qr=0, rd=1, opcode=0, qdcount=1, ancount=0, nscount=0, arcount=1, qd=DNSQR(qname=\"audio-ak-spotify-com.akamaized.net\", qtype=\"A\", qclass=\"IN\"), ar=DNSRROPT(rrname=\".\", type=41, rclass=4096, z=0x0000, rdlen=None, rdata=\"\"))\n",
      "pkt_list.append(pkt5)\n"
     ]
    }
   ],
   "source": [
    "# Este es el resumen de lo que está en el struct de responses para la última petición\n",
    "print(responses[-1].prompt_summary)\n",
    "print(responses[-1].completion.choices[0].text)"
   ]
  },
  {
   "cell_type": "markdown",
   "id": "bd91e117-b3bc-4376-8a9d-22f0dea30dd1",
   "metadata": {},
   "source": [
    "### Generación de paquetes"
   ]
  },
  {
   "cell_type": "code",
   "execution_count": 183,
   "id": "eb871940-bec1-409c-af35-05685d61196c",
   "metadata": {
    "tags": []
   },
   "outputs": [
    {
     "name": "stdout",
     "output_type": "stream",
     "text": [
      "[<IP  frag=0 proto=udp src=130.231.202.234 dst=130.231.240.70 |<UDP  sport=12345 dport=domain |<DNS  id=4163 qr=0 opcode=QUERY rd=1 qdcount=1 ancount=0 nscount=0 arcount=1 qd=<DNSQR  qname='encrypted-tbn0.gstatic.com' qtype=A qclass=IN |> ar=<DNSRROPT  rrname='.' type=OPT rclass=4096 z=0 rdlen=None rdata=[''] |> |>>>, <IP  frag=0 proto=udp src=130.231.240.70 dst=130.231.202.234 |<UDP  sport=domain dport=12345 |<DNS  id=9208 qr=1 opcode=QUERY ra=1 rcode=name-error qdcount=1 ancount=1 nscount=0 arcount=1 qd=<DNSQR  qname='usage.fdown.net.oulu.fi' qtype=A qclass=IN |> an=<DNSRR  rrname='usage.fdown.net.oulu.fi' type=SOA rclass=IN ttl=255 rdata='ousrvr.oulu.fi' |<DNSRROPT  rrname='.' type=OPT rclass=4096 z=0 rdlen=None rdata=[''] |>> |>>>, <IP  frag=0 proto=udp src=130.231.202.234 dst=130.231.240.70 |<UDP  sport=23456 dport=domain |<DNS  id=35129 qr=0 opcode=QUERY rd=1 qdcount=1 ancount=0 nscount=0 arcount=1 qd=<DNSQR  qname='api-partner.spotify.com' qtype=A qclass=IN |> ar=<DNSRROPT  rrname='.' type=OPT rclass=4096 z=0 rdlen=None rdata=[''] |> |>>>, <IP  frag=0 proto=udp src=130.231.240.70 dst=130.231.202.234 |<UDP  sport=domain dport=23456 |<DNS  id=13319 qr=1 opcode=QUERY ra=1 rcode=ok qdcount=1 ancount=3 nscount=0 arcount=1 qd=<DNSQR  qname='platform.openai.com' qtype=A qclass=IN |> an=<DNSRR  rrname='platform.openai.com' type=CNAME rclass=IN ttl=255 rdata='platform.api.openai.com' |<DNSRR  rrname='platform.api.openai.com' type=CNAME rclass=IN ttl=255 rdata='platform.openai.com.cdn.cloudflare.net' |<DNSRR  rrname='platform.openai.com.cdn.cloudflare.net' type=A rclass=IN ttl=255 rdata=104.18.1.104 |<DNSRR  rrname='platform.openai.com.cdn.cloudflare.net' type=A rclass=IN ttl=255 rdata=104.18.0.104 |<DNSRROPT  rrname='.' type=OPT rclass=4096 z=0 rdlen=None rdata=[''] |>>>>> |>>>, <IP  frag=0 proto=udp src=130.231.202.234 dst=130.231.240.70 |<UDP  sport=34567 dport=domain |<DNS  id=15388 qr=0 opcode=QUERY rd=1 qdcount=1 ancount=0 nscount=0 arcount=1 qd=<DNSQR  qname='audio-ak-spotify-com.akamaized.net' qtype=A qclass=IN |> ar=<DNSRROPT  rrname='.' type=OPT rclass=4096 z=0 rdlen=None rdata=[''] |> |>>>]\n"
     ]
    }
   ],
   "source": [
    "# Ejecutamos los comandos que devuelve el modelo para generar los paquetes\n",
    "exec(responses[-1].completion.choices[0].text)\n",
    "print(pkt_list)"
   ]
  },
  {
   "cell_type": "code",
   "execution_count": 184,
   "id": "94634815-b535-47a2-9882-543415f19696",
   "metadata": {
    "tags": []
   },
   "outputs": [
    {
     "name": "stdout",
     "output_type": "stream",
     "text": [
      "130.231.202.234 â†’ 130.231.240.70 DNS 97 Standard query 0x1043 A encrypted-tbn0.gstatic.com OPT\n",
      "130.231.240.70 â†’ 130.231.202.234 DNS 148 Standard query response 0x23f8 No such name A usage.fdown.net.oulu.fi SOA ousrvr.oulu.fi OPT\n",
      "130.231.202.234 â†’ 130.231.240.70 DNS 94 Standard query 0x8939 A api-partner.spotify.com OPT\n",
      "130.231.240.70 â†’ 130.231.202.234 DNS 201 Standard query response 0x3407 A platform.openai.com CNAME platform.api.openai.com CNAME platform.openai.com.cdn.cloudflare.net A 104.18.1.104 A 104.18.0.104 OPT\n",
      "130.231.202.234 â†’ 130.231.240.70 DNS 105 Standard query 0x3c1c A audio-ak-spotify-com.akamaized.net OPT\n",
      "\n",
      "###[ IP ]### \n",
      "  version   = 4\n",
      "  ihl       = 5\n",
      "  tos       = 0x0\n",
      "  len       = 80\n",
      "  id        = 1\n",
      "  flags     = \n",
      "  frag      = 0\n",
      "  ttl       = 64\n",
      "  proto     = udp\n",
      "  chksum    = 0xb99c\n",
      "  src       = 130.231.202.234\n",
      "  dst       = 130.231.240.70\n",
      "  \\options   \\\n",
      "###[ UDP ]### \n",
      "     sport     = 23456\n",
      "     dport     = domain\n",
      "     len       = 60\n",
      "     chksum    = 0x9c18\n",
      "###[ DNS ]### \n",
      "        id        = 35129\n",
      "        qr        = 0\n",
      "        opcode    = QUERY\n",
      "        aa        = 0\n",
      "        tc        = 0\n",
      "        rd        = 1\n",
      "        ra        = 0\n",
      "        z         = 0\n",
      "        ad        = 0\n",
      "        cd        = 0\n",
      "        rcode     = ok\n",
      "        qdcount   = 1\n",
      "        ancount   = 0\n",
      "        nscount   = 0\n",
      "        arcount   = 1\n",
      "        \\qd        \\\n",
      "         |###[ DNS Question Record ]### \n",
      "         |  qname     = 'api-partner.spotify.com.'\n",
      "         |  qtype     = A\n",
      "         |  qclass    = IN\n",
      "        an        = None\n",
      "        ns        = None\n",
      "        \\ar        \\\n",
      "         |###[ DNS OPT Resource Record ]### \n",
      "         |  rrname    = '.'\n",
      "         |  type      = OPT\n",
      "         |  rclass    = 4096\n",
      "         |  extrcode  = 0\n",
      "         |  version   = 0\n",
      "         |  z         = 0\n",
      "         |  rdlen     = None\n",
      "         |  \\rdata     \\\n",
      "\n"
     ]
    }
   ],
   "source": [
    "print(responses[-1].prompt_summary)\n",
    "IP(pkt_list[2]).show()"
   ]
  },
  {
   "cell_type": "code",
   "execution_count": 185,
   "id": "fd89a024-f51f-482a-9905-20db1ab19b6f",
   "metadata": {
    "tags": []
   },
   "outputs": [
    {
     "name": "stdout",
     "output_type": "stream",
     "text": [
      "\n",
      "Sent 5 packets.\n"
     ]
    }
   ],
   "source": [
    "#Enviarlos para probar si se envian correctamente\n",
    "send(pkt_list)"
   ]
  },
  {
   "cell_type": "markdown",
   "id": "7bf00ba6-ce81-42ee-a4af-7b85b0ca4b7c",
   "metadata": {},
   "source": [
    "### Introducción en un pcap"
   ]
  },
  {
   "cell_type": "code",
   "execution_count": 187,
   "id": "e6dfcbf1-8840-47b9-ab02-5c320e10027f",
   "metadata": {
    "tags": []
   },
   "outputs": [],
   "source": [
    "# Guardamos los paquetes generados en un pcap\n",
    "with open(\"../../data/Packets/DNS/pcap/DNSgenerated_3_5_turbo-instruct_conv.pcap\", \"ba+\") as f:\n",
    "    wrpcap(f, pkt_list, append=True)"
   ]
  },
  {
   "cell_type": "code",
   "execution_count": null,
   "id": "28ac3850-43fe-4c23-bbb9-2edf7bf5d333",
   "metadata": {},
   "outputs": [],
   "source": []
  }
 ],
 "metadata": {
  "kernelspec": {
   "display_name": "Python 3 (ipykernel)",
   "language": "python",
   "name": "python3"
  },
  "language_info": {
   "codemirror_mode": {
    "name": "ipython",
    "version": 3
   },
   "file_extension": ".py",
   "mimetype": "text/x-python",
   "name": "python",
   "nbconvert_exporter": "python",
   "pygments_lexer": "ipython3",
   "version": "3.11.7"
  }
 },
 "nbformat": 4,
 "nbformat_minor": 5
}
