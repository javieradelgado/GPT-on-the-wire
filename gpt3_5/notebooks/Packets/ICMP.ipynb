{
 "cells": [
  {
   "cell_type": "markdown",
   "id": "98857f5a-567a-4941-996a-019e0ba694f4",
   "metadata": {},
   "source": [
    "# Creación de paquetes ICMP"
   ]
  },
  {
   "cell_type": "markdown",
   "id": "833d122f-03c1-4db6-9953-5864d8f68b9e",
   "metadata": {
    "tags": []
   },
   "source": [
    "### Descripción: \n",
    "Con este código se va a intentar crear diferentes tipos de paquetes ICMP, mediante IA generativa. Se pretende pasar una descripción de estos paquetes al modelo y que este sea capaz de crear todos los campos necesarios para replicar un paquete con esas mismas especificaciones."
   ]
  },
  {
   "cell_type": "code",
   "execution_count": 35,
   "id": "af19945d-5027-48fa-a906-7efdf0b93876",
   "metadata": {
    "tags": []
   },
   "outputs": [
    {
     "data": {
      "text/plain": [
       "'1.10.0'"
      ]
     },
     "execution_count": 35,
     "metadata": {},
     "output_type": "execute_result"
    }
   ],
   "source": [
    "import random\n",
    "import re\n",
    "import pickle\n",
    "\n",
    "import openai\n",
    "openai.api_key = \"FILL\"\n",
    "\n",
    "from scapy.all import *\n",
    "from scapy.utils import RawPcapReader, wrpcap\n",
    "import scapy.all as scapy\n",
    "\n",
    "from scapy.layers.l2 import Ether\n",
    "from scapy.layers.inet import IP, ICMP\n",
    "\n",
    "openai.__version__"
   ]
  },
  {
   "cell_type": "markdown",
   "id": "966c530c-db4b-4638-920b-2bdbf500b2d1",
   "metadata": {},
   "source": [
    "## Generación de la descipción de un paquete ICMP"
   ]
  },
  {
   "cell_type": "markdown",
   "id": "c2022cfe-d5b3-4f83-a64d-c828d9053c45",
   "metadata": {
    "tags": []
   },
   "source": [
    "<center><img src=\"https://upload.wikimedia.org/wikipedia/commons/7/70/ICMPv1.PNG\">\n",
    "    \n",
    "<center> Esta imagen es genérica.\n"
   ]
  },
  {
   "cell_type": "code",
   "execution_count": 39,
   "id": "42c7d91e-37a8-49e9-8c56-2b075754e0aa",
   "metadata": {
    "tags": []
   },
   "outputs": [],
   "source": [
    "query = \"In the next lines, I'll provide you with some packet descriptions for different types of ICMP packets and how to construct each one of them using scapy. Use each one of this as a base to guide you while creating packets if they are the same type, but DONT create ALL these types of packets for every description, evaluate to wich type does the summary belong, and generate JUST that packet command.\\n\\n\"\n",
    "\n",
    "# Echo ping request\n",
    "query += \"This is a ICMP echo ping (type 8) packet summary:\\n\"\n",
    "query += \"192.168.1.194 → 192.168.1.190 ICMP 100 Echo (ping) request id=0x9015, seq=18917, ttl=56\\n\"\n",
    "query += \"This is the python code to generate the packet:\\n\"\n",
    "query += 'scapy.IP(src=\"192.168.1.194\", dst=\"192.168.1.190\", ttl=56)/scapy.ICMP(type=8, id=0x9015, seq=18917)\\n'\n",
    "query += \"TTL definition ALWAYS goes on the TCP description.\\n\\n\"\n",
    "\n",
    "# Destination unreachable\n",
    "query += \"This is a ICMP destination unreachable (type 3) packet summary:\\n\"\n",
    "query += \"193.24.225.56 → 193.24.225.54 ICMP 74 Destination unreachable (Host unreachable)\\n\"\n",
    "query += \"This is the python code to generate the packet:\\n\"\n",
    "query += 'scapy.IP(src=\"193.24.225.5\", dst=\"193.24.225.54\")/scapy.ICMP(type=3, code=1)\\n'\n",
    "query += \"Take into account that the 'code' value depends on the reason of the destination unreachable, other values can be: 0=(Network unreachable), 1=(Host unreachable), 2=(Protocol unreachable), etc.\\n\\n\"\n",
    "\n",
    "# Time Exceeded\n",
    "query += \"This is a ICMP time exceeded (type 11) packet summary:\\n\"\n",
    "query += \"87.230.114.4 → 85.215.94.29 ICMP 72 Time-to-live exceeded (Time to live exceeded in transit)\\n\"\n",
    "query += \"This is the python code to generate the packet:\\n\"\n",
    "query += 'scapy.IP(src=\"87.230.114.4\", dst=\"85.215.94.29\")/scapy.ICMP(type=11, code=0)\\n'\n",
    "query += \"Take into account that the 'code' value depends on the reason of the Time-to-live exceeded, values can be: 0=(Time to live exceeded in transit), 1=(Fragment Reassembly Time Exceeded).\\n\\n\"\n",
    "\n",
    "query += \"The number that appears right after to ICMP (100, 74 & 72 in the 3 summaries given as example) in every packet summary is the length of the packet, NOT the ICMP type. Using this as ICMP type is a flagrant error that must NOT happen\\n\"\n",
    "query += \"Take yout time (few seconds) to generate the commands, take especial care of the 'type' variable, as it must be coherent with the packet type (8 for Echo, 3 for Destination Unreachable, 0 for Echo Reply, etc\\n\\n\""
   ]
  },
  {
   "cell_type": "code",
   "execution_count": 41,
   "id": "661e3e74-0651-4cc3-98bc-cc7892344165",
   "metadata": {
    "tags": []
   },
   "outputs": [
    {
     "name": "stdout",
     "output_type": "stream",
     "text": [
      "In the next lines, I'll provide you with some packet descriptions for different types of ICMP packets and how to construct each one of them using scapy. Use each one of this as a base to guide you while creating packets if they are the same type, but DONT create ALL these types of packets for every description, evaluate to wich type does the summary belong, and generate JUST that packet command.\n",
      "\n",
      "This is a ICMP echo ping (type 8) packet summary:\n",
      "192.168.1.194 → 192.168.1.190 ICMP 100 Echo (ping) request id=0x9015, seq=18917, ttl=56\n",
      "This is the python code to generate the packet:\n",
      "scapy.IP(src=\"192.168.1.194\", dst=\"192.168.1.190\", ttl=56)/scapy.ICMP(type=8, id=0x9015, seq=18917)\n",
      "TTL definition ALWAYS goes on the TCP description.\n",
      "\n",
      "This is a ICMP destination unreachable (type 3) packet summary:\n",
      "193.24.225.56 → 193.24.225.54 ICMP 74 Destination unreachable (Host unreachable)\n",
      "This is the python code to generate the packet:\n",
      "scapy.IP(src=\"193.24.225.5\", dst=\"193.24.225.54\")/scapy.ICMP(type=3, code=1)\n",
      "Take into account that the 'code' value depends on the reason of the destination unreachable, other values can be: 0=(Network unreachable), 1=(Host unreachable), 2=(Protocol unreachable), etc.\n",
      "\n",
      "This is a ICMP time exceeded (type 11) packet summary:\n",
      "87.230.114.4 → 85.215.94.29 ICMP 72 Time-to-live exceeded (Time to live exceeded in transit)\n",
      "This is the python code to generate the packet:\n",
      "scapy.IP(src=\"87.230.114.4\", dst=\"85.215.94.29\")/scapy.ICMP(type=11, code=0)\n",
      "Take into account that the 'code' value depends on the reason of the Time-to-live exceeded, values can be: 0=(Time to live exceeded in transit), 1=(Fragment Reassembly Time Exceeded).\n",
      "\n",
      "The number that appears right after to ICMP (100, 74 & 72 in the 3 summaries given as example) in every packet summary is the length of the packet, NOT the ICMP type. Using this as ICMP type is a flagrant error that must NOT happen\n",
      "Take yout time (few seconds) to generate the commands, take especial care of the 'type' variable, as it must be coherent with the packet type (8 for Echo, 3 for Destination Unreachable, 0 for Echo Reply, etc\n",
      "\n",
      "\n"
     ]
    }
   ],
   "source": [
    "print(query)"
   ]
  },
  {
   "cell_type": "markdown",
   "id": "42b6a1d3-3645-4f96-9aef-2f47afbb2f43",
   "metadata": {},
   "source": [
    "## Carga de posibles descripciones"
   ]
  },
  {
   "cell_type": "code",
   "execution_count": 44,
   "id": "4bf501e4-7aa3-405f-bacd-3531b83e585b",
   "metadata": {
    "tags": []
   },
   "outputs": [
    {
     "data": {
      "text/plain": [
       "1271"
      ]
     },
     "execution_count": 44,
     "metadata": {},
     "output_type": "execute_result"
    }
   ],
   "source": [
    "with open(\"../../data/text/ICMP_summaries_CORRECTED.txt\",\"r\") as f:\n",
    "    packets_summary = f.read().splitlines()\n",
    "len(packets_summary)"
   ]
  },
  {
   "cell_type": "markdown",
   "id": "9e216e1b-854d-4604-9c76-38593c60809f",
   "metadata": {},
   "source": [
    "### Carga de posibles conversaciones anteriores para concatenarlas"
   ]
  },
  {
   "cell_type": "code",
   "execution_count": 47,
   "id": "2bc08d0e-16e4-4943-8ddd-fd72e52afcd5",
   "metadata": {
    "tags": []
   },
   "outputs": [],
   "source": [
    "class response():\n",
    "    \"Stores name and place pairs\"\n",
    "    def __init__(self, name, place):\n",
    "        self.prompt_summary = name\n",
    "        self.completion = place"
   ]
  },
  {
   "cell_type": "code",
   "execution_count": 49,
   "id": "6e264363-3f91-42e1-85b8-2b75028f09c8",
   "metadata": {
    "tags": []
   },
   "outputs": [],
   "source": [
    "responses = pickle.load( open(\"../../data/Packets/ICMP/pickle/ICMP_packet_pairs_Aday_validation.pkl\", \"rb\" ))"
   ]
  },
  {
   "cell_type": "code",
   "execution_count": 51,
   "id": "ba01ee9a-e8bc-4395-bea6-d4990418cf46",
   "metadata": {
    "tags": []
   },
   "outputs": [],
   "source": [
    "responses = []"
   ]
  },
  {
   "cell_type": "markdown",
   "id": "4de1f79a-ab55-452f-a43e-052930c04968",
   "metadata": {},
   "source": [
    "## Generación de comandos de paquetes conversaciones ICMP"
   ]
  },
  {
   "cell_type": "code",
   "execution_count": 151,
   "id": "9d093b9c-3e06-4e66-aa8e-478b68372d7a",
   "metadata": {
    "tags": []
   },
   "outputs": [],
   "source": [
    "summaries_per_request = 2"
   ]
  },
  {
   "cell_type": "code",
   "execution_count": 2,
   "id": "14da1bd3-70c8-4cc0-b889-3894c4c67486",
   "metadata": {
    "tags": []
   },
   "outputs": [
    {
     "ename": "NameError",
     "evalue": "name 'query' is not defined",
     "output_type": "error",
     "traceback": [
      "\u001b[1;31m---------------------------------------------------------------------------\u001b[0m",
      "\u001b[1;31mNameError\u001b[0m                                 Traceback (most recent call last)",
      "Cell \u001b[1;32mIn[2], line 1\u001b[0m\n\u001b[1;32m----> 1\u001b[0m query1 \u001b[38;5;241m=\u001b[39m query\n\u001b[0;32m      3\u001b[0m \u001b[38;5;28;01mfor\u001b[39;00m i \u001b[38;5;129;01min\u001b[39;00m \u001b[38;5;28mrange\u001b[39m(\u001b[38;5;241m1\u001b[39m):\n\u001b[0;32m      5\u001b[0m     \u001b[38;5;28mprint\u001b[39m(\u001b[38;5;124m\"\u001b[39m\u001b[38;5;124m...........................................\u001b[39m\u001b[38;5;124m\"\u001b[39m)\n",
      "\u001b[1;31mNameError\u001b[0m: name 'query' is not defined"
     ]
    }
   ],
   "source": [
    "query1 = query\n",
    "\n",
    "for i in range(1):\n",
    "    \n",
    "    print(\"...........................................\")\n",
    "    print( \" GENERATING SCAPY COMMANDS FOR THE FOLLOWING PACKETS (iter \" +str(i+1) +\")\")\n",
    "    \n",
    "    summaries = random.choices(packets_summary,k=summaries_per_request)\n",
    "    text_sum = \"\"\n",
    "    \n",
    "    query1 += \"\\nBelow, I'll give you the descriptions of the packets you have to generate, the previous where just examples\\n\\n\"\n",
    "    \n",
    "    for summary in summaries:\n",
    "        query1 += \"This is a packet summary:\\n\"\n",
    "        query1 += summary + \"\\n\"\n",
    "        text_sum += summary + \"\\n\"\n",
    "        \n",
    "    query1 += \"\\nGenerate python code for creating JUST the packets of the summaries given with scapy framework and put them all in a list named pkt_list. DO NOT create commands for other types of ICMP rather than the ones belonging to the packets wanted to generate\\n\"\n",
    "    \n",
    "    print(query1)\n",
    "    \n",
    "    #Esta es la petición que le mandas al modelo de IA\n",
    "    completion = openai.completions.create(\n",
    "        model=\"gpt-3.5-turbo-instruct\", \n",
    "        prompt=query1,\n",
    "        max_tokens=2600,\n",
    "        temperature=0.1)\n",
    "\n",
    "    \n",
    "    print(\"...Generated!\")\n",
    "    \n",
    "    # Guardamos tanto el resumen de los paquetes que solicitamos y lo que devuelve el modelo para estos paquetes\n",
    "    responses.append(response(text_sum, completion))\n",
    "    \n",
    "    exec(responses[-1].completion.choices[0].text)\n",
    "    \n",
    "    with open(\"../../data/Packets/ICMP/pcap/ICMPgenerated_3_5_turbo-instruct_conv.pcap\", \"ba+\") as f:\n",
    "        wrpcap(f, pkt_list, append=True)\n",
    "    \n",
    "    # Guardamos tanto la petición como la respuesta en un archivo\n",
    "    pickle.dump(responses, open( \"../../data/Packets/ICMP/pickle/ICMP_packet_pairs_Aday_v2.pkl\", \"wb\"))\n",
    "    \n",
    "    \n",
    "    \n",
    "    print(\"Number of completitions done: \" + str(len(responses)))"
   ]
  },
  {
   "cell_type": "code",
   "execution_count": 162,
   "id": "028d4d32-86ae-4ba6-afc7-62dd15a99ce4",
   "metadata": {
    "tags": []
   },
   "outputs": [
    {
     "name": "stdout",
     "output_type": "stream",
     "text": [
      "87.230.114.222        85.215.94.29          ICMP     72     Time-to-live exceeded (Time to live exceeded in transit)\n",
      "192.168.121.2         192.168.120.1         ICMP     64     Timestamp request    id=0x0002, seq=1/256, ttl=255\n",
      "\n",
      "\n",
      "pkt_list = []\n",
      "\n",
      "# ICMP time exceeded packet\n",
      "pkt_list.append(scapy.IP(src=\"87.230.114.222\", dst=\"85.215.94.29\")/scapy.ICMP(type=11, code=0))\n",
      "\n",
      "# ICMP timestamp request packet\n",
      "pkt_list.append(scapy.IP(src=\"192.168.121.2\", dst=\"192.168.120.1\", ttl=255)/scapy.ICMP(type=13, id=0x0002, seq=1)/scapy.Raw(load=\"\\x01\\x00\\x00\\x00\\x00\\x00\\x00\\x00\"))\n",
      "\n",
      "# ICMP echo reply packet\n",
      "pkt_list.append(scapy.IP(src=\"192.168.1.190\", dst=\"192.168.1.194\")/scapy.ICMP(type=0, id=0x9015, seq=18917)/scapy.Raw(load=\"Hello, world!\"))\n",
      "\n",
      "# ICMP destination unreachable packet\n",
      "pkt_list.append(scapy.IP(src=\"193.24.225.56\", dst=\"193.24.225.54\")/scapy.ICMP(type=3, code=1)/scapy.Raw(load=\"Host unreachable\"))\n",
      "\n",
      "# ICMP source quench packet\n",
      "pkt_list.append(scapy.IP(src=\"192.168.1.1\", dst=\"192.168.1.2\")/scapy.ICMP(type=4, code=0)/scapy.Raw(load=\"Packet lost\"))\n",
      "\n",
      "# ICMP parameter problem packet\n",
      "pkt_list.append(scapy.IP(src=\"10.0.0.1\", dst=\"10.0.0.2\")/scapy.ICMP(type=12, code=0)/scapy.Raw(load=\"Invalid header\"))\n",
      "\n",
      "# ICMP redirect packet\n",
      "pkt_list.append(scapy.IP(src=\"192.168.1.100\", dst=\"192.168.1.1\")/scapy.ICMP(type=5, code=1)/scapy.Raw(load=\"Redirecting to new gateway\"))\n",
      "\n",
      "# ICMP router advertisement packet\n",
      "pkt_list.append(scapy.IP(src=\"192.168.1.1\", dst=\"224.0.0.1\")/scapy.ICMP(type=9, code=0)/scapy.Raw(load=\"Router advertisement\"))\n",
      "\n",
      "# ICMP router solicitation packet\n",
      "pkt_list.append(scapy.IP(src=\"192.168.1.2\", dst=\"224.0.0.1\")/scapy.ICMP(type=10, code=0)/scapy.Raw(load=\"Router solicitation\"))\n",
      "\n",
      "# ICMP address mask request packet\n",
      "pkt_list.append(scapy.IP(src=\"192.168.1.1\", dst=\"192.168.1.2\")/scapy.ICMP(type=17, code=0)/scapy.Raw(load=\"\\x00\\x00\\x00\\x00\"))\n",
      "\n",
      "# ICMP address mask reply packet\n",
      "pkt_list.append(scapy.IP(src=\"192.168.1.2\", dst=\"192.168.1.1\")/scapy.ICMP(type=18, code=0)/scapy.Raw(load=\"\\xFF\\xFF\\xFF\\xFF\"))\n"
     ]
    }
   ],
   "source": [
    "# Este es el resumen de lo que está en el struct de responses para la última petición\n",
    "print(responses[-1].prompt_summary)\n",
    "print(responses[-1].completion.choices[0].text)"
   ]
  },
  {
   "cell_type": "markdown",
   "id": "bd91e117-b3bc-4376-8a9d-22f0dea30dd1",
   "metadata": {},
   "source": [
    "### Generación de paquetes"
   ]
  },
  {
   "cell_type": "code",
   "execution_count": 33,
   "id": "eb871940-bec1-409c-af35-05685d61196c",
   "metadata": {
    "tags": []
   },
   "outputs": [
    {
     "name": "stdout",
     "output_type": "stream",
     "text": [
      "[<IP  frag=0 ttl=64 proto=icmp src=192.168.42.12 dst=5.35.226.136 |<ICMP  type=echo-request id=0x456 seq=0x123 |<Raw  load='\\x00\\x00\\x00\\x00\\x00\\x00\\x00\\x00' |>>>, <IP  frag=0 ttl=64 proto=icmp src=192.168.42.12 dst=5.35.226.136 |<ICMP  type=echo-request id=0x456 seq=0x9c |<Raw  load='\\x00\\x00\\x00\\x00\\x00\\x00\\x00\\x00' |>>>, <IP  frag=0 ttl=64 proto=icmp src=192.168.42.12 dst=5.35.226.136 |<ICMP  type=echo-request id=0x456 seq=0x115 |<Raw  load='\\x00\\x00\\x00\\x00\\x00\\x00\\x00\\x00' |>>>, <IP  frag=0 ttl=255 proto=icmp src=192.168.121.2 dst=192.168.120.1 |<ICMP  type=timestamp-request id=0x5 seq=0x4 |<Raw  load='\\x00\\x00\\x00\\x00\\x00\\x00\\x00\\x00' |>>>, <IP  frag=0 ttl=54 proto=icmp src=5.35.226.136 dst=192.168.42.12 |<ICMP  type=echo-reply id=0x456 seq=0xea |<Raw  load='\\x00\\x00\\x00\\x00\\x00\\x00\\x00\\x00' |>>>, <IP  frag=0 ttl=64 proto=icmp src=192.168.3.1 dst=192.168.3.85 |<ICMP  type=time-exceeded code=ttl-zero-during-transit |<Raw  load='\\x00\\x00\\x00\\x00\\x00\\x00\\x00\\x00' |>>>, <IP  frag=0 ttl=182 proto=icmp src=87.230.115.1 dst=192.168.3.85 |<ICMP  type=time-exceeded code=ttl-zero-during-transit |<Raw  load='\\x00\\x00\\x00\\x00\\x00\\x00\\x00\\x00' |>>>, <IP  frag=0 ttl=64 proto=icmp src=192.168.42.12 dst=5.35.226.136 |<ICMP  type=echo-request id=0x456 seq=0xf0 |<Raw  load='\\x00\\x00\\x00\\x00\\x00\\x00\\x00\\x00' |>>>, <IP  frag=0 ttl=64 proto=icmp src=192.168.42.12 dst=5.35.226.136 |<ICMP  type=echo-request id=0x456 seq=0x77 |<Raw  load='\\x00\\x00\\x00\\x00\\x00\\x00\\x00\\x00' |>>>, <IP  frag=0 ttl=64 proto=icmp src=192.168.42.12 dst=5.35.226.136 |<ICMP  type=echo-request id=0x456 seq=0xb |<Raw  load='\\x00\\x00\\x00\\x00\\x00\\x00\\x00\\x00' |>>>, <IP  frag=0 ttl=255 proto=icmp src=10.0.0.2 dst=10.0.0.1 |<ICMP  type=echo-request id=0x2 seq=0x0 |<Raw  load='\\x00\\x00\\x00\\x00\\x00\\x00\\x00\\x00' |>>>, <IP  frag=0 ttl=182 proto=icmp src=84.116.197.245 dst=192.168.3.85 |<ICMP  type=time-exceeded code=ttl-zero-during-transit |<Raw  load='\\x00\\x00\\x00\\x00\\x00\\x00\\x00\\x00' |>>>, <IP  frag=0 ttl=54 proto=icmp src=5.35.226.136 dst=192.168.42.12 |<ICMP  type=echo-reply id=0x456 seq=0xf |<Raw  load='\\x00\\x00\\x00\\x00\\x00\\x00\\x00\\x00' |>>>, <IP  frag=0 ttl=6 proto=icmp src=193.24.227.230 dst=72.163.4.185 |<ICMP  type=echo-request id=0x504e seq=0x12 |<Raw  load='\\x00\\x00\\x00\\x00\\x00\\x00\\x00\\x00' |>>>, <IP  frag=0 ttl=64 proto=icmp src=192.168.42.12 dst=5.35.226.136 |<ICMP  type=echo-request id=0x456 seq=0xcc |<Raw  load='\\x00\\x00\\x00\\x00\\x00\\x00\\x00\\x00' |>>>]\n"
     ]
    }
   ],
   "source": [
    "# Ejecutamos los comandos que devuelve el modelo para generar los paquetes\n",
    "exec(responses[-1].completion.choices[0].text)\n",
    "print(pkt_list)"
   ]
  },
  {
   "cell_type": "code",
   "execution_count": null,
   "id": "fd89a024-f51f-482a-9905-20db1ab19b6f",
   "metadata": {
    "tags": []
   },
   "outputs": [],
   "source": [
    "#Enviarlos para probar si se envian correctamente\n",
    "send(pkt_list)"
   ]
  },
  {
   "cell_type": "markdown",
   "id": "7bf00ba6-ce81-42ee-a4af-7b85b0ca4b7c",
   "metadata": {},
   "source": [
    "### Introducción en un pcap"
   ]
  },
  {
   "cell_type": "code",
   "execution_count": 175,
   "id": "e6dfcbf1-8840-47b9-ab02-5c320e10027f",
   "metadata": {
    "tags": []
   },
   "outputs": [],
   "source": [
    "# Guardamos los paquetes generados en un pcap\n",
    "with open(\"../../data/Packets/ICMP/pcap/ICMPgenerated_3_5_turbo-instruct_conv.pcap\", \"ba+\") as f:\n",
    "    wrpcap(f, pkt_list, append=True)"
   ]
  },
  {
   "cell_type": "code",
   "execution_count": null,
   "id": "02de7ad9-89b0-41f0-87d4-088a2b86f38c",
   "metadata": {},
   "outputs": [],
   "source": []
  }
 ],
 "metadata": {
  "kernelspec": {
   "display_name": "Python 3 (ipykernel)",
   "language": "python",
   "name": "python3"
  },
  "language_info": {
   "codemirror_mode": {
    "name": "ipython",
    "version": 3
   },
   "file_extension": ".py",
   "mimetype": "text/x-python",
   "name": "python",
   "nbconvert_exporter": "python",
   "pygments_lexer": "ipython3",
   "version": "3.11.7"
  }
 },
 "nbformat": 4,
 "nbformat_minor": 5
}
