{
 "cells": [
  {
   "cell_type": "markdown",
   "id": "98857f5a-567a-4941-996a-019e0ba694f4",
   "metadata": {},
   "source": [
    "# Creación de conversaciones ARP"
   ]
  },
  {
   "cell_type": "markdown",
   "id": "833d122f-03c1-4db6-9953-5864d8f68b9e",
   "metadata": {},
   "source": [
    "### Descripción: \n",
    "Con este código se va a intentar crear todos los pasos de una conversación ARP, mediante IA generativa. Se pretende pasar una descripción de esta conversación al modelo y que este sea capaz de crear todos los pasos/paquetes necesarios para replicar una conversación con esas mismas especificaciones"
   ]
  },
  {
   "cell_type": "code",
   "execution_count": 6,
   "id": "af19945d-5027-48fa-a906-7efdf0b93876",
   "metadata": {
    "tags": []
   },
   "outputs": [
    {
     "name": "stderr",
     "output_type": "stream",
     "text": [
      "C:\\Users\\adayd\\anaconda3\\envs\\PAC-GPT\\Lib\\site-packages\\scapy\\layers\\ipsec.py:469: CryptographyDeprecationWarning: Blowfish has been deprecated\n",
      "  cipher=algorithms.Blowfish,\n",
      "C:\\Users\\adayd\\anaconda3\\envs\\PAC-GPT\\Lib\\site-packages\\scapy\\layers\\ipsec.py:483: CryptographyDeprecationWarning: CAST5 has been deprecated\n",
      "  cipher=algorithms.CAST5,\n"
     ]
    },
    {
     "data": {
      "text/plain": [
       "'1.10.0'"
      ]
     },
     "execution_count": 6,
     "metadata": {},
     "output_type": "execute_result"
    }
   ],
   "source": [
    "import random\n",
    "import re\n",
    "import pickle\n",
    "import time\n",
    "\n",
    "import openai\n",
    "openai.api_key = \"FILL\"\n",
    "\n",
    "from scapy.all import *\n",
    "from scapy.utils import RawPcapReader, wrpcap\n",
    "import scapy.all as scapy\n",
    "\n",
    "from scapy.layers.inet import IP, ICMP\n",
    "\n",
    "openai.__version__"
   ]
  },
  {
   "cell_type": "markdown",
   "id": "966c530c-db4b-4638-920b-2bdbf500b2d1",
   "metadata": {},
   "source": [
    "## Generación de la descipción de una comunicación ARP"
   ]
  },
  {
   "cell_type": "markdown",
   "id": "2f903423-01da-4fbf-86c8-362a7af70ecd",
   "metadata": {},
   "source": [
    "<center><img src=\"https://lh3.googleusercontent.com/proxy/5BFPjEuLzirf_rQUpK9oPibFDhfXjP7eez9zJdPXfEl5QZyEp6jLTDSpVc8RBygmwlQ5s4hV-V_muXLdOGmmrsjD-JaqO4HtlQHkO1D8Tj8\">\n",
    "    \n",
    "<center> Esta imagen es genérica, nosotros crearemos conversaciones que sean tanto una pregunta a broadcast como a una ubicación específica.\n",
    "<br>\n",
    "    ---\n",
    "<br>Una conversación normal ARP tiene una petición (opcode = 1) en la que una fuente pregunta a broadcast o a otro elemento de la red por una IP en concreto, y diciendo la IP a la que comunicar la respuesta.\n",
    "La respuesta tiene (opcode = 2), y tiene como fuente las respuestas, mientras que como destino tiene al que inicia la conversación.   \n",
    "<center>---\n",
    "\n",
    "La primera query (query1) representa una conexión ARP sencilla donde se envía la petición a un equipo específico, la segunda (query2) es más complicada, enviando la solicitud a broadcast."
   ]
  },
  {
   "cell_type": "code",
   "execution_count": 3,
   "id": "d1000ce4-d346-40b2-943a-4706d7955f98",
   "metadata": {
    "tags": []
   },
   "outputs": [],
   "source": [
    "query = \"This is an ICMP Echo conversation summary:\\n\"\n",
    "query += 'Source: IP=\"192.168.1.10\" // Destination: IP=\"192.168.1.20\"// Others: id=0x0045 seq= 81 ttl=56 type=Echo\"\\n'\n",
    "query += \"This is the python code to generate the request and reply packets of the conversation, respectively:\\n\"\n",
    "query += 'pkt_1=scapy.IP(src=\"192.168.1.10\", dst=\"192.168.1.20\", ttl=56)/scapy.ICMP(type=8, id=0x0045, seq=81)\\n'\n",
    "query += 'time.sleep(abs(random.gauss(0, 0.03)))'\n",
    "query += 'pkt_2=scapy.IP(src=\"192.168.1.20\", dst=\"192.168.1.10\", ttl=56)/scapy.ICMP(type=0, id=0x0045, seq=81)\\n'\n",
    "\n",
    "query += \"This is an ICMP Timestamp conversation summary:\\n\"\n",
    "query += 'Source: IP=\"222.240.4.204\" // Destination: IP=\"192.168.1.20\"// Others: id=0xFF62 seq= 4311 ttl=56 type=Timestamp\"\\n'\n",
    "query += \"This is the python code to generate the request and reply packets of the conversation, respectively:\\n\"\n",
    "query += 'pkt_1=scapy.IP(src=\"222.240.4.204\", dst=\"200.40.184.21\", ttl=56)/scapy.ICMP(type=13, id=0xFF62, seq=4311)\\n'\n",
    "query += 'time.sleep(abs(random.gauss(0, 0.03)))'\n",
    "query += 'pkt_2=scapy.IP(src=\"200.40.184.21\", dst=\"222.240.4.204\", ttl=56)/scapy.ICMP(type=14, id=0xFF62, seq=4311)\\n'"
   ]
  },
  {
   "cell_type": "code",
   "execution_count": 5,
   "id": "e3ab280e-d840-4b94-b72a-4946b8879a9e",
   "metadata": {
    "tags": []
   },
   "outputs": [
    {
     "name": "stdout",
     "output_type": "stream",
     "text": [
      "This is an ICMP Echo conversation summary:\n",
      "Source: IP=\"192.168.1.10\" // Destination: IP=\"192.168.1.20\"// Others: id=0x0045 seq= 81 ttl=56 type=Echo\"\n",
      "This is the python code to generate the request and reply packets of the conversation, respectively:\n",
      "pkt_1=scapy.IP(src=\"192.168.1.10\", dst=\"192.168.1.20\", ttl=56)/scapy.ICMP(type=8, id=0x0045, seq=81)\n",
      "time.sleep(abs(random.gauss(0, 0.03)))pkt_2=scapy.IP(src=\"192.168.1.20\", dst=\"192.168.1.10\", ttl=56)/scapy.ICMP(type=0, id=0x0045, seq=81)\n",
      "This is an ICMP Timestamp conversation summary:\n",
      "Source: IP=\"222.240.4.204\" // Destination: IP=\"192.168.1.20\"// Others: id=0xFF62 seq= 4311 ttl=56 type=Timestamp\"\n",
      "This is the python code to generate the request and reply packets of the conversation, respectively:\n",
      "pkt_1=scapy.IP(src=\"222.240.4.204\", dst=\"200.40.184.21\", ttl=56)/scapy.ICMP(type=13, id=0xFF62, seq=4311)\n",
      "time.sleep(abs(random.gauss(0, 0.03)))pkt_2=scapy.IP(src=\"200.40.184.21\", dst=\"222.240.4.204\", ttl=56)/scapy.ICMP(type=14, id=0xFF62, seq=4311)\n",
      "\n"
     ]
    }
   ],
   "source": [
    "print(query)"
   ]
  },
  {
   "cell_type": "markdown",
   "id": "21f6e8a8-a5cc-4598-9907-a85f0b9022a8",
   "metadata": {},
   "source": [
    "## Carga de posibles conversaciones"
   ]
  },
  {
   "cell_type": "code",
   "execution_count": 11,
   "id": "83815581-deb8-44f5-8bb2-75c421d9e9b0",
   "metadata": {
    "tags": []
   },
   "outputs": [
    {
     "name": "stdout",
     "output_type": "stream",
     "text": [
      "Número de resúmenes: 73\n"
     ]
    }
   ],
   "source": [
    "with open(\"../../data/Conversations/ICMP/Conv_summaries.txt\",\"r\",encoding=\"utf8\") as f:\n",
    "    Conv_summaries = f.read().splitlines()\n",
    "    \n",
    "print(\"Número de resúmenes: \" +str(len(Conv_summaries)))"
   ]
  },
  {
   "cell_type": "code",
   "execution_count": 13,
   "id": "55dbcffe-1108-421f-94b0-cb0118178ee5",
   "metadata": {
    "tags": []
   },
   "outputs": [
    {
     "name": "stdout",
     "output_type": "stream",
     "text": [
      "Source: IP=\"172.16.0.5\" // Destination: IP=\"172.16.0.15\" // Others: id=0x3532 seq= 147 type=Echo\n"
     ]
    }
   ],
   "source": [
    "print(Conv_summaries[0])"
   ]
  },
  {
   "cell_type": "markdown",
   "id": "cbc2923b-95c5-4bc3-9fb4-debd9bc56a78",
   "metadata": {},
   "source": [
    "### Carga de posibles respuestas anteriores para encadenarlas"
   ]
  },
  {
   "cell_type": "code",
   "execution_count": 18,
   "id": "991ccbac-9ad6-4cac-96d0-0b2b6fcb53fd",
   "metadata": {
    "tags": []
   },
   "outputs": [],
   "source": [
    "class response():\n",
    "    \"Stores name and place pairs\"\n",
    "    def __init__(self, name, place):\n",
    "        self.prompt_summary = name\n",
    "        self.completion = place"
   ]
  },
  {
   "cell_type": "code",
   "execution_count": 20,
   "id": "3e3c0517-8fc6-4267-a02c-a09cad2ffe32",
   "metadata": {},
   "outputs": [
    {
     "name": "stdout",
     "output_type": "stream",
     "text": [
      "Number of previous responses: 21\n"
     ]
    }
   ],
   "source": [
    "try:\n",
    "    responses = pickle.load( open(\"../../data/Conversations/ICMP/pickle/ICMP_pairs_Aday_validation_v2.pkl\", \"rb\" ))\n",
    "except:\n",
    "    responses = []\n",
    "\n",
    "print(\"Number of previous responses: \" + str(len(responses)))"
   ]
  },
  {
   "cell_type": "markdown",
   "id": "1ae1cfcb-0777-4ed8-b570-512d04094483",
   "metadata": {},
   "source": [
    "## Generación de comandos de paquetes de conversación"
   ]
  },
  {
   "cell_type": "code",
   "execution_count": 38,
   "id": "1d2f0676-b23b-453b-b20c-bc186b1cd9a3",
   "metadata": {
    "tags": []
   },
   "outputs": [
    {
     "name": "stdout",
     "output_type": "stream",
     "text": [
      "...........................................\n",
      " GENERATING SCAPY COMMANDS FOR THE FOLLOWING CONVERSATIONS (iter 53)\n",
      "This is an ICMP Timestamp conversation summary:\n",
      "Source: IP=\"222.240.4.204\" // Destination: IP=\"192.168.1.20\"// Others: id=0xFF62 seq= 4311 ttl=56 type=Timestamp\"\n",
      "This is the python code to generate the request and reply packets of the conversation, respectively:\n",
      "pkt_1=scapy.IP(src=\"222.240.4.204\", dst=\"200.40.184.21\", ttl=56)/scapy.ICMP(type=13, id=0xFF62, seq=4311)\n",
      "time.sleep(abs(random.gauss(0, 0.03)))pkt_2=scapy.IP(src=\"200.40.184.21\", dst=\"222.240.4.204\", ttl=56)/scapy.ICMP(type=14, id=0xFF62, seq=4311)\n",
      "This is a conversation summary:\n",
      "Source: IP=\"136.170.253.68\" // Destination: IP=\"113.213.75.189\" // Others: id=0x1A8E seq= 4792 type=Echo\n",
      "\n",
      "Generate python code for creating the packets in the conversation with scapy framework.Don´t give back any comments, just bare code.\n",
      "Use the following structure:\n",
      "pkt_1=...\n",
      "time.sleep(abs(random.gauss(0, 0.03)))\n",
      "pkt_2=...\n",
      "\n",
      "...Generated!\n",
      "Number of completitions done: 1\n",
      "...........................................\n",
      " GENERATING SCAPY COMMANDS FOR THE FOLLOWING CONVERSATIONS (iter 54)\n",
      "This is an ICMP Timestamp conversation summary:\n",
      "Source: IP=\"222.240.4.204\" // Destination: IP=\"192.168.1.20\"// Others: id=0xFF62 seq= 4311 ttl=56 type=Timestamp\"\n",
      "This is the python code to generate the request and reply packets of the conversation, respectively:\n",
      "pkt_1=scapy.IP(src=\"222.240.4.204\", dst=\"200.40.184.21\", ttl=56)/scapy.ICMP(type=13, id=0xFF62, seq=4311)\n",
      "time.sleep(abs(random.gauss(0, 0.03)))pkt_2=scapy.IP(src=\"200.40.184.21\", dst=\"222.240.4.204\", ttl=56)/scapy.ICMP(type=14, id=0xFF62, seq=4311)\n",
      "This is a conversation summary:\n",
      "Source: IP=\"142.211.200.239\" // Destination: IP=\"123.185.69.9\" // Others: id=0x5D3C seq= 2654 type=Timestamp\n",
      "\n",
      "Generate python code for creating the packets in the conversation with scapy framework.Don´t give back any comments, just bare code.\n",
      "Use the following structure:\n",
      "pkt_1=...\n",
      "time.sleep(abs(random.gauss(0, 0.03)))\n",
      "pkt_2=...\n",
      "\n",
      "...Generated!\n",
      "Number of completitions done: 2\n",
      "...........................................\n",
      " GENERATING SCAPY COMMANDS FOR THE FOLLOWING CONVERSATIONS (iter 55)\n",
      "This is an ICMP Timestamp conversation summary:\n",
      "Source: IP=\"222.240.4.204\" // Destination: IP=\"192.168.1.20\"// Others: id=0xFF62 seq= 4311 ttl=56 type=Timestamp\"\n",
      "This is the python code to generate the request and reply packets of the conversation, respectively:\n",
      "pkt_1=scapy.IP(src=\"222.240.4.204\", dst=\"200.40.184.21\", ttl=56)/scapy.ICMP(type=13, id=0xFF62, seq=4311)\n",
      "time.sleep(abs(random.gauss(0, 0.03)))pkt_2=scapy.IP(src=\"200.40.184.21\", dst=\"222.240.4.204\", ttl=56)/scapy.ICMP(type=14, id=0xFF62, seq=4311)\n",
      "This is a conversation summary:\n",
      "Source: IP=\"18.88.247.206\" // Destination: IP=\"217.19.237.97\" // Others: id=0x9B7F seq= 1478 type=Echo\n",
      "\n",
      "Generate python code for creating the packets in the conversation with scapy framework.Don´t give back any comments, just bare code.\n",
      "Use the following structure:\n",
      "pkt_1=...\n",
      "time.sleep(abs(random.gauss(0, 0.03)))\n",
      "pkt_2=...\n",
      "\n",
      "...Generated!\n",
      "Number of completitions done: 3\n",
      "...........................................\n",
      " GENERATING SCAPY COMMANDS FOR THE FOLLOWING CONVERSATIONS (iter 56)\n",
      "This is an ICMP Timestamp conversation summary:\n",
      "Source: IP=\"222.240.4.204\" // Destination: IP=\"192.168.1.20\"// Others: id=0xFF62 seq= 4311 ttl=56 type=Timestamp\"\n",
      "This is the python code to generate the request and reply packets of the conversation, respectively:\n",
      "pkt_1=scapy.IP(src=\"222.240.4.204\", dst=\"200.40.184.21\", ttl=56)/scapy.ICMP(type=13, id=0xFF62, seq=4311)\n",
      "time.sleep(abs(random.gauss(0, 0.03)))pkt_2=scapy.IP(src=\"200.40.184.21\", dst=\"222.240.4.204\", ttl=56)/scapy.ICMP(type=14, id=0xFF62, seq=4311)\n",
      "This is a conversation summary:\n",
      "Source: IP=\"228.160.166.95\" // Destination: IP=\"121.161.196.136\" // Others: id=0x4E21 seq= 3891 type=Timestamp\n",
      "\n",
      "Generate python code for creating the packets in the conversation with scapy framework.Don´t give back any comments, just bare code.\n",
      "Use the following structure:\n",
      "pkt_1=...\n",
      "time.sleep(abs(random.gauss(0, 0.03)))\n",
      "pkt_2=...\n",
      "\n",
      "...Generated!\n",
      "Number of completitions done: 4\n",
      "...........................................\n",
      " GENERATING SCAPY COMMANDS FOR THE FOLLOWING CONVERSATIONS (iter 57)\n",
      "This is an ICMP Timestamp conversation summary:\n",
      "Source: IP=\"222.240.4.204\" // Destination: IP=\"192.168.1.20\"// Others: id=0xFF62 seq= 4311 ttl=56 type=Timestamp\"\n",
      "This is the python code to generate the request and reply packets of the conversation, respectively:\n",
      "pkt_1=scapy.IP(src=\"222.240.4.204\", dst=\"200.40.184.21\", ttl=56)/scapy.ICMP(type=13, id=0xFF62, seq=4311)\n",
      "time.sleep(abs(random.gauss(0, 0.03)))pkt_2=scapy.IP(src=\"200.40.184.21\", dst=\"222.240.4.204\", ttl=56)/scapy.ICMP(type=14, id=0xFF62, seq=4311)\n",
      "This is a conversation summary:\n",
      "Source: IP=\"202.1.206.174\" // Destination: IP=\"242.100.232.131\" // Others: id=0x8D5A seq= 2130 type=Echo\n",
      "\n",
      "Generate python code for creating the packets in the conversation with scapy framework.Don´t give back any comments, just bare code.\n",
      "Use the following structure:\n",
      "pkt_1=...\n",
      "time.sleep(abs(random.gauss(0, 0.03)))\n",
      "pkt_2=...\n",
      "\n",
      "...Generated!\n",
      "Number of completitions done: 5\n",
      "...........................................\n",
      " GENERATING SCAPY COMMANDS FOR THE FOLLOWING CONVERSATIONS (iter 58)\n",
      "This is an ICMP Timestamp conversation summary:\n",
      "Source: IP=\"222.240.4.204\" // Destination: IP=\"192.168.1.20\"// Others: id=0xFF62 seq= 4311 ttl=56 type=Timestamp\"\n",
      "This is the python code to generate the request and reply packets of the conversation, respectively:\n",
      "pkt_1=scapy.IP(src=\"222.240.4.204\", dst=\"200.40.184.21\", ttl=56)/scapy.ICMP(type=13, id=0xFF62, seq=4311)\n",
      "time.sleep(abs(random.gauss(0, 0.03)))pkt_2=scapy.IP(src=\"200.40.184.21\", dst=\"222.240.4.204\", ttl=56)/scapy.ICMP(type=14, id=0xFF62, seq=4311)\n",
      "This is a conversation summary:\n",
      "Source: IP=\"0.12.118.112\" // Destination: IP=\"25.191.111.215\" // Others: id=0x6F3E seq= 3256 type=Timestamp\n",
      "\n",
      "Generate python code for creating the packets in the conversation with scapy framework.Don´t give back any comments, just bare code.\n",
      "Use the following structure:\n",
      "pkt_1=...\n",
      "time.sleep(abs(random.gauss(0, 0.03)))\n",
      "pkt_2=...\n",
      "\n",
      "...Generated!\n",
      "Number of completitions done: 6\n",
      "...........................................\n",
      " GENERATING SCAPY COMMANDS FOR THE FOLLOWING CONVERSATIONS (iter 59)\n",
      "This is an ICMP Timestamp conversation summary:\n",
      "Source: IP=\"222.240.4.204\" // Destination: IP=\"192.168.1.20\"// Others: id=0xFF62 seq= 4311 ttl=56 type=Timestamp\"\n",
      "This is the python code to generate the request and reply packets of the conversation, respectively:\n",
      "pkt_1=scapy.IP(src=\"222.240.4.204\", dst=\"200.40.184.21\", ttl=56)/scapy.ICMP(type=13, id=0xFF62, seq=4311)\n",
      "time.sleep(abs(random.gauss(0, 0.03)))pkt_2=scapy.IP(src=\"200.40.184.21\", dst=\"222.240.4.204\", ttl=56)/scapy.ICMP(type=14, id=0xFF62, seq=4311)\n",
      "This is a conversation summary:\n",
      "Source: IP=\"106.117.98.231\" // Destination: IP=\"9.48.148.245\" // Others: id=0x2B4D seq= 1923 type=Echo\n",
      "\n",
      "Generate python code for creating the packets in the conversation with scapy framework.Don´t give back any comments, just bare code.\n",
      "Use the following structure:\n",
      "pkt_1=...\n",
      "time.sleep(abs(random.gauss(0, 0.03)))\n",
      "pkt_2=...\n",
      "\n",
      "...Generated!\n",
      "Number of completitions done: 7\n",
      "...........................................\n",
      " GENERATING SCAPY COMMANDS FOR THE FOLLOWING CONVERSATIONS (iter 60)\n",
      "This is an ICMP Timestamp conversation summary:\n",
      "Source: IP=\"222.240.4.204\" // Destination: IP=\"192.168.1.20\"// Others: id=0xFF62 seq= 4311 ttl=56 type=Timestamp\"\n",
      "This is the python code to generate the request and reply packets of the conversation, respectively:\n",
      "pkt_1=scapy.IP(src=\"222.240.4.204\", dst=\"200.40.184.21\", ttl=56)/scapy.ICMP(type=13, id=0xFF62, seq=4311)\n",
      "time.sleep(abs(random.gauss(0, 0.03)))pkt_2=scapy.IP(src=\"200.40.184.21\", dst=\"222.240.4.204\", ttl=56)/scapy.ICMP(type=14, id=0xFF62, seq=4311)\n",
      "This is a conversation summary:\n",
      "Source: IP=\"125.25.46.60\" // Destination: IP=\"117.207.92.3\" // Others: id=0x7A9C seq= 4105 type=Timestamp\n",
      "\n",
      "Generate python code for creating the packets in the conversation with scapy framework.Don´t give back any comments, just bare code.\n",
      "Use the following structure:\n",
      "pkt_1=...\n",
      "time.sleep(abs(random.gauss(0, 0.03)))\n",
      "pkt_2=...\n",
      "\n",
      "...Generated!\n",
      "Number of completitions done: 8\n",
      "...........................................\n",
      " GENERATING SCAPY COMMANDS FOR THE FOLLOWING CONVERSATIONS (iter 61)\n",
      "This is an ICMP Timestamp conversation summary:\n",
      "Source: IP=\"222.240.4.204\" // Destination: IP=\"192.168.1.20\"// Others: id=0xFF62 seq= 4311 ttl=56 type=Timestamp\"\n",
      "This is the python code to generate the request and reply packets of the conversation, respectively:\n",
      "pkt_1=scapy.IP(src=\"222.240.4.204\", dst=\"200.40.184.21\", ttl=56)/scapy.ICMP(type=13, id=0xFF62, seq=4311)\n",
      "time.sleep(abs(random.gauss(0, 0.03)))pkt_2=scapy.IP(src=\"200.40.184.21\", dst=\"222.240.4.204\", ttl=56)/scapy.ICMP(type=14, id=0xFF62, seq=4311)\n",
      "This is a conversation summary:\n",
      "Source: IP=\"108.83.186.201\" // Destination: IP=\"110.191.138.238\" // Others: id=0x1C6B seq= 2837 type=Echo\n",
      "\n",
      "Generate python code for creating the packets in the conversation with scapy framework.Don´t give back any comments, just bare code.\n",
      "Use the following structure:\n",
      "pkt_1=...\n",
      "time.sleep(abs(random.gauss(0, 0.03)))\n",
      "pkt_2=...\n",
      "\n",
      "...Generated!\n",
      "Number of completitions done: 9\n",
      "...........................................\n",
      " GENERATING SCAPY COMMANDS FOR THE FOLLOWING CONVERSATIONS (iter 62)\n",
      "This is an ICMP Timestamp conversation summary:\n",
      "Source: IP=\"222.240.4.204\" // Destination: IP=\"192.168.1.20\"// Others: id=0xFF62 seq= 4311 ttl=56 type=Timestamp\"\n",
      "This is the python code to generate the request and reply packets of the conversation, respectively:\n",
      "pkt_1=scapy.IP(src=\"222.240.4.204\", dst=\"200.40.184.21\", ttl=56)/scapy.ICMP(type=13, id=0xFF62, seq=4311)\n",
      "time.sleep(abs(random.gauss(0, 0.03)))pkt_2=scapy.IP(src=\"200.40.184.21\", dst=\"222.240.4.204\", ttl=56)/scapy.ICMP(type=14, id=0xFF62, seq=4311)\n",
      "This is a conversation summary:\n",
      "Source: IP=\"110.221.190.216\" // Destination: IP=\"195.11.171.134\" // Others: id=0x5E2A seq= 1569 type=Timestamp\n",
      "\n",
      "Generate python code for creating the packets in the conversation with scapy framework.Don´t give back any comments, just bare code.\n",
      "Use the following structure:\n",
      "pkt_1=...\n",
      "time.sleep(abs(random.gauss(0, 0.03)))\n",
      "pkt_2=...\n",
      "\n",
      "...Generated!\n",
      "Number of completitions done: 10\n",
      "...........................................\n",
      " GENERATING SCAPY COMMANDS FOR THE FOLLOWING CONVERSATIONS (iter 63)\n",
      "This is an ICMP Timestamp conversation summary:\n",
      "Source: IP=\"222.240.4.204\" // Destination: IP=\"192.168.1.20\"// Others: id=0xFF62 seq= 4311 ttl=56 type=Timestamp\"\n",
      "This is the python code to generate the request and reply packets of the conversation, respectively:\n",
      "pkt_1=scapy.IP(src=\"222.240.4.204\", dst=\"200.40.184.21\", ttl=56)/scapy.ICMP(type=13, id=0xFF62, seq=4311)\n",
      "time.sleep(abs(random.gauss(0, 0.03)))pkt_2=scapy.IP(src=\"200.40.184.21\", dst=\"222.240.4.204\", ttl=56)/scapy.ICMP(type=14, id=0xFF62, seq=4311)\n",
      "This is a conversation summary:\n",
      "Source: IP=\"121.18.135.169\" // Destination: IP=\"49.195.53.23\" // Others: id=0x3D9F seq= 3784 type=Echo\n",
      "\n",
      "Generate python code for creating the packets in the conversation with scapy framework.Don´t give back any comments, just bare code.\n",
      "Use the following structure:\n",
      "pkt_1=...\n",
      "time.sleep(abs(random.gauss(0, 0.03)))\n",
      "pkt_2=...\n",
      "\n",
      "...Generated!\n",
      "Number of completitions done: 11\n",
      "...........................................\n",
      " GENERATING SCAPY COMMANDS FOR THE FOLLOWING CONVERSATIONS (iter 64)\n",
      "This is an ICMP Timestamp conversation summary:\n",
      "Source: IP=\"222.240.4.204\" // Destination: IP=\"192.168.1.20\"// Others: id=0xFF62 seq= 4311 ttl=56 type=Timestamp\"\n",
      "This is the python code to generate the request and reply packets of the conversation, respectively:\n",
      "pkt_1=scapy.IP(src=\"222.240.4.204\", dst=\"200.40.184.21\", ttl=56)/scapy.ICMP(type=13, id=0xFF62, seq=4311)\n",
      "time.sleep(abs(random.gauss(0, 0.03)))pkt_2=scapy.IP(src=\"200.40.184.21\", dst=\"222.240.4.204\", ttl=56)/scapy.ICMP(type=14, id=0xFF62, seq=4311)\n",
      "This is a conversation summary:\n",
      "Source: IP=\"39.89.198.223\" // Destination: IP=\"171.109.55.123\" // Others: id=0x8B7D seq= 2416 type=Timestamp\n",
      "\n",
      "Generate python code for creating the packets in the conversation with scapy framework.Don´t give back any comments, just bare code.\n",
      "Use the following structure:\n",
      "pkt_1=...\n",
      "time.sleep(abs(random.gauss(0, 0.03)))\n",
      "pkt_2=...\n",
      "\n",
      "...Generated!\n",
      "Number of completitions done: 12\n",
      "...........................................\n",
      " GENERATING SCAPY COMMANDS FOR THE FOLLOWING CONVERSATIONS (iter 65)\n",
      "This is an ICMP Timestamp conversation summary:\n",
      "Source: IP=\"222.240.4.204\" // Destination: IP=\"192.168.1.20\"// Others: id=0xFF62 seq= 4311 ttl=56 type=Timestamp\"\n",
      "This is the python code to generate the request and reply packets of the conversation, respectively:\n",
      "pkt_1=scapy.IP(src=\"222.240.4.204\", dst=\"200.40.184.21\", ttl=56)/scapy.ICMP(type=13, id=0xFF62, seq=4311)\n",
      "time.sleep(abs(random.gauss(0, 0.03)))pkt_2=scapy.IP(src=\"200.40.184.21\", dst=\"222.240.4.204\", ttl=56)/scapy.ICMP(type=14, id=0xFF62, seq=4311)\n",
      "This is a conversation summary:\n",
      "Source: IP=\"71.121.107.150\" // Destination: IP=\"3.64.41.222\" // Others: id=0x6C3B seq= 1050 type=Echo\n",
      "\n",
      "Generate python code for creating the packets in the conversation with scapy framework.Don´t give back any comments, just bare code.\n",
      "Use the following structure:\n",
      "pkt_1=...\n",
      "time.sleep(abs(random.gauss(0, 0.03)))\n",
      "pkt_2=...\n",
      "\n",
      "...Generated!\n",
      "Number of completitions done: 13\n",
      "...........................................\n",
      " GENERATING SCAPY COMMANDS FOR THE FOLLOWING CONVERSATIONS (iter 66)\n",
      "This is an ICMP Timestamp conversation summary:\n",
      "Source: IP=\"222.240.4.204\" // Destination: IP=\"192.168.1.20\"// Others: id=0xFF62 seq= 4311 ttl=56 type=Timestamp\"\n",
      "This is the python code to generate the request and reply packets of the conversation, respectively:\n",
      "pkt_1=scapy.IP(src=\"222.240.4.204\", dst=\"200.40.184.21\", ttl=56)/scapy.ICMP(type=13, id=0xFF62, seq=4311)\n",
      "time.sleep(abs(random.gauss(0, 0.03)))pkt_2=scapy.IP(src=\"200.40.184.21\", dst=\"222.240.4.204\", ttl=56)/scapy.ICMP(type=14, id=0xFF62, seq=4311)\n",
      "This is a conversation summary:\n",
      "Source: IP=\"236.240.111.81\" // Destination: IP=\"57.155.171.172\" // Others: id=0x1E58 seq= 4673 type=Timestamp\n",
      "\n",
      "Generate python code for creating the packets in the conversation with scapy framework.Don´t give back any comments, just bare code.\n",
      "Use the following structure:\n",
      "pkt_1=...\n",
      "time.sleep(abs(random.gauss(0, 0.03)))\n",
      "pkt_2=...\n",
      "\n",
      "...Generated!\n",
      "Number of completitions done: 14\n",
      "...........................................\n",
      " GENERATING SCAPY COMMANDS FOR THE FOLLOWING CONVERSATIONS (iter 67)\n",
      "This is an ICMP Timestamp conversation summary:\n",
      "Source: IP=\"222.240.4.204\" // Destination: IP=\"192.168.1.20\"// Others: id=0xFF62 seq= 4311 ttl=56 type=Timestamp\"\n",
      "This is the python code to generate the request and reply packets of the conversation, respectively:\n",
      "pkt_1=scapy.IP(src=\"222.240.4.204\", dst=\"200.40.184.21\", ttl=56)/scapy.ICMP(type=13, id=0xFF62, seq=4311)\n",
      "time.sleep(abs(random.gauss(0, 0.03)))pkt_2=scapy.IP(src=\"200.40.184.21\", dst=\"222.240.4.204\", ttl=56)/scapy.ICMP(type=14, id=0xFF62, seq=4311)\n",
      "This is a conversation summary:\n",
      "Source: IP=\"96.204.223.107\" // Destination: IP=\"243.194.117.85\" // Others: id=0x4A6D seq= 3295 type=Echo\n",
      "\n",
      "Generate python code for creating the packets in the conversation with scapy framework.Don´t give back any comments, just bare code.\n",
      "Use the following structure:\n",
      "pkt_1=...\n",
      "time.sleep(abs(random.gauss(0, 0.03)))\n",
      "pkt_2=...\n",
      "\n",
      "...Generated!\n",
      "Number of completitions done: 15\n",
      "...........................................\n",
      " GENERATING SCAPY COMMANDS FOR THE FOLLOWING CONVERSATIONS (iter 68)\n",
      "This is an ICMP Timestamp conversation summary:\n",
      "Source: IP=\"222.240.4.204\" // Destination: IP=\"192.168.1.20\"// Others: id=0xFF62 seq= 4311 ttl=56 type=Timestamp\"\n",
      "This is the python code to generate the request and reply packets of the conversation, respectively:\n",
      "pkt_1=scapy.IP(src=\"222.240.4.204\", dst=\"200.40.184.21\", ttl=56)/scapy.ICMP(type=13, id=0xFF62, seq=4311)\n",
      "time.sleep(abs(random.gauss(0, 0.03)))pkt_2=scapy.IP(src=\"200.40.184.21\", dst=\"222.240.4.204\", ttl=56)/scapy.ICMP(type=14, id=0xFF62, seq=4311)\n",
      "This is a conversation summary:\n",
      "Source: IP=\"190.89.16.90\" // Destination: IP=\"119.218.4.116\" // Others: id=0x7F4E seq= 2189 type=Timestamp\n",
      "\n",
      "Generate python code for creating the packets in the conversation with scapy framework.Don´t give back any comments, just bare code.\n",
      "Use the following structure:\n",
      "pkt_1=...\n",
      "time.sleep(abs(random.gauss(0, 0.03)))\n",
      "pkt_2=...\n",
      "\n",
      "...Generated!\n",
      "Number of completitions done: 16\n",
      "...........................................\n",
      " GENERATING SCAPY COMMANDS FOR THE FOLLOWING CONVERSATIONS (iter 69)\n",
      "This is an ICMP Timestamp conversation summary:\n",
      "Source: IP=\"222.240.4.204\" // Destination: IP=\"192.168.1.20\"// Others: id=0xFF62 seq= 4311 ttl=56 type=Timestamp\"\n",
      "This is the python code to generate the request and reply packets of the conversation, respectively:\n",
      "pkt_1=scapy.IP(src=\"222.240.4.204\", dst=\"200.40.184.21\", ttl=56)/scapy.ICMP(type=13, id=0xFF62, seq=4311)\n",
      "time.sleep(abs(random.gauss(0, 0.03)))pkt_2=scapy.IP(src=\"200.40.184.21\", dst=\"222.240.4.204\", ttl=56)/scapy.ICMP(type=14, id=0xFF62, seq=4311)\n",
      "This is a conversation summary:\n",
      "Source: IP=\"152.181.248.162\" // Destination: IP=\"194.189.170.91\" // Others: id=0x2C7A seq= 1328 type=Echo\n",
      "\n",
      "Generate python code for creating the packets in the conversation with scapy framework.Don´t give back any comments, just bare code.\n",
      "Use the following structure:\n",
      "pkt_1=...\n",
      "time.sleep(abs(random.gauss(0, 0.03)))\n",
      "pkt_2=...\n",
      "\n",
      "...Generated!\n",
      "Number of completitions done: 17\n",
      "...........................................\n",
      " GENERATING SCAPY COMMANDS FOR THE FOLLOWING CONVERSATIONS (iter 70)\n",
      "This is an ICMP Timestamp conversation summary:\n",
      "Source: IP=\"222.240.4.204\" // Destination: IP=\"192.168.1.20\"// Others: id=0xFF62 seq= 4311 ttl=56 type=Timestamp\"\n",
      "This is the python code to generate the request and reply packets of the conversation, respectively:\n",
      "pkt_1=scapy.IP(src=\"222.240.4.204\", dst=\"200.40.184.21\", ttl=56)/scapy.ICMP(type=13, id=0xFF62, seq=4311)\n",
      "time.sleep(abs(random.gauss(0, 0.03)))pkt_2=scapy.IP(src=\"200.40.184.21\", dst=\"222.240.4.204\", ttl=56)/scapy.ICMP(type=14, id=0xFF62, seq=4311)\n",
      "This is a conversation summary:\n",
      "Source: IP=\"20.115.208.156\" // Destination: IP=\"131.195.76.170\" // Others: id=0x9D5F seq= 3467 type=Timestamp\n",
      "\n",
      "Generate python code for creating the packets in the conversation with scapy framework.Don´t give back any comments, just bare code.\n",
      "Use the following structure:\n",
      "pkt_1=...\n",
      "time.sleep(abs(random.gauss(0, 0.03)))\n",
      "pkt_2=...\n",
      "\n",
      "...Generated!\n",
      "Number of completitions done: 18\n",
      "...........................................\n",
      " GENERATING SCAPY COMMANDS FOR THE FOLLOWING CONVERSATIONS (iter 71)\n",
      "This is an ICMP Timestamp conversation summary:\n",
      "Source: IP=\"222.240.4.204\" // Destination: IP=\"192.168.1.20\"// Others: id=0xFF62 seq= 4311 ttl=56 type=Timestamp\"\n",
      "This is the python code to generate the request and reply packets of the conversation, respectively:\n",
      "pkt_1=scapy.IP(src=\"222.240.4.204\", dst=\"200.40.184.21\", ttl=56)/scapy.ICMP(type=13, id=0xFF62, seq=4311)\n",
      "time.sleep(abs(random.gauss(0, 0.03)))pkt_2=scapy.IP(src=\"200.40.184.21\", dst=\"222.240.4.204\", ttl=56)/scapy.ICMP(type=14, id=0xFF62, seq=4311)\n",
      "This is a conversation summary:\n",
      "Source: IP=\"91.137.191.152\" // Destination: IP=\"53.51.29.218\" // Others: id=0x6B1C seq= 2746 type=Echo\n",
      "\n",
      "Generate python code for creating the packets in the conversation with scapy framework.Don´t give back any comments, just bare code.\n",
      "Use the following structure:\n",
      "pkt_1=...\n",
      "time.sleep(abs(random.gauss(0, 0.03)))\n",
      "pkt_2=...\n",
      "\n",
      "...Generated!\n",
      "Number of completitions done: 19\n",
      "...........................................\n",
      " GENERATING SCAPY COMMANDS FOR THE FOLLOWING CONVERSATIONS (iter 72)\n",
      "This is an ICMP Timestamp conversation summary:\n",
      "Source: IP=\"222.240.4.204\" // Destination: IP=\"192.168.1.20\"// Others: id=0xFF62 seq= 4311 ttl=56 type=Timestamp\"\n",
      "This is the python code to generate the request and reply packets of the conversation, respectively:\n",
      "pkt_1=scapy.IP(src=\"222.240.4.204\", dst=\"200.40.184.21\", ttl=56)/scapy.ICMP(type=13, id=0xFF62, seq=4311)\n",
      "time.sleep(abs(random.gauss(0, 0.03)))pkt_2=scapy.IP(src=\"200.40.184.21\", dst=\"222.240.4.204\", ttl=56)/scapy.ICMP(type=14, id=0xFF62, seq=4311)\n",
      "This is a conversation summary:\n",
      "Source: IP=\"44.60.88.133\" // Destination: IP=\"180.7.121.90\" // Others:id=0x3A7B seq= 1598 type=Timestamp\n",
      "\n",
      "Generate python code for creating the packets in the conversation with scapy framework.Don´t give back any comments, just bare code.\n",
      "Use the following structure:\n",
      "pkt_1=...\n",
      "time.sleep(abs(random.gauss(0, 0.03)))\n",
      "pkt_2=...\n",
      "\n",
      "...Generated!\n",
      "Number of completitions done: 20\n",
      "...........................................\n",
      " GENERATING SCAPY COMMANDS FOR THE FOLLOWING CONVERSATIONS (iter 73)\n",
      "This is an ICMP Timestamp conversation summary:\n",
      "Source: IP=\"222.240.4.204\" // Destination: IP=\"192.168.1.20\"// Others: id=0xFF62 seq= 4311 ttl=56 type=Timestamp\"\n",
      "This is the python code to generate the request and reply packets of the conversation, respectively:\n",
      "pkt_1=scapy.IP(src=\"222.240.4.204\", dst=\"200.40.184.21\", ttl=56)/scapy.ICMP(type=13, id=0xFF62, seq=4311)\n",
      "time.sleep(abs(random.gauss(0, 0.03)))pkt_2=scapy.IP(src=\"200.40.184.21\", dst=\"222.240.4.204\", ttl=56)/scapy.ICMP(type=14, id=0xFF62, seq=4311)\n",
      "This is a conversation summary:\n",
      "\n",
      "\n",
      "Generate python code for creating the packets in the conversation with scapy framework.Don´t give back any comments, just bare code.\n",
      "Use the following structure:\n",
      "pkt_1=...\n",
      "time.sleep(abs(random.gauss(0, 0.03)))\n",
      "pkt_2=...\n",
      "\n",
      "...Generated!\n",
      "Number of completitions done: 21\n"
     ]
    }
   ],
   "source": [
    "i=0\n",
    "for i in range(math.ceil(len(Conv_summaries)*0.7), len(Conv_summaries)):\n",
    "   \n",
    "    summary = Conv_summaries[i]\n",
    "    \n",
    "    query1=query    \n",
    "    print(\"...........................................\")\n",
    "    print( \" GENERATING SCAPY COMMANDS FOR THE FOLLOWING CONVERSATIONS (iter \" +str(i+1) +\")\")\n",
    "    \n",
    "\n",
    "    ## Luego seleccionas aleatoriamente resumenes ya generados para pedirle que te saque el comando a partir del paquete\n",
    "    #summaries = random.choices(Conv_summary,k=summaries_per_request)\n",
    "    text_sum = \"\"\n",
    "    \n",
    "    query1 += \"This is a conversation summary:\\n\"\n",
    "    query1 += summary + \"\\n\"\n",
    "    text_sum += summary + \"\\n\"\n",
    "    query1 += \"\\nGenerate python code for creating the packets in the conversation with scapy framework.Don´t give back any comments, just bare code.\\n\"\n",
    "    query1 += \"Use the following structure:\\n\"\n",
    "    query1 += \"pkt_1=...\\n\"\n",
    "    query1 += \"time.sleep(abs(random.gauss(0, 0.03)))\\n\"\n",
    "    query1 += \"pkt_2=...\\n\"\n",
    "    \n",
    "    #Query es el mensaje que le envias al modelo\n",
    "    print(query1)\n",
    "\n",
    "    #Esta es la petición que le mandas al modelo de IA\n",
    "    completion = openai.completions.create(\n",
    "        model=\"gpt-3.5-turbo-instruct\", \n",
    "        prompt=query1,\n",
    "        max_tokens=2600,\n",
    "        temperature=0.1)\n",
    "\n",
    "\n",
    "    \n",
    "    print(\"...Generated!\")\n",
    "    \n",
    "    # Guardamos tanto el resumen de los paquetes que solicitamos y lo que devuelve el modelo para estos paquetes\n",
    "    responses.append(response(text_sum, completion))\n",
    "    \n",
    "    # Guardamos tanto la petición como la respuesta en un archivo\n",
    "    pickle.dump(responses, open( \"../../data/Conversations/ICMP/pickle/ICMP_pairs_Aday_validation_v2.pkl\", \"wb\" ) )\n",
    "    \n",
    "    exec(responses[-1].completion.choices[0].text)\n",
    "    \n",
    "    with open(\"../../data/Conversations/ICMP/pcap/ICMP_v3_generated_3_5_turbo-instruct_conv.pcap\", \"ba+\") as f:\n",
    "        wrpcap(f, pkt_1, append=True)\n",
    "    \n",
    "    with open(\"../../data/Conversations/ICMP/pcap/ICMP_v3_generated_3_5_turbo-instruct_conv.pcap\", \"ba+\") as f:\n",
    "        wrpcap(f, pkt_2, append=True)\n",
    "    \n",
    "    print(\"Number of completitions done: \" + str(len(responses)))"
   ]
  },
  {
   "cell_type": "code",
   "execution_count": 72,
   "id": "42c35a85-6059-45c6-8b18-8efacc17dee9",
   "metadata": {
    "tags": []
   },
   "outputs": [
    {
     "name": "stdout",
     "output_type": "stream",
     "text": [
      "Source: IP=\"192.168.1.1\" // Destination: IP=\"192.168.1.2\" // Others: id=0x4952 seq= 1303\n",
      "\n",
      "\n",
      "\n",
      "pkt_list = []\n",
      "\n",
      "# Request packet\n",
      "request_pkt = scapy.IP(src=\"192.168.1.1\", dst=\"192.168.1.2\")/scapy.ICMP(type=8, id=0x4952, seq=1303)\n",
      "pkt_list.append(request_pkt)\n",
      "\n",
      "# Reply packet\n",
      "reply_pkt = scapy.IP(src=\"192.168.1.2\", dst=\"192.168.1.1\")/scapy.ICMP(type=0, id=0x4952, seq=1303)\n",
      "pkt_list.append(reply_pkt)\n"
     ]
    }
   ],
   "source": [
    "# Este es el resumen de lo que está en el struct de responses para la última petición\n",
    "print(responses[-1].prompt_summary)\n",
    "print(responses[-1].completion.choices[0].text)"
   ]
  },
  {
   "cell_type": "code",
   "execution_count": 75,
   "id": "0306c49a-3225-4cde-978a-d4d1148e09ca",
   "metadata": {
    "tags": []
   },
   "outputs": [
    {
     "name": "stdout",
     "output_type": "stream",
     "text": [
      "Completion(id='cmpl-9GtCQbzvShHTmYNT96kDftxV8YxqR', choices=[CompletionChoice(finish_reason='stop', index=0, logprobs=None, text='\\n\\npkt_list = []\\n\\n# Request packet\\nrequest_pkt = scapy.IP(src=\"192.168.1.1\", dst=\"192.168.1.2\")/scapy.ICMP(type=8, id=0x4952, seq=1303)\\npkt_list.append(request_pkt)\\n\\n# Reply packet\\nreply_pkt = scapy.IP(src=\"192.168.1.2\", dst=\"192.168.1.1\")/scapy.ICMP(type=0, id=0x4952, seq=1303)\\npkt_list.append(reply_pkt)')], created=1713812462, model='gpt-3.5-turbo-instruct', object='text_completion', system_fingerprint=None, usage=CompletionUsage(completion_tokens=119, prompt_tokens=230, total_tokens=349))\n"
     ]
    }
   ],
   "source": [
    "#Esta es la forma que tiene una respuesta del modelo de IA\n",
    "print(responses[-1].completion)"
   ]
  },
  {
   "cell_type": "markdown",
   "id": "64e521bb-cbe0-4aa7-9e0b-a55dca59df14",
   "metadata": {},
   "source": [
    "### Generación de paquetes"
   ]
  },
  {
   "cell_type": "code",
   "execution_count": 78,
   "id": "e2fe83bd-c209-441e-aa8a-bf6fe2be7b01",
   "metadata": {
    "tags": []
   },
   "outputs": [
    {
     "name": "stdout",
     "output_type": "stream",
     "text": [
      "[<IP  frag=0 proto=icmp src=192.168.1.1 dst=192.168.1.2 |<ICMP  type=echo-request id=0x4952 seq=0x517 |>>, <IP  frag=0 proto=icmp src=192.168.1.2 dst=192.168.1.1 |<ICMP  type=echo-reply id=0x4952 seq=0x517 |>>]\n"
     ]
    }
   ],
   "source": [
    "# Ejecutamos los comandos que devuelve el modelo para generar los paquetes\n",
    "exec(responses[-1].completion.choices[0].text)\n",
    "print(pkt_list)"
   ]
  },
  {
   "cell_type": "code",
   "execution_count": 80,
   "id": "9623679c-2d22-486f-8f04-92332b2d2e33",
   "metadata": {
    "tags": []
   },
   "outputs": [
    {
     "name": "stdout",
     "output_type": "stream",
     "text": [
      "\n",
      "Sent 2 packets.\n"
     ]
    }
   ],
   "source": [
    "#Enviarlos para probar si se envian correctamente\n",
    "send(pkt_list)"
   ]
  },
  {
   "cell_type": "markdown",
   "id": "25498e41-faed-4d13-a300-c54e7f25a3ca",
   "metadata": {},
   "source": [
    "### Introducción en un pcap"
   ]
  },
  {
   "cell_type": "code",
   "execution_count": 83,
   "id": "2495a1e4-b217-42f6-a26c-bcab492c911a",
   "metadata": {
    "tags": []
   },
   "outputs": [],
   "source": [
    "# Guardamos los paquetes generados en un pcap\n",
    "with open(\"../../data/Conversations/ICMP/pcap/ICMPgenerated_3_5_turbo-instruct_conv.pcap\", \"wb\") as f:\n",
    "    wrpcap(f, pkt_list)"
   ]
  },
  {
   "cell_type": "code",
   "execution_count": null,
   "id": "15ac9815-fc6b-4cb7-b679-44d084d5fc61",
   "metadata": {},
   "outputs": [],
   "source": []
  }
 ],
 "metadata": {
  "kernelspec": {
   "display_name": "Python 3 (ipykernel)",
   "language": "python",
   "name": "python3"
  },
  "language_info": {
   "codemirror_mode": {
    "name": "ipython",
    "version": 3
   },
   "file_extension": ".py",
   "mimetype": "text/x-python",
   "name": "python",
   "nbconvert_exporter": "python",
   "pygments_lexer": "ipython3",
   "version": "3.11.7"
  }
 },
 "nbformat": 4,
 "nbformat_minor": 5
}
