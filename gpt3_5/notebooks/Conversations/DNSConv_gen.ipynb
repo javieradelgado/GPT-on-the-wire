{
 "cells": [
  {
   "cell_type": "markdown",
   "id": "98857f5a-567a-4941-996a-019e0ba694f4",
   "metadata": {},
   "source": [
    "# Creación de conversaciones DNS"
   ]
  },
  {
   "cell_type": "markdown",
   "id": "833d122f-03c1-4db6-9953-5864d8f68b9e",
   "metadata": {},
   "source": [
    "### Descripción: \n",
    "Con este código se va a intentar crear todos los pasos de una conversación DNS, mediante IA generativa. Se pretende pasar una descripción de esta conversación al modelo y que este sea capaz de crear todos los pasos/paquetes necesarios para replicar una conversación con esas mismas especificaciones"
   ]
  },
  {
   "cell_type": "code",
   "execution_count": 3,
   "id": "af19945d-5027-48fa-a906-7efdf0b93876",
   "metadata": {
    "tags": []
   },
   "outputs": [
    {
     "name": "stderr",
     "output_type": "stream",
     "text": [
      "C:\\Users\\adayd\\anaconda3\\envs\\PAC-GPT\\Lib\\site-packages\\scapy\\layers\\ipsec.py:469: CryptographyDeprecationWarning: Blowfish has been deprecated\n",
      "  cipher=algorithms.Blowfish,\n",
      "C:\\Users\\adayd\\anaconda3\\envs\\PAC-GPT\\Lib\\site-packages\\scapy\\layers\\ipsec.py:483: CryptographyDeprecationWarning: CAST5 has been deprecated\n",
      "  cipher=algorithms.CAST5,\n"
     ]
    },
    {
     "data": {
      "text/plain": [
       "'1.10.0'"
      ]
     },
     "execution_count": 3,
     "metadata": {},
     "output_type": "execute_result"
    }
   ],
   "source": [
    "import random\n",
    "import re\n",
    "import pickle\n",
    "import time\n",
    "\n",
    "import openai\n",
    "openai.api_key = \"FILL\"\n",
    "\n",
    "from scapy.all import *\n",
    "from scapy.utils import RawPcapReader, wrpcap\n",
    "import scapy.all as scapy\n",
    "\n",
    "from scapy.layers.inet import IP\n",
    "from scapy.all import DNS\n",
    "\n",
    "\n",
    "openai.__version__"
   ]
  },
  {
   "cell_type": "markdown",
   "id": "966c530c-db4b-4638-920b-2bdbf500b2d1",
   "metadata": {},
   "source": [
    "## Generación de la descipción de una comunicación DNS"
   ]
  },
  {
   "cell_type": "markdown",
   "id": "2f903423-01da-4fbf-86c8-362a7af70ecd",
   "metadata": {},
   "source": [
    "<center><img src=\"https://unit42.paloaltonetworks.com/wp-content/uploads/2020/03/Figure-1.-Simplified-DNS-operation.jpg\">\n",
    "    \n",
    "<center> Esta imagen es genérica y simple, en la que el receptor del paquete tiene la información que se solicita y esta es úicamente la IP de una web.\n",
    "<br>\n",
    "    ---\n",
    "<br>Una conversación normal DNS puede ser de diferentes tipos, e involucrar a muchos tipos de equipos diferentes, por simplicidad, como primera aproximación para este tipo de conversaciones, se generarán comunicaciones entre 2 equipos predefinidos en las que solo se solicite una IP. Esto se hace para evaluar la viabilidad de estos modelos de IA generativa para generar conversaciones realistas (aunque simples) DNS.\n",
    "<center>---"
   ]
  },
  {
   "cell_type": "code",
   "execution_count": 7,
   "id": "eb809107-35eb-4931-bea6-48c2ef185be7",
   "metadata": {
    "tags": []
   },
   "outputs": [
    {
     "data": {
      "image/png": "[encoded data removed]",
      "text/plain": [
       "<Figure size 800x400 with 1 Axes>"
      ]
     },
     "metadata": {},
     "output_type": "display_data"
    }
   ],
   "source": [
    "import matplotlib.pyplot as plt\n",
    "plt.figure(figsize = (8, 4))\n",
    "plt.hist([abs(random.gauss(0, 0.03)) for i in range(100000)], bins = 100)\n",
    "plt.grid()\n",
    "plt.show()"
   ]
  },
  {
   "cell_type": "code",
   "execution_count": 24,
   "id": "d1000ce4-d346-40b2-943a-4706d7955f98",
   "metadata": {
    "tags": []
   },
   "outputs": [],
   "source": [
    "query = \"This is a DNS conversation summary:\\n\"\n",
    "query += 'Source: IP=\"192.168.1.10\" // Destination: IP=\"192.168.1.20\"// Others: id=0x0045 , resource= \"www.github.com\" , response = \"140.82.112.4\"\\n'\n",
    "query += \"This is the python code to generate a random port number and the request and reply packets of the conversation, respectively:\\n\"\n",
    "query += \"RANDOM_PORT = random.randint(4097, 65530)\\n\"\n",
    "query += 'pkt_1= IP(src=\"192.168.1.10\", dst=\"192.168.1.20\", proto=17)/UDP(sport=RANDOM_PORT, dport=53)/DNS(id=0x0045, qr=0, rd=1, opcode=0, qdcount=1, ancount=0, nscount=0, arcount=0, qd=DNSQR(qname=\"www.github.com\", qtype=\"A\", qclass=\"IN\") )\\n'\n",
    "query += 'time.sleep(abs(random.gauss(0, 0.03)))'\n",
    "query += 'pkt_2= IP(src=\"192.168.1.20\", dst=\"192.168.1.10\", proto=17)/UDP(sport=53, dport=RANDOM_PORT)/DNS(id=0x0aba, qr=1, opcode=0, ra=1, rcode=0, qdcount=1, ancount=1, nscount=0, arcount=0, qd=DNSQR(qname=\"www.github.com\", qtype=\"A\", qclass=\"IN\"), an=DNSRR(rrname=\"www.github.com\", type=\"A\", rclass=\"IN\", ttl=255, rdata=\"140.82.112.4\") )\\n'"
   ]
  },
  {
   "cell_type": "markdown",
   "id": "21f6e8a8-a5cc-4598-9907-a85f0b9022a8",
   "metadata": {},
   "source": [
    "## Carga de posibles conversaciones"
   ]
  },
  {
   "cell_type": "code",
   "execution_count": 27,
   "id": "83815581-deb8-44f5-8bb2-75c421d9e9b0",
   "metadata": {
    "tags": []
   },
   "outputs": [
    {
     "name": "stdout",
     "output_type": "stream",
     "text": [
      "Número de resúmenes: 60\n"
     ]
    }
   ],
   "source": [
    "with open(\"../../data/Conversations/DNS/Conv_summaries.txt\",\"r\",encoding=\"utf8\") as f:\n",
    "    Conv_summaries = f.read().splitlines()\n",
    "\n",
    "print(\"Número de resúmenes: \" +str(len(Conv_summaries)))"
   ]
  },
  {
   "cell_type": "markdown",
   "id": "cbc2923b-95c5-4bc3-9fb4-debd9bc56a78",
   "metadata": {},
   "source": [
    "### Carga de posibles respuestas anteriores para encadenarlas"
   ]
  },
  {
   "cell_type": "code",
   "execution_count": 30,
   "id": "991ccbac-9ad6-4cac-96d0-0b2b6fcb53fd",
   "metadata": {
    "tags": []
   },
   "outputs": [],
   "source": [
    "class response():\n",
    "    \"Stores name and place pairs\"\n",
    "    def __init__(self, name, place):\n",
    "        self.prompt_summary = name\n",
    "        self.completion = place"
   ]
  },
  {
   "cell_type": "code",
   "execution_count": 43,
   "id": "3e3c0517-8fc6-4267-a02c-a09cad2ffe32",
   "metadata": {},
   "outputs": [
    {
     "name": "stdout",
     "output_type": "stream",
     "text": [
      "Number of previous responses: 0\n"
     ]
    }
   ],
   "source": [
    "try:\n",
    "    responses = pickle.load( open(\"../../data/Conversations/DNS/pickle/DNS_validation_v2_pairs_Aday.pkl\", \"rb\" ))\n",
    "except:\n",
    "    responses = []\n",
    "    \n",
    "print(\"Number of previous responses: \" + str(len(responses)))"
   ]
  },
  {
   "cell_type": "markdown",
   "id": "1ae1cfcb-0777-4ed8-b570-512d04094483",
   "metadata": {},
   "source": [
    "## Generación de comandos de paquetes de conversación"
   ]
  },
  {
   "cell_type": "code",
   "execution_count": 46,
   "id": "fb4b6e89-9fbc-4e84-9cba-b6c9d92fa78d",
   "metadata": {
    "tags": []
   },
   "outputs": [],
   "source": [
    "summaries_per_request = 1 # por que normalmente solo querremos generar una conversación"
   ]
  },
  {
   "cell_type": "code",
   "execution_count": 48,
   "id": "1d2f0676-b23b-453b-b20c-bc186b1cd9a3",
   "metadata": {
    "tags": []
   },
   "outputs": [
    {
     "name": "stdout",
     "output_type": "stream",
     "text": [
      "...........................................\n",
      " GENERATING SCAPY COMMANDS FOR THE FOLLOWING CONVERSATIONS (iter 43)\n",
      "This is a DNS conversation summary:\n",
      "Source: IP=\"192.168.1.10\" // Destination: IP=\"192.168.1.20\"// Others: id=0x0045 , resource= \"www.github.com\" , response = \"140.82.112.4\"\n",
      "This is the python code to generate a random port number and the request and reply packets of the conversation, respectively:\n",
      "RANDOM_PORT = random.randint(4097, 65530)\n",
      "pkt_1= IP(src=\"192.168.1.10\", dst=\"192.168.1.20\", proto=17)/UDP(sport=RANDOM_PORT, dport=53)/DNS(id=0x0045, qr=0, rd=1, opcode=0, qdcount=1, ancount=0, nscount=0, arcount=0, qd=DNSQR(qname=\"www.github.com\", qtype=\"A\", qclass=\"IN\") )\n",
      "time.sleep(abs(random.gauss(0, 0.03)))pkt_2= IP(src=\"192.168.1.20\", dst=\"192.168.1.10\", proto=17)/UDP(sport=53, dport=RANDOM_PORT)/DNS(id=0x0aba, qr=1, opcode=0, ra=1, rcode=0, qdcount=1, ancount=1, nscount=0, arcount=0, qd=DNSQR(qname=\"www.github.com\", qtype=\"A\", qclass=\"IN\"), an=DNSRR(rrname=\"www.github.com\", type=\"A\", rclass=\"IN\", ttl=255, rdata=\"140.82.112.4\") )\n",
      "This is a conversation summary:\n",
      "Source: IP= \"198.51.100.100\" // Destination: IP= \"198.51.100.101\" // Others: id=0x7571 , resource= www.deezer.com , response = \"185.40.64.163\"\n",
      "\n",
      "Generate python code for creating the packets in the conversation with scapy framework.Don´t give back any comments, just bare code.\n",
      "Use the following structure:\n",
      "RANDOM_PORT =...\n",
      "pkt_1=...\n",
      "time.sleep(abs(random.gauss(0, 0.03)))\n",
      "pkt_2=...\n",
      "\n",
      "...Generated!\n",
      "Number of completitions done: 1\n",
      "...........................................\n",
      " GENERATING SCAPY COMMANDS FOR THE FOLLOWING CONVERSATIONS (iter 44)\n",
      "This is a DNS conversation summary:\n",
      "Source: IP=\"192.168.1.10\" // Destination: IP=\"192.168.1.20\"// Others: id=0x0045 , resource= \"www.github.com\" , response = \"140.82.112.4\"\n",
      "This is the python code to generate a random port number and the request and reply packets of the conversation, respectively:\n",
      "RANDOM_PORT = random.randint(4097, 65530)\n",
      "pkt_1= IP(src=\"192.168.1.10\", dst=\"192.168.1.20\", proto=17)/UDP(sport=RANDOM_PORT, dport=53)/DNS(id=0x0045, qr=0, rd=1, opcode=0, qdcount=1, ancount=0, nscount=0, arcount=0, qd=DNSQR(qname=\"www.github.com\", qtype=\"A\", qclass=\"IN\") )\n",
      "time.sleep(abs(random.gauss(0, 0.03)))pkt_2= IP(src=\"192.168.1.20\", dst=\"192.168.1.10\", proto=17)/UDP(sport=53, dport=RANDOM_PORT)/DNS(id=0x0aba, qr=1, opcode=0, ra=1, rcode=0, qdcount=1, ancount=1, nscount=0, arcount=0, qd=DNSQR(qname=\"www.github.com\", qtype=\"A\", qclass=\"IN\"), an=DNSRR(rrname=\"www.github.com\", type=\"A\", rclass=\"IN\", ttl=255, rdata=\"140.82.112.4\") )\n",
      "This is a conversation summary:\n",
      "Source: IP= \"203.0.113.100\" // Destination: IP= \"203.0.113.101\" // Others: id=0x7111 , resource= www.bloomberg.com , response = \"69.187.24.15\"\n",
      "\n",
      "Generate python code for creating the packets in the conversation with scapy framework.Don´t give back any comments, just bare code.\n",
      "Use the following structure:\n",
      "RANDOM_PORT =...\n",
      "pkt_1=...\n",
      "time.sleep(abs(random.gauss(0, 0.03)))\n",
      "pkt_2=...\n",
      "\n",
      "...Generated!\n",
      "Number of completitions done: 2\n",
      "...........................................\n",
      " GENERATING SCAPY COMMANDS FOR THE FOLLOWING CONVERSATIONS (iter 45)\n",
      "This is a DNS conversation summary:\n",
      "Source: IP=\"192.168.1.10\" // Destination: IP=\"192.168.1.20\"// Others: id=0x0045 , resource= \"www.github.com\" , response = \"140.82.112.4\"\n",
      "This is the python code to generate a random port number and the request and reply packets of the conversation, respectively:\n",
      "RANDOM_PORT = random.randint(4097, 65530)\n",
      "pkt_1= IP(src=\"192.168.1.10\", dst=\"192.168.1.20\", proto=17)/UDP(sport=RANDOM_PORT, dport=53)/DNS(id=0x0045, qr=0, rd=1, opcode=0, qdcount=1, ancount=0, nscount=0, arcount=0, qd=DNSQR(qname=\"www.github.com\", qtype=\"A\", qclass=\"IN\") )\n",
      "time.sleep(abs(random.gauss(0, 0.03)))pkt_2= IP(src=\"192.168.1.20\", dst=\"192.168.1.10\", proto=17)/UDP(sport=53, dport=RANDOM_PORT)/DNS(id=0x0aba, qr=1, opcode=0, ra=1, rcode=0, qdcount=1, ancount=1, nscount=0, arcount=0, qd=DNSQR(qname=\"www.github.com\", qtype=\"A\", qclass=\"IN\"), an=DNSRR(rrname=\"www.github.com\", type=\"A\", rclass=\"IN\", ttl=255, rdata=\"140.82.112.4\") )\n",
      "This is a conversation summary:\n",
      "Source: IP= \"198.51.100.10\" // Destination: IP= \"198.51.100.11\" // Others: id=0x7333 , resource= www.dropbox.es , response = \"162.125.248.18\"\n",
      "\n",
      "Generate python code for creating the packets in the conversation with scapy framework.Don´t give back any comments, just bare code.\n",
      "Use the following structure:\n",
      "RANDOM_PORT =...\n",
      "pkt_1=...\n",
      "time.sleep(abs(random.gauss(0, 0.03)))\n",
      "pkt_2=...\n",
      "\n",
      "...Generated!\n",
      "Number of completitions done: 3\n",
      "...........................................\n",
      " GENERATING SCAPY COMMANDS FOR THE FOLLOWING CONVERSATIONS (iter 46)\n",
      "This is a DNS conversation summary:\n",
      "Source: IP=\"192.168.1.10\" // Destination: IP=\"192.168.1.20\"// Others: id=0x0045 , resource= \"www.github.com\" , response = \"140.82.112.4\"\n",
      "This is the python code to generate a random port number and the request and reply packets of the conversation, respectively:\n",
      "RANDOM_PORT = random.randint(4097, 65530)\n",
      "pkt_1= IP(src=\"192.168.1.10\", dst=\"192.168.1.20\", proto=17)/UDP(sport=RANDOM_PORT, dport=53)/DNS(id=0x0045, qr=0, rd=1, opcode=0, qdcount=1, ancount=0, nscount=0, arcount=0, qd=DNSQR(qname=\"www.github.com\", qtype=\"A\", qclass=\"IN\") )\n",
      "time.sleep(abs(random.gauss(0, 0.03)))pkt_2= IP(src=\"192.168.1.20\", dst=\"192.168.1.10\", proto=17)/UDP(sport=53, dport=RANDOM_PORT)/DNS(id=0x0aba, qr=1, opcode=0, ra=1, rcode=0, qdcount=1, ancount=1, nscount=0, arcount=0, qd=DNSQR(qname=\"www.github.com\", qtype=\"A\", qclass=\"IN\"), an=DNSRR(rrname=\"www.github.com\", type=\"A\", rclass=\"IN\", ttl=255, rdata=\"140.82.112.4\") )\n",
      "This is a conversation summary:\n",
      "Source: IP= \"203.0.113.10\" // Destination: IP= \"203.0.113.11\" // Others: id=0x7222 , resource= www.rtve.es , response = \"217.15.42.90\"\n",
      "\n",
      "Generate python code for creating the packets in the conversation with scapy framework.Don´t give back any comments, just bare code.\n",
      "Use the following structure:\n",
      "RANDOM_PORT =...\n",
      "pkt_1=...\n",
      "time.sleep(abs(random.gauss(0, 0.03)))\n",
      "pkt_2=...\n",
      "\n",
      "...Generated!\n",
      "Number of completitions done: 4\n",
      "...........................................\n",
      " GENERATING SCAPY COMMANDS FOR THE FOLLOWING CONVERSATIONS (iter 47)\n",
      "This is a DNS conversation summary:\n",
      "Source: IP=\"192.168.1.10\" // Destination: IP=\"192.168.1.20\"// Others: id=0x0045 , resource= \"www.github.com\" , response = \"140.82.112.4\"\n",
      "This is the python code to generate a random port number and the request and reply packets of the conversation, respectively:\n",
      "RANDOM_PORT = random.randint(4097, 65530)\n",
      "pkt_1= IP(src=\"192.168.1.10\", dst=\"192.168.1.20\", proto=17)/UDP(sport=RANDOM_PORT, dport=53)/DNS(id=0x0045, qr=0, rd=1, opcode=0, qdcount=1, ancount=0, nscount=0, arcount=0, qd=DNSQR(qname=\"www.github.com\", qtype=\"A\", qclass=\"IN\") )\n",
      "time.sleep(abs(random.gauss(0, 0.03)))pkt_2= IP(src=\"192.168.1.20\", dst=\"192.168.1.10\", proto=17)/UDP(sport=53, dport=RANDOM_PORT)/DNS(id=0x0aba, qr=1, opcode=0, ra=1, rcode=0, qdcount=1, ancount=1, nscount=0, arcount=0, qd=DNSQR(qname=\"www.github.com\", qtype=\"A\", qclass=\"IN\"), an=DNSRR(rrname=\"www.github.com\", type=\"A\", rclass=\"IN\", ttl=255, rdata=\"140.82.112.4\") )\n",
      "This is a conversation summary:\n",
      "Source: IP= \"198.51.100.200\" // Destination: IP= \"198.51.100.201\" // Others: id=0x7555 , resource= www.crunchyroll.com , response = \"143.204.214.200\"\n",
      "\n",
      "Generate python code for creating the packets in the conversation with scapy framework.Don´t give back any comments, just bare code.\n",
      "Use the following structure:\n",
      "RANDOM_PORT =...\n",
      "pkt_1=...\n",
      "time.sleep(abs(random.gauss(0, 0.03)))\n",
      "pkt_2=...\n",
      "\n",
      "...Generated!\n",
      "Number of completitions done: 5\n",
      "...........................................\n",
      " GENERATING SCAPY COMMANDS FOR THE FOLLOWING CONVERSATIONS (iter 48)\n",
      "This is a DNS conversation summary:\n",
      "Source: IP=\"192.168.1.10\" // Destination: IP=\"192.168.1.20\"// Others: id=0x0045 , resource= \"www.github.com\" , response = \"140.82.112.4\"\n",
      "This is the python code to generate a random port number and the request and reply packets of the conversation, respectively:\n",
      "RANDOM_PORT = random.randint(4097, 65530)\n",
      "pkt_1= IP(src=\"192.168.1.10\", dst=\"192.168.1.20\", proto=17)/UDP(sport=RANDOM_PORT, dport=53)/DNS(id=0x0045, qr=0, rd=1, opcode=0, qdcount=1, ancount=0, nscount=0, arcount=0, qd=DNSQR(qname=\"www.github.com\", qtype=\"A\", qclass=\"IN\") )\n",
      "time.sleep(abs(random.gauss(0, 0.03)))pkt_2= IP(src=\"192.168.1.20\", dst=\"192.168.1.10\", proto=17)/UDP(sport=53, dport=RANDOM_PORT)/DNS(id=0x0aba, qr=1, opcode=0, ra=1, rcode=0, qdcount=1, ancount=1, nscount=0, arcount=0, qd=DNSQR(qname=\"www.github.com\", qtype=\"A\", qclass=\"IN\"), an=DNSRR(rrname=\"www.github.com\", type=\"A\", rclass=\"IN\", ttl=255, rdata=\"140.82.112.4\") )\n",
      "This is a conversation summary:\n",
      "Source: IP= \"203.0.113.200\" // Destination: IP= \"203.0.113.201\" // Others:id=0x7492 , resource= www.canva.com , response = \"104.16.116.47\"\n",
      "\n",
      "Generate python code for creating the packets in the conversation with scapy framework.Don´t give back any comments, just bare code.\n",
      "Use the following structure:\n",
      "RANDOM_PORT =...\n",
      "pkt_1=...\n",
      "time.sleep(abs(random.gauss(0, 0.03)))\n",
      "pkt_2=...\n",
      "\n",
      "...Generated!\n",
      "Number of completitions done: 6\n",
      "...........................................\n",
      " GENERATING SCAPY COMMANDS FOR THE FOLLOWING CONVERSATIONS (iter 49)\n",
      "This is a DNS conversation summary:\n",
      "Source: IP=\"192.168.1.10\" // Destination: IP=\"192.168.1.20\"// Others: id=0x0045 , resource= \"www.github.com\" , response = \"140.82.112.4\"\n",
      "This is the python code to generate a random port number and the request and reply packets of the conversation, respectively:\n",
      "RANDOM_PORT = random.randint(4097, 65530)\n",
      "pkt_1= IP(src=\"192.168.1.10\", dst=\"192.168.1.20\", proto=17)/UDP(sport=RANDOM_PORT, dport=53)/DNS(id=0x0045, qr=0, rd=1, opcode=0, qdcount=1, ancount=0, nscount=0, arcount=0, qd=DNSQR(qname=\"www.github.com\", qtype=\"A\", qclass=\"IN\") )\n",
      "time.sleep(abs(random.gauss(0, 0.03)))pkt_2= IP(src=\"192.168.1.20\", dst=\"192.168.1.10\", proto=17)/UDP(sport=53, dport=RANDOM_PORT)/DNS(id=0x0aba, qr=1, opcode=0, ra=1, rcode=0, qdcount=1, ancount=1, nscount=0, arcount=0, qd=DNSQR(qname=\"www.github.com\", qtype=\"A\", qclass=\"IN\"), an=DNSRR(rrname=\"www.github.com\", type=\"A\", rclass=\"IN\", ttl=255, rdata=\"140.82.112.4\") )\n",
      "This is a conversation summary:\n",
      "Source: IP= \"192.0.2.5\" // Destination: IP= \"192.0.2.15\" // Others: id=0x2532 , resource= \"www.espn.com\" , response = \"13.35.78.128\"\n",
      "\n",
      "Generate python code for creating the packets in the conversation with scapy framework.Don´t give back any comments, just bare code.\n",
      "Use the following structure:\n",
      "RANDOM_PORT =...\n",
      "pkt_1=...\n",
      "time.sleep(abs(random.gauss(0, 0.03)))\n",
      "pkt_2=...\n",
      "\n",
      "...Generated!\n",
      "Number of completitions done: 7\n",
      "...........................................\n",
      " GENERATING SCAPY COMMANDS FOR THE FOLLOWING CONVERSATIONS (iter 50)\n",
      "This is a DNS conversation summary:\n",
      "Source: IP=\"192.168.1.10\" // Destination: IP=\"192.168.1.20\"// Others: id=0x0045 , resource= \"www.github.com\" , response = \"140.82.112.4\"\n",
      "This is the python code to generate a random port number and the request and reply packets of the conversation, respectively:\n",
      "RANDOM_PORT = random.randint(4097, 65530)\n",
      "pkt_1= IP(src=\"192.168.1.10\", dst=\"192.168.1.20\", proto=17)/UDP(sport=RANDOM_PORT, dport=53)/DNS(id=0x0045, qr=0, rd=1, opcode=0, qdcount=1, ancount=0, nscount=0, arcount=0, qd=DNSQR(qname=\"www.github.com\", qtype=\"A\", qclass=\"IN\") )\n",
      "time.sleep(abs(random.gauss(0, 0.03)))pkt_2= IP(src=\"192.168.1.20\", dst=\"192.168.1.10\", proto=17)/UDP(sport=53, dport=RANDOM_PORT)/DNS(id=0x0aba, qr=1, opcode=0, ra=1, rcode=0, qdcount=1, ancount=1, nscount=0, arcount=0, qd=DNSQR(qname=\"www.github.com\", qtype=\"A\", qclass=\"IN\"), an=DNSRR(rrname=\"www.github.com\", type=\"A\", rclass=\"IN\", ttl=255, rdata=\"140.82.112.4\") )\n",
      "This is a conversation summary:\n",
      "Source: IP= \"198.51.100.1\" // Destination: IP= \"198.51.100.2\" // Others: id=0x3234 , resource= www.skype.com , response = \"40.77.226.250\"\n",
      "\n",
      "Generate python code for creating the packets in the conversation with scapy framework.Don´t give back any comments, just bare code.\n",
      "Use the following structure:\n",
      "RANDOM_PORT =...\n",
      "pkt_1=...\n",
      "time.sleep(abs(random.gauss(0, 0.03)))\n",
      "pkt_2=...\n",
      "\n",
      "...Generated!\n",
      "Number of completitions done: 8\n",
      "...........................................\n",
      " GENERATING SCAPY COMMANDS FOR THE FOLLOWING CONVERSATIONS (iter 51)\n",
      "This is a DNS conversation summary:\n",
      "Source: IP=\"192.168.1.10\" // Destination: IP=\"192.168.1.20\"// Others: id=0x0045 , resource= \"www.github.com\" , response = \"140.82.112.4\"\n",
      "This is the python code to generate a random port number and the request and reply packets of the conversation, respectively:\n",
      "RANDOM_PORT = random.randint(4097, 65530)\n",
      "pkt_1= IP(src=\"192.168.1.10\", dst=\"192.168.1.20\", proto=17)/UDP(sport=RANDOM_PORT, dport=53)/DNS(id=0x0045, qr=0, rd=1, opcode=0, qdcount=1, ancount=0, nscount=0, arcount=0, qd=DNSQR(qname=\"www.github.com\", qtype=\"A\", qclass=\"IN\") )\n",
      "time.sleep(abs(random.gauss(0, 0.03)))pkt_2= IP(src=\"192.168.1.20\", dst=\"192.168.1.10\", proto=17)/UDP(sport=53, dport=RANDOM_PORT)/DNS(id=0x0aba, qr=1, opcode=0, ra=1, rcode=0, qdcount=1, ancount=1, nscount=0, arcount=0, qd=DNSQR(qname=\"www.github.com\", qtype=\"A\", qclass=\"IN\"), an=DNSRR(rrname=\"www.github.com\", type=\"A\", rclass=\"IN\", ttl=255, rdata=\"140.82.112.4\") )\n",
      "This is a conversation summary:\n",
      "Source: IP= \"192.0.2.100\" // Destination: IP= \"192.0.2.101\" // Others: id=0x1572 , resource= www.walmart.com , response = \"161.170.244.20\"\n",
      "\n",
      "Generate python code for creating the packets in the conversation with scapy framework.Don´t give back any comments, just bare code.\n",
      "Use the following structure:\n",
      "RANDOM_PORT =...\n",
      "pkt_1=...\n",
      "time.sleep(abs(random.gauss(0, 0.03)))\n",
      "pkt_2=...\n",
      "\n",
      "...Generated!\n",
      "Number of completitions done: 9\n",
      "...........................................\n",
      " GENERATING SCAPY COMMANDS FOR THE FOLLOWING CONVERSATIONS (iter 52)\n",
      "This is a DNS conversation summary:\n",
      "Source: IP=\"192.168.1.10\" // Destination: IP=\"192.168.1.20\"// Others: id=0x0045 , resource= \"www.github.com\" , response = \"140.82.112.4\"\n",
      "This is the python code to generate a random port number and the request and reply packets of the conversation, respectively:\n",
      "RANDOM_PORT = random.randint(4097, 65530)\n",
      "pkt_1= IP(src=\"192.168.1.10\", dst=\"192.168.1.20\", proto=17)/UDP(sport=RANDOM_PORT, dport=53)/DNS(id=0x0045, qr=0, rd=1, opcode=0, qdcount=1, ancount=0, nscount=0, arcount=0, qd=DNSQR(qname=\"www.github.com\", qtype=\"A\", qclass=\"IN\") )\n",
      "time.sleep(abs(random.gauss(0, 0.03)))pkt_2= IP(src=\"192.168.1.20\", dst=\"192.168.1.10\", proto=17)/UDP(sport=53, dport=RANDOM_PORT)/DNS(id=0x0aba, qr=1, opcode=0, ra=1, rcode=0, qdcount=1, ancount=1, nscount=0, arcount=0, qd=DNSQR(qname=\"www.github.com\", qtype=\"A\", qclass=\"IN\"), an=DNSRR(rrname=\"www.github.com\", type=\"A\", rclass=\"IN\", ttl=255, rdata=\"140.82.112.4\") )\n",
      "This is a conversation summary:\n",
      "Source: IP= \"198.51.100.254\" // Destination: IP= \"198.51.100.253\" // Others: id=0x1382 , resource= www.weibo.com , response = \"180.149.134.141\"\n",
      "\n",
      "Generate python code for creating the packets in the conversation with scapy framework.Don´t give back any comments, just bare code.\n",
      "Use the following structure:\n",
      "RANDOM_PORT =...\n",
      "pkt_1=...\n",
      "time.sleep(abs(random.gauss(0, 0.03)))\n",
      "pkt_2=...\n",
      "\n",
      "...Generated!\n",
      "Number of completitions done: 10\n",
      "...........................................\n",
      " GENERATING SCAPY COMMANDS FOR THE FOLLOWING CONVERSATIONS (iter 53)\n",
      "This is a DNS conversation summary:\n",
      "Source: IP=\"192.168.1.10\" // Destination: IP=\"192.168.1.20\"// Others: id=0x0045 , resource= \"www.github.com\" , response = \"140.82.112.4\"\n",
      "This is the python code to generate a random port number and the request and reply packets of the conversation, respectively:\n",
      "RANDOM_PORT = random.randint(4097, 65530)\n",
      "pkt_1= IP(src=\"192.168.1.10\", dst=\"192.168.1.20\", proto=17)/UDP(sport=RANDOM_PORT, dport=53)/DNS(id=0x0045, qr=0, rd=1, opcode=0, qdcount=1, ancount=0, nscount=0, arcount=0, qd=DNSQR(qname=\"www.github.com\", qtype=\"A\", qclass=\"IN\") )\n",
      "time.sleep(abs(random.gauss(0, 0.03)))pkt_2= IP(src=\"192.168.1.20\", dst=\"192.168.1.10\", proto=17)/UDP(sport=53, dport=RANDOM_PORT)/DNS(id=0x0aba, qr=1, opcode=0, ra=1, rcode=0, qdcount=1, ancount=1, nscount=0, arcount=0, qd=DNSQR(qname=\"www.github.com\", qtype=\"A\", qclass=\"IN\"), an=DNSRR(rrname=\"www.github.com\", type=\"A\", rclass=\"IN\", ttl=255, rdata=\"140.82.112.4\") )\n",
      "This is a conversation summary:\n",
      "Source: IP= \"192.0.2.50\" // Destination: IP= \"192.0.2.51\" // Others: id=0x2523 , resource= www.pinterest.mx , response = \"151.101.64.84\"\n",
      "\n",
      "Generate python code for creating the packets in the conversation with scapy framework.Don´t give back any comments, just bare code.\n",
      "Use the following structure:\n",
      "RANDOM_PORT =...\n",
      "pkt_1=...\n",
      "time.sleep(abs(random.gauss(0, 0.03)))\n",
      "pkt_2=...\n",
      "\n",
      "...Generated!\n",
      "Number of completitions done: 11\n",
      "...........................................\n",
      " GENERATING SCAPY COMMANDS FOR THE FOLLOWING CONVERSATIONS (iter 54)\n",
      "This is a DNS conversation summary:\n",
      "Source: IP=\"192.168.1.10\" // Destination: IP=\"192.168.1.20\"// Others: id=0x0045 , resource= \"www.github.com\" , response = \"140.82.112.4\"\n",
      "This is the python code to generate a random port number and the request and reply packets of the conversation, respectively:\n",
      "RANDOM_PORT = random.randint(4097, 65530)\n",
      "pkt_1= IP(src=\"192.168.1.10\", dst=\"192.168.1.20\", proto=17)/UDP(sport=RANDOM_PORT, dport=53)/DNS(id=0x0045, qr=0, rd=1, opcode=0, qdcount=1, ancount=0, nscount=0, arcount=0, qd=DNSQR(qname=\"www.github.com\", qtype=\"A\", qclass=\"IN\") )\n",
      "time.sleep(abs(random.gauss(0, 0.03)))pkt_2= IP(src=\"192.168.1.20\", dst=\"192.168.1.10\", proto=17)/UDP(sport=53, dport=RANDOM_PORT)/DNS(id=0x0aba, qr=1, opcode=0, ra=1, rcode=0, qdcount=1, ancount=1, nscount=0, arcount=0, qd=DNSQR(qname=\"www.github.com\", qtype=\"A\", qclass=\"IN\"), an=DNSRR(rrname=\"www.github.com\", type=\"A\", rclass=\"IN\", ttl=255, rdata=\"140.82.112.4\") )\n",
      "This is a conversation summary:\n",
      "Source: IP= \"198.51.100.254\" // Destination: IP= \"198.51.100.253\" // Others: id=0x2384 , resource= www.alibaba.com , response = \"47.246.136.158\"\n",
      "\n",
      "Generate python code for creating the packets in the conversation with scapy framework.Don´t give back any comments, just bare code.\n",
      "Use the following structure:\n",
      "RANDOM_PORT =...\n",
      "pkt_1=...\n",
      "time.sleep(abs(random.gauss(0, 0.03)))\n",
      "pkt_2=...\n",
      "\n",
      "...Generated!\n",
      "Number of completitions done: 12\n",
      "...........................................\n",
      " GENERATING SCAPY COMMANDS FOR THE FOLLOWING CONVERSATIONS (iter 55)\n",
      "This is a DNS conversation summary:\n",
      "Source: IP=\"192.168.1.10\" // Destination: IP=\"192.168.1.20\"// Others: id=0x0045 , resource= \"www.github.com\" , response = \"140.82.112.4\"\n",
      "This is the python code to generate a random port number and the request and reply packets of the conversation, respectively:\n",
      "RANDOM_PORT = random.randint(4097, 65530)\n",
      "pkt_1= IP(src=\"192.168.1.10\", dst=\"192.168.1.20\", proto=17)/UDP(sport=RANDOM_PORT, dport=53)/DNS(id=0x0045, qr=0, rd=1, opcode=0, qdcount=1, ancount=0, nscount=0, arcount=0, qd=DNSQR(qname=\"www.github.com\", qtype=\"A\", qclass=\"IN\") )\n",
      "time.sleep(abs(random.gauss(0, 0.03)))pkt_2= IP(src=\"192.168.1.20\", dst=\"192.168.1.10\", proto=17)/UDP(sport=53, dport=RANDOM_PORT)/DNS(id=0x0aba, qr=1, opcode=0, ra=1, rcode=0, qdcount=1, ancount=1, nscount=0, arcount=0, qd=DNSQR(qname=\"www.github.com\", qtype=\"A\", qclass=\"IN\"), an=DNSRR(rrname=\"www.github.com\", type=\"A\", rclass=\"IN\", ttl=255, rdata=\"140.82.112.4\") )\n",
      "This is a conversation summary:\n",
      "Source: IP= \"192.0.2.254\" // Destination: IP= \"192.0.2.253\" // Others: id=0x1852 , resource= www.goodreads.com , response = \"52.94.225.248\"\n",
      "\n",
      "Generate python code for creating the packets in the conversation with scapy framework.Don´t give back any comments, just bare code.\n",
      "Use the following structure:\n",
      "RANDOM_PORT =...\n",
      "pkt_1=...\n",
      "time.sleep(abs(random.gauss(0, 0.03)))\n",
      "pkt_2=...\n",
      "\n",
      "...Generated!\n",
      "Number of completitions done: 13\n",
      "...........................................\n",
      " GENERATING SCAPY COMMANDS FOR THE FOLLOWING CONVERSATIONS (iter 56)\n",
      "This is a DNS conversation summary:\n",
      "Source: IP=\"192.168.1.10\" // Destination: IP=\"192.168.1.20\"// Others: id=0x0045 , resource= \"www.github.com\" , response = \"140.82.112.4\"\n",
      "This is the python code to generate a random port number and the request and reply packets of the conversation, respectively:\n",
      "RANDOM_PORT = random.randint(4097, 65530)\n",
      "pkt_1= IP(src=\"192.168.1.10\", dst=\"192.168.1.20\", proto=17)/UDP(sport=RANDOM_PORT, dport=53)/DNS(id=0x0045, qr=0, rd=1, opcode=0, qdcount=1, ancount=0, nscount=0, arcount=0, qd=DNSQR(qname=\"www.github.com\", qtype=\"A\", qclass=\"IN\") )\n",
      "time.sleep(abs(random.gauss(0, 0.03)))pkt_2= IP(src=\"192.168.1.20\", dst=\"192.168.1.10\", proto=17)/UDP(sport=53, dport=RANDOM_PORT)/DNS(id=0x0aba, qr=1, opcode=0, ra=1, rcode=0, qdcount=1, ancount=1, nscount=0, arcount=0, qd=DNSQR(qname=\"www.github.com\", qtype=\"A\", qclass=\"IN\"), an=DNSRR(rrname=\"www.github.com\", type=\"A\", rclass=\"IN\", ttl=255, rdata=\"140.82.112.4\") )\n",
      "This is a conversation summary:\n",
      "Source: IP= \"198.51.100.254\" // Destination: IP= \"198.51.100.253\" // Others: id=0x1820 , resource= www.bing.es , response = \"204.79.197.200\"\n",
      "\n",
      "Generate python code for creating the packets in the conversation with scapy framework.Don´t give back any comments, just bare code.\n",
      "Use the following structure:\n",
      "RANDOM_PORT =...\n",
      "pkt_1=...\n",
      "time.sleep(abs(random.gauss(0, 0.03)))\n",
      "pkt_2=...\n",
      "\n",
      "...Generated!\n",
      "Number of completitions done: 14\n",
      "...........................................\n",
      " GENERATING SCAPY COMMANDS FOR THE FOLLOWING CONVERSATIONS (iter 57)\n",
      "This is a DNS conversation summary:\n",
      "Source: IP=\"192.168.1.10\" // Destination: IP=\"192.168.1.20\"// Others: id=0x0045 , resource= \"www.github.com\" , response = \"140.82.112.4\"\n",
      "This is the python code to generate a random port number and the request and reply packets of the conversation, respectively:\n",
      "RANDOM_PORT = random.randint(4097, 65530)\n",
      "pkt_1= IP(src=\"192.168.1.10\", dst=\"192.168.1.20\", proto=17)/UDP(sport=RANDOM_PORT, dport=53)/DNS(id=0x0045, qr=0, rd=1, opcode=0, qdcount=1, ancount=0, nscount=0, arcount=0, qd=DNSQR(qname=\"www.github.com\", qtype=\"A\", qclass=\"IN\") )\n",
      "time.sleep(abs(random.gauss(0, 0.03)))pkt_2= IP(src=\"192.168.1.20\", dst=\"192.168.1.10\", proto=17)/UDP(sport=53, dport=RANDOM_PORT)/DNS(id=0x0aba, qr=1, opcode=0, ra=1, rcode=0, qdcount=1, ancount=1, nscount=0, arcount=0, qd=DNSQR(qname=\"www.github.com\", qtype=\"A\", qclass=\"IN\"), an=DNSRR(rrname=\"www.github.com\", type=\"A\", rclass=\"IN\", ttl=255, rdata=\"140.82.112.4\") )\n",
      "This is a conversation summary:\n",
      "Source: IP= \"192.0.2.1\" // Destination: IP= \"192.0.2.2\" // Others: id=0x1684 , resource= www.msn.es , response = \"13.82.28.61\"\n",
      "\n",
      "Generate python code for creating the packets in the conversation with scapy framework.Don´t give back any comments, just bare code.\n",
      "Use the following structure:\n",
      "RANDOM_PORT =...\n",
      "pkt_1=...\n",
      "time.sleep(abs(random.gauss(0, 0.03)))\n",
      "pkt_2=...\n",
      "\n",
      "...Generated!\n",
      "Number of completitions done: 15\n",
      "...........................................\n",
      " GENERATING SCAPY COMMANDS FOR THE FOLLOWING CONVERSATIONS (iter 58)\n",
      "This is a DNS conversation summary:\n",
      "Source: IP=\"192.168.1.10\" // Destination: IP=\"192.168.1.20\"// Others: id=0x0045 , resource= \"www.github.com\" , response = \"140.82.112.4\"\n",
      "This is the python code to generate a random port number and the request and reply packets of the conversation, respectively:\n",
      "RANDOM_PORT = random.randint(4097, 65530)\n",
      "pkt_1= IP(src=\"192.168.1.10\", dst=\"192.168.1.20\", proto=17)/UDP(sport=RANDOM_PORT, dport=53)/DNS(id=0x0045, qr=0, rd=1, opcode=0, qdcount=1, ancount=0, nscount=0, arcount=0, qd=DNSQR(qname=\"www.github.com\", qtype=\"A\", qclass=\"IN\") )\n",
      "time.sleep(abs(random.gauss(0, 0.03)))pkt_2= IP(src=\"192.168.1.20\", dst=\"192.168.1.10\", proto=17)/UDP(sport=53, dport=RANDOM_PORT)/DNS(id=0x0aba, qr=1, opcode=0, ra=1, rcode=0, qdcount=1, ancount=1, nscount=0, arcount=0, qd=DNSQR(qname=\"www.github.com\", qtype=\"A\", qclass=\"IN\"), an=DNSRR(rrname=\"www.github.com\", type=\"A\", rclass=\"IN\", ttl=255, rdata=\"140.82.112.4\") )\n",
      "This is a conversation summary:\n",
      "Source: IP= \"198.51.100.1\" // Destination: IP= \"198.51.100.2\" // Others: id=0x1455 , resource= www.hbo.com , response = \"34.192.0.174\"\n",
      "\n",
      "Generate python code for creating the packets in the conversation with scapy framework.Don´t give back any comments, just bare code.\n",
      "Use the following structure:\n",
      "RANDOM_PORT =...\n",
      "pkt_1=...\n",
      "time.sleep(abs(random.gauss(0, 0.03)))\n",
      "pkt_2=...\n",
      "\n",
      "...Generated!\n",
      "Number of completitions done: 16\n",
      "...........................................\n",
      " GENERATING SCAPY COMMANDS FOR THE FOLLOWING CONVERSATIONS (iter 59)\n",
      "This is a DNS conversation summary:\n",
      "Source: IP=\"192.168.1.10\" // Destination: IP=\"192.168.1.20\"// Others: id=0x0045 , resource= \"www.github.com\" , response = \"140.82.112.4\"\n",
      "This is the python code to generate a random port number and the request and reply packets of the conversation, respectively:\n",
      "RANDOM_PORT = random.randint(4097, 65530)\n",
      "pkt_1= IP(src=\"192.168.1.10\", dst=\"192.168.1.20\", proto=17)/UDP(sport=RANDOM_PORT, dport=53)/DNS(id=0x0045, qr=0, rd=1, opcode=0, qdcount=1, ancount=0, nscount=0, arcount=0, qd=DNSQR(qname=\"www.github.com\", qtype=\"A\", qclass=\"IN\") )\n",
      "time.sleep(abs(random.gauss(0, 0.03)))pkt_2= IP(src=\"192.168.1.20\", dst=\"192.168.1.10\", proto=17)/UDP(sport=53, dport=RANDOM_PORT)/DNS(id=0x0aba, qr=1, opcode=0, ra=1, rcode=0, qdcount=1, ancount=1, nscount=0, arcount=0, qd=DNSQR(qname=\"www.github.com\", qtype=\"A\", qclass=\"IN\"), an=DNSRR(rrname=\"www.github.com\", type=\"A\", rclass=\"IN\", ttl=255, rdata=\"140.82.112.4\") )\n",
      "This is a conversation summary:\n",
      "Source: IP= \"192.0.2.100\" // Destination: IP= \"192.0.2.101\" // Others: id=0x1391 , resource= www.salesforce.es , response = \"182.50.78.89\"\n",
      "\n",
      "Generate python code for creating the packets in the conversation with scapy framework.Don´t give back any comments, just bare code.\n",
      "Use the following structure:\n",
      "RANDOM_PORT =...\n",
      "pkt_1=...\n",
      "time.sleep(abs(random.gauss(0, 0.03)))\n",
      "pkt_2=...\n",
      "\n",
      "...Generated!\n",
      "Number of completitions done: 17\n",
      "...........................................\n",
      " GENERATING SCAPY COMMANDS FOR THE FOLLOWING CONVERSATIONS (iter 60)\n",
      "This is a DNS conversation summary:\n",
      "Source: IP=\"192.168.1.10\" // Destination: IP=\"192.168.1.20\"// Others: id=0x0045 , resource= \"www.github.com\" , response = \"140.82.112.4\"\n",
      "This is the python code to generate a random port number and the request and reply packets of the conversation, respectively:\n",
      "RANDOM_PORT = random.randint(4097, 65530)\n",
      "pkt_1= IP(src=\"192.168.1.10\", dst=\"192.168.1.20\", proto=17)/UDP(sport=RANDOM_PORT, dport=53)/DNS(id=0x0045, qr=0, rd=1, opcode=0, qdcount=1, ancount=0, nscount=0, arcount=0, qd=DNSQR(qname=\"www.github.com\", qtype=\"A\", qclass=\"IN\") )\n",
      "time.sleep(abs(random.gauss(0, 0.03)))pkt_2= IP(src=\"192.168.1.20\", dst=\"192.168.1.10\", proto=17)/UDP(sport=53, dport=RANDOM_PORT)/DNS(id=0x0aba, qr=1, opcode=0, ra=1, rcode=0, qdcount=1, ancount=1, nscount=0, arcount=0, qd=DNSQR(qname=\"www.github.com\", qtype=\"A\", qclass=\"IN\"), an=DNSRR(rrname=\"www.github.com\", type=\"A\", rclass=\"IN\", ttl=255, rdata=\"140.82.112.4\") )\n",
      "This is a conversation summary:\n",
      "Source: IP= \"198.51.100.1\" // Destination: IP= \"198.51.100.2\" // Others: id=0x1952 , resource= www.visa.es , response = \"23.46.53.158\"\n",
      "\n",
      "Generate python code for creating the packets in the conversation with scapy framework.Don´t give back any comments, just bare code.\n",
      "Use the following structure:\n",
      "RANDOM_PORT =...\n",
      "pkt_1=...\n",
      "time.sleep(abs(random.gauss(0, 0.03)))\n",
      "pkt_2=...\n",
      "\n",
      "...Generated!\n",
      "Number of completitions done: 18\n"
     ]
    }
   ],
   "source": [
    "i=0\n",
    "for i in range(math.ceil(len(Conv_summaries)*0.7), len(Conv_summaries)):\n",
    "   \n",
    "    summary = Conv_summaries[i]\n",
    "    \n",
    "    query1=query    \n",
    "    print(\"...........................................\")\n",
    "    print( \" GENERATING SCAPY COMMANDS FOR THE FOLLOWING CONVERSATIONS (iter \" +str(i+1) +\")\")\n",
    "    \n",
    "\n",
    "    ## Luego seleccionas aleatoriamente resumenes ya generados para pedirle que te saque el comando a partir del paquete\n",
    "    #summaries = random.choices(Conv_summary,k=summaries_per_request)\n",
    "    text_sum = \"\"\n",
    "    \n",
    "    query1 += \"This is a conversation summary:\\n\"\n",
    "    query1 += summary + \"\\n\"\n",
    "    text_sum += summary + \"\\n\"\n",
    "    query1 += \"\\nGenerate python code for creating the packets in the conversation with scapy framework.Don´t give back any comments, just bare code.\\n\"\n",
    "    query1 += \"Use the following structure:\\n\"\n",
    "    query1 += \"RANDOM_PORT =...\\n\"\n",
    "    query1 += \"pkt_1=...\\n\"\n",
    "    query1 += \"time.sleep(abs(random.gauss(0, 0.03)))\\n\"\n",
    "    query1 += \"pkt_2=...\\n\"\n",
    "    \n",
    "    #Query es el mensaje que le envias al modelo\n",
    "    print(query1)\n",
    "\n",
    "    #Esta es la petición que le mandas al modelo de IA\n",
    "    completion = openai.completions.create(\n",
    "        model=\"gpt-3.5-turbo-instruct\", \n",
    "        prompt=query1,\n",
    "        max_tokens=2600,\n",
    "        temperature=0.1)\n",
    "\n",
    "    \n",
    "    print(\"...Generated!\")\n",
    "    \n",
    "    # Guardamos tanto el resumen de los paquetes que solicitamos y lo que devuelve el modelo para estos paquetes\n",
    "    responses.append(response(text_sum, completion))\n",
    "    \n",
    "    # Guardamos tanto la petición como la respuesta en un archivo\n",
    "    pickle.dump(responses, open( \"../../data/Conversations/DNS/pickle/DNS_validation_v2_pairs_Aday.pkl\", \"wb\" ) )\n",
    "    \n",
    "    exec(responses[-1].completion.choices[0].text)\n",
    "    \n",
    "    with open(\"../../data/Conversations/DNS/pcap/DNS_v3_generated_3_5_turbo-instruct_conv.pcap\", \"ba+\") as f:\n",
    "        wrpcap(f, pkt_1, append=True)\n",
    "    \n",
    "    with open(\"../../data/Conversations/DNS/pcap/DNS_v3_generated_3_5_turbo-instruct_conv.pcap\", \"ba+\") as f:\n",
    "        wrpcap(f, pkt_2, append=True)\n",
    "    \n",
    "    print(\"Number of completitions done: \" + str(len(responses)))"
   ]
  },
  {
   "cell_type": "code",
   "execution_count": 48,
   "id": "42c35a85-6059-45c6-8b18-8efacc17dee9",
   "metadata": {
    "tags": []
   },
   "outputs": [
    {
     "name": "stdout",
     "output_type": "stream",
     "text": [
      "Source: IP=\"192.168.1.254\" // Destination: IP=\"192.168.1.253\" // Others: id=0x2384 , resource= www.amazon.com , response = \"176.32.103.205\"\n",
      "\n",
      "\n",
      "pkt_list = []\n",
      "\n",
      "# Request packet\n",
      "pkt_list.append(IP(src=\"192.168.1.254\", dst=\"192.168.1.253\", proto=17)/UDP(sport=12345, dport=53)/DNS(id=0x2384, qr=0, rd=1, opcode=0, qdcount=1, ancount=0, nscount=0, arcount=0, qd=DNSQR(qname=\"www.amazon.com\", qtype=\"A\", qclass=\"IN\")))\n",
      "\n",
      "# Response packet\n",
      "pkt_list.append(IP(src=\"176.32.103.205\", dst=\"192.168.1.254\", proto=17)/UDP(sport=53, dport=12345)/DNS(id=0x2384, qr=1, opcode=0, ra=1, rcode=0, qdcount=1, ancount=1, nscount=0, arcount=0, qd=DNSQR(qname=\"www.amazon.com\", qtype=\"A\", qclass=\"IN\"), an=DNSRR(rrname=\"www.amazon.com\", type=\"A\", rclass=\"IN\", ttl=255, rdata=\"176.32.103.205\"))\n"
     ]
    }
   ],
   "source": [
    "# Este es el resumen de lo que está en el struct de responses para la última petición\n",
    "print(responses[-1].prompt_summary)\n",
    "print(responses[-1].completion.choices[0].text)"
   ]
  },
  {
   "cell_type": "code",
   "execution_count": 62,
   "id": "0306c49a-3225-4cde-978a-d4d1148e09ca",
   "metadata": {
    "tags": []
   },
   "outputs": [
    {
     "name": "stdout",
     "output_type": "stream",
     "text": [
      "Completion(id='cmpl-92FB5D7MemVeJpZlaomyjw2L6FG9x', choices=[CompletionChoice(finish_reason='stop', index=0, logprobs=None, text='\\n\\nimport scapy.all as scapy\\n\\n# Generate random MAC address for the responding end\\nimport random\\nmac = [random.randint(0x00, 0xff) for i in range(6)]\\nmac[0] |= 0x02\\nmac = \":\".join([\"%02x\" % x for x in mac])\\n\\n# Create request packet\\nrequest_pkt = scapy.Ether(src=\"f3:a4:b5:c6:d7:e8\", dst=\"FF:FF:FF:FF:FF:FF\")/scapy.ARP(op=1, pdst=\"172.16.3.20\", psrc=\"172.16.3.10\", hwdst=\"00:00:00:00:00:00\", hwsrc=\"f3:a4:b5:c6:d7:e8\")\\n\\n# Create reply packet\\nreply_pkt = scapy.Ether(src=mac, dst=\"f3:a4:b5:c6:d7:e8\")/scapy.ARP(op=2, psrc=\"172.16.3.20\", hwsrc=mac, hwdst=\"f3:a4:b5:c6:d7:e8\", pdst=\"172.16.3.10\")\\n\\n# Add packets to list\\npkt_list = [request_pkt, reply_pkt]')], created=1710322027, model='gpt-3.5-turbo-instruct', object='text_completion', system_fingerprint=None, usage=CompletionUsage(completion_tokens=274, prompt_tokens=455, total_tokens=729))\n"
     ]
    }
   ],
   "source": [
    "#Esta es la forma que tiene una respuesta del modelo de IA\n",
    "print(responses[-1].completion)"
   ]
  },
  {
   "cell_type": "markdown",
   "id": "64e521bb-cbe0-4aa7-9e0b-a55dca59df14",
   "metadata": {},
   "source": [
    "### Generación de paquetes"
   ]
  },
  {
   "cell_type": "code",
   "execution_count": 65,
   "id": "e2fe83bd-c209-441e-aa8a-bf6fe2be7b01",
   "metadata": {
    "tags": []
   },
   "outputs": [
    {
     "name": "stdout",
     "output_type": "stream",
     "text": [
      "[<Ether  dst=FF:FF:FF:FF:FF:FF src=f3:a4:b5:c6:d7:e8 type=ARP |<ARP  op=who-has hwsrc=f3:a4:b5:c6:d7:e8 psrc=172.16.3.10 hwdst=00:00:00:00:00:00 pdst=172.16.3.20 |>>, <Ether  dst=f3:a4:b5:c6:d7:e8 src=e7:44:42:a0:65:a0 type=ARP |<ARP  op=is-at hwsrc=e7:44:42:a0:65:a0 psrc=172.16.3.20 hwdst=f3:a4:b5:c6:d7:e8 pdst=172.16.3.10 |>>]\n"
     ]
    }
   ],
   "source": [
    "# Ejecutamos los comandos que devuelve el modelo para generar los paquetes\n",
    "exec(responses[-1].completion.choices[0].text)\n",
    "print(pkt_list)"
   ]
  },
  {
   "cell_type": "code",
   "execution_count": 67,
   "id": "9623679c-2d22-486f-8f04-92332b2d2e33",
   "metadata": {
    "tags": []
   },
   "outputs": [
    {
     "name": "stdout",
     "output_type": "stream",
     "text": [
      "\n",
      "Sent 2 packets.\n"
     ]
    }
   ],
   "source": [
    "#Enviarlos para probar si se envian correctamente\n",
    "send(pkt_list)"
   ]
  },
  {
   "cell_type": "markdown",
   "id": "25498e41-faed-4d13-a300-c54e7f25a3ca",
   "metadata": {},
   "source": [
    "### Introducción en un pcap"
   ]
  },
  {
   "cell_type": "code",
   "execution_count": 50,
   "id": "25ff424a-9fcd-4110-aa77-ad33ec1fb5da",
   "metadata": {
    "tags": []
   },
   "outputs": [],
   "source": [
    "pkt_list = []\n",
    "\n",
    "# Request packet\n",
    "pkt_list.append(IP(src=\"192.168.1.254\", dst=\"192.168.1.253\", proto=17)/UDP(sport=12345, dport=53)/DNS(id=0x2384, qr=0, rd=1, opcode=0, qdcount=1, ancount=0, nscount=0, arcount=0, qd=DNSQR(qname=\"www.amazon.com\", qtype=\"A\", qclass=\"IN\")))\n",
    "\n",
    "# Response packet\n",
    "pkt_list.append(IP(src=\"176.32.103.205\", dst=\"192.168.1.254\", proto=17)/UDP(sport=53, dport=12345)/DNS(id=0x2384, qr=1, opcode=0, ra=1, rcode=0, qdcount=1, ancount=1, nscount=0, arcount=0, qd=DNSQR(qname=\"www.amazon.com\", qtype=\"A\", qclass=\"IN\"), an=DNSRR(rrname=\"www.amazon.com\", type=\"A\", rclass=\"IN\", ttl=255, rdata=\"176.32.103.205\")))"
   ]
  },
  {
   "cell_type": "code",
   "execution_count": 54,
   "id": "2495a1e4-b217-42f6-a26c-bcab492c911a",
   "metadata": {
    "tags": []
   },
   "outputs": [],
   "source": [
    "# Guardamos los paquetes generados en un pcap\n",
    "with open(\"../../data/Conversations/DNS/pcap/DNSgenerated_3_5_turbo-instruct_conv.pcap\", \"ba+\") as f:\n",
    "    wrpcap(f, pkt_list, append=True)"
   ]
  },
  {
   "cell_type": "code",
   "execution_count": null,
   "id": "15ac9815-fc6b-4cb7-b679-44d084d5fc61",
   "metadata": {},
   "outputs": [],
   "source": []
  }
 ],
 "metadata": {
  "kernelspec": {
   "display_name": "Python 3 (ipykernel)",
   "language": "python",
   "name": "python3"
  },
  "language_info": {
   "codemirror_mode": {
    "name": "ipython",
    "version": 3
   },
   "file_extension": ".py",
   "mimetype": "text/x-python",
   "name": "python",
   "nbconvert_exporter": "python",
   "pygments_lexer": "ipython3",
   "version": "3.11.7"
  }
 },
 "nbformat": 4,
 "nbformat_minor": 5
}
