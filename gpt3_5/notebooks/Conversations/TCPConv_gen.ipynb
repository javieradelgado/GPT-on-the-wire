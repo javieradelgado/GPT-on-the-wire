{
 "cells": [
  {
   "cell_type": "markdown",
   "id": "98857f5a-567a-4941-996a-019e0ba694f4",
   "metadata": {},
   "source": [
    "# Creación de conversaciones TCP"
   ]
  },
  {
   "cell_type": "markdown",
   "id": "833d122f-03c1-4db6-9953-5864d8f68b9e",
   "metadata": {
    "tags": []
   },
   "source": [
    "### Descripción: \n",
    "Con este código se va a intentar crear todos los pasos de una conversación TCP, mediante IA generativa. Se pretende pasar una descripción de esta conversación al modelo y que este sea capaz de crear todos los pasos/paquetes necesarios para replicar una conversación con esas mismas especificaciones"
   ]
  },
  {
   "cell_type": "code",
   "execution_count": 4,
   "id": "af19945d-5027-48fa-a906-7efdf0b93876",
   "metadata": {
    "tags": []
   },
   "outputs": [
    {
     "name": "stderr",
     "output_type": "stream",
     "text": [
      "C:\\Users\\adayd\\anaconda3\\envs\\PAC-GPT\\Lib\\site-packages\\scapy\\layers\\ipsec.py:469: CryptographyDeprecationWarning: Blowfish has been deprecated\n",
      "  cipher=algorithms.Blowfish,\n",
      "C:\\Users\\adayd\\anaconda3\\envs\\PAC-GPT\\Lib\\site-packages\\scapy\\layers\\ipsec.py:483: CryptographyDeprecationWarning: CAST5 has been deprecated\n",
      "  cipher=algorithms.CAST5,\n"
     ]
    },
    {
     "data": {
      "text/plain": [
       "'1.10.0'"
      ]
     },
     "execution_count": 4,
     "metadata": {},
     "output_type": "execute_result"
    }
   ],
   "source": [
    "import random\n",
    "import re\n",
    "import pickle\n",
    "\n",
    "import openai\n",
    "openai.api_key = \"FILL\"\n",
    "\n",
    "from scapy.all import *\n",
    "from scapy.utils import RawPcapReader, wrpcap\n",
    "import scapy.all as scapy\n",
    "\n",
    "from scapy.layers.l2 import Ether, ARP\n",
    "from scapy.layers.inet import IP, TCP, ICMP\n",
    "\n",
    "openai.__version__"
   ]
  },
  {
   "cell_type": "markdown",
   "id": "966c530c-db4b-4638-920b-2bdbf500b2d1",
   "metadata": {},
   "source": [
    "## Generación de la descipción de una comunicación TCP"
   ]
  },
  {
   "cell_type": "markdown",
   "id": "c2022cfe-d5b3-4f83-a64d-c828d9053c45",
   "metadata": {
    "tags": []
   },
   "source": [
    "<center><img src=\"https://notes.shichao.io/tcpv1/figure_13-1.png\">\n",
    "    \n",
    "<center> Esta imagen es genérica, se intentará crear tanto la parte de hanshake como la terminación de la conversación en una primera aproximación.\n"
   ]
  },
  {
   "cell_type": "code",
   "execution_count": 8,
   "id": "42c7d91e-37a8-49e9-8c56-2b075754e0aa",
   "metadata": {},
   "outputs": [],
   "source": [
    "query1 = \"This is a IPv4 TCP conversation summary:\\n\"\n",
    "query1 += 'Source: IP=\"193.24.227.230\", port=40301, Window: 4128 // Destination: IP=\"9.9.9.9\", port=53, Window: 256// Others: \\n\\n'\n",
    "\n",
    "query1 += \"This is the python code to generate the 3 way hanshake packets of the conversation, respectively:\\n\"\n",
    "query1 += 'scapy.IP(src=\"193.24.227.230\", dst=\"9.9.9.9\")/scapy.TCP(sport=40301, dport=53, flags=\"S\", seq=x, window=4128)\\n'\n",
    "query1 += 'scapy.IP(src=\"9.9.9.9\", dst=\"193.24.227.230\")/scapy.TCP(sport=53, dport=40301, flags=\"SA\", seq=x+1, ack=y, window=256)\\n'\n",
    "query1 += 'scapy.IP(src=\"193.24.227.230\", dst=\"9.9.9.9\")/scapy.TCP(sport=40301, dport=53, flags=\"SA\", seq=y+1, ack=x+1, window=4128)\\n\\n'\n",
    "\n",
    "query1 += \"This part between the handshake and the teardown must be filled with bidirectional realistic TCP traffic, here is an example of these packets:\\n\"\n",
    "query1 += 'scapy.IP(src=\"193.24.227.230\", dst=\"9.9.9.9\")/scapy.TCP(sport=40301, dport=53, flags=\"PA\", seq=y+1, ack=x+1, window=8192)/payload1\\n'\n",
    "query1 += 'scapy.IP(src=\"9.9.9.9\", dst=\"193.24.227.230\")/scapy.TCP(sport=53, dport=40301, flags=\"PA\", seq=x+1, ack=x+payload1(B)+1, window=16384)/payload2\\n'\n",
    "query1 += 'scapy.IP(src\"193.24.227.230\", dst=\"9.9.9.9\")/scapy.TCP(sport=40301, dport=53, flags=\"PA\", seq=x+payload1(B)+1, ack=x+payload2(B)+1, window=8192)/payload3\\n'\n",
    "query1 += 'scapy.IP(src=\"9.9.9.9\", dst=\"193.24.227.230\")/scapy.TCP(sport=53, dport=40301, flags=\"PA\", seq=x+payload2(B)+1, ack=x+payload3(B)+1, window=16384)/payload4\\n\\n'\n",
    "\n",
    "query1 += \"This is the python code to generate the TCP teardown packets of the conversation, respectively:\\n\"\n",
    "query1 += 'scapy.IP(src=\"193.24.227.230\", dst=\"9.9.9.9\")/scapy.TCP(sport=40301, dport=53, flags=\"FA\", seq=K, ack=L window=4128)\\n'\n",
    "query1 += 'scapy.IP(src=\"9.9.9.9\", dst=\"193.24.227.230\")/scapy.TCP(sport=53, dport=40301, flags=\"A\", seq=L, ack=K+1, window=256)\\n'\n",
    "query1 += 'scapy.IP(src=\"9.9.9.9\", dst=\"193.24.227.230\")/scapy.TCP(sport=53, dport=40301, flags=\"FA\", seq=L, ack=K+1, window=256)\\n'\n",
    "query1 += 'scapy.IP(src=\"193.24.227.230\", dst=\"9.9.9.9\")/scapy.TCP(sport=40301, dport=53, flags=\"A\", seq=K, ack=L+1 window=4128)\\n\\n'\n",
    "\n",
    "query1 += 'Substitute variables x, y with random numbers but they must be the same along the conversation\\n'\n",
    "query1 += 'Variables K and L are critical and must be continuous with seq and ack numbers before them\\n'\n",
    "query1 += 'Create commands for bidirectional realistic TCP packets for a connection between the handshake and the teardown (random number of packets between 5 and 10 for this part), this packets must have payload\\n\\n'\n",
    "\n",
    "query1 += 'Pay special attention to the sequence and ack numbers so they make sense for a TCP conversation. The must be continuous throgh the conversation. Here you have a little explanation of how they work:\\n'\n",
    "query1 += 'The Sequence Number (SEQ) marks the starting byte of each segment sent. It increments by the number of bytes in the payload of each outgoing segment, reflecting the continuous flow of data.\\n'\n",
    "query1 += 'The Acknowledgment Number (ACK) acknowledges the receipt of data. It corresponds to the next expected byte the receiver anticipates from the sender. As segments arrive at the receiver, the ACK number adjusts to reflect the highest contiguous sequence number received.\\n'\n",
    "query1 += 'So, SEQ numbers increase with outgoing data, while ACK numbers advance with incoming acknowledgments, ensuring synchronized data exchange in a TCP connection.\\n\\n'\n",
    "\n",
    "query1 += \"Take your time (few seconds) to generate the commands and compare your proposed solution with real TCP functioning, if anything is different, change it in order to do as real TCP\\n\\n\""
   ]
  },
  {
   "cell_type": "markdown",
   "id": "42b6a1d3-3645-4f96-9aef-2f47afbb2f43",
   "metadata": {},
   "source": [
    "## Carga de posibles conversaciones"
   ]
  },
  {
   "cell_type": "code",
   "execution_count": 60,
   "id": "4bf501e4-7aa3-405f-bacd-3531b83e585b",
   "metadata": {
    "tags": []
   },
   "outputs": [],
   "source": [
    "with open(\"../../data/Conversations/TCP/Conv_summaries.txt\",\"r\",encoding=\"utf8\") as f:\n",
    "    Conv_summary = f.read().splitlines()"
   ]
  },
  {
   "cell_type": "markdown",
   "id": "9e216e1b-854d-4604-9c76-38593c60809f",
   "metadata": {},
   "source": [
    "### Carga de posibles conversaciones anteriores para concatenarlas"
   ]
  },
  {
   "cell_type": "code",
   "execution_count": 63,
   "id": "2bc08d0e-16e4-4943-8ddd-fd72e52afcd5",
   "metadata": {
    "tags": []
   },
   "outputs": [],
   "source": [
    "class response():\n",
    "    \"Stores name and place pairs\"\n",
    "    def __init__(self, name, place):\n",
    "        self.prompt_summary = name\n",
    "        self.completion = place"
   ]
  },
  {
   "cell_type": "code",
   "execution_count": 65,
   "id": "d3f2282b-e2e1-4753-9b2e-312676f20d2b",
   "metadata": {
    "tags": []
   },
   "outputs": [],
   "source": [
    "try:\n",
    "    responses = pickle.load( open(\"../../data/Conversations/TCP/pickle/TCP_pairs_Aday.pkl\", \"rb\" ))\n",
    "except:\n",
    "    responses = []"
   ]
  },
  {
   "cell_type": "markdown",
   "id": "4de1f79a-ab55-452f-a43e-052930c04968",
   "metadata": {},
   "source": [
    "## Generación de comandos de paquetes conversaciones TCP"
   ]
  },
  {
   "cell_type": "code",
   "execution_count": 68,
   "id": "9d093b9c-3e06-4e66-aa8e-478b68372d7a",
   "metadata": {
    "tags": []
   },
   "outputs": [],
   "source": [
    "summaries_per_request = 1 # por que normalmente solo querremos generar una conversación"
   ]
  },
  {
   "cell_type": "code",
   "execution_count": 82,
   "id": "14da1bd3-70c8-4cc0-b889-3894c4c67486",
   "metadata": {
    "tags": []
   },
   "outputs": [
    {
     "name": "stdout",
     "output_type": "stream",
     "text": [
      "...........................................\n",
      " GENERATING SCAPY COMMANDS FOR THE FOLLOWING CONVERSATIONS (iter 1)\n",
      "This is a IPv4 TCP conversation summary:\n",
      "Source: IP=\"193.24.227.230\", port=40301, Window: 4128 // Destination: IP=\"9.9.9.9\", port=53, Window: 256// Others: \n",
      "\n",
      "This is the python code to generate the 3 way hanshake packets of the conversation, respectively:\n",
      "scapy.IP(src=\"193.24.227.230\", dst=\"9.9.9.9\")/scapy.TCP(sport=40301, dport=53, flags=\"S\", seq=x, window=4128)\n",
      "scapy.IP(src=\"9.9.9.9\", dst=\"193.24.227.230\")/scapy.TCP(sport=53, dport=40301, flags=\"SA\", seq=x+1, ack=y, window=256)\n",
      "scapy.IP(src=\"193.24.227.230\", dst=\"9.9.9.9\")/scapy.TCP(sport=40301, dport=53, flags=\"SA\", seq=y+1, ack=x+1, window=4128)\n",
      "\n",
      "This part between the handshake and the teardown must be filled with bidirectional realistic TCP traffic, here is an example of these packets:\n",
      "scapy.IP(src=\"193.24.227.230\", dst=\"9.9.9.9\")/scapy.TCP(sport=40301, dport=53, flags=\"PA\", seq=y+1, ack=x+1, window=8192)/payload1\n",
      "scapy.IP(src=\"9.9.9.9\", dst=\"193.24.227.230\")/scapy.TCP(sport=53, dport=40301, flags=\"PA\", seq=x+1, ack=x+payload1(B)+1, window=16384)/payload2\n",
      "scapy.IP(src\"193.24.227.230\", dst=\"9.9.9.9\")/scapy.TCP(sport=40301, dport=53, flags=\"PA\", seq=x+payload1(B)+1, ack=x+payload2(B)+1, window=8192)/payload3\n",
      "scapy.IP(src=\"9.9.9.9\", dst=\"193.24.227.230\")/scapy.TCP(sport=53, dport=40301, flags=\"PA\", seq=x+payload2(B)+1, ack=x+payload3(B)+1, window=16384)/payload4\n",
      "\n",
      "This is the python code to generate the TCP teardown packets of the conversation, respectively:\n",
      "scapy.IP(src=\"193.24.227.230\", dst=\"9.9.9.9\")/scapy.TCP(sport=40301, dport=53, flags=\"FA\", seq=K, ack=L window=4128)\n",
      "scapy.IP(src=\"9.9.9.9\", dst=\"193.24.227.230\")/scapy.TCP(sport=53, dport=40301, flags=\"A\", seq=L, ack=K+1, window=256)\n",
      "scapy.IP(src=\"9.9.9.9\", dst=\"193.24.227.230\")/scapy.TCP(sport=53, dport=40301, flags=\"FA\", seq=L, ack=K+1, window=256)\n",
      "scapy.IP(src=\"193.24.227.230\", dst=\"9.9.9.9\")/scapy.TCP(sport=40301, dport=53, flags=\"A\", seq=K, ack=L+1 window=4128)\n",
      "\n",
      "Substitute variables x, y with random numbers but they must be the same along the conversation\n",
      "Variables K and L are critical and must be continuous with seq and ack numbers before them\n",
      "Create commands for bidirectional realistic TCP packets for a connection between the handshake and the teardown (random number of packets between 5 and 10 for this part), this packets must have payload\n",
      "\n",
      "Pay special attention to the sequence and ack numbers so they make sense for a TCP conversation. The must be continuous throgh the conversation. Here you have a little explanation of how they work:\n",
      "The Sequence Number (SEQ) marks the starting byte of each segment sent. It increments by the number of bytes in the payload of each outgoing segment, reflecting the continuous flow of data.\n",
      "The Acknowledgment Number (ACK) acknowledges the receipt of data. It corresponds to the next expected byte the receiver anticipates from the sender. As segments arrive at the receiver, the ACK number adjusts to reflect the highest contiguous sequence number received.\n",
      "So, SEQ numbers increase with outgoing data, while ACK numbers advance with incoming acknowledgments, ensuring synchronized data exchange in a TCP connection.\n",
      "\n",
      "Take your time (few seconds) to generate the commands and compare your proposed solution with real TCP functioning, if anything is different, change it in order to do as real TCP\n",
      "\n",
      "This is a conversation summary:\n",
      "Source: IP=\"192.168.0.100\", port=8080, Window: 32768 // Destination: IP=\"192.168.0.101\", port=2359, Window: 65536 // Others: \n",
      "\n",
      "Generate python code for creating the packets in the conversation with scapy framework and put them all in a list named pkt_list.\n",
      "...Generated!\n",
      "Number of completitions done: 7\n"
     ]
    }
   ],
   "source": [
    "for i in range(1):\n",
    "    query=query1\n",
    "    print(\"...........................................\")\n",
    "    print( \" GENERATING SCAPY COMMANDS FOR THE FOLLOWING CONVERSATIONS (iter \" +str(i+1) +\")\")\n",
    "    \n",
    "\n",
    "    ## Luego seleccionas aleatoriamente resumenes ya generados para pedirle que te saque el comando a partir del paquete\n",
    "    summaries = random.choices(Conv_summary,k=summaries_per_request)\n",
    "    text_sum = \"\"\n",
    "    \n",
    "    for summary in summaries:\n",
    "        query += \"This is a conversation summary:\\n\"\n",
    "        query += summary + \"\\n\"\n",
    "        text_sum += summary + \"\\n\"\n",
    "        query += \"\\nGenerate python code for creating the packets in the conversation with scapy framework and put them all in a list named pkt_list.\"\n",
    "\n",
    "        #Query es el mensaje que le envias al modelo\n",
    "        print(query)\n",
    "\n",
    "        #Esta es la petición que le mandas al modelo de IA\n",
    "        completion = openai.completions.create(\n",
    "            model=\"gpt-3.5-turbo-instruct\", \n",
    "            prompt=query,\n",
    "            max_tokens=2600,\n",
    "            temperature=0.1)\n",
    "\n",
    "    \n",
    "    print(\"...Generated!\")\n",
    "    \n",
    "    # Guardamos tanto el resumen de los paquetes que solicitamos y lo que devuelve el modelo para estos paquetes\n",
    "    responses.append(response(text_sum, completion))\n",
    "    \n",
    "    # Guardamos tanto la petición como la respuesta en un archivo\n",
    "    pickle.dump(responses, open( \"../../data/Conversations/TCP/pickle/TCP_pairs_Aday.pkl\", \"wb\" ) )\n",
    "    \n",
    "    print(\"Number of completitions done: \" + str(len(responses)))"
   ]
  },
  {
   "cell_type": "code",
   "execution_count": 84,
   "id": "028d4d32-86ae-4ba6-afc7-62dd15a99ce4",
   "metadata": {
    "tags": []
   },
   "outputs": [
    {
     "name": "stdout",
     "output_type": "stream",
     "text": [
      "Source: IP=\"192.168.0.100\", port=8080, Window: 32768 // Destination: IP=\"192.168.0.101\", port=2359, Window: 65536 // Others: \n",
      "\n",
      "\n",
      "\n",
      "import scapy.all as scapy\n",
      "\n",
      "# Generate the 3-way handshake packets\n",
      "pkt1 = scapy.IP(src=\"192.168.0.100\", dst=\"192.168.0.101\")/scapy.TCP(sport=8080, dport=2359, flags=\"S\", seq=1000, window=32768)\n",
      "pkt2 = scapy.IP(src=\"192.168.0.101\", dst=\"192.168.0.100\")/scapy.TCP(sport=2359, dport=8080, flags=\"SA\", seq=2000, ack=1001, window=65536)\n",
      "pkt3 = scapy.IP(src=\"192.168.0.100\", dst=\"192.168.0.101\")/scapy.TCP(sport=8080, dport=2359, flags=\"A\", seq=1001, ack=2001, window=32768)\n",
      "\n",
      "# Generate bidirectional realistic TCP packets\n",
      "payload1 = \"This is the first payload\"\n",
      "payload2 = \"This is the second payload\"\n",
      "payload3 = \"This is the third payload\"\n",
      "payload4 = \"This is the fourth payload\"\n",
      "payload5 = \"This is the fifth payload\"\n",
      "\n",
      "pkt4 = scapy.IP(src=\"192.168.0.100\", dst=\"192.168.0.101\")/scapy.TCP(sport=8080, dport=2359, flags=\"PA\", seq=1001, ack=2001, window=32768)/payload1\n",
      "pkt5 = scapy.IP(src=\"192.168.0.101\", dst=\"192.168.0.100\")/scapy.TCP(sport=2359, dport=8080, flags=\"PA\", seq=2001, ack=1001+len(payload1), window=65536)/payload2\n",
      "pkt6 = scapy.IP(src=\"192.168.0.100\", dst=\"192.168.0.101\")/scapy.TCP(sport=8080, dport=2359, flags=\"PA\", seq=1001+len(payload1), ack=2001+len(payload2), window=32768)/payload3\n",
      "pkt7 = scapy.IP(src=\"192.168.0.101\", dst=\"192.168.0.100\")/scapy.TCP(sport=2359, dport=8080, flags=\"PA\", seq=2001+len(payload2), ack=1001+len(payload1)+len(payload3), window=65536)/payload4\n",
      "pkt8 = scapy.IP(src=\"192.168.0.100\", dst=\"192.168.0.101\")/scapy.TCP(sport=8080, dport=2359, flags=\"PA\", seq=1001+len(payload1)+len(payload3), ack=2001+len(payload2)+len(payload4), window=32768)/payload5\n",
      "\n",
      "# Generate the teardown packets\n",
      "pkt9 = scapy.IP(src=\"192.168.0.100\", dst=\"192.168.0.101\")/scapy.TCP(sport=8080, dport=2359, flags=\"FA\", seq=1001+len(payload1)+len(payload3)+len(payload5), ack=2001+len(payload2)+len(payload4), window=32768)\n",
      "pkt10 = scapy.IP(src=\"192.168.0.101\", dst=\"192.168.0.100\")/scapy.TCP(sport=2359, dport=8080, flags=\"A\", seq=2001+len(payload2)+len(payload4), ack=1001+len(payload1)+len(payload3)+len(payload5), window=65536)\n",
      "pkt11 = scapy.IP(src=\"192.168.0.101\", dst=\"192.168.0.100\")/scapy.TCP(sport=2359, dport=8080, flags=\"FA\", seq=2001+len(payload2)+len(payload4), ack=1001+len(payload1)+len(payload3)+len(payload5), window=65536)\n",
      "pkt12 = scapy.IP(src=\"192.168.0.100\", dst=\"192.168.0.101\")/scapy.TCP(sport=8080, dport=2359, flags=\"A\", seq=1001+len(payload1)+len(payload3)+len(payload5), ack=2001+len(payload2)+len(payload4), window=32768)\n",
      "\n",
      "# Add all packets to a list\n",
      "pkt_list = [pkt1, pkt2, pkt3, pkt4, pkt5, pkt6, pkt7, pkt8, pkt9, pkt10, pkt11, pkt12]\n"
     ]
    }
   ],
   "source": [
    "# Este es el resumen de lo que está en el struct de responses para la última petición\n",
    "print(responses[-1].prompt_summary)\n",
    "print(responses[-1].completion.choices[0].text)"
   ]
  },
  {
   "cell_type": "markdown",
   "id": "bd91e117-b3bc-4376-8a9d-22f0dea30dd1",
   "metadata": {},
   "source": [
    "### Generación de paquetes"
   ]
  },
  {
   "cell_type": "code",
   "execution_count": 87,
   "id": "eb871940-bec1-409c-af35-05685d61196c",
   "metadata": {
    "tags": []
   },
   "outputs": [
    {
     "name": "stdout",
     "output_type": "stream",
     "text": [
      "[<IP  frag=0 proto=tcp src=192.168.0.100 dst=192.168.0.101 |<TCP  sport=8080 dport=2359 seq=1000 flags=S window=32768 |>>, <IP  frag=0 proto=tcp src=192.168.0.101 dst=192.168.0.100 |<TCP  sport=2359 dport=8080 seq=2000 ack=1001 flags=SA window=65536 |>>, <IP  frag=0 proto=tcp src=192.168.0.100 dst=192.168.0.101 |<TCP  sport=8080 dport=2359 seq=1001 ack=2001 flags=A window=32768 |>>, <IP  frag=0 proto=tcp src=192.168.0.100 dst=192.168.0.101 |<TCP  sport=8080 dport=2359 seq=1001 ack=2001 flags=PA window=32768 |<Raw  load='This is the first payload' |>>>, <IP  frag=0 proto=tcp src=192.168.0.101 dst=192.168.0.100 |<TCP  sport=2359 dport=8080 seq=2001 ack=1026 flags=PA window=65536 |<Raw  load='This is the second payload' |>>>, <IP  frag=0 proto=tcp src=192.168.0.100 dst=192.168.0.101 |<TCP  sport=8080 dport=2359 seq=1026 ack=2027 flags=PA window=32768 |<Raw  load='This is the third payload' |>>>, <IP  frag=0 proto=tcp src=192.168.0.101 dst=192.168.0.100 |<TCP  sport=2359 dport=8080 seq=2027 ack=1051 flags=PA window=65536 |<Raw  load='This is the fourth payload' |>>>, <IP  frag=0 proto=tcp src=192.168.0.100 dst=192.168.0.101 |<TCP  sport=8080 dport=2359 seq=1051 ack=2053 flags=PA window=32768 |<Raw  load='This is the fifth payload' |>>>, <IP  frag=0 proto=tcp src=192.168.0.100 dst=192.168.0.101 |<TCP  sport=8080 dport=2359 seq=1076 ack=2053 flags=FA window=32768 |>>, <IP  frag=0 proto=tcp src=192.168.0.101 dst=192.168.0.100 |<TCP  sport=2359 dport=8080 seq=2053 ack=1076 flags=A window=65536 |>>, <IP  frag=0 proto=tcp src=192.168.0.101 dst=192.168.0.100 |<TCP  sport=2359 dport=8080 seq=2053 ack=1076 flags=FA window=65536 |>>, <IP  frag=0 proto=tcp src=192.168.0.100 dst=192.168.0.101 |<TCP  sport=8080 dport=2359 seq=1076 ack=2053 flags=A window=32768 |>>]\n"
     ]
    }
   ],
   "source": [
    "# Ejecutamos los comandos que devuelve el modelo para generar los paquetes\n",
    "exec(responses[-1].completion.choices[0].text)\n",
    "print(pkt_list)"
   ]
  },
  {
   "cell_type": "code",
   "execution_count": 89,
   "id": "fd89a024-f51f-482a-9905-20db1ab19b6f",
   "metadata": {
    "tags": []
   },
   "outputs": [
    {
     "ename": "error",
     "evalue": "'H' format requires 0 <= number <= 65535",
     "output_type": "error",
     "traceback": [
      "\u001b[1;31m---------------------------------------------------------------------------\u001b[0m",
      "\u001b[1;31merror\u001b[0m                                     Traceback (most recent call last)",
      "Cell \u001b[1;32mIn[89], line 2\u001b[0m\n\u001b[0;32m      1\u001b[0m \u001b[38;5;66;03m#Enviarlos para probar si se envian correctamente\u001b[39;00m\n\u001b[1;32m----> 2\u001b[0m send(pkt_list)\n",
      "File \u001b[1;32m~\\anaconda3\\envs\\PAC-GPT\\Lib\\site-packages\\scapy\\sendrecv.py:317\u001b[0m, in \u001b[0;36msend\u001b[1;34m(x, inter, loop, count, verbose, realtime, return_packets, socket, *args, **kargs)\u001b[0m\n\u001b[0;32m    315\u001b[0m need_closing \u001b[38;5;241m=\u001b[39m socket \u001b[38;5;129;01mis\u001b[39;00m \u001b[38;5;28;01mNone\u001b[39;00m\n\u001b[0;32m    316\u001b[0m socket \u001b[38;5;241m=\u001b[39m socket \u001b[38;5;129;01mor\u001b[39;00m conf\u001b[38;5;241m.\u001b[39mL3socket(\u001b[38;5;241m*\u001b[39margs, \u001b[38;5;241m*\u001b[39m\u001b[38;5;241m*\u001b[39mkargs)\n\u001b[1;32m--> 317\u001b[0m results \u001b[38;5;241m=\u001b[39m __gen_send(socket, x, inter\u001b[38;5;241m=\u001b[39minter, loop\u001b[38;5;241m=\u001b[39mloop,\n\u001b[0;32m    318\u001b[0m                      count\u001b[38;5;241m=\u001b[39mcount, verbose\u001b[38;5;241m=\u001b[39mverbose,\n\u001b[0;32m    319\u001b[0m                      realtime\u001b[38;5;241m=\u001b[39mrealtime, return_packets\u001b[38;5;241m=\u001b[39mreturn_packets)\n\u001b[0;32m    320\u001b[0m \u001b[38;5;28;01mif\u001b[39;00m need_closing:\n\u001b[0;32m    321\u001b[0m     socket\u001b[38;5;241m.\u001b[39mclose()\n",
      "File \u001b[1;32m~\\anaconda3\\envs\\PAC-GPT\\Lib\\site-packages\\scapy\\sendrecv.py:291\u001b[0m, in \u001b[0;36m__gen_send\u001b[1;34m(s, x, inter, loop, count, verbose, realtime, return_packets, *args, **kargs)\u001b[0m\n\u001b[0;32m    289\u001b[0m     \u001b[38;5;28;01melse\u001b[39;00m:\n\u001b[0;32m    290\u001b[0m         dt0 \u001b[38;5;241m=\u001b[39m ct \u001b[38;5;241m-\u001b[39m p\u001b[38;5;241m.\u001b[39mtime\n\u001b[1;32m--> 291\u001b[0m s\u001b[38;5;241m.\u001b[39msend(p)\n\u001b[0;32m    292\u001b[0m \u001b[38;5;28;01mif\u001b[39;00m return_packets:\n\u001b[0;32m    293\u001b[0m     sent_packets\u001b[38;5;241m.\u001b[39mappend(p)\n",
      "File \u001b[1;32m~\\anaconda3\\envs\\PAC-GPT\\Lib\\site-packages\\scapy\\arch\\pcapdnet.py:364\u001b[0m, in \u001b[0;36mL3pcapSocket.send\u001b[1;34m(self, x)\u001b[0m\n\u001b[0;32m    362\u001b[0m     \u001b[38;5;28mcls\u001b[39m \u001b[38;5;241m=\u001b[39m conf\u001b[38;5;241m.\u001b[39mdefault_l2\n\u001b[0;32m    363\u001b[0m     warning(\u001b[38;5;124m\"\u001b[39m\u001b[38;5;124mUnable to guess datalink type (interface=\u001b[39m\u001b[38;5;132;01m%s\u001b[39;00m\u001b[38;5;124m linktype=\u001b[39m\u001b[38;5;132;01m%i\u001b[39;00m\u001b[38;5;124m). Using \u001b[39m\u001b[38;5;132;01m%s\u001b[39;00m\u001b[38;5;124m\"\u001b[39m, \u001b[38;5;28mself\u001b[39m\u001b[38;5;241m.\u001b[39miface, ll, \u001b[38;5;28mcls\u001b[39m\u001b[38;5;241m.\u001b[39mname)  \u001b[38;5;66;03m# noqa: E501\u001b[39;00m\n\u001b[1;32m--> 364\u001b[0m sx \u001b[38;5;241m=\u001b[39m raw(\u001b[38;5;28mcls\u001b[39m() \u001b[38;5;241m/\u001b[39m x)\n\u001b[0;32m    365\u001b[0m \u001b[38;5;28;01mif\u001b[39;00m \u001b[38;5;28mhasattr\u001b[39m(x, \u001b[38;5;124m\"\u001b[39m\u001b[38;5;124msent_time\u001b[39m\u001b[38;5;124m\"\u001b[39m):\n\u001b[0;32m    366\u001b[0m     x\u001b[38;5;241m.\u001b[39msent_time \u001b[38;5;241m=\u001b[39m time\u001b[38;5;241m.\u001b[39mtime()\n",
      "File \u001b[1;32m~\\anaconda3\\envs\\PAC-GPT\\Lib\\site-packages\\scapy\\compat.py:52\u001b[0m, in \u001b[0;36mraw\u001b[1;34m(x)\u001b[0m\n\u001b[0;32m     49\u001b[0m \u001b[38;5;28;01mdef\u001b[39;00m \u001b[38;5;21mraw\u001b[39m(x):\n\u001b[0;32m     50\u001b[0m \u001b[38;5;250m    \u001b[39m\u001b[38;5;124;03m\"\"\"Builds a packet and returns its bytes representation.\u001b[39;00m\n\u001b[0;32m     51\u001b[0m \u001b[38;5;124;03m    This function is and always be cross-version compatible\"\"\"\u001b[39;00m\n\u001b[1;32m---> 52\u001b[0m     \u001b[38;5;28;01mreturn\u001b[39;00m \u001b[38;5;28mbytes\u001b[39m(x)\n",
      "File \u001b[1;32m~\\anaconda3\\envs\\PAC-GPT\\Lib\\site-packages\\scapy\\packet.py:487\u001b[0m, in \u001b[0;36mPacket.__bytes__\u001b[1;34m(self)\u001b[0m\n\u001b[0;32m    486\u001b[0m \u001b[38;5;28;01mdef\u001b[39;00m \u001b[38;5;21m__bytes__\u001b[39m(\u001b[38;5;28mself\u001b[39m):\n\u001b[1;32m--> 487\u001b[0m     \u001b[38;5;28;01mreturn\u001b[39;00m \u001b[38;5;28mself\u001b[39m\u001b[38;5;241m.\u001b[39mbuild()\n",
      "File \u001b[1;32m~\\anaconda3\\envs\\PAC-GPT\\Lib\\site-packages\\scapy\\packet.py:607\u001b[0m, in \u001b[0;36mPacket.build\u001b[1;34m(self)\u001b[0m\n\u001b[0;32m    601\u001b[0m \u001b[38;5;28;01mdef\u001b[39;00m \u001b[38;5;21mbuild\u001b[39m(\u001b[38;5;28mself\u001b[39m):\n\u001b[0;32m    602\u001b[0m \u001b[38;5;250m    \u001b[39m\u001b[38;5;124;03m\"\"\"\u001b[39;00m\n\u001b[0;32m    603\u001b[0m \u001b[38;5;124;03m    Create the current layer\u001b[39;00m\n\u001b[0;32m    604\u001b[0m \n\u001b[0;32m    605\u001b[0m \u001b[38;5;124;03m    :return: string of the packet with the payload\u001b[39;00m\n\u001b[0;32m    606\u001b[0m \u001b[38;5;124;03m    \"\"\"\u001b[39;00m\n\u001b[1;32m--> 607\u001b[0m     p \u001b[38;5;241m=\u001b[39m \u001b[38;5;28mself\u001b[39m\u001b[38;5;241m.\u001b[39mdo_build()\n\u001b[0;32m    608\u001b[0m     p \u001b[38;5;241m+\u001b[39m\u001b[38;5;241m=\u001b[39m \u001b[38;5;28mself\u001b[39m\u001b[38;5;241m.\u001b[39mbuild_padding()\n\u001b[0;32m    609\u001b[0m     p \u001b[38;5;241m=\u001b[39m \u001b[38;5;28mself\u001b[39m\u001b[38;5;241m.\u001b[39mbuild_done(p)\n",
      "File \u001b[1;32m~\\anaconda3\\envs\\PAC-GPT\\Lib\\site-packages\\scapy\\packet.py:592\u001b[0m, in \u001b[0;36mPacket.do_build\u001b[1;34m(self)\u001b[0m\n\u001b[0;32m    590\u001b[0m \u001b[38;5;28;01mfor\u001b[39;00m t \u001b[38;5;129;01min\u001b[39;00m \u001b[38;5;28mself\u001b[39m\u001b[38;5;241m.\u001b[39mpost_transforms:\n\u001b[0;32m    591\u001b[0m     pkt \u001b[38;5;241m=\u001b[39m t(pkt)\n\u001b[1;32m--> 592\u001b[0m pay \u001b[38;5;241m=\u001b[39m \u001b[38;5;28mself\u001b[39m\u001b[38;5;241m.\u001b[39mdo_build_payload()\n\u001b[0;32m    593\u001b[0m \u001b[38;5;28;01mif\u001b[39;00m \u001b[38;5;28mself\u001b[39m\u001b[38;5;241m.\u001b[39mraw_packet_cache \u001b[38;5;129;01mis\u001b[39;00m \u001b[38;5;28;01mNone\u001b[39;00m:\n\u001b[0;32m    594\u001b[0m     \u001b[38;5;28;01mreturn\u001b[39;00m \u001b[38;5;28mself\u001b[39m\u001b[38;5;241m.\u001b[39mpost_build(pkt, pay)\n",
      "File \u001b[1;32m~\\anaconda3\\envs\\PAC-GPT\\Lib\\site-packages\\scapy\\packet.py:579\u001b[0m, in \u001b[0;36mPacket.do_build_payload\u001b[1;34m(self)\u001b[0m\n\u001b[0;32m    573\u001b[0m \u001b[38;5;28;01mdef\u001b[39;00m \u001b[38;5;21mdo_build_payload\u001b[39m(\u001b[38;5;28mself\u001b[39m):\n\u001b[0;32m    574\u001b[0m \u001b[38;5;250m    \u001b[39m\u001b[38;5;124;03m\"\"\"\u001b[39;00m\n\u001b[0;32m    575\u001b[0m \u001b[38;5;124;03m    Create the default version of the payload layer\u001b[39;00m\n\u001b[0;32m    576\u001b[0m \n\u001b[0;32m    577\u001b[0m \u001b[38;5;124;03m    :return: a string of payload layer\u001b[39;00m\n\u001b[0;32m    578\u001b[0m \u001b[38;5;124;03m    \"\"\"\u001b[39;00m\n\u001b[1;32m--> 579\u001b[0m     \u001b[38;5;28;01mreturn\u001b[39;00m \u001b[38;5;28mself\u001b[39m\u001b[38;5;241m.\u001b[39mpayload\u001b[38;5;241m.\u001b[39mdo_build()\n",
      "File \u001b[1;32m~\\anaconda3\\envs\\PAC-GPT\\Lib\\site-packages\\scapy\\packet.py:592\u001b[0m, in \u001b[0;36mPacket.do_build\u001b[1;34m(self)\u001b[0m\n\u001b[0;32m    590\u001b[0m \u001b[38;5;28;01mfor\u001b[39;00m t \u001b[38;5;129;01min\u001b[39;00m \u001b[38;5;28mself\u001b[39m\u001b[38;5;241m.\u001b[39mpost_transforms:\n\u001b[0;32m    591\u001b[0m     pkt \u001b[38;5;241m=\u001b[39m t(pkt)\n\u001b[1;32m--> 592\u001b[0m pay \u001b[38;5;241m=\u001b[39m \u001b[38;5;28mself\u001b[39m\u001b[38;5;241m.\u001b[39mdo_build_payload()\n\u001b[0;32m    593\u001b[0m \u001b[38;5;28;01mif\u001b[39;00m \u001b[38;5;28mself\u001b[39m\u001b[38;5;241m.\u001b[39mraw_packet_cache \u001b[38;5;129;01mis\u001b[39;00m \u001b[38;5;28;01mNone\u001b[39;00m:\n\u001b[0;32m    594\u001b[0m     \u001b[38;5;28;01mreturn\u001b[39;00m \u001b[38;5;28mself\u001b[39m\u001b[38;5;241m.\u001b[39mpost_build(pkt, pay)\n",
      "File \u001b[1;32m~\\anaconda3\\envs\\PAC-GPT\\Lib\\site-packages\\scapy\\packet.py:579\u001b[0m, in \u001b[0;36mPacket.do_build_payload\u001b[1;34m(self)\u001b[0m\n\u001b[0;32m    573\u001b[0m \u001b[38;5;28;01mdef\u001b[39;00m \u001b[38;5;21mdo_build_payload\u001b[39m(\u001b[38;5;28mself\u001b[39m):\n\u001b[0;32m    574\u001b[0m \u001b[38;5;250m    \u001b[39m\u001b[38;5;124;03m\"\"\"\u001b[39;00m\n\u001b[0;32m    575\u001b[0m \u001b[38;5;124;03m    Create the default version of the payload layer\u001b[39;00m\n\u001b[0;32m    576\u001b[0m \n\u001b[0;32m    577\u001b[0m \u001b[38;5;124;03m    :return: a string of payload layer\u001b[39;00m\n\u001b[0;32m    578\u001b[0m \u001b[38;5;124;03m    \"\"\"\u001b[39;00m\n\u001b[1;32m--> 579\u001b[0m     \u001b[38;5;28;01mreturn\u001b[39;00m \u001b[38;5;28mself\u001b[39m\u001b[38;5;241m.\u001b[39mpayload\u001b[38;5;241m.\u001b[39mdo_build()\n",
      "File \u001b[1;32m~\\anaconda3\\envs\\PAC-GPT\\Lib\\site-packages\\scapy\\packet.py:589\u001b[0m, in \u001b[0;36mPacket.do_build\u001b[1;34m(self)\u001b[0m\n\u001b[0;32m    587\u001b[0m \u001b[38;5;28;01mif\u001b[39;00m \u001b[38;5;129;01mnot\u001b[39;00m \u001b[38;5;28mself\u001b[39m\u001b[38;5;241m.\u001b[39mexplicit:\n\u001b[0;32m    588\u001b[0m     \u001b[38;5;28mself\u001b[39m \u001b[38;5;241m=\u001b[39m \u001b[38;5;28mnext\u001b[39m(\u001b[38;5;28miter\u001b[39m(\u001b[38;5;28mself\u001b[39m))\n\u001b[1;32m--> 589\u001b[0m pkt \u001b[38;5;241m=\u001b[39m \u001b[38;5;28mself\u001b[39m\u001b[38;5;241m.\u001b[39mself_build()\n\u001b[0;32m    590\u001b[0m \u001b[38;5;28;01mfor\u001b[39;00m t \u001b[38;5;129;01min\u001b[39;00m \u001b[38;5;28mself\u001b[39m\u001b[38;5;241m.\u001b[39mpost_transforms:\n\u001b[0;32m    591\u001b[0m     pkt \u001b[38;5;241m=\u001b[39m t(pkt)\n",
      "File \u001b[1;32m~\\anaconda3\\envs\\PAC-GPT\\Lib\\site-packages\\scapy\\packet.py:570\u001b[0m, in \u001b[0;36mPacket.self_build\u001b[1;34m(self, field_pos_list)\u001b[0m\n\u001b[0;32m    568\u001b[0m             field_pos_list\u001b[38;5;241m.\u001b[39mappend((f\u001b[38;5;241m.\u001b[39mname, sval\u001b[38;5;241m.\u001b[39mencode(\u001b[38;5;124m\"\u001b[39m\u001b[38;5;124mstring_escape\u001b[39m\u001b[38;5;124m\"\u001b[39m), \u001b[38;5;28mlen\u001b[39m(p), \u001b[38;5;28mlen\u001b[39m(sval)))  \u001b[38;5;66;03m# noqa: E501\u001b[39;00m\n\u001b[0;32m    569\u001b[0m     \u001b[38;5;28;01melse\u001b[39;00m:\n\u001b[1;32m--> 570\u001b[0m         p \u001b[38;5;241m=\u001b[39m f\u001b[38;5;241m.\u001b[39maddfield(\u001b[38;5;28mself\u001b[39m, p, val)\n\u001b[0;32m    571\u001b[0m \u001b[38;5;28;01mreturn\u001b[39;00m p\n",
      "File \u001b[1;32m~\\anaconda3\\envs\\PAC-GPT\\Lib\\site-packages\\scapy\\fields.py:140\u001b[0m, in \u001b[0;36mField.addfield\u001b[1;34m(self, pkt, s, val)\u001b[0m\n\u001b[0;32m    134\u001b[0m \u001b[38;5;28;01mdef\u001b[39;00m \u001b[38;5;21maddfield\u001b[39m(\u001b[38;5;28mself\u001b[39m, pkt, s, val):\n\u001b[0;32m    135\u001b[0m \u001b[38;5;250m    \u001b[39m\u001b[38;5;124;03m\"\"\"Add an internal value to a string\u001b[39;00m\n\u001b[0;32m    136\u001b[0m \n\u001b[0;32m    137\u001b[0m \u001b[38;5;124;03m    Copy the network representation of field `val` (belonging to layer\u001b[39;00m\n\u001b[0;32m    138\u001b[0m \u001b[38;5;124;03m    `pkt`) to the raw string packet `s`, and return the new string packet.\u001b[39;00m\n\u001b[0;32m    139\u001b[0m \u001b[38;5;124;03m    \"\"\"\u001b[39;00m\n\u001b[1;32m--> 140\u001b[0m     \u001b[38;5;28;01mreturn\u001b[39;00m s \u001b[38;5;241m+\u001b[39m struct\u001b[38;5;241m.\u001b[39mpack(\u001b[38;5;28mself\u001b[39m\u001b[38;5;241m.\u001b[39mfmt, \u001b[38;5;28mself\u001b[39m\u001b[38;5;241m.\u001b[39mi2m(pkt, val))\n",
      "\u001b[1;31merror\u001b[0m: 'H' format requires 0 <= number <= 65535"
     ]
    }
   ],
   "source": [
    "#Enviarlos para probar si se envian correctamente\n",
    "send(pkt_list)"
   ]
  },
  {
   "cell_type": "markdown",
   "id": "7bf00ba6-ce81-42ee-a4af-7b85b0ca4b7c",
   "metadata": {},
   "source": [
    "### Introducción en un pcap"
   ]
  },
  {
   "cell_type": "code",
   "execution_count": 93,
   "id": "e6dfcbf1-8840-47b9-ab02-5c320e10027f",
   "metadata": {
    "tags": []
   },
   "outputs": [],
   "source": [
    "# Guardamos los paquetes generados en un pcap\n",
    "with open(\"../../data/Conversations/TCP/pcap/TCPgenerated_3_5_turbo-instruct_conv.pcap\", \"ba+\") as f:\n",
    "    wrpcap(f, pkt_list,append=True)"
   ]
  },
  {
   "cell_type": "code",
   "execution_count": null,
   "id": "28ac3850-43fe-4c23-bbb9-2edf7bf5d333",
   "metadata": {},
   "outputs": [],
   "source": []
  }
 ],
 "metadata": {
  "kernelspec": {
   "display_name": "Python 3 (ipykernel)",
   "language": "python",
   "name": "python3"
  },
  "language_info": {
   "codemirror_mode": {
    "name": "ipython",
    "version": 3
   },
   "file_extension": ".py",
   "mimetype": "text/x-python",
   "name": "python",
   "nbconvert_exporter": "python",
   "pygments_lexer": "ipython3",
   "version": "3.11.7"
  }
 },
 "nbformat": 4,
 "nbformat_minor": 5
}
