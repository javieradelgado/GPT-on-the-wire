{
 "cells": [
  {
   "cell_type": "markdown",
   "id": "ab3b44ba-d7ee-4273-a20f-33678f9983a4",
   "metadata": {},
   "source": [
    "# A day in the life of a http connection\n",
    "---\n",
    "\n",
    "En este código, se pretende recrear todos los pasos que debe seguir un ordenador para poder realizar una conexión HTTP si no tuviera conocimiento de sus entornos. Los pasos son los siguientes:\n",
    "\n",
    "1. Petición ARP broadcast para conocer la dirección de la interfaz del router\n",
    "2. Petición DNS al servidor DNS para obtener la IP de la web a la que se quiere conectar\n",
    "3. Conexión HTTP para solicitar el recurso"
   ]
  },
  {
   "cell_type": "code",
   "execution_count": 2,
   "id": "100aa5ef-2df1-46f9-8953-da4ff5abe3bd",
   "metadata": {
    "tags": []
   },
   "outputs": [
    {
     "name": "stderr",
     "output_type": "stream",
     "text": [
      "C:\\Users\\adayd\\anaconda3\\envs\\PAC-GPT\\Lib\\site-packages\\scapy\\layers\\ipsec.py:469: CryptographyDeprecationWarning: Blowfish has been deprecated\n",
      "  cipher=algorithms.Blowfish,\n",
      "C:\\Users\\adayd\\anaconda3\\envs\\PAC-GPT\\Lib\\site-packages\\scapy\\layers\\ipsec.py:483: CryptographyDeprecationWarning: CAST5 has been deprecated\n",
      "  cipher=algorithms.CAST5,\n"
     ]
    }
   ],
   "source": [
    "import os\n",
    "os.environ['OPENAI_API_KEY'] = 'FILL'\n",
    "\n",
    "import openai\n",
    "from openai import OpenAI\n",
    "client = OpenAI()\n",
    "\n",
    "import random\n",
    "import re\n",
    "import pickle\n",
    "import scapy\n",
    "import toml\n",
    "import ipaddress\n",
    "\n",
    "from scapy.all import *\n",
    "from scapy.utils import RawPcapReader, wrpcap\n",
    "import scapy.all as scapy\n",
    "from scapy.layers.l2 import Ether, ARP\n",
    "from scapy.layers.inet import IP\n",
    "from scapy.all import DNS\n",
    "from scapy.layers.http import *"
   ]
  },
  {
   "cell_type": "markdown",
   "id": "edf53584-269f-4016-9cf0-84bf32ee81a3",
   "metadata": {},
   "source": [
    "#### Definitions"
   ]
  },
  {
   "cell_type": "code",
   "execution_count": 4,
   "id": "95e00cdf-ad09-4b7a-9b13-50222b5db143",
   "metadata": {
    "tags": []
   },
   "outputs": [],
   "source": [
    "functioning =\"Conversations\"\n",
    "\n",
    "Models_file = 'Models.jsonl'\n",
    "pkl_saved = \"../../data/ADayIn/pickle/ADayInTheLifeHTTP_Conversations_Fine_Tuned.pkl\"\n",
    "pcap_saved = \"../../data/ADayIn/pcap/ADayInTheLifeHTTP_Conversations_generated_3_5_turbo-instruct_conv.pcap\"\n",
    "\n",
    "system_message = 'You are a new generation traffic generator. \\\n",
    "You are specilized in the {} protocol and {} generation using python and scapy. \\\n",
    "You are especially attentive to variables and different types of traffic.'"
   ]
  },
  {
   "cell_type": "code",
   "execution_count": 5,
   "id": "4ab79d14-44d4-4d47-9d61-4032490111ef",
   "metadata": {
    "tags": []
   },
   "outputs": [],
   "source": [
    "resource_pool = [\"www.youtube.com\", \"www.marca.com\", \"www.uam.es\", \"www.bloomberg.com\"]\n",
    "IP_pool = [\"93.184.216.34\", \"172.217.14.206\", \"151.101.1.69\", \"185.199.108.153\", \"104.244.42.65\", \"216.58.214.174\", \"34.235.250.23\", \"18.232.227.118\", \"23.239.22.188\", \"104.16.132.229\"]\n",
    "MAC_pool = [ \"02:00:00:5a:3c:8f\", \"06:00:00:4b:7d:1e\", \"0a:00:00:6f:5a:2d\", \"0e:00:00:2c:9e:3a\", \"12:00:00:3e:1f:7b\", \"16:00:00:7b:8d:6c\", \"1a:00:00:1d:2a:4f\", \"1e:00:00:9e:3b:2d\", \"22:00:00:3a:7f:5e\", \"26:00:00:8b:4c:1f\"]"
   ]
  },
  {
   "cell_type": "code",
   "execution_count": 24,
   "id": "5298ca82-3c1c-4b20-a2ff-fe809e573ce6",
   "metadata": {
    "tags": []
   },
   "outputs": [],
   "source": [
    "def generateDay():\n",
    "    #ALL\n",
    "    IPori, IP_DnsServer, IP_HttpServer = random.choices(IP_pool, k=3)\n",
    "    \n",
    "    octets = IPori.split(\".\")\n",
    "    octets[-1] = \"1\"\n",
    "    IProuter = \".\".join(octets)\n",
    "    \n",
    "    global MacOri\n",
    "    MacOri= random.choices(MAC_pool, k=1)\n",
    "\n",
    "    #DNS\n",
    "    random_id = random.randint(0, 65535)\n",
    "    random_resource = random.choices(resource_pool, k=1)\n",
    "\n",
    "    #HTTP\n",
    "    window1, window2 = random.randint(200, 6535), random.randint(200, 6535)\n",
    "    port1 = random.randint(1025, 65535)\n",
    "    port2 = 80\n",
    "    code = 200\n",
    "    ReasonPhrase = 'OK'\n",
    "\n",
    "    ARP_conv_sum = \"Source: MAC={}, IP={} // Destination: MAC={} // Wanted: IP= {}\".format(\n",
    "                        MacOri, IPori, \"FF:FF:FF:FF:FF:FF\", IProuter)\n",
    "\n",
    "    DNS_conv_sum = \"Source: IP= {} // Destination: IP= {} // Others: {:#06x} , resource= {} , response = {}\".format(\n",
    "                        IPori, IP_DnsServer, random_id, random_resource, IP_HttpServer)\n",
    "\n",
    "    HTTP_conv_sum = \"Source: IP={}, port={}, Window: {} // Destination: IP={}, port=80, Window: {} // Others: Host={}, Path=\"\", Code={}, Reason_Phrase= {}\".format(\n",
    "                        IPori, port1, window1, IP_HttpServer, window2, random_resource, code, ReasonPhrase)\n",
    "    \n",
    "    \n",
    "    return [ARP_conv_sum, DNS_conv_sum, HTTP_conv_sum]"
   ]
  },
  {
   "cell_type": "code",
   "execution_count": 26,
   "id": "7523daa3-79d6-49f9-a892-8d23cc3a45b0",
   "metadata": {
    "tags": []
   },
   "outputs": [],
   "source": [
    "def generate_Conversations(summaries):\n",
    "    \n",
    "    ctr= 1\n",
    "    packets = []\n",
    "    for summary in summaries:\n",
    "        prompt = summary + \"\\n\"\n",
    "        protocol = obtain_Conversation_protocol(summary)\n",
    "\n",
    "            \n",
    "        if protocol == \"ARP\":\n",
    "            messages=[{\"role\": \"system\", \"content\": system_message.format(\"ARP\", functioning)},\n",
    "            {\"role\": \"user\", \"content\": summary}]\n",
    "            print(\"\\t\" + str(ctr)+\". Using->  \" + Models_list[\"Conversations\"][\"Specific\"][\"ARP\"])\n",
    "            completion = client.chat.completions.create(\n",
    "            model=Models_list[\"Conversations\"][\"Specific\"][\"ARP\"], \n",
    "            messages=messages,\n",
    "            max_tokens=2600,\n",
    "            temperature=0.1)\n",
    "\n",
    "        elif protocol == \"DNS\":\n",
    "            messages=[{\"role\": \"system\", \"content\": system_message.format(\"DNS\", functioning)},\n",
    "            {\"role\": \"user\", \"content\": summary}]\n",
    "            print(\"\\t\" + str(ctr)+\". Using->  \" + Models_list[\"Conversations\"][\"Specific\"][\"DNS\"])\n",
    "            completion = client.chat.completions.create(\n",
    "            model=Models_list[\"Conversations\"][\"Specific\"][\"DNS\"], \n",
    "            messages=messages,\n",
    "            max_tokens=2600,\n",
    "            temperature=0.1)\n",
    "        \n",
    "        elif protocol == \"HTTP\":\n",
    "            messages=[{\"role\": \"system\", \"content\": system_message.format(\"HTTP\", functioning)},\n",
    "            {\"role\": \"user\", \"content\": summary}]\n",
    "            print(\"\\t\" + str(ctr)+\". Using->  \" + Models_list[\"Conversations\"][\"Specific\"][\"HTTP\"])\n",
    "            completion = client.chat.completions.create(\n",
    "            model=Models_list[\"Conversations\"][\"Specific\"][\"HTTP\"], \n",
    "            messages=messages,\n",
    "            max_tokens=2600,\n",
    "            temperature=0.1)\n",
    "            \n",
    "        \n",
    "        responses.append(response(messages, completion))\n",
    "        pickle.dump(responses, open(pkl_saved, \"wb\" ) )\n",
    "        commands = responses[-1].completion.choices[0].message.content[1:]\n",
    "        \n",
    "        ldict = {}\n",
    "        exec(commands,globals(),ldict)\n",
    "        \n",
    "        if protocol != \"HTTP\":\n",
    "            if protocol == \"ARP\":\n",
    "                MacRouter = ldict['pkt_2'][\"ARP\"].hwsrc\n",
    "                print(MacRouter)\n",
    "                \n",
    "                global eth_send\n",
    "                eth_send = Ether(src=MacOri, dst=MacRouter)\n",
    "                global eth_rec\n",
    "                eth_rec = Ether(src=MacRouter, dst=MacOri)\n",
    "                \n",
    "                packets.append([ldict['pkt_1'], ldict['pkt_2']])\n",
    "                del ldict\n",
    "            elif protocol == \"DNS\":\n",
    "                packets.append([eth_send/ldict['pkt_1'], eth_rec/ldict['pkt_2']])\n",
    "                del ldict\n",
    "           \n",
    "        else:\n",
    "            packets.append([eth_send/ldict['pkt_1'], eth_rec/ldict['pkt_2'], eth_send/ldict['pkt_3'], eth_send/ldict['pkt_4'], eth_rec/ldict['pkt_5'], eth_rec/ldict['pkt_6'], eth_send/ldict['pkt_7'], eth_send/ldict['pkt_8'], eth_rec/ldict['pkt_9'], eth_rec/ldict['pkt_10'], eth_send/ldict['pkt_11']])\n",
    "            del ldict\n",
    "        \n",
    "        print(\"\\t\\t\" + \"Comand->  \" + commands)\n",
    "        \n",
    "        ctr += 1\n",
    "    return packets"
   ]
  },
  {
   "cell_type": "code",
   "execution_count": 28,
   "id": "fa0aa679-564b-47e2-b96a-d8fb7908d149",
   "metadata": {
    "tags": []
   },
   "outputs": [],
   "source": [
    "def obtain_Conversation_protocol(summary):\n",
    "    if \"seq=\" in summary:\n",
    "        return \"ICMP\"\n",
    "    elif \"MAC=\" in summary:\n",
    "        return \"ARP\"\n",
    "    elif \"response\" in summary:\n",
    "        return \"DNS\"\n",
    "    elif \"Window:\" in summary:\n",
    "        return \"HTTP\"\n",
    "    else:\n",
    "        raise TypeError(\"Unsupported protocol.\")"
   ]
  },
  {
   "cell_type": "code",
   "execution_count": 30,
   "id": "9ce502aa-7d1e-4b03-b23b-6f1cb62b3f75",
   "metadata": {
    "tags": []
   },
   "outputs": [],
   "source": [
    "def write_pcap(packets, pcap_saved):\n",
    "    for packet in packets:\n",
    "        with open(pcap_saved, \"ba+\") as f:\n",
    "            wrpcap(f, packet, append=True)\n",
    "            \n",
    "class response():\n",
    "    \"Stores name and place pairs\"\n",
    "    def __init__(self, name, place):\n",
    "        self.prompt_summary = name\n",
    "        self.completion = place"
   ]
  },
  {
   "cell_type": "markdown",
   "id": "5c71be65-d081-4f0f-914b-c16d80d7f219",
   "metadata": {},
   "source": [
    "### Functioning"
   ]
  },
  {
   "cell_type": "code",
   "execution_count": 37,
   "id": "5da79229-8496-448c-9343-d7274056a55b",
   "metadata": {
    "tags": []
   },
   "outputs": [
    {
     "name": "stdout",
     "output_type": "stream",
     "text": [
      "Number of previous responses: 0\n"
     ]
    }
   ],
   "source": [
    "try:\n",
    "    responses = pickle.load( open(pkl_saved, \"rb\" ))\n",
    "except:\n",
    "    responses = []\n",
    "\n",
    "print(\"Number of previous responses: \" + str(len(responses)))"
   ]
  },
  {
   "cell_type": "code",
   "execution_count": 39,
   "id": "5e4d3e16-2a77-4f2a-8230-50871c8daa49",
   "metadata": {
    "tags": []
   },
   "outputs": [
    {
     "name": "stdout",
     "output_type": "stream",
     "text": [
      "Source: MAC=['26:00:00:8b:4c:1f'], IP=34.235.250.23 // Destination: MAC=FF:FF:FF:FF:FF:FF // Wanted: IP= 34.235.250.1\n",
      "Source: IP= 34.235.250.23 // Destination: IP= 104.244.42.65 // Others: 0xfbc2 , resource= ['www.uam.es'] , response = 185.199.108.153\n",
      "Source: IP=34.235.250.23, port=45136, Window: 5199 // Destination: IP=185.199.108.153, port=80, Window: 6183 // Others: Host=['www.uam.es'], Path=, Code=200, Reason_Phrase= OK\n"
     ]
    }
   ],
   "source": [
    "summaries = generateDay()\n",
    "\n",
    "for summary in summaries:\n",
    "    print(summary)"
   ]
  },
  {
   "cell_type": "code",
   "execution_count": 41,
   "id": "57aea497-d817-4ad4-b5e5-0458917330e2",
   "metadata": {
    "tags": []
   },
   "outputs": [
    {
     "name": "stdout",
     "output_type": "stream",
     "text": [
      "\t1. Using->  ft:gpt-3.5-turbo-1106:personal:convarpv2:9OUMMFtw\n",
      "02:00:00:ad:f0:fa\n",
      "\t\tComand->  pkt_1=scapy.Ether(src=\"26:00:00:8b:4c:1f\", dst=\"FF:FF:FF:FF:FF:FF\")/scapy.ARP(op=1, pdst=\"34.235.250.1\", psrc=\"34.235.250.23\", hwdst=\"00:00:00:00:00:00\", hwsrc=\"26:00:00:8b:4c:1f\")\n",
      "time.sleep(random.randint(1,10)/1000000.0)\n",
      "rand_MAC= \"02:00:00:%02x:%02x:%02x\" % (random.randint(0, 255),random.randint(0, 255),random.randint(0, 255))\n",
      "pkt_2=scapy.Ether(src=rand_MAC, dst=\"26:00:00:8b:4c:1f\")/scapy.ARP(op=2, psrc=\"34.235.250.1\", hwsrc=rand_MAC, hwdst=\"26:00:00:8b:4c:1f\", pdst=\"34.235.250.23\")\n",
      "\t2. Using->  ft:gpt-3.5-turbo-1106:personal:convdnsv2:9OT57bdn\n",
      "\t\tComand->  RANDOM_PORT = random.randint(4097, 65530)\n",
      "pkt_1 = IP(src=\"34.235.250.23\", dst=\"104.244.42.65\")/UDP(sport=RANDOM_PORT, dport=53)/DNS(id=0xfbc2, qr=0, rd=1, opcode=0, qdcount=1, ancount=0, nscount=0, arcount=0, qd=DNSQR(qname=\"www.uam.es\", qtype=\"A\", qclass=\"IN\"))\n",
      "time.sleep(abs(random.gauss(0, 0.03)))\n",
      "pkt_2 = IP(src=\"104.244.42.65\", dst=\"34.235.250.23\")/UDP(sport=53, dport=RANDOM_PORT)/DNS(id=0x0aba, qr=1, opcode=0, ra=1, rcode=0, qdcount=1, ancount=1, nscount=0, arcount=0, qd=DNSQR(qname=\"www.uam.es\", qtype=\"A\", qclass=\"IN\"), an=DNSRR(rrname=\"www.uam.es\", type=\"A\", rclass=\"IN\", ttl=255, rdata=\"185.199.108.153\"))\n",
      "\t3. Using->  ft:gpt-3.5-turbo-1106:personal:convhttpv4:9Tq7Cjjl\n",
      "\t\tComand->  x,y = random.sample(range(1, 100), 2)\n",
      "pkt_1= IP(src='34.235.250.23', dst='185.199.108.153')/TCP(sport=45136, dport=80, flags='S', seq=y, window=5199)\n",
      "time.sleep(abs(random.gauss(0, 0.03)))\n",
      "y += len(pkt_1[TCP].payload)+1\n",
      "pkt_2= IP(src='185.199.108.153', dst='34.235.250.23')/TCP(sport=80, dport=45136, flags='SA', seq=x, ack=y, window=6183)\n",
      "time.sleep(abs(random.gauss(0, 0.03)))\n",
      "x += len(pkt_2[TCP].payload)+1\n",
      "pkt_3= IP(src='34.235.250.23', dst='185.199.108.153')/TCP(sport=45136, dport=80, flags='A', seq=y, ack=x, window=5199)\n",
      "\n",
      "time.sleep(abs(random.gauss(0, 0.03)))\n",
      "y += len(pkt_3[TCP].payload)\n",
      "pkt_4= IP(src='34.235.250.23',  dst='185.199.108.153') / TCP(sport=45136, dport=80, flags='PA', seq=y, ack=x, window=8192) / HTTP() / HTTPRequest(Method =\"GET\", Http_Version=\"HTTP/1.1\", Host=\"www.uam.es\", Path=\"/\")\n",
      "time.sleep(abs(random.gauss(0, 0.03)))\n",
      "y += len(pkt_4[TCP].payload)\n",
      "pkt_5= IP(src='185.199.108.153', dst='34.235.250.23')/TCP(sport=80, dport=45136, flags='A', seq=x, ack=y, window=6183)\n",
      "\n",
      "time.sleep(abs(random.gauss(0, 0.03)))\n",
      "x += len(pkt_5[TCP].payload)\n",
      "pkt_6= IP(src='185.199.108.153',  dst='34.235.250.23') / TCP(sport=80, dport=45136, flags='PA', seq=x, ack=y, window=8192) / HTTP() / HTTPResponse(Http_Version= \"HTTP/1.1\", Status_Code= \"200\", Reason_Phrase= \"OK\") / \"<HTML><BODY><H!>Hello World!</H1></BODY></HTML>\"\n",
      "time.sleep(abs(random.gauss(0, 0.03)))\n",
      "x += len(pkt_6[TCP].payload)\n",
      "pkt_7= IP(src='34.235.250.23', dst='185.199.108.153')/TCP(sport=45136, dport=80, flags='A', seq=y, ack=x, window=5199)\n",
      "\n",
      "time.sleep(abs(random.gauss(0, 0.03)))\n",
      "y += len(pkt_7[TCP].payload)\n",
      "pkt_8= IP(src='34.235.250.23', dst='185.199.108.153')/TCP(sport=45136, dport=80, flags='FA', seq=y, ack=x, window=5199)\n",
      "time.sleep(abs(random.gauss(0, 0.03)))\n",
      "y += len(pkt_8[TCP].payload)\n",
      "pkt_9= IP(src='185.199.108.153', dst='34.235.250.23')/TCP(sport=80, dport=45136, flags='A', seq=x, ack=y+1, window=6183)\n",
      "time.sleep(abs(random.gauss(0, 0.03)))\n",
      "x += len(pkt_9[TCP].payload)\n",
      "pkt_10= IP(src='185.199.108.153', dst='34.235.250.23')/TCP(sport=80, dport=45136, flags='FA', seq=x, ack=y+1, window=6183)\n",
      "time.sleep(abs(random.gauss(0, 0.03)))\n",
      "x += len(pkt_10[TCP].payload)\n",
      "pkt_11= IP(src='34.235.250.23', dst='185.199.108.153')/TCP(sport=45136, dport=80, flags='A', seq=y+1, ack=x+1, window=5199)\n",
      "\n",
      "Generated 3 packets.\n",
      "Writing them to ../../data/ADayIn/pcap/ADayInTheLifeHTTP_Conversations_generated_3_5_turbo-instruct_conv.pcap ...\n",
      "Done!\n"
     ]
    }
   ],
   "source": [
    "with open(Models_file, 'r') as json_file:\n",
    "    Models_list = json.load(json_file)\n",
    "\n",
    "packets = generate_Conversations(summaries)\n",
    "#print(packets)\n",
    "\n",
    "print(\"\\nGenerated {} packets.\\nWriting them to {} ...\".format(\n",
    "        len(packets),\n",
    "        pcap_saved))\n",
    "\n",
    "write_pcap(packets, pcap_saved)\n",
    "print(\"Done!\")"
   ]
  },
  {
   "cell_type": "code",
   "execution_count": null,
   "id": "584290c7-1a68-4a2e-8677-14fa77c61f39",
   "metadata": {},
   "outputs": [],
   "source": []
  }
 ],
 "metadata": {
  "kernelspec": {
   "display_name": "Python 3 (ipykernel)",
   "language": "python",
   "name": "python3"
  },
  "language_info": {
   "codemirror_mode": {
    "name": "ipython",
    "version": 3
   },
   "file_extension": ".py",
   "mimetype": "text/x-python",
   "name": "python",
   "nbconvert_exporter": "python",
   "pygments_lexer": "ipython3",
   "version": "3.11.7"
  }
 },
 "nbformat": 4,
 "nbformat_minor": 5
}
