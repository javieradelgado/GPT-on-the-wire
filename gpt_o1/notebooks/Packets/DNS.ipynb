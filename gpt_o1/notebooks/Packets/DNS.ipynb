{
 "cells": [
  {
   "cell_type": "markdown",
   "id": "98857f5a-567a-4941-996a-019e0ba694f4",
   "metadata": {
    "tags": []
   },
   "source": [
    "# Creación de paquetes DNS"
   ]
  },
  {
   "cell_type": "markdown",
   "id": "833d122f-03c1-4db6-9953-5864d8f68b9e",
   "metadata": {
    "tags": []
   },
   "source": [
    "### Descripción: \n",
    "Con este código se va a intentar crear diferentes tipos de paquetes DNS, mediante IA generativa. Se pretende pasar una descripción de estos paquetes al modelo y que este sea capaz de crear todos los campos necesarios para replicar un paquete con esas mismas especificaciones."
   ]
  },
  {
   "cell_type": "code",
   "execution_count": null,
   "id": "af19945d-5027-48fa-a906-7efdf0b93876",
   "metadata": {
    "tags": []
   },
   "outputs": [
    {
     "name": "stderr",
     "output_type": "stream",
     "text": [
      "C:\\Users\\adayd\\anaconda3\\envs\\PAC-GPT\\Lib\\site-packages\\scapy\\layers\\ipsec.py:469: CryptographyDeprecationWarning: Blowfish has been deprecated\n",
      "  cipher=algorithms.Blowfish,\n",
      "C:\\Users\\adayd\\anaconda3\\envs\\PAC-GPT\\Lib\\site-packages\\scapy\\layers\\ipsec.py:483: CryptographyDeprecationWarning: CAST5 has been deprecated\n",
      "  cipher=algorithms.CAST5,\n"
     ]
    },
    {
     "data": {
      "text/plain": [
       "'1.10.0'"
      ]
     },
     "execution_count": 1,
     "metadata": {},
     "output_type": "execute_result"
    }
   ],
   "source": [
    "import random\n",
    "import re\n",
    "import pickle\n",
    "import os\n",
    "\n",
    "import openai\n",
    "from openai import OpenAI\n",
    "os.environ['OPENAI_API_KEY'] = \"FILL\"\n",
    "client = OpenAI()\n",
    "\n",
    "from scapy.all import *\n",
    "from scapy.utils import RawPcapReader, wrpcap\n",
    "import scapy.all as scapy\n",
    "\n",
    "from scapy.layers.l2 import Ether\n",
    "from scapy.layers.inet import IP\n",
    "from scapy.all import DNS\n",
    "\n",
    "openai.__version__"
   ]
  },
  {
   "cell_type": "markdown",
   "id": "966c530c-db4b-4638-920b-2bdbf500b2d1",
   "metadata": {},
   "source": [
    "## Generación de la descipción de un paquete ICMP"
   ]
  },
  {
   "cell_type": "markdown",
   "id": "c2022cfe-d5b3-4f83-a64d-c828d9053c45",
   "metadata": {
    "tags": []
   },
   "source": [
    "<center><img src=\"https://miro.medium.com/v2/resize:fit:1400/1*EBKCNBODkcQMuvtXq9Vhog.png\">\n",
    "    \n",
    "<center> Teniendo estos mensajes enviados la siguiente cabecera.\n",
    "\n",
    "<center><img src=\"https://www.google.com/url?sa=i&url=http%3A%2F%2Fbastionado.blogspot.com%2F2013%2F02%2Fconsulta-dns-con-snort.html&psig=AOvVaw1cFLv_RkEKpsD_AUT71cnj&ust=1711802500271000&source=images&cd=vfe&opi=89978449&ved=0CBIQjRxqFwoTCPjIi7W_mYUDFQAAAAAdAAAAABAJ\">"
   ]
  },
  {
   "cell_type": "code",
   "execution_count": 2,
   "id": "42c7d91e-37a8-49e9-8c56-2b075754e0aa",
   "metadata": {
    "tags": []
   },
   "outputs": [],
   "source": [
    "system_message = \"In the next lines, I'll provide you with some packet descriptions for different types of DNS packets and how to construct each one of them using scapy. Use each one of this as a base to guide you while creating packets if they are the same type, but DONT create ALL these types of packets for every description, evaluate to wich type does the summary belong, and generate JUST that packet command.\\n\\n\"\n",
    "\n",
    "# Standard DNS Query\n",
    "system_message += \"This is a standard DNS query packet summary:\\n\"\n",
    "system_message += \"192.168.2.102 192.168.2.1 DNS 86 Standard query 0xd7fa PTR 80.144.99.193.in-addr.arpa\\n\"\n",
    "system_message += \"The command to generate this packet would be:\\n\"\n",
    "system_message += 'IP(src=\"192.168.2.102\", dst=\"192.168.2.1\", proto=17)/UDP(sport=random.randint(4097, 65530), dport=53)/DNS(id=0xd7fa, qr=0, rd=1, opcode=0, qdcount=1, ancount=0, nscount=0, arcount=0, qd=DNSQR(qname=\"80.144.99.193.in-addr.arpa\", qtype=\"PTR\", qclass=\"IN\"))\\n\\n'\n",
    "\n",
    "#Standard DNS Response\n",
    "system_message += \"This is a standard DNS query response packet summary:\\n\"\n",
    "system_message += \"9.9.9.9 193.24.227.230 DNS 127 Standard query response 0x0aba A many-rrs.weberdns.de A 192.0.2.43 A 192.0.2.42 OPT\\n\"\n",
    "system_message += \"This is the python code to generate the packet:\\n\"\n",
    "system_message += 'IP(src=\"9.9.9.9\", dst=\"193.24.227.230\", proto=17)/UDP(sport=53, dport=random.randint(4097, 65530))/DNS(id=0x0aba, qr=1, opcode=0, ra=1, rcode=0, qdcount=1, ancount=2, nscount=0, arcount=1, qd=DNSQR(qname=\"many-rrs.weberdns.de\", qtype=\"A\", qclass=\"IN\"), an=DNSRR(rrname=\"many-rrs.weberdns.de\", type=\"A\", rclass=\"IN\", ttl=255, rdata=\"192.0.2.43\")/DNSRR(rrname=\"many-rrs.weberdns.de\", type=\"A\", rclass=\"IN\", ttl=255, rdata=\"192.0.2.42\"), ar=DNSRROPT(rrname=\".\", type=41, rclass=4096, z=0x0000 rdlen=None, rdata=\"\"))\\n\\n'\n",
    "\n",
    "#query += 'A value for varible \"var_1\" must be defined randomly in every new packet. You must generate a random port number for every new packet and substitute it for the variable. for example, if you randomly generate number 395, in a DNS query, the UDP part must me UDP(sport=395, dport=53). This is EXTREMELY important.\\n\\n'\n",
    "\n",
    "system_message += \"Please, be especially carefull with the variables and flags, take your time to consider if the summary means recursiveness in the query, if the response is authoritative, etc\\n\"\n",
    "system_message += \"The variable 'qr' depends on the type of the packet, queries qr=0 and responses have opcode=1\\n\\n\"\n",
    "\n",
    "system_message += \"Take into consideration especificacitions of each query like the type and the class\\n\"\n",
    "system_message += \"The 'type' variable of the query specificies the type of the query, it can be: A(host address)->type=1, CNAME->type=5, PTR(domain name pointer)->type=12, MX(Mail exchange)->type=15, and much more.\\n\"\n",
    "system_message += \"The 'class' variable can be: 1= Internet(IN), 255= QCLASS *ANY, etc\\n\\n\"\n",
    "\n",
    "system_message += \"While creating de commands, take your time to process the summaries. Dont create commands with obvious errors like repeated variables.\\n\"\n",
    "system_message += \"Dont create comands with both DNSQR (DNS Question Record) and  DNSRR (DNS Response Record) if the packet is a query, this is an obvious error as a query cant have its own response\\n\"\n",
    "\n",
    "system_message += \"The ancount variable gives us the number of an answers in the responses, it must be coherent with this part, ESPECIALLY IN THE QUERY RESPONSES, the same goes for the other (qdcount, nscount, arcount)\\n\"\n",
    "system_message += \"If you need to put various qd, an, ns, ar in the packet, they are added as follows, for example, if you want to add 3 ar : ar=DNSRR(...)/DNSRR(..)/DNSRR(...). This is really important, and the same structure (separated by / ) aplies to an, qd, ns and ar \\n\"\n",
    "system_message += \"Use DNSRRSOA(..) to create SOA responses, DNSRROPT(..) for OPT responses, etc\\n\\n\"\n",
    "\n",
    "system_message += \"Take a few seconds (5s) to think about your answer and consider all requirements previosuly established, don't come up with an answer until all of them are satisfied\\n\\n\"\n"
   ]
  },
  {
   "cell_type": "code",
   "execution_count": 3,
   "id": "661e3e74-0651-4cc3-98bc-cc7892344165",
   "metadata": {
    "tags": []
   },
   "outputs": [
    {
     "name": "stdout",
     "output_type": "stream",
     "text": [
      "In the next lines, I'll provide you with some packet descriptions for different types of DNS packets and how to construct each one of them using scapy. Use each one of this as a base to guide you while creating packets if they are the same type, but DONT create ALL these types of packets for every description, evaluate to wich type does the summary belong, and generate JUST that packet command.\n",
      "\n",
      "This is a standard DNS query packet summary:\n",
      "192.168.2.102 192.168.2.1 DNS 86 Standard query 0xd7fa PTR 80.144.99.193.in-addr.arpa\n",
      "The command to generate this packet would be:\n",
      "IP(src=\"192.168.2.102\", dst=\"192.168.2.1\", proto=17)/UDP(sport=random.randint(4097, 65530), dport=53)/DNS(id=0xd7fa, qr=0, rd=1, opcode=0, qdcount=1, ancount=0, nscount=0, arcount=0, qd=DNSQR(qname=\"80.144.99.193.in-addr.arpa\", qtype=\"PTR\", qclass=\"IN\"))\n",
      "\n",
      "This is a standard DNS query response packet summary:\n",
      "9.9.9.9 193.24.227.230 DNS 127 Standard query response 0x0aba A many-rrs.weberdns.de A 192.0.2.43 A 192.0.2.42 OPT\n",
      "This is the python code to generate the packet:\n",
      "IP(src=\"9.9.9.9\", dst=\"193.24.227.230\", proto=17)/UDP(sport=53, dport=random.randint(4097, 65530))/DNS(id=0x0aba, qr=1, opcode=0, ra=1, rcode=0, qdcount=1, ancount=2, nscount=0, arcount=1, qd=DNSQR(qname=\"many-rrs.weberdns.de\", qtype=\"A\", qclass=\"IN\"), an=DNSRR(rrname=\"many-rrs.weberdns.de\", type=\"A\", rclass=\"IN\", ttl=255, rdata=\"192.0.2.43\")/DNSRR(rrname=\"many-rrs.weberdns.de\", type=\"A\", rclass=\"IN\", ttl=255, rdata=\"192.0.2.42\"), ar=DNSRROPT(rrname=\".\", type=41, rclass=4096, z=0x0000 rdlen=None, rdata=\"\"))\n",
      "\n",
      "Please, be especially carefull with the variables and flags, take your time to consider if the summary means recursiveness in the query, if the response is authoritative, etc\n",
      "The variable 'qr' depends on the type of the packet, queries qr=0 and responses have opcode=1\n",
      "\n",
      "Take into consideration especificacitions of each query like the type and the class\n",
      "The 'type' variable of the query specificies the type of the query, it can be: A(host address)->type=1, CNAME->type=5, PTR(domain name pointer)->type=12, MX(Mail exchange)->type=15, and much more.\n",
      "The 'class' variable can be: 1= Internet(IN), 255= QCLASS *ANY, etc\n",
      "\n",
      "While creating de commands, take your time to process the summaries. Dont create commands with obvious errors like repeated variables.\n",
      "Dont create comands with both DNSQR (DNS Question Record) and  DNSRR (DNS Response Record) if the packet is a query, this is an obvious error as a query cant have its own response\n",
      "The ancount variable gives us the number of an answers in the responses, it must be coherent with this part, ESPECIALLY IN THE QUERY RESPONSES, the same goes for the other (qdcount, nscount, arcount)\n",
      "If you need to put various qd, an, ns, ar in the packet, they are added as follows, for example, if you want to add 3 ar : ar=DNSRR(...)/DNSRR(..)/DNSRR(...). This is really important, and the same structure (separated by / ) aplies to an, qd, ns and ar \n",
      "Use DNSRRSOA(..) to create SOA responses, DNSRROPT(..) for OPT responses, etc\n",
      "\n",
      "Take a few seconds (5s) to think about your answer and consider all requirements previosuly established, don't come up with an answer until all of them are satisfied\n",
      "\n",
      "\n"
     ]
    }
   ],
   "source": [
    "print(system_message)"
   ]
  },
  {
   "cell_type": "markdown",
   "id": "42b6a1d3-3645-4f96-9aef-2f47afbb2f43",
   "metadata": {},
   "source": [
    "## Carga de posibles descripciones"
   ]
  },
  {
   "cell_type": "code",
   "execution_count": 4,
   "id": "4bf501e4-7aa3-405f-bacd-3531b83e585b",
   "metadata": {
    "tags": []
   },
   "outputs": [
    {
     "data": {
      "text/plain": [
       "526"
      ]
     },
     "execution_count": 4,
     "metadata": {},
     "output_type": "execute_result"
    }
   ],
   "source": [
    "with open(\"../../data/text/DNS_summaries.txt\",\"r\") as f:\n",
    "    packets_summary = f.read().splitlines()\n",
    "len(packets_summary)"
   ]
  },
  {
   "cell_type": "code",
   "execution_count": 5,
   "id": "f3fbb7b1",
   "metadata": {},
   "outputs": [],
   "source": [
    "test_group = random.choices(packets_summary,k=200)"
   ]
  },
  {
   "cell_type": "markdown",
   "id": "9e216e1b-854d-4604-9c76-38593c60809f",
   "metadata": {},
   "source": [
    "### Carga de posibles conversaciones anteriores para concatenarlas"
   ]
  },
  {
   "cell_type": "code",
   "execution_count": 6,
   "id": "2bc08d0e-16e4-4943-8ddd-fd72e52afcd5",
   "metadata": {
    "tags": []
   },
   "outputs": [],
   "source": [
    "class response():\n",
    "    \"Stores name and place pairs\"\n",
    "    def __init__(self, name, place):\n",
    "        self.prompt_summary = name\n",
    "        self.completion = place"
   ]
  },
  {
   "cell_type": "code",
   "execution_count": 7,
   "id": "6e264363-3f91-42e1-85b8-2b75028f09c8",
   "metadata": {
    "tags": []
   },
   "outputs": [],
   "source": [
    "try:    \n",
    "    responses = pickle.load( open(\"../../data/Packets/DNS/pickle/DNS_packet_pairs_Aday_v3.pkl\", \"rb\" ))\n",
    "except:\n",
    "    responses = []"
   ]
  },
  {
   "cell_type": "markdown",
   "id": "4de1f79a-ab55-452f-a43e-052930c04968",
   "metadata": {},
   "source": [
    "## Generación de comandos de paquetes DNS"
   ]
  },
  {
   "cell_type": "code",
   "execution_count": 8,
   "id": "837d3818",
   "metadata": {},
   "outputs": [],
   "source": [
    "index = 0"
   ]
  },
  {
   "cell_type": "code",
   "execution_count": 10,
   "id": "e28688a8",
   "metadata": {},
   "outputs": [
    {
     "data": {
      "text/plain": [
       "100"
      ]
     },
     "execution_count": 10,
     "metadata": {},
     "output_type": "execute_result"
    }
   ],
   "source": [
    "index"
   ]
  },
  {
   "cell_type": "code",
   "execution_count": 11,
   "id": "14da1bd3-70c8-4cc0-b889-3894c4c67486",
   "metadata": {
    "scrolled": true,
    "tags": []
   },
   "outputs": [
    {
     "name": "stdout",
     "output_type": "stream",
     "text": [
      "...........................................\n",
      " GENERATING SCAPY COMMANDS FOR THE FOLLOWING PACKETS (iter 11)\n",
      "\n",
      "Below, I'll give you the descriptions of the packets you have to generate, the previous where just examples\n",
      "\n",
      "This is a packet summary:\n",
      "130.231.202.234 â†’ 130.231.240.70 DNS 76 Standard query 0x5a18 A sstats.fdown.net\n",
      "This is a packet summary:\n",
      "130.231.202.234 â†’ 130.231.240.70 DNS 112 Standard query 0x35be A steamcloud-finland.storage.googleapis.com OPT\n",
      "This is a packet summary:\n",
      "130.231.202.234 â†’ 130.231.240.70 DNS 89 Standard query 0xe177 A www.googleapis.com OPT\n",
      "This is a packet summary:\n",
      "130.231.202.234 â†’ 130.231.240.70 DNS 101 Standard query 0x6364 A securepubads.g.doubleclick.net OPT\n",
      "This is a packet summary:\n",
      "130.231.240.70 â†’ 130.231.202.234 DNS 138 Standard query response 0xdec7 No such name A sstats.fdown.net SOA brad.ns.cloudflare.com\n",
      "This is a packet summary:\n",
      "130.231.202.234 â†’ 130.231.240.70 DNS 83 Standard query 0xd386 AAAA cdn.rfxn.com OPT\n",
      "This is a packet summary:\n",
      "130.231.202.234 â†’ 130.231.240.70 DNS 82 Standard query 0x14cf A omapsoas.fi OPT\n",
      "This is a packet summary:\n",
      "130.231.202.234 â†’ 130.231.240.70 DNS 111 Standard query 0x468e A canonical-bos01.cdn.snapcraftcontent.com OPT\n",
      "This is a packet summary:\n",
      "130.231.202.234 â†’ 130.231.240.70 DNS 95 Standard query 0x82ad A sstats.fdown.net.oulu.fi OPT\n",
      "This is a packet summary:\n",
      "130.231.202.234 â†’ 130.231.240.70 DNS 105 Standard query 0x3c1c A audio-ak-spotify-com.akamaized.net OPT\n",
      "\n",
      "Generate python code for creating JUST the packets of the summaries given with scapy framework and put them all in a list named pkt_list. DO NOT create commands for other types of DNS rather than the ones belonging to the packets wanted to generate.Dont give back any comments or imports, just bare code and commands. Dont start the resposnses wiht ```python This is a flagrant error.\n",
      "\n",
      "...Generated!\n",
      "Number of completitions done: 12\n",
      "...........................................\n",
      " GENERATING SCAPY COMMANDS FOR THE FOLLOWING PACKETS (iter 12)\n",
      "\n",
      "Below, I'll give you the descriptions of the packets you have to generate, the previous where just examples\n",
      "\n",
      "This is a packet summary:\n",
      "130.231.240.70 â†’ 130.231.202.234 DNS 137 Standard query response 0x78b9 No such name A stats.fdown.net SOA brad.ns.cloudflare.com\n",
      "This is a packet summary:\n",
      "130.231.240.70 â†’ 130.231.202.234 DNS 148 Standard query response 0x815e No such name A usage.fdown.net.oulu.fi SOA ousrvr.oulu.fi OPT\n",
      "This is a packet summary:\n",
      "130.231.240.70 â†’ 130.231.202.234 DNS 112 Standard query response 0xc03d A ext1-fra2.steamserver.net A 155.133.226.75 OPT\n",
      "This is a packet summary:\n",
      "208.67.222.222 â†’ 130.231.202.234 DNS 103 Standard query response 0xfa67 A myip.opendns.com A 130.231.202.234 OPT\n",
      "This is a packet summary:\n",
      "130.231.202.234 â†’ 130.231.240.70 DNS 83 Standard query 0x44f4 A usage.fdown.net.oulu.fi\n",
      "This is a packet summary:\n",
      "130.231.240.70 â†’ 130.231.202.234 DNS 161 Standard query response 0xf47c A seed-mix-image.spotifycdn.com CNAME tls13.spotifycdn.map.fastly.net A 151.101.246.250 OPT\n",
      "This is a packet summary:\n",
      "130.231.202.234 â†’ 130.231.240.70 DNS 86 Standard query 0x92b7 A usage.fdown.net OPT\n",
      "This is a packet summary:\n",
      "130.231.240.70 â†’ 130.231.202.234 DNS 138 Standard query response 0x82ad No such name A sstats.fdown.net.oulu.fi SOA ousrvr.oulu.fi\n",
      "This is a packet summary:\n",
      "130.231.240.70 â†’ 130.231.202.234 DNS 137 Standard query response 0x4cd2 No such name A usage.fdown.net SOA brad.ns.cloudflare.com\n",
      "This is a packet summary:\n",
      "130.231.202.234 â†’ 130.231.240.70 DNS 83 Standard query 0xe6e4 A usage.fdown.net.oulu.fi\n",
      "\n",
      "Generate python code for creating JUST the packets of the summaries given with scapy framework and put them all in a list named pkt_list. DO NOT create commands for other types of DNS rather than the ones belonging to the packets wanted to generate.Dont give back any comments or imports, just bare code and commands. Dont start the resposnses wiht ```python This is a flagrant error.\n",
      "\n",
      "...Generated!\n",
      "Number of completitions done: 13\n",
      "...........................................\n",
      " GENERATING SCAPY COMMANDS FOR THE FOLLOWING PACKETS (iter 13)\n",
      "\n",
      "Below, I'll give you the descriptions of the packets you have to generate, the previous where just examples\n",
      "\n",
      "This is a packet summary:\n",
      "130.231.240.70 â†’ 130.231.202.234 DNS 153 Standard query response 0x48d6 A widget.intercom.io A 108.156.22.66 A 108.156.22.43 A 108.156.22.127 A 108.156.22.78 OPT\n",
      "This is a packet summary:\n",
      "130.231.240.70 â†’ 130.231.202.234 DNS 164 Standard query response 0x4072 A d27xxe7juh1us6.cloudfront.net A 18.165.121.41 A 18.165.121.221 A 18.165.121.21 A 18.165.121.230 OPT\n",
      "This is a packet summary:\n",
      "130.231.202.234 â†’ 130.231.240.70 DNS 90 Standard query 0xe6a7 A api-iam.intercom.io OPT\n",
      "This is a packet summary:\n",
      "130.231.240.70 â†’ 130.231.202.234 DNS 164 Standard query response 0x0568 A d27xxe7juh1us6.cloudfront.net A 18.165.121.221 A 18.165.121.41 A 18.165.121.230 A 18.165.121.21 OPT\n",
      "This is a packet summary:\n",
      "130.231.240.70 â†’ 130.231.202.234 DNS 148 Standard query response 0xce5b No such name A stats.fdown.net SOA brad.ns.cloudflare.com OPT\n",
      "This is a packet summary:\n",
      "130.231.202.234 â†’ 130.231.240.70 DNS 97 Standard query 0xc0b4 A adeventtracker.spotify.com OPT\n",
      "This is a packet summary:\n",
      "130.231.202.234 â†’ 130.231.240.70 DNS 75 Standard query 0x716f A usage.fdown.net\n",
      "This is a packet summary:\n",
      "130.231.202.234 â†’ 130.231.240.70 DNS 87 Standard query 0x615e A api2.gettoby.com OPT\n",
      "This is a packet summary:\n",
      "130.231.240.70 â†’ 130.231.202.234 DNS 115 Standard query response 0x1500 A cdn.rfxn.com A 104.21.29.103 A 172.67.171.112 OPT\n",
      "This is a packet summary:\n",
      "130.231.202.234 â†’ 130.231.240.70 DNS 76 Standard query 0x27d2 A sstats.fdown.net\n",
      "\n",
      "Generate python code for creating JUST the packets of the summaries given with scapy framework and put them all in a list named pkt_list. DO NOT create commands for other types of DNS rather than the ones belonging to the packets wanted to generate.Dont give back any comments or imports, just bare code and commands. Dont start the resposnses wiht ```python This is a flagrant error.\n",
      "\n",
      "...Generated!\n",
      "Number of completitions done: 14\n",
      "...........................................\n",
      " GENERATING SCAPY COMMANDS FOR THE FOLLOWING PACKETS (iter 14)\n",
      "\n",
      "Below, I'll give you the descriptions of the packets you have to generate, the previous where just examples\n",
      "\n",
      "This is a packet summary:\n",
      "130.231.240.70 â†’ 130.231.202.234 DNS 149 Standard query response 0x7e5b No such name A sstats.fdown.net.oulu.fi SOA ousrvr.oulu.fi OPT\n",
      "This is a packet summary:\n",
      "130.231.240.70 â†’ 130.231.202.234 DNS 137 Standard query response 0xe044 No such name A usage.fdown.net SOA brad.ns.cloudflare.com\n",
      "This is a packet summary:\n",
      "130.231.202.234 â†’ 130.231.240.70 DNS 100 Standard query 0xcc51 A connectivity-check.ubuntu.com OPT\n",
      "This is a packet summary:\n",
      "130.231.240.70 â†’ 130.231.202.234 DNS 148 Standard query response 0xb2da No such name A usage.fdown.net SOA brad.ns.cloudflare.com OPT\n",
      "This is a packet summary:\n",
      "130.231.202.234 â†’ 130.231.240.70 DNS 92 Standard query 0xa5b8 A negbar.ad-blocker.org OPT\n",
      "This is a packet summary:\n",
      "130.231.240.70 â†’ 130.231.202.234 DNS 138 Standard query response 0xc56c No such name A sstats.fdown.net.oulu.fi SOA ousrvr.oulu.fi\n",
      "This is a packet summary:\n",
      "130.231.240.70 â†’ 130.231.202.234 DNS 148 Standard query response 0xe9c0 No such name A usage.fdown.net SOA brad.ns.cloudflare.com OPT\n",
      "This is a packet summary:\n",
      "130.231.240.70 â†’ 130.231.202.234 DNS 137 Standard query response 0x4cd2 No such name A usage.fdown.net SOA brad.ns.cloudflare.com\n",
      "This is a packet summary:\n",
      "130.231.240.70 â†’ 130.231.202.234 DNS 138 Standard query response 0xde82 A js.stripe.com CNAME stripecdn.map.fastly.net A 151.101.244.176 OPT\n",
      "This is a packet summary:\n",
      "130.231.202.234 â†’ 130.231.240.70 DNS 76 Standard query 0x4bcd A sstats.fdown.net\n",
      "\n",
      "Generate python code for creating JUST the packets of the summaries given with scapy framework and put them all in a list named pkt_list. DO NOT create commands for other types of DNS rather than the ones belonging to the packets wanted to generate.Dont give back any comments or imports, just bare code and commands. Dont start the resposnses wiht ```python This is a flagrant error.\n",
      "\n"
     ]
    },
    {
     "name": "stdout",
     "output_type": "stream",
     "text": [
      "...Generated!\n",
      "Number of completitions done: 15\n",
      "...........................................\n",
      " GENERATING SCAPY COMMANDS FOR THE FOLLOWING PACKETS (iter 15)\n",
      "\n",
      "Below, I'll give you the descriptions of the packets you have to generate, the previous where just examples\n",
      "\n",
      "This is a packet summary:\n",
      "130.231.202.234 â†’ 130.231.240.70 DNS 97 Standard query 0xc0b4 A adeventtracker.spotify.com OPT\n",
      "This is a packet summary:\n",
      "130.231.240.70 â†’ 130.231.202.234 DNS 138 Standard query response 0x7136 No such name A sstats.fdown.net.oulu.fi SOA ousrvr.oulu.fi\n",
      "This is a packet summary:\n",
      "130.231.202.234 â†’ 130.231.240.70 DNS 92 Standard query 0xa5b8 A negbar.ad-blocker.org OPT\n",
      "This is a packet summary:\n",
      "130.231.240.70 â†’ 130.231.202.234 DNS 244 Standard query response 0xcf08 A connectivity-check.ubuntu.com A 91.189.91.49 A 35.224.170.84 A 35.232.111.17 A 185.125.190.18 A 185.125.190.49 A 34.122.121.32 A 91.189.91.48 A 185.125.190.48 A 185.125.190.17 OPT\n",
      "This is a packet summary:\n",
      "130.231.202.234 â†’ 130.231.240.70 DNS 75 Standard query 0x0be6 A stats.fdown.net\n",
      "This is a packet summary:\n",
      "130.231.202.234 â†’ 130.231.240.70 DNS 94 Standard query 0xc2a9 A stats.fdown.net.oulu.fi OPT\n",
      "This is a packet summary:\n",
      "130.231.202.234 â†’ 130.231.240.70 DNS 84 Standard query 0x5e56 A sstats.fdown.net.oulu.fi\n",
      "This is a packet summary:\n",
      "130.231.240.70 â†’ 130.231.202.234 DNS 138 Standard query response 0x5a18 No such name A sstats.fdown.net SOA brad.ns.cloudflare.com\n",
      "This is a packet summary:\n",
      "130.231.202.234 â†’ 130.231.240.70 DNS 87 Standard query 0xce72 AAAA api.snapcraft.io OPT\n",
      "This is a packet summary:\n",
      "130.231.202.234 â†’ 130.231.240.70 DNS 96 Standard query 0xacb6 A ci5.googleusercontent.com OPT\n",
      "\n",
      "Generate python code for creating JUST the packets of the summaries given with scapy framework and put them all in a list named pkt_list. DO NOT create commands for other types of DNS rather than the ones belonging to the packets wanted to generate.Dont give back any comments or imports, just bare code and commands. Dont start the resposnses wiht ```python This is a flagrant error.\n",
      "\n",
      "...Generated!\n",
      "Number of completitions done: 16\n",
      "...........................................\n",
      " GENERATING SCAPY COMMANDS FOR THE FOLLOWING PACKETS (iter 16)\n",
      "\n",
      "Below, I'll give you the descriptions of the packets you have to generate, the previous where just examples\n",
      "\n",
      "This is a packet summary:\n",
      "130.231.202.234 â†’ 130.231.240.70 DNS 75 Standard query 0xd2b3 A stats.fdown.net\n",
      "This is a packet summary:\n",
      "130.231.202.234 â†’ 130.231.240.70 DNS 83 Standard query 0xc6ab A usage.fdown.net.oulu.fi\n",
      "This is a packet summary:\n",
      "130.231.202.234 â†’ 130.231.240.70 DNS 86 Standard query 0xca23 A usage.fdown.net OPT\n",
      "This is a packet summary:\n",
      "130.231.202.234 â†’ 130.231.240.70 DNS 83 Standard query 0x815e A usage.fdown.net.oulu.fi\n",
      "This is a packet summary:\n",
      "130.231.202.234 â†’ 130.231.240.70 DNS 87 Standard query 0xb6b8 A sstats.fdown.net OPT\n",
      "This is a packet summary:\n",
      "130.231.202.234 â†’ 130.231.240.70 DNS 89 Standard query 0xabc9 A cdn.discordapp.com OPT\n",
      "This is a packet summary:\n",
      "130.231.240.70 â†’ 130.231.202.234 DNS 104 Standard query response 0x4b23 A fonts.gstatic.com A 172.217.16.195 OPT\n",
      "This is a packet summary:\n",
      "130.231.240.70 â†’ 130.231.202.234 DNS 148 Standard query response 0x8ec9 No such name A usage.fdown.net SOA brad.ns.cloudflare.com OPT\n",
      "This is a packet summary:\n",
      "130.231.202.234 â†’ 130.231.240.70 DNS 89 Standard query 0xd426 A cdn.discordapp.com OPT\n",
      "This is a packet summary:\n",
      "130.231.240.70 â†’ 130.231.202.234 DNS 112 Standard query response 0xc03d A ext1-fra2.steamserver.net A 155.133.226.75 OPT\n",
      "\n",
      "Generate python code for creating JUST the packets of the summaries given with scapy framework and put them all in a list named pkt_list. DO NOT create commands for other types of DNS rather than the ones belonging to the packets wanted to generate.Dont give back any comments or imports, just bare code and commands. Dont start the resposnses wiht ```python This is a flagrant error.\n",
      "\n",
      "...Generated!\n",
      "Number of completitions done: 17\n",
      "...........................................\n",
      " GENERATING SCAPY COMMANDS FOR THE FOLLOWING PACKETS (iter 17)\n",
      "\n",
      "Below, I'll give you the descriptions of the packets you have to generate, the previous where just examples\n",
      "\n",
      "This is a packet summary:\n",
      "130.231.202.234 â†’ 130.231.240.70 DNS 75 Standard query 0xd2b3 A stats.fdown.net\n",
      "This is a packet summary:\n",
      "130.231.202.234 â†’ 130.231.240.70 DNS 89 Standard query 0x48d6 A widget.intercom.io OPT\n",
      "This is a packet summary:\n",
      "130.231.240.70 â†’ 130.231.202.234 DNS 148 Standard query response 0x78b9 No such name A stats.fdown.net SOA brad.ns.cloudflare.com OPT\n",
      "This is a packet summary:\n",
      "130.231.202.234 â†’ 130.231.240.70 DNS 96 Standard query 0x95cc A lh5.googleusercontent.com OPT\n",
      "This is a packet summary:\n",
      "130.231.240.70 â†’ 130.231.202.234 DNS 164 Standard query response 0x0568 A d27xxe7juh1us6.cloudfront.net A 18.165.121.221 A 18.165.121.41 A 18.165.121.230 A 18.165.121.21 OPT\n",
      "This is a packet summary:\n",
      "130.231.202.234 â†’ 130.231.240.70 DNS 98 Standard query 0x6dbf A googleads.g.doubleclick.net OPT\n",
      "This is a packet summary:\n",
      "130.231.202.234 â†’ 130.231.240.70 DNS 76 Standard query 0xb6b8 A sstats.fdown.net\n",
      "This is a packet summary:\n",
      "130.231.202.234 â†’ 130.231.240.70 DNS 89 Standard query 0xa23e A dealer.spotify.com OPT\n",
      "This is a packet summary:\n",
      "130.231.202.234 â†’ 130.231.240.70 DNS 100 Standard query 0x4072 A d27xxe7juh1us6.cloudfront.net OPT\n",
      "This is a packet summary:\n",
      "130.231.202.234 â†’ 130.231.240.70 DNS 99 Standard query 0xf707 AAAA api.steampowered.com.oulu.fi OPT\n",
      "\n",
      "Generate python code for creating JUST the packets of the summaries given with scapy framework and put them all in a list named pkt_list. DO NOT create commands for other types of DNS rather than the ones belonging to the packets wanted to generate.Dont give back any comments or imports, just bare code and commands. Dont start the resposnses wiht ```python This is a flagrant error.\n",
      "\n",
      "...Generated!\n",
      "Number of completitions done: 18\n",
      "...........................................\n",
      " GENERATING SCAPY COMMANDS FOR THE FOLLOWING PACKETS (iter 18)\n",
      "\n",
      "Below, I'll give you the descriptions of the packets you have to generate, the previous where just examples\n",
      "\n",
      "This is a packet summary:\n",
      "130.231.202.234 â†’ 130.231.240.70 DNS 90 Standard query 0x5141 A clients4.google.com OPT\n",
      "This is a packet summary:\n",
      "130.231.240.70 â†’ 130.231.202.234 DNS 137 Standard query response 0xf840 No such name A stats.fdown.net SOA brad.ns.cloudflare.com\n",
      "This is a packet summary:\n",
      "130.231.240.70 â†’ 130.231.202.234 DNS 137 Standard query response 0xfc3b No such name A stats.fdown.net SOA brad.ns.cloudflare.com\n",
      "This is a packet summary:\n",
      "130.231.240.70 â†’ 130.231.202.234 DNS 162 Standard query response 0x2919 A discord.com A 162.159.137.232 A 162.159.128.233 A 162.159.135.232 A 162.159.136.232 A 162.159.138.232 OPT\n",
      "This is a packet summary:\n",
      "130.231.240.70 â†’ 130.231.202.234 DNS 148 Standard query response 0xf840 No such name A stats.fdown.net SOA brad.ns.cloudflare.com OPT\n",
      "This is a packet summary:\n",
      "130.231.202.234 â†’ 130.231.240.70 DNS 98 Standard query 0x6dbf A googleads.g.doubleclick.net OPT\n",
      "This is a packet summary:\n",
      "130.231.240.70 â†’ 130.231.202.234 DNS 168 Standard query response 0x3c1c A audio-ak-spotify-com.akamaized.net CNAME a297.dscc.akamai.net A 193.166.4.70 A 193.166.4.71 OPT\n",
      "This is a packet summary:\n",
      "130.231.202.234 â†’ 130.231.240.70 DNS 83 Standard query 0xe54c A stats.fdown.net.oulu.fi\n",
      "This is a packet summary:\n",
      "130.231.202.234 â†’ 130.231.240.70 DNS 82 Standard query 0x14cf A omapsoas.fi OPT\n",
      "This is a packet summary:\n",
      "130.231.202.234 â†’ 130.231.240.70 DNS 89 Standard query 0xcea5 A dealer.spotify.com OPT\n",
      "\n",
      "Generate python code for creating JUST the packets of the summaries given with scapy framework and put them all in a list named pkt_list. DO NOT create commands for other types of DNS rather than the ones belonging to the packets wanted to generate.Dont give back any comments or imports, just bare code and commands. Dont start the resposnses wiht ```python This is a flagrant error.\n",
      "\n",
      "...Generated!\n",
      "Number of completitions done: 19\n",
      "...........................................\n",
      " GENERATING SCAPY COMMANDS FOR THE FOLLOWING PACKETS (iter 19)\n",
      "\n",
      "Below, I'll give you the descriptions of the packets you have to generate, the previous where just examples\n",
      "\n",
      "This is a packet summary:\n",
      "130.231.202.234 â†’ 130.231.240.70 DNS 106 Standard query 0xb1c3 A optimizationguide-pa.googleapis.com OPT\n",
      "This is a packet summary:\n",
      "130.231.240.70 â†’ 130.231.202.234 DNS 137 Standard query response 0x23f8 No such name A usage.fdown.net.oulu.fi SOA ousrvr.oulu.fi\n",
      "This is a packet summary:\n",
      "130.231.202.234 â†’ 130.231.240.70 DNS 85 Standard query 0x4a8a A steam-chat.com OPT\n",
      "This is a packet summary:\n",
      "130.231.240.70 â†’ 130.231.202.234 DNS 138 Standard query response 0xa85b No such name A sstats.fdown.net.oulu.fi SOA ousrvr.oulu.fi\n",
      "This is a packet summary:\n",
      "130.231.202.234 â†’ 208.67.222.222 DNS 99 Standard query 0x9431 A myip.opendns.com OPT\n",
      "This is a packet summary:\n",
      "130.231.202.234 â†’ 130.231.240.70 DNS 86 Standard query 0xfc3b A stats.fdown.net OPT\n",
      "This is a packet summary:\n",
      "130.231.202.234 â†’ 130.231.240.70 DNS 90 Standard query 0x20d5 A clients4.google.com OPT\n",
      "This is a packet summary:\n",
      "130.231.240.70 â†’ 130.231.202.234 DNS 149 Standard query response 0x27d2 No such name A sstats.fdown.net SOA brad.ns.cloudflare.com OPT\n",
      "This is a packet summary:\n",
      "130.231.240.70 â†’ 130.231.202.234 DNS 148 Standard query response 0xd2b3 No such name A stats.fdown.net SOA brad.ns.cloudflare.com OPT\n",
      "This is a packet summary:\n",
      "130.231.240.70 â†’ 130.231.202.234 DNS 138 Standard query response 0x73f5 No such name A sstats.fdown.net SOA brad.ns.cloudflare.com\n",
      "\n",
      "Generate python code for creating JUST the packets of the summaries given with scapy framework and put them all in a list named pkt_list. DO NOT create commands for other types of DNS rather than the ones belonging to the packets wanted to generate.Dont give back any comments or imports, just bare code and commands. Dont start the resposnses wiht ```python This is a flagrant error.\n",
      "\n"
     ]
    },
    {
     "name": "stdout",
     "output_type": "stream",
     "text": [
      "...Generated!\n",
      "Number of completitions done: 20\n",
      "...........................................\n",
      " GENERATING SCAPY COMMANDS FOR THE FOLLOWING PACKETS (iter 20)\n",
      "\n",
      "Below, I'll give you the descriptions of the packets you have to generate, the previous where just examples\n",
      "\n",
      "This is a packet summary:\n",
      "130.231.240.70 â†’ 130.231.202.234 DNS 148 Standard query response 0x6a7d No such name A usage.fdown.net.oulu.fi SOA ousrvr.oulu.fi OPT\n",
      "This is a packet summary:\n",
      "130.231.202.234 â†’ 130.231.240.70 DNS 89 Standard query 0xe177 A www.googleapis.com OPT\n",
      "This is a packet summary:\n",
      "130.231.240.70 â†’ 130.231.202.234 DNS 169 Standard query response 0xd426 A cdn.discordapp.com A 162.159.135.233 A 162.159.134.233 A 162.159.129.233 A 162.159.133.233 A 162.159.130.233 OPT\n",
      "This is a packet summary:\n",
      "130.231.240.70 â†’ 130.231.202.234 DNS 124 Standard query response 0x31ae A test.steampowered.com A 193.166.4.73 A 193.166.4.70 OPT\n",
      "This is a packet summary:\n",
      "130.231.240.70 â†’ 130.231.202.234 DNS 148 Standard query response 0x15b2 No such name A usage.fdown.net SOA brad.ns.cloudflare.com OPT\n",
      "This is a packet summary:\n",
      "208.67.222.222 â†’ 130.231.202.234 DNS 103 Standard query response 0x3ff6 A myip.opendns.com A 130.231.202.234 OPT\n",
      "This is a packet summary:\n",
      "130.231.202.234 â†’ 130.231.240.70 DNS 86 Standard query 0x78b9 A stats.fdown.net OPT\n",
      "This is a packet summary:\n",
      "130.231.202.234 â†’ 130.231.240.70 DNS 87 Standard query 0x5a18 A sstats.fdown.net OPT\n",
      "This is a packet summary:\n",
      "130.231.202.234 â†’ 130.231.240.70 DNS 90 Standard query 0xd1be A adservice.google.fi OPT\n",
      "This is a packet summary:\n",
      "130.231.240.70 â†’ 130.231.202.234 DNS 279 Standard query response 0x18e0 A redirect.prod.experiment.routing.cloudfront.aws.a2z.com CNAME redirect.stripe2.prod.experiment.routing.cloudfront.aws.a2z.com CNAME edger-edger-4e3vcwvnek77-1367313377.us-east-2.elb.amazonaws.com A 18.116.180.116 A 3.20.18.7 A 3.23.57.200 OPT\n",
      "\n",
      "Generate python code for creating JUST the packets of the summaries given with scapy framework and put them all in a list named pkt_list. DO NOT create commands for other types of DNS rather than the ones belonging to the packets wanted to generate.Dont give back any comments or imports, just bare code and commands. Dont start the resposnses wiht ```python This is a flagrant error.\n",
      "\n"
     ]
    },
    {
     "ename": "KeyboardInterrupt",
     "evalue": "",
     "output_type": "error",
     "traceback": [
      "\u001b[1;31m---------------------------------------------------------------------------\u001b[0m",
      "\u001b[1;31mTimeoutError\u001b[0m                              Traceback (most recent call last)",
      "File \u001b[1;32m~\\anaconda3\\envs\\PAC-GPT\\Lib\\site-packages\\httpcore\\_backends\\sync.py:126\u001b[0m, in \u001b[0;36mSyncStream.read\u001b[1;34m(self, max_bytes, timeout)\u001b[0m\n\u001b[0;32m    125\u001b[0m \u001b[38;5;28mself\u001b[39m\u001b[38;5;241m.\u001b[39m_sock\u001b[38;5;241m.\u001b[39msettimeout(timeout)\n\u001b[1;32m--> 126\u001b[0m \u001b[38;5;28;01mreturn\u001b[39;00m \u001b[38;5;28mself\u001b[39m\u001b[38;5;241m.\u001b[39m_sock\u001b[38;5;241m.\u001b[39mrecv(max_bytes)\n",
      "File \u001b[1;32m~\\anaconda3\\envs\\PAC-GPT\\Lib\\ssl.py:1296\u001b[0m, in \u001b[0;36mSSLSocket.recv\u001b[1;34m(self, buflen, flags)\u001b[0m\n\u001b[0;32m   1293\u001b[0m         \u001b[38;5;28;01mraise\u001b[39;00m \u001b[38;5;167;01mValueError\u001b[39;00m(\n\u001b[0;32m   1294\u001b[0m             \u001b[38;5;124m\"\u001b[39m\u001b[38;5;124mnon-zero flags not allowed in calls to recv() on \u001b[39m\u001b[38;5;132;01m%s\u001b[39;00m\u001b[38;5;124m\"\u001b[39m \u001b[38;5;241m%\u001b[39m\n\u001b[0;32m   1295\u001b[0m             \u001b[38;5;28mself\u001b[39m\u001b[38;5;241m.\u001b[39m\u001b[38;5;18m__class__\u001b[39m)\n\u001b[1;32m-> 1296\u001b[0m     \u001b[38;5;28;01mreturn\u001b[39;00m \u001b[38;5;28mself\u001b[39m\u001b[38;5;241m.\u001b[39mread(buflen)\n\u001b[0;32m   1297\u001b[0m \u001b[38;5;28;01melse\u001b[39;00m:\n",
      "File \u001b[1;32m~\\anaconda3\\envs\\PAC-GPT\\Lib\\ssl.py:1169\u001b[0m, in \u001b[0;36mSSLSocket.read\u001b[1;34m(self, len, buffer)\u001b[0m\n\u001b[0;32m   1168\u001b[0m     \u001b[38;5;28;01melse\u001b[39;00m:\n\u001b[1;32m-> 1169\u001b[0m         \u001b[38;5;28;01mreturn\u001b[39;00m \u001b[38;5;28mself\u001b[39m\u001b[38;5;241m.\u001b[39m_sslobj\u001b[38;5;241m.\u001b[39mread(\u001b[38;5;28mlen\u001b[39m)\n\u001b[0;32m   1170\u001b[0m \u001b[38;5;28;01mexcept\u001b[39;00m SSLError \u001b[38;5;28;01mas\u001b[39;00m x:\n",
      "\u001b[1;31mTimeoutError\u001b[0m: The read operation timed out",
      "\nDuring handling of the above exception, another exception occurred:\n",
      "\u001b[1;31mKeyboardInterrupt\u001b[0m                         Traceback (most recent call last)",
      "Cell \u001b[1;32mIn[11], line 29\u001b[0m\n\u001b[0;32m     25\u001b[0m messages\u001b[38;5;241m=\u001b[39m[\n\u001b[0;32m     26\u001b[0m     {\u001b[38;5;124m\"\u001b[39m\u001b[38;5;124mrole\u001b[39m\u001b[38;5;124m\"\u001b[39m: \u001b[38;5;124m\"\u001b[39m\u001b[38;5;124muser\u001b[39m\u001b[38;5;124m\"\u001b[39m, \u001b[38;5;124m\"\u001b[39m\u001b[38;5;124mcontent\u001b[39m\u001b[38;5;124m\"\u001b[39m: system_message \u001b[38;5;241m+\u001b[39m query_content}]\n\u001b[0;32m     28\u001b[0m \u001b[38;5;66;03m#Esta es la petición que le mandas al modelo de IA\u001b[39;00m\n\u001b[1;32m---> 29\u001b[0m completion \u001b[38;5;241m=\u001b[39m client\u001b[38;5;241m.\u001b[39mchat\u001b[38;5;241m.\u001b[39mcompletions\u001b[38;5;241m.\u001b[39mcreate(\n\u001b[0;32m     30\u001b[0m     model\u001b[38;5;241m=\u001b[39m\u001b[38;5;124m\"\u001b[39m\u001b[38;5;124mo1-mini\u001b[39m\u001b[38;5;124m\"\u001b[39m, \n\u001b[0;32m     31\u001b[0m     messages\u001b[38;5;241m=\u001b[39mmessages\n\u001b[0;32m     32\u001b[0m )\n\u001b[0;32m     34\u001b[0m \u001b[38;5;28mprint\u001b[39m(\u001b[38;5;124m\"\u001b[39m\u001b[38;5;124m...Generated!\u001b[39m\u001b[38;5;124m\"\u001b[39m)\n\u001b[0;32m     36\u001b[0m \u001b[38;5;66;03m# Guardamos tanto el resumen de los paquetes que solicitamos y lo que devuelve el modelo para estos paquetes\u001b[39;00m\n",
      "File \u001b[1;32m~\\anaconda3\\envs\\PAC-GPT\\Lib\\site-packages\\openai\\_utils\\_utils.py:271\u001b[0m, in \u001b[0;36mrequired_args.<locals>.inner.<locals>.wrapper\u001b[1;34m(*args, **kwargs)\u001b[0m\n\u001b[0;32m    269\u001b[0m             msg \u001b[38;5;241m=\u001b[39m \u001b[38;5;124mf\u001b[39m\u001b[38;5;124m\"\u001b[39m\u001b[38;5;124mMissing required argument: \u001b[39m\u001b[38;5;132;01m{\u001b[39;00mquote(missing[\u001b[38;5;241m0\u001b[39m])\u001b[38;5;132;01m}\u001b[39;00m\u001b[38;5;124m\"\u001b[39m\n\u001b[0;32m    270\u001b[0m     \u001b[38;5;28;01mraise\u001b[39;00m \u001b[38;5;167;01mTypeError\u001b[39;00m(msg)\n\u001b[1;32m--> 271\u001b[0m \u001b[38;5;28;01mreturn\u001b[39;00m func(\u001b[38;5;241m*\u001b[39margs, \u001b[38;5;241m*\u001b[39m\u001b[38;5;241m*\u001b[39mkwargs)\n",
      "File \u001b[1;32m~\\anaconda3\\envs\\PAC-GPT\\Lib\\site-packages\\openai\\resources\\chat\\completions.py:659\u001b[0m, in \u001b[0;36mCompletions.create\u001b[1;34m(self, messages, model, frequency_penalty, function_call, functions, logit_bias, logprobs, max_tokens, n, presence_penalty, response_format, seed, stop, stream, temperature, tool_choice, tools, top_logprobs, top_p, user, extra_headers, extra_query, extra_body, timeout)\u001b[0m\n\u001b[0;32m    608\u001b[0m \u001b[38;5;129m@required_args\u001b[39m([\u001b[38;5;124m\"\u001b[39m\u001b[38;5;124mmessages\u001b[39m\u001b[38;5;124m\"\u001b[39m, \u001b[38;5;124m\"\u001b[39m\u001b[38;5;124mmodel\u001b[39m\u001b[38;5;124m\"\u001b[39m], [\u001b[38;5;124m\"\u001b[39m\u001b[38;5;124mmessages\u001b[39m\u001b[38;5;124m\"\u001b[39m, \u001b[38;5;124m\"\u001b[39m\u001b[38;5;124mmodel\u001b[39m\u001b[38;5;124m\"\u001b[39m, \u001b[38;5;124m\"\u001b[39m\u001b[38;5;124mstream\u001b[39m\u001b[38;5;124m\"\u001b[39m])\n\u001b[0;32m    609\u001b[0m \u001b[38;5;28;01mdef\u001b[39;00m \u001b[38;5;21mcreate\u001b[39m(\n\u001b[0;32m    610\u001b[0m     \u001b[38;5;28mself\u001b[39m,\n\u001b[1;32m   (...)\u001b[0m\n\u001b[0;32m    657\u001b[0m     timeout: \u001b[38;5;28mfloat\u001b[39m \u001b[38;5;241m|\u001b[39m httpx\u001b[38;5;241m.\u001b[39mTimeout \u001b[38;5;241m|\u001b[39m \u001b[38;5;28;01mNone\u001b[39;00m \u001b[38;5;241m|\u001b[39m NotGiven \u001b[38;5;241m=\u001b[39m NOT_GIVEN,\n\u001b[0;32m    658\u001b[0m ) \u001b[38;5;241m-\u001b[39m\u001b[38;5;241m>\u001b[39m ChatCompletion \u001b[38;5;241m|\u001b[39m Stream[ChatCompletionChunk]:\n\u001b[1;32m--> 659\u001b[0m     \u001b[38;5;28;01mreturn\u001b[39;00m \u001b[38;5;28mself\u001b[39m\u001b[38;5;241m.\u001b[39m_post(\n\u001b[0;32m    660\u001b[0m         \u001b[38;5;124m\"\u001b[39m\u001b[38;5;124m/chat/completions\u001b[39m\u001b[38;5;124m\"\u001b[39m,\n\u001b[0;32m    661\u001b[0m         body\u001b[38;5;241m=\u001b[39mmaybe_transform(\n\u001b[0;32m    662\u001b[0m             {\n\u001b[0;32m    663\u001b[0m                 \u001b[38;5;124m\"\u001b[39m\u001b[38;5;124mmessages\u001b[39m\u001b[38;5;124m\"\u001b[39m: messages,\n\u001b[0;32m    664\u001b[0m                 \u001b[38;5;124m\"\u001b[39m\u001b[38;5;124mmodel\u001b[39m\u001b[38;5;124m\"\u001b[39m: model,\n\u001b[0;32m    665\u001b[0m                 \u001b[38;5;124m\"\u001b[39m\u001b[38;5;124mfrequency_penalty\u001b[39m\u001b[38;5;124m\"\u001b[39m: frequency_penalty,\n\u001b[0;32m    666\u001b[0m                 \u001b[38;5;124m\"\u001b[39m\u001b[38;5;124mfunction_call\u001b[39m\u001b[38;5;124m\"\u001b[39m: function_call,\n\u001b[0;32m    667\u001b[0m                 \u001b[38;5;124m\"\u001b[39m\u001b[38;5;124mfunctions\u001b[39m\u001b[38;5;124m\"\u001b[39m: functions,\n\u001b[0;32m    668\u001b[0m                 \u001b[38;5;124m\"\u001b[39m\u001b[38;5;124mlogit_bias\u001b[39m\u001b[38;5;124m\"\u001b[39m: logit_bias,\n\u001b[0;32m    669\u001b[0m                 \u001b[38;5;124m\"\u001b[39m\u001b[38;5;124mlogprobs\u001b[39m\u001b[38;5;124m\"\u001b[39m: logprobs,\n\u001b[0;32m    670\u001b[0m                 \u001b[38;5;124m\"\u001b[39m\u001b[38;5;124mmax_tokens\u001b[39m\u001b[38;5;124m\"\u001b[39m: max_tokens,\n\u001b[0;32m    671\u001b[0m                 \u001b[38;5;124m\"\u001b[39m\u001b[38;5;124mn\u001b[39m\u001b[38;5;124m\"\u001b[39m: n,\n\u001b[0;32m    672\u001b[0m                 \u001b[38;5;124m\"\u001b[39m\u001b[38;5;124mpresence_penalty\u001b[39m\u001b[38;5;124m\"\u001b[39m: presence_penalty,\n\u001b[0;32m    673\u001b[0m                 \u001b[38;5;124m\"\u001b[39m\u001b[38;5;124mresponse_format\u001b[39m\u001b[38;5;124m\"\u001b[39m: response_format,\n\u001b[0;32m    674\u001b[0m                 \u001b[38;5;124m\"\u001b[39m\u001b[38;5;124mseed\u001b[39m\u001b[38;5;124m\"\u001b[39m: seed,\n\u001b[0;32m    675\u001b[0m                 \u001b[38;5;124m\"\u001b[39m\u001b[38;5;124mstop\u001b[39m\u001b[38;5;124m\"\u001b[39m: stop,\n\u001b[0;32m    676\u001b[0m                 \u001b[38;5;124m\"\u001b[39m\u001b[38;5;124mstream\u001b[39m\u001b[38;5;124m\"\u001b[39m: stream,\n\u001b[0;32m    677\u001b[0m                 \u001b[38;5;124m\"\u001b[39m\u001b[38;5;124mtemperature\u001b[39m\u001b[38;5;124m\"\u001b[39m: temperature,\n\u001b[0;32m    678\u001b[0m                 \u001b[38;5;124m\"\u001b[39m\u001b[38;5;124mtool_choice\u001b[39m\u001b[38;5;124m\"\u001b[39m: tool_choice,\n\u001b[0;32m    679\u001b[0m                 \u001b[38;5;124m\"\u001b[39m\u001b[38;5;124mtools\u001b[39m\u001b[38;5;124m\"\u001b[39m: tools,\n\u001b[0;32m    680\u001b[0m                 \u001b[38;5;124m\"\u001b[39m\u001b[38;5;124mtop_logprobs\u001b[39m\u001b[38;5;124m\"\u001b[39m: top_logprobs,\n\u001b[0;32m    681\u001b[0m                 \u001b[38;5;124m\"\u001b[39m\u001b[38;5;124mtop_p\u001b[39m\u001b[38;5;124m\"\u001b[39m: top_p,\n\u001b[0;32m    682\u001b[0m                 \u001b[38;5;124m\"\u001b[39m\u001b[38;5;124muser\u001b[39m\u001b[38;5;124m\"\u001b[39m: user,\n\u001b[0;32m    683\u001b[0m             },\n\u001b[0;32m    684\u001b[0m             completion_create_params\u001b[38;5;241m.\u001b[39mCompletionCreateParams,\n\u001b[0;32m    685\u001b[0m         ),\n\u001b[0;32m    686\u001b[0m         options\u001b[38;5;241m=\u001b[39mmake_request_options(\n\u001b[0;32m    687\u001b[0m             extra_headers\u001b[38;5;241m=\u001b[39mextra_headers, extra_query\u001b[38;5;241m=\u001b[39mextra_query, extra_body\u001b[38;5;241m=\u001b[39mextra_body, timeout\u001b[38;5;241m=\u001b[39mtimeout\n\u001b[0;32m    688\u001b[0m         ),\n\u001b[0;32m    689\u001b[0m         cast_to\u001b[38;5;241m=\u001b[39mChatCompletion,\n\u001b[0;32m    690\u001b[0m         stream\u001b[38;5;241m=\u001b[39mstream \u001b[38;5;129;01mor\u001b[39;00m \u001b[38;5;28;01mFalse\u001b[39;00m,\n\u001b[0;32m    691\u001b[0m         stream_cls\u001b[38;5;241m=\u001b[39mStream[ChatCompletionChunk],\n\u001b[0;32m    692\u001b[0m     )\n",
      "File \u001b[1;32m~\\anaconda3\\envs\\PAC-GPT\\Lib\\site-packages\\openai\\_base_client.py:1180\u001b[0m, in \u001b[0;36mSyncAPIClient.post\u001b[1;34m(self, path, cast_to, body, options, files, stream, stream_cls)\u001b[0m\n\u001b[0;32m   1166\u001b[0m \u001b[38;5;28;01mdef\u001b[39;00m \u001b[38;5;21mpost\u001b[39m(\n\u001b[0;32m   1167\u001b[0m     \u001b[38;5;28mself\u001b[39m,\n\u001b[0;32m   1168\u001b[0m     path: \u001b[38;5;28mstr\u001b[39m,\n\u001b[1;32m   (...)\u001b[0m\n\u001b[0;32m   1175\u001b[0m     stream_cls: \u001b[38;5;28mtype\u001b[39m[_StreamT] \u001b[38;5;241m|\u001b[39m \u001b[38;5;28;01mNone\u001b[39;00m \u001b[38;5;241m=\u001b[39m \u001b[38;5;28;01mNone\u001b[39;00m,\n\u001b[0;32m   1176\u001b[0m ) \u001b[38;5;241m-\u001b[39m\u001b[38;5;241m>\u001b[39m ResponseT \u001b[38;5;241m|\u001b[39m _StreamT:\n\u001b[0;32m   1177\u001b[0m     opts \u001b[38;5;241m=\u001b[39m FinalRequestOptions\u001b[38;5;241m.\u001b[39mconstruct(\n\u001b[0;32m   1178\u001b[0m         method\u001b[38;5;241m=\u001b[39m\u001b[38;5;124m\"\u001b[39m\u001b[38;5;124mpost\u001b[39m\u001b[38;5;124m\"\u001b[39m, url\u001b[38;5;241m=\u001b[39mpath, json_data\u001b[38;5;241m=\u001b[39mbody, files\u001b[38;5;241m=\u001b[39mto_httpx_files(files), \u001b[38;5;241m*\u001b[39m\u001b[38;5;241m*\u001b[39moptions\n\u001b[0;32m   1179\u001b[0m     )\n\u001b[1;32m-> 1180\u001b[0m     \u001b[38;5;28;01mreturn\u001b[39;00m cast(ResponseT, \u001b[38;5;28mself\u001b[39m\u001b[38;5;241m.\u001b[39mrequest(cast_to, opts, stream\u001b[38;5;241m=\u001b[39mstream, stream_cls\u001b[38;5;241m=\u001b[39mstream_cls))\n",
      "File \u001b[1;32m~\\anaconda3\\envs\\PAC-GPT\\Lib\\site-packages\\openai\\_base_client.py:869\u001b[0m, in \u001b[0;36mSyncAPIClient.request\u001b[1;34m(self, cast_to, options, remaining_retries, stream, stream_cls)\u001b[0m\n\u001b[0;32m    860\u001b[0m \u001b[38;5;28;01mdef\u001b[39;00m \u001b[38;5;21mrequest\u001b[39m(\n\u001b[0;32m    861\u001b[0m     \u001b[38;5;28mself\u001b[39m,\n\u001b[0;32m    862\u001b[0m     cast_to: Type[ResponseT],\n\u001b[1;32m   (...)\u001b[0m\n\u001b[0;32m    867\u001b[0m     stream_cls: \u001b[38;5;28mtype\u001b[39m[_StreamT] \u001b[38;5;241m|\u001b[39m \u001b[38;5;28;01mNone\u001b[39;00m \u001b[38;5;241m=\u001b[39m \u001b[38;5;28;01mNone\u001b[39;00m,\n\u001b[0;32m    868\u001b[0m ) \u001b[38;5;241m-\u001b[39m\u001b[38;5;241m>\u001b[39m ResponseT \u001b[38;5;241m|\u001b[39m _StreamT:\n\u001b[1;32m--> 869\u001b[0m     \u001b[38;5;28;01mreturn\u001b[39;00m \u001b[38;5;28mself\u001b[39m\u001b[38;5;241m.\u001b[39m_request(\n\u001b[0;32m    870\u001b[0m         cast_to\u001b[38;5;241m=\u001b[39mcast_to,\n\u001b[0;32m    871\u001b[0m         options\u001b[38;5;241m=\u001b[39moptions,\n\u001b[0;32m    872\u001b[0m         stream\u001b[38;5;241m=\u001b[39mstream,\n\u001b[0;32m    873\u001b[0m         stream_cls\u001b[38;5;241m=\u001b[39mstream_cls,\n\u001b[0;32m    874\u001b[0m         remaining_retries\u001b[38;5;241m=\u001b[39mremaining_retries,\n\u001b[0;32m    875\u001b[0m     )\n",
      "File \u001b[1;32m~\\anaconda3\\envs\\PAC-GPT\\Lib\\site-packages\\openai\\_base_client.py:898\u001b[0m, in \u001b[0;36mSyncAPIClient._request\u001b[1;34m(self, cast_to, options, remaining_retries, stream, stream_cls)\u001b[0m\n\u001b[0;32m    895\u001b[0m     kwargs[\u001b[38;5;124m\"\u001b[39m\u001b[38;5;124mauth\u001b[39m\u001b[38;5;124m\"\u001b[39m] \u001b[38;5;241m=\u001b[39m \u001b[38;5;28mself\u001b[39m\u001b[38;5;241m.\u001b[39mcustom_auth\n\u001b[0;32m    897\u001b[0m \u001b[38;5;28;01mtry\u001b[39;00m:\n\u001b[1;32m--> 898\u001b[0m     response \u001b[38;5;241m=\u001b[39m \u001b[38;5;28mself\u001b[39m\u001b[38;5;241m.\u001b[39m_client\u001b[38;5;241m.\u001b[39msend(\n\u001b[0;32m    899\u001b[0m         request,\n\u001b[0;32m    900\u001b[0m         stream\u001b[38;5;241m=\u001b[39mstream \u001b[38;5;129;01mor\u001b[39;00m \u001b[38;5;28mself\u001b[39m\u001b[38;5;241m.\u001b[39m_should_stream_response_body(request\u001b[38;5;241m=\u001b[39mrequest),\n\u001b[0;32m    901\u001b[0m         \u001b[38;5;241m*\u001b[39m\u001b[38;5;241m*\u001b[39mkwargs,\n\u001b[0;32m    902\u001b[0m     )\n\u001b[0;32m    903\u001b[0m \u001b[38;5;28;01mexcept\u001b[39;00m httpx\u001b[38;5;241m.\u001b[39mTimeoutException \u001b[38;5;28;01mas\u001b[39;00m err:\n\u001b[0;32m    904\u001b[0m     log\u001b[38;5;241m.\u001b[39mdebug(\u001b[38;5;124m\"\u001b[39m\u001b[38;5;124mEncountered httpx.TimeoutException\u001b[39m\u001b[38;5;124m\"\u001b[39m, exc_info\u001b[38;5;241m=\u001b[39m\u001b[38;5;28;01mTrue\u001b[39;00m)\n",
      "File \u001b[1;32m~\\anaconda3\\envs\\PAC-GPT\\Lib\\site-packages\\httpx\\_client.py:915\u001b[0m, in \u001b[0;36mClient.send\u001b[1;34m(self, request, stream, auth, follow_redirects)\u001b[0m\n\u001b[0;32m    907\u001b[0m follow_redirects \u001b[38;5;241m=\u001b[39m (\n\u001b[0;32m    908\u001b[0m     \u001b[38;5;28mself\u001b[39m\u001b[38;5;241m.\u001b[39mfollow_redirects\n\u001b[0;32m    909\u001b[0m     \u001b[38;5;28;01mif\u001b[39;00m \u001b[38;5;28misinstance\u001b[39m(follow_redirects, UseClientDefault)\n\u001b[0;32m    910\u001b[0m     \u001b[38;5;28;01melse\u001b[39;00m follow_redirects\n\u001b[0;32m    911\u001b[0m )\n\u001b[0;32m    913\u001b[0m auth \u001b[38;5;241m=\u001b[39m \u001b[38;5;28mself\u001b[39m\u001b[38;5;241m.\u001b[39m_build_request_auth(request, auth)\n\u001b[1;32m--> 915\u001b[0m response \u001b[38;5;241m=\u001b[39m \u001b[38;5;28mself\u001b[39m\u001b[38;5;241m.\u001b[39m_send_handling_auth(\n\u001b[0;32m    916\u001b[0m     request,\n\u001b[0;32m    917\u001b[0m     auth\u001b[38;5;241m=\u001b[39mauth,\n\u001b[0;32m    918\u001b[0m     follow_redirects\u001b[38;5;241m=\u001b[39mfollow_redirects,\n\u001b[0;32m    919\u001b[0m     history\u001b[38;5;241m=\u001b[39m[],\n\u001b[0;32m    920\u001b[0m )\n\u001b[0;32m    921\u001b[0m \u001b[38;5;28;01mtry\u001b[39;00m:\n\u001b[0;32m    922\u001b[0m     \u001b[38;5;28;01mif\u001b[39;00m \u001b[38;5;129;01mnot\u001b[39;00m stream:\n",
      "File \u001b[1;32m~\\anaconda3\\envs\\PAC-GPT\\Lib\\site-packages\\httpx\\_client.py:943\u001b[0m, in \u001b[0;36mClient._send_handling_auth\u001b[1;34m(self, request, auth, follow_redirects, history)\u001b[0m\n\u001b[0;32m    940\u001b[0m request \u001b[38;5;241m=\u001b[39m \u001b[38;5;28mnext\u001b[39m(auth_flow)\n\u001b[0;32m    942\u001b[0m \u001b[38;5;28;01mwhile\u001b[39;00m \u001b[38;5;28;01mTrue\u001b[39;00m:\n\u001b[1;32m--> 943\u001b[0m     response \u001b[38;5;241m=\u001b[39m \u001b[38;5;28mself\u001b[39m\u001b[38;5;241m.\u001b[39m_send_handling_redirects(\n\u001b[0;32m    944\u001b[0m         request,\n\u001b[0;32m    945\u001b[0m         follow_redirects\u001b[38;5;241m=\u001b[39mfollow_redirects,\n\u001b[0;32m    946\u001b[0m         history\u001b[38;5;241m=\u001b[39mhistory,\n\u001b[0;32m    947\u001b[0m     )\n\u001b[0;32m    948\u001b[0m     \u001b[38;5;28;01mtry\u001b[39;00m:\n\u001b[0;32m    949\u001b[0m         \u001b[38;5;28;01mtry\u001b[39;00m:\n",
      "File \u001b[1;32m~\\anaconda3\\envs\\PAC-GPT\\Lib\\site-packages\\httpx\\_client.py:980\u001b[0m, in \u001b[0;36mClient._send_handling_redirects\u001b[1;34m(self, request, follow_redirects, history)\u001b[0m\n\u001b[0;32m    977\u001b[0m \u001b[38;5;28;01mfor\u001b[39;00m hook \u001b[38;5;129;01min\u001b[39;00m \u001b[38;5;28mself\u001b[39m\u001b[38;5;241m.\u001b[39m_event_hooks[\u001b[38;5;124m\"\u001b[39m\u001b[38;5;124mrequest\u001b[39m\u001b[38;5;124m\"\u001b[39m]:\n\u001b[0;32m    978\u001b[0m     hook(request)\n\u001b[1;32m--> 980\u001b[0m response \u001b[38;5;241m=\u001b[39m \u001b[38;5;28mself\u001b[39m\u001b[38;5;241m.\u001b[39m_send_single_request(request)\n\u001b[0;32m    981\u001b[0m \u001b[38;5;28;01mtry\u001b[39;00m:\n\u001b[0;32m    982\u001b[0m     \u001b[38;5;28;01mfor\u001b[39;00m hook \u001b[38;5;129;01min\u001b[39;00m \u001b[38;5;28mself\u001b[39m\u001b[38;5;241m.\u001b[39m_event_hooks[\u001b[38;5;124m\"\u001b[39m\u001b[38;5;124mresponse\u001b[39m\u001b[38;5;124m\"\u001b[39m]:\n",
      "File \u001b[1;32m~\\anaconda3\\envs\\PAC-GPT\\Lib\\site-packages\\httpx\\_client.py:1016\u001b[0m, in \u001b[0;36mClient._send_single_request\u001b[1;34m(self, request)\u001b[0m\n\u001b[0;32m   1011\u001b[0m     \u001b[38;5;28;01mraise\u001b[39;00m \u001b[38;5;167;01mRuntimeError\u001b[39;00m(\n\u001b[0;32m   1012\u001b[0m         \u001b[38;5;124m\"\u001b[39m\u001b[38;5;124mAttempted to send an async request with a sync Client instance.\u001b[39m\u001b[38;5;124m\"\u001b[39m\n\u001b[0;32m   1013\u001b[0m     )\n\u001b[0;32m   1015\u001b[0m \u001b[38;5;28;01mwith\u001b[39;00m request_context(request\u001b[38;5;241m=\u001b[39mrequest):\n\u001b[1;32m-> 1016\u001b[0m     response \u001b[38;5;241m=\u001b[39m transport\u001b[38;5;241m.\u001b[39mhandle_request(request)\n\u001b[0;32m   1018\u001b[0m \u001b[38;5;28;01massert\u001b[39;00m \u001b[38;5;28misinstance\u001b[39m(response\u001b[38;5;241m.\u001b[39mstream, SyncByteStream)\n\u001b[0;32m   1020\u001b[0m response\u001b[38;5;241m.\u001b[39mrequest \u001b[38;5;241m=\u001b[39m request\n",
      "File \u001b[1;32m~\\anaconda3\\envs\\PAC-GPT\\Lib\\site-packages\\httpx\\_transports\\default.py:231\u001b[0m, in \u001b[0;36mHTTPTransport.handle_request\u001b[1;34m(self, request)\u001b[0m\n\u001b[0;32m    218\u001b[0m req \u001b[38;5;241m=\u001b[39m httpcore\u001b[38;5;241m.\u001b[39mRequest(\n\u001b[0;32m    219\u001b[0m     method\u001b[38;5;241m=\u001b[39mrequest\u001b[38;5;241m.\u001b[39mmethod,\n\u001b[0;32m    220\u001b[0m     url\u001b[38;5;241m=\u001b[39mhttpcore\u001b[38;5;241m.\u001b[39mURL(\n\u001b[1;32m   (...)\u001b[0m\n\u001b[0;32m    228\u001b[0m     extensions\u001b[38;5;241m=\u001b[39mrequest\u001b[38;5;241m.\u001b[39mextensions,\n\u001b[0;32m    229\u001b[0m )\n\u001b[0;32m    230\u001b[0m \u001b[38;5;28;01mwith\u001b[39;00m map_httpcore_exceptions():\n\u001b[1;32m--> 231\u001b[0m     resp \u001b[38;5;241m=\u001b[39m \u001b[38;5;28mself\u001b[39m\u001b[38;5;241m.\u001b[39m_pool\u001b[38;5;241m.\u001b[39mhandle_request(req)\n\u001b[0;32m    233\u001b[0m \u001b[38;5;28;01massert\u001b[39;00m \u001b[38;5;28misinstance\u001b[39m(resp\u001b[38;5;241m.\u001b[39mstream, typing\u001b[38;5;241m.\u001b[39mIterable)\n\u001b[0;32m    235\u001b[0m \u001b[38;5;28;01mreturn\u001b[39;00m Response(\n\u001b[0;32m    236\u001b[0m     status_code\u001b[38;5;241m=\u001b[39mresp\u001b[38;5;241m.\u001b[39mstatus,\n\u001b[0;32m    237\u001b[0m     headers\u001b[38;5;241m=\u001b[39mresp\u001b[38;5;241m.\u001b[39mheaders,\n\u001b[0;32m    238\u001b[0m     stream\u001b[38;5;241m=\u001b[39mResponseStream(resp\u001b[38;5;241m.\u001b[39mstream),\n\u001b[0;32m    239\u001b[0m     extensions\u001b[38;5;241m=\u001b[39mresp\u001b[38;5;241m.\u001b[39mextensions,\n\u001b[0;32m    240\u001b[0m )\n",
      "File \u001b[1;32m~\\anaconda3\\envs\\PAC-GPT\\Lib\\site-packages\\httpcore\\_sync\\connection_pool.py:268\u001b[0m, in \u001b[0;36mConnectionPool.handle_request\u001b[1;34m(self, request)\u001b[0m\n\u001b[0;32m    266\u001b[0m     \u001b[38;5;28;01mwith\u001b[39;00m ShieldCancellation():\n\u001b[0;32m    267\u001b[0m         \u001b[38;5;28mself\u001b[39m\u001b[38;5;241m.\u001b[39mresponse_closed(status)\n\u001b[1;32m--> 268\u001b[0m     \u001b[38;5;28;01mraise\u001b[39;00m exc\n\u001b[0;32m    269\u001b[0m \u001b[38;5;28;01melse\u001b[39;00m:\n\u001b[0;32m    270\u001b[0m     \u001b[38;5;28;01mbreak\u001b[39;00m\n",
      "File \u001b[1;32m~\\anaconda3\\envs\\PAC-GPT\\Lib\\site-packages\\httpcore\\_sync\\connection_pool.py:251\u001b[0m, in \u001b[0;36mConnectionPool.handle_request\u001b[1;34m(self, request)\u001b[0m\n\u001b[0;32m    248\u001b[0m         \u001b[38;5;28;01mraise\u001b[39;00m exc\n\u001b[0;32m    250\u001b[0m \u001b[38;5;28;01mtry\u001b[39;00m:\n\u001b[1;32m--> 251\u001b[0m     response \u001b[38;5;241m=\u001b[39m connection\u001b[38;5;241m.\u001b[39mhandle_request(request)\n\u001b[0;32m    252\u001b[0m \u001b[38;5;28;01mexcept\u001b[39;00m ConnectionNotAvailable:\n\u001b[0;32m    253\u001b[0m     \u001b[38;5;66;03m# The ConnectionNotAvailable exception is a special case, that\u001b[39;00m\n\u001b[0;32m    254\u001b[0m     \u001b[38;5;66;03m# indicates we need to retry the request on a new connection.\u001b[39;00m\n\u001b[1;32m   (...)\u001b[0m\n\u001b[0;32m    258\u001b[0m     \u001b[38;5;66;03m# might end up as an HTTP/2 connection, but which actually ends\u001b[39;00m\n\u001b[0;32m    259\u001b[0m     \u001b[38;5;66;03m# up as HTTP/1.1.\u001b[39;00m\n\u001b[0;32m    260\u001b[0m     \u001b[38;5;28;01mwith\u001b[39;00m \u001b[38;5;28mself\u001b[39m\u001b[38;5;241m.\u001b[39m_pool_lock:\n\u001b[0;32m    261\u001b[0m         \u001b[38;5;66;03m# Maintain our position in the request queue, but reset the\u001b[39;00m\n\u001b[0;32m    262\u001b[0m         \u001b[38;5;66;03m# status so that the request becomes queued again.\u001b[39;00m\n",
      "File \u001b[1;32m~\\anaconda3\\envs\\PAC-GPT\\Lib\\site-packages\\httpcore\\_sync\\connection.py:103\u001b[0m, in \u001b[0;36mHTTPConnection.handle_request\u001b[1;34m(self, request)\u001b[0m\n\u001b[0;32m    100\u001b[0m     \u001b[38;5;28;01melif\u001b[39;00m \u001b[38;5;129;01mnot\u001b[39;00m \u001b[38;5;28mself\u001b[39m\u001b[38;5;241m.\u001b[39m_connection\u001b[38;5;241m.\u001b[39mis_available():\n\u001b[0;32m    101\u001b[0m         \u001b[38;5;28;01mraise\u001b[39;00m ConnectionNotAvailable()\n\u001b[1;32m--> 103\u001b[0m \u001b[38;5;28;01mreturn\u001b[39;00m \u001b[38;5;28mself\u001b[39m\u001b[38;5;241m.\u001b[39m_connection\u001b[38;5;241m.\u001b[39mhandle_request(request)\n",
      "File \u001b[1;32m~\\anaconda3\\envs\\PAC-GPT\\Lib\\site-packages\\httpcore\\_sync\\http11.py:133\u001b[0m, in \u001b[0;36mHTTP11Connection.handle_request\u001b[1;34m(self, request)\u001b[0m\n\u001b[0;32m    131\u001b[0m     \u001b[38;5;28;01mwith\u001b[39;00m Trace(\u001b[38;5;124m\"\u001b[39m\u001b[38;5;124mresponse_closed\u001b[39m\u001b[38;5;124m\"\u001b[39m, logger, request) \u001b[38;5;28;01mas\u001b[39;00m trace:\n\u001b[0;32m    132\u001b[0m         \u001b[38;5;28mself\u001b[39m\u001b[38;5;241m.\u001b[39m_response_closed()\n\u001b[1;32m--> 133\u001b[0m \u001b[38;5;28;01mraise\u001b[39;00m exc\n",
      "File \u001b[1;32m~\\anaconda3\\envs\\PAC-GPT\\Lib\\site-packages\\httpcore\\_sync\\http11.py:111\u001b[0m, in \u001b[0;36mHTTP11Connection.handle_request\u001b[1;34m(self, request)\u001b[0m\n\u001b[0;32m    101\u001b[0m     \u001b[38;5;28;01mpass\u001b[39;00m\n\u001b[0;32m    103\u001b[0m \u001b[38;5;28;01mwith\u001b[39;00m Trace(\n\u001b[0;32m    104\u001b[0m     \u001b[38;5;124m\"\u001b[39m\u001b[38;5;124mreceive_response_headers\u001b[39m\u001b[38;5;124m\"\u001b[39m, logger, request, kwargs\n\u001b[0;32m    105\u001b[0m ) \u001b[38;5;28;01mas\u001b[39;00m trace:\n\u001b[0;32m    106\u001b[0m     (\n\u001b[0;32m    107\u001b[0m         http_version,\n\u001b[0;32m    108\u001b[0m         status,\n\u001b[0;32m    109\u001b[0m         reason_phrase,\n\u001b[0;32m    110\u001b[0m         headers,\n\u001b[1;32m--> 111\u001b[0m     ) \u001b[38;5;241m=\u001b[39m \u001b[38;5;28mself\u001b[39m\u001b[38;5;241m.\u001b[39m_receive_response_headers(\u001b[38;5;241m*\u001b[39m\u001b[38;5;241m*\u001b[39mkwargs)\n\u001b[0;32m    112\u001b[0m     trace\u001b[38;5;241m.\u001b[39mreturn_value \u001b[38;5;241m=\u001b[39m (\n\u001b[0;32m    113\u001b[0m         http_version,\n\u001b[0;32m    114\u001b[0m         status,\n\u001b[0;32m    115\u001b[0m         reason_phrase,\n\u001b[0;32m    116\u001b[0m         headers,\n\u001b[0;32m    117\u001b[0m     )\n\u001b[0;32m    119\u001b[0m \u001b[38;5;28;01mreturn\u001b[39;00m Response(\n\u001b[0;32m    120\u001b[0m     status\u001b[38;5;241m=\u001b[39mstatus,\n\u001b[0;32m    121\u001b[0m     headers\u001b[38;5;241m=\u001b[39mheaders,\n\u001b[1;32m   (...)\u001b[0m\n\u001b[0;32m    127\u001b[0m     },\n\u001b[0;32m    128\u001b[0m )\n",
      "File \u001b[1;32m~\\anaconda3\\envs\\PAC-GPT\\Lib\\site-packages\\httpcore\\_sync\\http11.py:176\u001b[0m, in \u001b[0;36mHTTP11Connection._receive_response_headers\u001b[1;34m(self, request)\u001b[0m\n\u001b[0;32m    173\u001b[0m timeout \u001b[38;5;241m=\u001b[39m timeouts\u001b[38;5;241m.\u001b[39mget(\u001b[38;5;124m\"\u001b[39m\u001b[38;5;124mread\u001b[39m\u001b[38;5;124m\"\u001b[39m, \u001b[38;5;28;01mNone\u001b[39;00m)\n\u001b[0;32m    175\u001b[0m \u001b[38;5;28;01mwhile\u001b[39;00m \u001b[38;5;28;01mTrue\u001b[39;00m:\n\u001b[1;32m--> 176\u001b[0m     event \u001b[38;5;241m=\u001b[39m \u001b[38;5;28mself\u001b[39m\u001b[38;5;241m.\u001b[39m_receive_event(timeout\u001b[38;5;241m=\u001b[39mtimeout)\n\u001b[0;32m    177\u001b[0m     \u001b[38;5;28;01mif\u001b[39;00m \u001b[38;5;28misinstance\u001b[39m(event, h11\u001b[38;5;241m.\u001b[39mResponse):\n\u001b[0;32m    178\u001b[0m         \u001b[38;5;28;01mbreak\u001b[39;00m\n",
      "File \u001b[1;32m~\\anaconda3\\envs\\PAC-GPT\\Lib\\site-packages\\httpcore\\_sync\\http11.py:212\u001b[0m, in \u001b[0;36mHTTP11Connection._receive_event\u001b[1;34m(self, timeout)\u001b[0m\n\u001b[0;32m    209\u001b[0m     event \u001b[38;5;241m=\u001b[39m \u001b[38;5;28mself\u001b[39m\u001b[38;5;241m.\u001b[39m_h11_state\u001b[38;5;241m.\u001b[39mnext_event()\n\u001b[0;32m    211\u001b[0m \u001b[38;5;28;01mif\u001b[39;00m event \u001b[38;5;129;01mis\u001b[39;00m h11\u001b[38;5;241m.\u001b[39mNEED_DATA:\n\u001b[1;32m--> 212\u001b[0m     data \u001b[38;5;241m=\u001b[39m \u001b[38;5;28mself\u001b[39m\u001b[38;5;241m.\u001b[39m_network_stream\u001b[38;5;241m.\u001b[39mread(\n\u001b[0;32m    213\u001b[0m         \u001b[38;5;28mself\u001b[39m\u001b[38;5;241m.\u001b[39mREAD_NUM_BYTES, timeout\u001b[38;5;241m=\u001b[39mtimeout\n\u001b[0;32m    214\u001b[0m     )\n\u001b[0;32m    216\u001b[0m     \u001b[38;5;66;03m# If we feed this case through h11 we'll raise an exception like:\u001b[39;00m\n\u001b[0;32m    217\u001b[0m     \u001b[38;5;66;03m#\u001b[39;00m\n\u001b[0;32m    218\u001b[0m     \u001b[38;5;66;03m#     httpcore.RemoteProtocolError: can't handle event type\u001b[39;00m\n\u001b[1;32m   (...)\u001b[0m\n\u001b[0;32m    222\u001b[0m     \u001b[38;5;66;03m# perspective. Instead we handle this case distinctly and treat\u001b[39;00m\n\u001b[0;32m    223\u001b[0m     \u001b[38;5;66;03m# it as a ConnectError.\u001b[39;00m\n\u001b[0;32m    224\u001b[0m     \u001b[38;5;28;01mif\u001b[39;00m data \u001b[38;5;241m==\u001b[39m \u001b[38;5;124mb\u001b[39m\u001b[38;5;124m\"\u001b[39m\u001b[38;5;124m\"\u001b[39m \u001b[38;5;129;01mand\u001b[39;00m \u001b[38;5;28mself\u001b[39m\u001b[38;5;241m.\u001b[39m_h11_state\u001b[38;5;241m.\u001b[39mtheir_state \u001b[38;5;241m==\u001b[39m h11\u001b[38;5;241m.\u001b[39mSEND_RESPONSE:\n",
      "File \u001b[1;32m~\\anaconda3\\envs\\PAC-GPT\\Lib\\site-packages\\httpcore\\_backends\\sync.py:124\u001b[0m, in \u001b[0;36mSyncStream.read\u001b[1;34m(self, max_bytes, timeout)\u001b[0m\n\u001b[0;32m    122\u001b[0m \u001b[38;5;28;01mdef\u001b[39;00m \u001b[38;5;21mread\u001b[39m(\u001b[38;5;28mself\u001b[39m, max_bytes: \u001b[38;5;28mint\u001b[39m, timeout: typing\u001b[38;5;241m.\u001b[39mOptional[\u001b[38;5;28mfloat\u001b[39m] \u001b[38;5;241m=\u001b[39m \u001b[38;5;28;01mNone\u001b[39;00m) \u001b[38;5;241m-\u001b[39m\u001b[38;5;241m>\u001b[39m \u001b[38;5;28mbytes\u001b[39m:\n\u001b[0;32m    123\u001b[0m     exc_map: ExceptionMapping \u001b[38;5;241m=\u001b[39m {socket\u001b[38;5;241m.\u001b[39mtimeout: ReadTimeout, \u001b[38;5;167;01mOSError\u001b[39;00m: ReadError}\n\u001b[1;32m--> 124\u001b[0m     \u001b[38;5;28;01mwith\u001b[39;00m map_exceptions(exc_map):\n\u001b[0;32m    125\u001b[0m         \u001b[38;5;28mself\u001b[39m\u001b[38;5;241m.\u001b[39m_sock\u001b[38;5;241m.\u001b[39msettimeout(timeout)\n\u001b[0;32m    126\u001b[0m         \u001b[38;5;28;01mreturn\u001b[39;00m \u001b[38;5;28mself\u001b[39m\u001b[38;5;241m.\u001b[39m_sock\u001b[38;5;241m.\u001b[39mrecv(max_bytes)\n",
      "File \u001b[1;32m~\\anaconda3\\envs\\PAC-GPT\\Lib\\contextlib.py:141\u001b[0m, in \u001b[0;36m_GeneratorContextManager.__exit__\u001b[1;34m(self, typ, value, traceback)\u001b[0m\n\u001b[0;32m    138\u001b[0m     \u001b[38;5;28;01mexcept\u001b[39;00m \u001b[38;5;167;01mStopIteration\u001b[39;00m:\n\u001b[0;32m    139\u001b[0m         \u001b[38;5;28;01mraise\u001b[39;00m \u001b[38;5;167;01mRuntimeError\u001b[39;00m(\u001b[38;5;124m\"\u001b[39m\u001b[38;5;124mgenerator didn\u001b[39m\u001b[38;5;124m'\u001b[39m\u001b[38;5;124mt yield\u001b[39m\u001b[38;5;124m\"\u001b[39m) \u001b[38;5;28;01mfrom\u001b[39;00m \u001b[38;5;28;01mNone\u001b[39;00m\n\u001b[1;32m--> 141\u001b[0m \u001b[38;5;28;01mdef\u001b[39;00m \u001b[38;5;21m__exit__\u001b[39m(\u001b[38;5;28mself\u001b[39m, typ, value, traceback):\n\u001b[0;32m    142\u001b[0m     \u001b[38;5;28;01mif\u001b[39;00m typ \u001b[38;5;129;01mis\u001b[39;00m \u001b[38;5;28;01mNone\u001b[39;00m:\n\u001b[0;32m    143\u001b[0m         \u001b[38;5;28;01mtry\u001b[39;00m:\n",
      "\u001b[1;31mKeyboardInterrupt\u001b[0m: "
     ]
    }
   ],
   "source": [
    "for i in range(10, int(len(test_group)/10)):\n",
    "    \n",
    "    summaries = test_group[index:index+10]\n",
    "\n",
    "    #print(index)\n",
    "    \n",
    "    \n",
    "    print(\"...........................................\")\n",
    "    print( \" GENERATING SCAPY COMMANDS FOR THE FOLLOWING PACKETS (iter \" +str(i+1) +\")\")\n",
    "    \n",
    "\n",
    "    text_sum = \"\"\n",
    "    \n",
    "    query_content = \"\\nBelow, I'll give you the descriptions of the packets you have to generate, the previous where just examples\\n\\n\"\n",
    "    \n",
    "    for summary in summaries:\n",
    "        query_content += \"This is a packet summary:\\n\"\n",
    "        query_content += summary + \"\\n\"\n",
    "        text_sum += summary + \"\\n\"\n",
    "        \n",
    "    query_content += \"\\nGenerate python code for creating JUST the packets of the summaries given with scapy framework and put them all in a list named pkt_list. DO NOT create commands for other types of DNS rather than the ones belonging to the packets wanted to generate.Dont give back any comments or imports, just bare code and commands. Dont start the resposnses wiht ```python This is a flagrant error.\\n\"\n",
    "    \n",
    "    print(query_content)\n",
    "    \n",
    "    messages=[\n",
    "        {\"role\": \"user\", \"content\": system_message + query_content}]\n",
    "    \n",
    "    #Esta es la petición que le mandas al modelo de IA\n",
    "    completion = client.chat.completions.create(\n",
    "        model=\"o1-mini\", \n",
    "        messages=messages\n",
    "    )\n",
    "    \n",
    "    print(\"...Generated!\")\n",
    "    \n",
    "    # Guardamos tanto el resumen de los paquetes que solicitamos y lo que devuelve el modelo para estos paquetes\n",
    "    responses.append(response(text_sum, completion))\n",
    "    codigo = responses[-1].completion.choices[0].message.content\n",
    "    \n",
    "    if codigo.startswith(\"```python\"):\n",
    "        codigo = codigo[len(\"```python\"):].lstrip()  # Elimina ```python al inicio\n",
    "    if codigo.endswith(\"```\"):\n",
    "        codigo = codigo[:-len(\"```\")].rstrip()  # Elimina ``` al final\n",
    "    \n",
    "    exec(codigo)\n",
    "    \n",
    "    with open(\"../../data/Packets/DNS/pcap/DNSgenerated_gpt4o_v3.pcap\", \"ba+\") as f:\n",
    "        wrpcap(f, pkt_list, append=True)\n",
    "    \n",
    "    # Guardamos tanto la petición como la respuesta en un archivo\n",
    "    pickle.dump(responses, open( \"../../data/Packets/DNS/pickle/DNS_packet_pairs_Aday_v3.pkl\", \"wb\" ) )\n",
    "    \n",
    "    print(\"Number of completitions done: \" + str(len(responses)))\n",
    "    \n",
    "    index += 10"
   ]
  },
  {
   "cell_type": "code",
   "execution_count": 181,
   "id": "028d4d32-86ae-4ba6-afc7-62dd15a99ce4",
   "metadata": {
    "tags": []
   },
   "outputs": [
    {
     "name": "stdout",
     "output_type": "stream",
     "text": [
      "130.231.202.234 â†’ 130.231.240.70 DNS 97 Standard query 0x1043 A encrypted-tbn0.gstatic.com OPT\n",
      "130.231.240.70 â†’ 130.231.202.234 DNS 148 Standard query response 0x23f8 No such name A usage.fdown.net.oulu.fi SOA ousrvr.oulu.fi OPT\n",
      "130.231.202.234 â†’ 130.231.240.70 DNS 94 Standard query 0x8939 A api-partner.spotify.com OPT\n",
      "130.231.240.70 â†’ 130.231.202.234 DNS 201 Standard query response 0x3407 A platform.openai.com CNAME platform.api.openai.com CNAME platform.openai.com.cdn.cloudflare.net A 104.18.1.104 A 104.18.0.104 OPT\n",
      "130.231.202.234 â†’ 130.231.240.70 DNS 105 Standard query 0x3c1c A audio-ak-spotify-com.akamaized.net OPT\n",
      "\n",
      "\n",
      "pkt_list = []\n",
      "\n",
      "# Packet 1\n",
      "pkt1 = IP(src=\"130.231.202.234\", dst=\"130.231.240.70\", proto=17)/UDP(sport=12345, dport=53)/DNS(id=0x1043, qr=0, rd=1, opcode=0, qdcount=1, ancount=0, nscount=0, arcount=1, qd=DNSQR(qname=\"encrypted-tbn0.gstatic.com\", qtype=\"A\", qclass=\"IN\"), ar=DNSRROPT(rrname=\".\", type=41, rclass=4096, z=0x0000, rdlen=None, rdata=\"\"))\n",
      "pkt_list.append(pkt1)\n",
      "\n",
      "# Packet 2\n",
      "pkt2 = IP(src=\"130.231.240.70\", dst=\"130.231.202.234\", proto=17)/UDP(sport=53, dport=12345)/DNS(id=0x23f8, qr=1, opcode=0, ra=1, rcode=3, qdcount=1, ancount=1, nscount=0, arcount=1, qd=DNSQR(qname=\"usage.fdown.net.oulu.fi\", qtype=\"A\", qclass=\"IN\"), an=DNSRR(rrname=\"usage.fdown.net.oulu.fi\", type=\"SOA\", rclass=\"IN\", ttl=255, rdata=\"ousrvr.oulu.fi\")/DNSRROPT(rrname=\".\", type=41, rclass=4096, z=0x0000, rdlen=None, rdata=\"\"))\n",
      "pkt_list.append(pkt2)\n",
      "\n",
      "# Packet 3\n",
      "pkt3 = IP(src=\"130.231.202.234\", dst=\"130.231.240.70\", proto=17)/UDP(sport=23456, dport=53)/DNS(id=0x8939, qr=0, rd=1, opcode=0, qdcount=1, ancount=0, nscount=0, arcount=1, qd=DNSQR(qname=\"api-partner.spotify.com\", qtype=\"A\", qclass=\"IN\"), ar=DNSRROPT(rrname=\".\", type=41, rclass=4096, z=0x0000, rdlen=None, rdata=\"\"))\n",
      "pkt_list.append(pkt3)\n",
      "\n",
      "# Packet 4\n",
      "pkt4 = IP(src=\"130.231.240.70\", dst=\"130.231.202.234\", proto=17)/UDP(sport=53, dport=23456)/DNS(id=0x3407, qr=1, opcode=0, ra=1, rcode=0, qdcount=1, ancount=3, nscount=0, arcount=1, qd=DNSQR(qname=\"platform.openai.com\", qtype=\"A\", qclass=\"IN\"), an=DNSRR(rrname=\"platform.openai.com\", type=\"CNAME\", rclass=\"IN\", ttl=255, rdata=\"platform.api.openai.com\")/DNSRR(rrname=\"platform.api.openai.com\", type=\"CNAME\", rclass=\"IN\", ttl=255, rdata=\"platform.openai.com.cdn.cloudflare.net\")/DNSRR(rrname=\"platform.openai.com.cdn.cloudflare.net\", type=\"A\", rclass=\"IN\", ttl=255, rdata=\"104.18.1.104\")/DNSRR(rrname=\"platform.openai.com.cdn.cloudflare.net\", type=\"A\", rclass=\"IN\", ttl=255, rdata=\"104.18.0.104\")/DNSRROPT(rrname=\".\", type=41, rclass=4096, z=0x0000, rdlen=None, rdata=\"\"))\n",
      "pkt_list.append(pkt4)\n",
      "\n",
      "# Packet 5\n",
      "pkt5 = IP(src=\"130.231.202.234\", dst=\"130.231.240.70\", proto=17)/UDP(sport=34567, dport=53)/DNS(id=0x3c1c, qr=0, rd=1, opcode=0, qdcount=1, ancount=0, nscount=0, arcount=1, qd=DNSQR(qname=\"audio-ak-spotify-com.akamaized.net\", qtype=\"A\", qclass=\"IN\"), ar=DNSRROPT(rrname=\".\", type=41, rclass=4096, z=0x0000, rdlen=None, rdata=\"\"))\n",
      "pkt_list.append(pkt5)\n"
     ]
    }
   ],
   "source": [
    "# Este es el resumen de lo que está en el struct de responses para la última petición\n",
    "print(responses[-1].prompt_summary)\n",
    "print(responses[-1].completion.choices[0].text)"
   ]
  },
  {
   "cell_type": "markdown",
   "id": "bd91e117-b3bc-4376-8a9d-22f0dea30dd1",
   "metadata": {},
   "source": [
    "### Generación de paquetes"
   ]
  },
  {
   "cell_type": "code",
   "execution_count": 183,
   "id": "eb871940-bec1-409c-af35-05685d61196c",
   "metadata": {
    "tags": []
   },
   "outputs": [
    {
     "name": "stdout",
     "output_type": "stream",
     "text": [
      "[<IP  frag=0 proto=udp src=130.231.202.234 dst=130.231.240.70 |<UDP  sport=12345 dport=domain |<DNS  id=4163 qr=0 opcode=QUERY rd=1 qdcount=1 ancount=0 nscount=0 arcount=1 qd=<DNSQR  qname='encrypted-tbn0.gstatic.com' qtype=A qclass=IN |> ar=<DNSRROPT  rrname='.' type=OPT rclass=4096 z=0 rdlen=None rdata=[''] |> |>>>, <IP  frag=0 proto=udp src=130.231.240.70 dst=130.231.202.234 |<UDP  sport=domain dport=12345 |<DNS  id=9208 qr=1 opcode=QUERY ra=1 rcode=name-error qdcount=1 ancount=1 nscount=0 arcount=1 qd=<DNSQR  qname='usage.fdown.net.oulu.fi' qtype=A qclass=IN |> an=<DNSRR  rrname='usage.fdown.net.oulu.fi' type=SOA rclass=IN ttl=255 rdata='ousrvr.oulu.fi' |<DNSRROPT  rrname='.' type=OPT rclass=4096 z=0 rdlen=None rdata=[''] |>> |>>>, <IP  frag=0 proto=udp src=130.231.202.234 dst=130.231.240.70 |<UDP  sport=23456 dport=domain |<DNS  id=35129 qr=0 opcode=QUERY rd=1 qdcount=1 ancount=0 nscount=0 arcount=1 qd=<DNSQR  qname='api-partner.spotify.com' qtype=A qclass=IN |> ar=<DNSRROPT  rrname='.' type=OPT rclass=4096 z=0 rdlen=None rdata=[''] |> |>>>, <IP  frag=0 proto=udp src=130.231.240.70 dst=130.231.202.234 |<UDP  sport=domain dport=23456 |<DNS  id=13319 qr=1 opcode=QUERY ra=1 rcode=ok qdcount=1 ancount=3 nscount=0 arcount=1 qd=<DNSQR  qname='platform.openai.com' qtype=A qclass=IN |> an=<DNSRR  rrname='platform.openai.com' type=CNAME rclass=IN ttl=255 rdata='platform.api.openai.com' |<DNSRR  rrname='platform.api.openai.com' type=CNAME rclass=IN ttl=255 rdata='platform.openai.com.cdn.cloudflare.net' |<DNSRR  rrname='platform.openai.com.cdn.cloudflare.net' type=A rclass=IN ttl=255 rdata=104.18.1.104 |<DNSRR  rrname='platform.openai.com.cdn.cloudflare.net' type=A rclass=IN ttl=255 rdata=104.18.0.104 |<DNSRROPT  rrname='.' type=OPT rclass=4096 z=0 rdlen=None rdata=[''] |>>>>> |>>>, <IP  frag=0 proto=udp src=130.231.202.234 dst=130.231.240.70 |<UDP  sport=34567 dport=domain |<DNS  id=15388 qr=0 opcode=QUERY rd=1 qdcount=1 ancount=0 nscount=0 arcount=1 qd=<DNSQR  qname='audio-ak-spotify-com.akamaized.net' qtype=A qclass=IN |> ar=<DNSRROPT  rrname='.' type=OPT rclass=4096 z=0 rdlen=None rdata=[''] |> |>>>]\n"
     ]
    }
   ],
   "source": [
    "# Ejecutamos los comandos que devuelve el modelo para generar los paquetes\n",
    "exec(responses[-1].completion.choices[0].text)\n",
    "print(pkt_list)"
   ]
  },
  {
   "cell_type": "code",
   "execution_count": 184,
   "id": "94634815-b535-47a2-9882-543415f19696",
   "metadata": {
    "tags": []
   },
   "outputs": [
    {
     "name": "stdout",
     "output_type": "stream",
     "text": [
      "130.231.202.234 â†’ 130.231.240.70 DNS 97 Standard query 0x1043 A encrypted-tbn0.gstatic.com OPT\n",
      "130.231.240.70 â†’ 130.231.202.234 DNS 148 Standard query response 0x23f8 No such name A usage.fdown.net.oulu.fi SOA ousrvr.oulu.fi OPT\n",
      "130.231.202.234 â†’ 130.231.240.70 DNS 94 Standard query 0x8939 A api-partner.spotify.com OPT\n",
      "130.231.240.70 â†’ 130.231.202.234 DNS 201 Standard query response 0x3407 A platform.openai.com CNAME platform.api.openai.com CNAME platform.openai.com.cdn.cloudflare.net A 104.18.1.104 A 104.18.0.104 OPT\n",
      "130.231.202.234 â†’ 130.231.240.70 DNS 105 Standard query 0x3c1c A audio-ak-spotify-com.akamaized.net OPT\n",
      "\n",
      "###[ IP ]### \n",
      "  version   = 4\n",
      "  ihl       = 5\n",
      "  tos       = 0x0\n",
      "  len       = 80\n",
      "  id        = 1\n",
      "  flags     = \n",
      "  frag      = 0\n",
      "  ttl       = 64\n",
      "  proto     = udp\n",
      "  chksum    = 0xb99c\n",
      "  src       = 130.231.202.234\n",
      "  dst       = 130.231.240.70\n",
      "  \\options   \\\n",
      "###[ UDP ]### \n",
      "     sport     = 23456\n",
      "     dport     = domain\n",
      "     len       = 60\n",
      "     chksum    = 0x9c18\n",
      "###[ DNS ]### \n",
      "        id        = 35129\n",
      "        qr        = 0\n",
      "        opcode    = QUERY\n",
      "        aa        = 0\n",
      "        tc        = 0\n",
      "        rd        = 1\n",
      "        ra        = 0\n",
      "        z         = 0\n",
      "        ad        = 0\n",
      "        cd        = 0\n",
      "        rcode     = ok\n",
      "        qdcount   = 1\n",
      "        ancount   = 0\n",
      "        nscount   = 0\n",
      "        arcount   = 1\n",
      "        \\qd        \\\n",
      "         |###[ DNS Question Record ]### \n",
      "         |  qname     = 'api-partner.spotify.com.'\n",
      "         |  qtype     = A\n",
      "         |  qclass    = IN\n",
      "        an        = None\n",
      "        ns        = None\n",
      "        \\ar        \\\n",
      "         |###[ DNS OPT Resource Record ]### \n",
      "         |  rrname    = '.'\n",
      "         |  type      = OPT\n",
      "         |  rclass    = 4096\n",
      "         |  extrcode  = 0\n",
      "         |  version   = 0\n",
      "         |  z         = 0\n",
      "         |  rdlen     = None\n",
      "         |  \\rdata     \\\n",
      "\n"
     ]
    }
   ],
   "source": [
    "print(responses[-1].prompt_summary)\n",
    "IP(pkt_list[2]).show()"
   ]
  },
  {
   "cell_type": "code",
   "execution_count": 185,
   "id": "fd89a024-f51f-482a-9905-20db1ab19b6f",
   "metadata": {
    "tags": []
   },
   "outputs": [
    {
     "name": "stdout",
     "output_type": "stream",
     "text": [
      "\n",
      "Sent 5 packets.\n"
     ]
    }
   ],
   "source": [
    "#Enviarlos para probar si se envian correctamente\n",
    "send(pkt_list)"
   ]
  },
  {
   "cell_type": "markdown",
   "id": "7bf00ba6-ce81-42ee-a4af-7b85b0ca4b7c",
   "metadata": {},
   "source": [
    "### Introducción en un pcap"
   ]
  },
  {
   "cell_type": "code",
   "execution_count": 187,
   "id": "e6dfcbf1-8840-47b9-ab02-5c320e10027f",
   "metadata": {
    "tags": []
   },
   "outputs": [],
   "source": [
    "# Guardamos los paquetes generados en un pcap\n",
    "with open(\"../../data/Packets/DNS/pcap/DNSgenerated_3_5_turbo-instruct_conv.pcap\", \"ba+\") as f:\n",
    "    wrpcap(f, pkt_list, append=True)"
   ]
  },
  {
   "cell_type": "code",
   "execution_count": null,
   "id": "28ac3850-43fe-4c23-bbb9-2edf7bf5d333",
   "metadata": {},
   "outputs": [],
   "source": []
  }
 ],
 "metadata": {
  "kernelspec": {
   "display_name": "Python 3 (ipykernel)",
   "language": "python",
   "name": "python3"
  },
  "language_info": {
   "codemirror_mode": {
    "name": "ipython",
    "version": 3
   },
   "file_extension": ".py",
   "mimetype": "text/x-python",
   "name": "python",
   "nbconvert_exporter": "python",
   "pygments_lexer": "ipython3",
   "version": "3.11.7"
  }
 },
 "nbformat": 4,
 "nbformat_minor": 5
}
