{
 "cells": [
  {
   "cell_type": "markdown",
   "id": "4b716a48-9cff-4f40-9be2-bf8bb0b41015",
   "metadata": {},
   "source": [
    "## Script para extraer resumenes de paquetes interesantes de pcaps"
   ]
  },
  {
   "cell_type": "markdown",
   "id": "60388e98-0e2f-4ca8-9127-d35d2f39b0c8",
   "metadata": {},
   "source": [
    "No le veo el sentido a este código, ni siquiera saca los resumenes en el formato que usan"
   ]
  },
  {
   "cell_type": "code",
   "execution_count": 4,
   "id": "d8ab9384-bfd6-4e54-be3a-3bbb87fc4360",
   "metadata": {
    "tags": []
   },
   "outputs": [
    {
     "name": "stderr",
     "output_type": "stream",
     "text": [
      "C:\\Users\\adayd\\anaconda3\\envs\\PAC-GPT\\Lib\\site-packages\\scapy\\layers\\ipsec.py:469: CryptographyDeprecationWarning: Blowfish has been deprecated\n",
      "  cipher=algorithms.Blowfish,\n",
      "C:\\Users\\adayd\\anaconda3\\envs\\PAC-GPT\\Lib\\site-packages\\scapy\\layers\\ipsec.py:483: CryptographyDeprecationWarning: CAST5 has been deprecated\n",
      "  cipher=algorithms.CAST5,\n"
     ]
    }
   ],
   "source": [
    "import random\n",
    "import re\n",
    "\n",
    "from scapy.all import Raw\n",
    "from scapy.utils import RawPcapReader, wrpcap\n",
    "\n",
    "from scapy.layers.l2 import Ether\n",
    "from scapy.layers.inet import IP, TCP, ICMP"
   ]
  },
  {
   "cell_type": "code",
   "execution_count": 28,
   "id": "9a634bf4-047e-4238-970e-ef087ad3bec5",
   "metadata": {
    "tags": []
   },
   "outputs": [],
   "source": [
    "def process_pcap(file_name, protocol):\n",
    "    print('Opening {}...'.format(file_name))\n",
    "\n",
    "    count = 0\n",
    "    interesting_packet_count = 0\n",
    "\n",
    "    interesting_packets = []\n",
    "    for (pkt_data, pkt_metadata,) in RawPcapReader(file_name):\n",
    "        count += 1\n",
    "\n",
    "        ether_pkt = Ether(pkt_data)\n",
    "        if 'type' not in ether_pkt.fields:\n",
    "            # LLC frames will have 'len' instead of 'type'.\n",
    "            # We disregard those\n",
    "            continue\n",
    "        \n",
    "        if protocol == 'ICMP':\n",
    "            if ether_pkt.type != 0x0800:\n",
    "                # disregard non-IPv4 packets\n",
    "                continue\n",
    "            ip_pkt = ether_pkt[IP]\n",
    "            if ip_pkt.proto != 1:\n",
    "                # Ignore non-TCP packet\n",
    "                continue\n",
    "            interesting_packet_count += 1\n",
    "            interesting_packets.append(ether_pkt)\n",
    "        \n",
    "        if protocol == 'ARP':\n",
    "            if ether_pkt.type != 0x0806:\n",
    "                # disregard non-ARP packets\n",
    "                continue\n",
    "            interesting_packet_count += 1\n",
    "            interesting_packets.append(ether_pkt)\n",
    "\n",
    "    print('{} contains {} packets ({} interesting)'.\n",
    "          format(file_name, count, interesting_packet_count))\n",
    "\n",
    "    return interesting_packets\n"
   ]
  },
  {
   "cell_type": "code",
   "execution_count": 30,
   "id": "804370db-2a5d-40ad-8a66-cb8edf712c06",
   "metadata": {
    "tags": []
   },
   "outputs": [
    {
     "name": "stdout",
     "output_type": "stream",
     "text": [
      "Opening ../data/pcap/nuevos/The-Ultimate-PCAP/The_Ultimate_PCAP_v20231218.pcapng...\n",
      "../data/pcap/nuevos/The-Ultimate-PCAP/The_Ultimate_PCAP_v20231218.pcapng contains 40029 packets (84 interesting)\n"
     ]
    }
   ],
   "source": [
    "packets_scapy = process_pcap(\"../data/pcap/nuevos/The-Ultimate-PCAP/The_Ultimate_PCAP_v20231218.pcapng\", 'ARP')"
   ]
  },
  {
   "cell_type": "code",
   "execution_count": 32,
   "id": "b71fb8d5-6853-4f25-8aee-3d1ed9834482",
   "metadata": {
    "tags": []
   },
   "outputs": [
    {
     "data": {
      "text/plain": [
       "84"
      ]
     },
     "execution_count": 32,
     "metadata": {},
     "output_type": "execute_result"
    }
   ],
   "source": [
    "len(packets_scapy)"
   ]
  },
  {
   "cell_type": "code",
   "execution_count": 36,
   "id": "b8ab1b6c-f578-4949-85e4-7e44d02831cd",
   "metadata": {
    "tags": []
   },
   "outputs": [
    {
     "name": "stdout",
     "output_type": "stream",
     "text": [
      "###[ Ethernet ]### \n",
      "  dst       = c2:3c:19:6c:00:01\n",
      "  src       = c2:3d:19:6c:00:01\n",
      "  type      = ARP\n",
      "###[ ARP ]### \n",
      "     hwtype    = 0x1\n",
      "     ptype     = IPv4\n",
      "     hwlen     = 6\n",
      "     plen      = 4\n",
      "     op        = who-has\n",
      "     hwsrc     = c2:3d:19:6c:00:01\n",
      "     psrc      = 10.0.0.1\n",
      "     hwdst     = c2:3c:19:6c:00:01\n",
      "     pdst      = 10.0.0.2\n",
      "###[ Padding ]### \n",
      "        load      = '\\x00\\x00\\x00\\x00\\x00\\x00\\x00\\x00\\x00\\x00\\x00\\x00\\x00\\x00\\x00\\x00\\x00\\x00'\n",
      "\n"
     ]
    }
   ],
   "source": [
    "print(str(packets_scapy[0].show(dump=True)))"
   ]
  },
  {
   "cell_type": "code",
   "execution_count": 39,
   "id": "ef4e60fb-b65d-48ef-950c-9478ac7f896e",
   "metadata": {},
   "outputs": [],
   "source": [
    "def str_to_packet(s):\n",
    "    packet = IP()\n",
    "    s2i_proto = {v:k for k,v in packet.get_field(\"proto\").i2s.items()}\n",
    "    _,ip_text,payload_text = re.split(\"\\#{3}\\[\\s*\\w*\\s*\\]\\#{3}\",s)\n",
    "    for line in ip_text.splitlines():\n",
    "        if line == \" \" or line == \"  \\\\options   \\\\\":\n",
    "            continue\n",
    "\n",
    "        try: \n",
    "            key,value = line.split(\"=\")\n",
    "        except ValueError:\n",
    "            print(line)\n",
    "            continue\n",
    "        if key.strip() == \"proto\":\n",
    "            packet[IP].proto = s2i_proto[value.strip()]\n",
    "            continue\n",
    "        try:\n",
    "            packet[IP].fields[key.strip()] = int(value.strip(),0)\n",
    "        except:\n",
    "            \n",
    "            packet[IP].fields[key.strip()] = value.strip()\n",
    "    # Handle ICMP Payload \n",
    "    if packet[IP].proto == 1:\n",
    "        packet = packet / ICMP()\n",
    "        type_conversion = {\"echo-reply\" : 0, \"echo-request\":8}\n",
    "        for line in payload_text.splitlines():\n",
    "            if line == \" \" or line == \"  \\\\options   \\\\\":\n",
    "                continue\n",
    "                \n",
    "            try: \n",
    "                key,value = line.split(\"=\")\n",
    "            except ValueError:\n",
    "                print(line)\n",
    "                continue\n",
    "            \n",
    "            try:\n",
    "                packet[ICMP].fields[key.strip()] = int(value.strip(),0)\n",
    "            except:\n",
    "                packet[ICMP].fields[key.strip()] = value.strip()\n",
    "\n",
    "        if packet.unused == \"''\":\n",
    "            packet.unused = b''\n",
    "        packet.type = type_conversion[packet.type]\n",
    "    return packet"
   ]
  },
  {
   "cell_type": "code",
   "execution_count": 40,
   "id": "697b299a-8a3e-4c73-9717-f76a352c12e3",
   "metadata": {},
   "outputs": [
    {
     "name": "stdout",
     "output_type": "stream",
     "text": [
      "\n",
      "\n",
      "\n",
      "\n",
      "  \n",
      "\n",
      "\n",
      "\n",
      "\n",
      "\n",
      "\n",
      "\n",
      "\n",
      "\n",
      "###[ IP ]### \n",
      "  version   = 4\n",
      "  ihl       = 5\n",
      "  tos       = 0x0\n",
      "  len       = 84\n",
      "  id        = 25911\n",
      "  flags     = \n",
      "  frag      = 0\n",
      "  ttl       = 109\n",
      "  proto     = icmp\n",
      "  chksum    = 0x8a90\n",
      "  src       = 8.8.8.8\n",
      "  dst       = 130.231.202.234\n",
      "  \\options   \\\n",
      "###[ ICMP ]### \n",
      "     type      = echo-reply\n",
      "     code      = 0\n",
      "     chksum    = 0xfefb\n",
      "     id        = 0x2\n",
      "     seq       = 0x102\n",
      "     unused    = ''\n",
      "\n"
     ]
    }
   ],
   "source": [
    "gen_pkts = [str_to_packet(response.choices[0].text) for response in responses]\n",
    "\n",
    "def delete_wrong_fields(pkt):\n",
    "\n",
    "    del pkt[IP].flags\n",
    "    del pkt[IP].chksum\n",
    "    del pkt[ICMP].chksum\n",
    "    \n",
    "    return pkt\n",
    "    \n",
    "gen_pkts = list(map(delete_wrong_fields,gen_pkts))\n",
    "gen_pkts[0].show2()\n",
    "\n",
    "with open(\"generated_icmp.pcap\", \"wb\") as f:\n",
    "    wrpcap(f, gen_pkts)\n"
   ]
  },
  {
   "cell_type": "code",
   "execution_count": 41,
   "id": "dcecce3f-980b-4e50-825d-a62a4738fc6d",
   "metadata": {},
   "outputs": [
    {
     "data": {
      "text/plain": [
       "100"
      ]
     },
     "execution_count": 41,
     "metadata": {},
     "output_type": "execute_result"
    }
   ],
   "source": [
    "len(gen_pkts)"
   ]
  },
  {
   "cell_type": "code",
   "execution_count": 24,
   "id": "fa6f6710-ee69-4d7e-b14b-af58a3c7493c",
   "metadata": {},
   "outputs": [
    {
     "name": "stdout",
     "output_type": "stream",
     "text": [
      "\n",
      "\n",
      "###[ IP ]###\n",
      "  version   = 4\n",
      "  ihl       = 5\n",
      "  tos       = 0x0\n",
      "  len       = 84\n",
      "  id        = 22238\n",
      "  flags     = DF\n",
      "  frag      = 0\n",
      "  ttl       = 64\n",
      "  proto     = icmp\n",
      "  chksum    = None\n",
      "  src       = 130.231.202.234\n",
      "  dst       = 8.8.8.8\n",
      "  \\options   \\\n",
      "###[ ICMP ]###\n",
      "     type      = echo-request\n",
      "     code      = 0\n",
      "     chksum    = None\n",
      "     id        = 0x2\n",
      "     seq       = 0xb2\n",
      "     unused    = ''\n"
     ]
    }
   ],
   "source": [
    "print(responses[0].choices[0].text)"
   ]
  },
  {
   "cell_type": "code",
   "execution_count": 173,
   "id": "2db5779f-0828-4cb1-ba8f-e39df0f53a97",
   "metadata": {},
   "outputs": [],
   "source": [
    "summary,packet = random.choice(packets)"
   ]
  },
  {
   "cell_type": "code",
   "execution_count": 42,
   "id": "9df0548d-97a5-486f-88e1-1660c32b6dbf",
   "metadata": {},
   "outputs": [
    {
     "data": {
      "text/plain": [
       "'76.76.2.0 → 130.231.202.234 ICMP 98 Echo (ping) reply id=0x0005, seq=37/9472, ttl=48 (request in 471)'"
      ]
     },
     "execution_count": 42,
     "metadata": {},
     "output_type": "execute_result"
    }
   ],
   "source": [
    "summary"
   ]
  },
  {
   "cell_type": "code",
   "execution_count": 160,
   "id": "bc47beb7-4b2d-4511-ab50-ac9fe09a1424",
   "metadata": {},
   "outputs": [
    {
     "name": "stdout",
     "output_type": "stream",
     "text": [
      "###[ Ethernet ]### \n",
      "  dst       = 84:a9:38:6a:7f:0d\n",
      "  src       = 70:db:98:81:93:40\n",
      "  type      = IPv4\n",
      "###[ IP ]### \n",
      "     version   = 4\n",
      "     ihl       = 5\n",
      "     tos       = 0x0\n",
      "     len       = 84\n",
      "     id        = 53490\n",
      "     flags     = \n",
      "     frag      = 0\n",
      "     ttl       = 53\n",
      "     proto     = icmp\n",
      "     chksum    = 0x54d3\n",
      "     src       = 9.9.9.9\n",
      "     dst       = 130.231.202.234\n",
      "     \\options   \\\n",
      "###[ ICMP ]### \n",
      "        type      = echo-reply\n",
      "        code      = 0\n",
      "        chksum    = 0x3c6\n",
      "        id        = 0x4\n",
      "        seq       = 0x101\n",
      "        unused    = ''\n",
      "###[ Raw ]### \n",
      "           load      = '\\\\xd5I\\\\x87c\\x00\\x00\\x00\\x00Ӵ\\x0c\\x00\\x00\\x00\\x00\\x00\\x10\\x11\\x12\\x13\\x14\\x15\\x16\\x17\\x18\\x19\\x1a\\x1b\\x1c\\x1d\\x1e\\x1f !\"#$%&\\'()*+,-./01234567'\n",
      "\n"
     ]
    }
   ],
   "source": [
    "packet.show()"
   ]
  },
  {
   "cell_type": "code",
   "execution_count": 156,
   "id": "2aeba976-e474-476b-97b7-38f8ad51ae55",
   "metadata": {},
   "outputs": [
    {
     "data": {
      "text/plain": [
       "True"
      ]
     },
     "execution_count": 156,
     "metadata": {},
     "output_type": "execute_result"
    }
   ],
   "source": [
    "type(gen_pkts[0][ICMP].unused) == type(packet[ICMP].unused)"
   ]
  },
  {
   "cell_type": "code",
   "execution_count": 167,
   "id": "3a285803-0fd9-40c3-a5a4-0eb4d45897e3",
   "metadata": {},
   "outputs": [
    {
     "data": {
      "text/plain": [
       "<Flag 0 ()>"
      ]
     },
     "execution_count": 167,
     "metadata": {},
     "output_type": "execute_result"
    }
   ],
   "source": [
    "gen_pkts[2][IP].flags"
   ]
  },
  {
   "cell_type": "code",
   "execution_count": 168,
   "id": "0e97102d-ae24-4c9d-bb55-96e796fee8a2",
   "metadata": {},
   "outputs": [
    {
     "data": {
      "text/plain": [
       "<Flag 0 ()>"
      ]
     },
     "execution_count": 168,
     "metadata": {},
     "output_type": "execute_result"
    }
   ],
   "source": [
    "packet[IP].flags"
   ]
  },
  {
   "cell_type": "code",
   "execution_count": 112,
   "id": "fb5c4ec5-795f-45aa-bb63-40e2ae485f3f",
   "metadata": {},
   "outputs": [
    {
     "name": "stdout",
     "output_type": "stream",
     "text": [
      "###[ IP ]### \n",
      "  version   = 4\n",
      "  ihl       = 5\n",
      "  tos       = 0x0\n",
      "  len       = 84\n",
      "  id        = 49001\n",
      "  flags     = DF\n",
      "  frag      = 0\n",
      "  ttl       = 64\n",
      "  proto     = icmp\n",
      "  chksum    = None\n",
      "  src       = 130.231.202.234\n",
      "  dst       = 8.8.8.8\n",
      "  \\options   \\\n",
      "###[ ICMP ]### \n",
      "     type      = echo-request\n",
      "     code      = 0\n",
      "     chksum    = None\n",
      "     id        = 0x2\n",
      "     seq       = 0xb8\n",
      "     unused    = ''\n",
      "\n"
     ]
    }
   ],
   "source": [
    "gen_pkts[0].show()"
   ]
  },
  {
   "cell_type": "code",
   "execution_count": 186,
   "id": "710b6ead-4c76-44f9-9a8c-c09f6cb5fad2",
   "metadata": {},
   "outputs": [
    {
     "name": "stdout",
     "output_type": "stream",
     "text": [
      "###[ IP ]### \n",
      "  version   = 4\n",
      "  ihl       = 5\n",
      "  tos       = 0x0\n",
      "  len       = 84\n",
      "  id        = 14963\n",
      "  flags     = \n",
      "  frag      = 0\n",
      "  ttl       = 49\n",
      "  proto     = icmp\n",
      "  chksum    = 0xfb5e\n",
      "  src       = 4.2.2.4\n",
      "  dst       = 130.231.202.234\n",
      "  \\options   \\\n",
      "###[ ICMP ]### \n",
      "     type      = echo-reply\n",
      "     code      = 0\n",
      "     chksum    = 0xf79f\n",
      "     id        = 0x3\n",
      "     seq       = 0x62\n",
      "     unused    = ''\n",
      "###[ Raw ]### \n",
      "        load      = '\"I\\\\x87c\\x00\\x00\\x00\\x00\\\\x96{\\t\\x00\\x00\\x00\\x00\\x00\\x10\\x11\\x12\\x13\\x14\\x15\\x16\\x17\\x18\\x19\\x1a\\x1b\\x1c\\x1d\\x1e\\x1f !\"#$%&\\'()*+,-./01234567'\n",
      "\n",
      "###[ IP ]### \n",
      "  version   = 4\n",
      "  ihl       = 5\n",
      "  tos       = 0x0\n",
      "  len       = 84\n",
      "  id        = 14963\n",
      "  flags     = DF\n",
      "  frag      = 0\n",
      "  ttl       = 49\n",
      "  proto     = icmp\n",
      "  chksum    = None\n",
      "  src       = 4.2.2.4\n",
      "  dst       = 130.231.202.234\n",
      "  \\options   \\\n",
      "###[ ICMP ]### \n",
      "     type      = echo-reply\n",
      "     code      = 0\n",
      "     chksum    = None\n",
      "     id        = 0x3\n",
      "     seq       = 0x62\n",
      "     unused    = ''\n",
      "\n"
     ]
    }
   ],
   "source": [
    "summary,packet2 = random.choice(packets)\n",
    "packet2[IP].show()\n",
    "packet2[IP].flags = \"DF\"\n",
    "del packet2[Raw]\n",
    "del packet2[IP].chksum\n",
    "del packet2[ICMP].chksum\n",
    "packet2[IP].show()\n"
   ]
  },
  {
   "cell_type": "code",
   "execution_count": 184,
   "id": "9be5ef9e-128c-4365-afbf-42309a3b569a",
   "metadata": {},
   "outputs": [
    {
     "data": {
      "text/plain": [
       "<Flag 2 (DF)>"
      ]
     },
     "execution_count": 184,
     "metadata": {},
     "output_type": "execute_result"
    }
   ],
   "source": [
    "packet2[IP].flags"
   ]
  },
  {
   "cell_type": "code",
   "execution_count": 187,
   "id": "4f168f43-9f3d-4a65-bf09-75095bf503d4",
   "metadata": {},
   "outputs": [],
   "source": [
    "with open(\"generated_icmp.pcap\", \"wb\") as f:\n",
    "    wrpcap(f, packet2)\n"
   ]
  }
 ],
 "metadata": {
  "kernelspec": {
   "display_name": "Python 3 (ipykernel)",
   "language": "python",
   "name": "python3"
  },
  "language_info": {
   "codemirror_mode": {
    "name": "ipython",
    "version": 3
   },
   "file_extension": ".py",
   "mimetype": "text/x-python",
   "name": "python",
   "nbconvert_exporter": "python",
   "pygments_lexer": "ipython3",
   "version": "3.11.7"
  }
 },
 "nbformat": 4,
 "nbformat_minor": 5
}
