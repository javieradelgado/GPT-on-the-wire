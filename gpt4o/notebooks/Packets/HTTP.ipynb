{
 "cells": [
  {
   "cell_type": "markdown",
   "id": "98857f5a-567a-4941-996a-019e0ba694f4",
   "metadata": {},
   "source": [
    "# Creación de paquetes HTTP"
   ]
  },
  {
   "cell_type": "markdown",
   "id": "833d122f-03c1-4db6-9953-5864d8f68b9e",
   "metadata": {
    "tags": []
   },
   "source": [
    "### Descripción: \n",
    "Con este código se va a intentar crear diferentes tipos de paquetes HTTP, mediante IA generativa. Se pretende pasar una descripción de estos paquetes al modelo y que este sea capaz de crear todos los campos necesarios para replicar un paquete con esas mismas especificaciones."
   ]
  },
  {
   "cell_type": "code",
   "execution_count": null,
   "id": "af19945d-5027-48fa-a906-7efdf0b93876",
   "metadata": {
    "tags": []
   },
   "outputs": [
    {
     "name": "stderr",
     "output_type": "stream",
     "text": [
      "C:\\Users\\adayd\\anaconda3\\envs\\PAC-GPT\\Lib\\site-packages\\scapy\\layers\\ipsec.py:469: CryptographyDeprecationWarning: Blowfish has been deprecated\n",
      "  cipher=algorithms.Blowfish,\n",
      "C:\\Users\\adayd\\anaconda3\\envs\\PAC-GPT\\Lib\\site-packages\\scapy\\layers\\ipsec.py:483: CryptographyDeprecationWarning: CAST5 has been deprecated\n",
      "  cipher=algorithms.CAST5,\n"
     ]
    },
    {
     "data": {
      "text/plain": [
       "'1.10.0'"
      ]
     },
     "execution_count": 1,
     "metadata": {},
     "output_type": "execute_result"
    }
   ],
   "source": [
    "import random\n",
    "import re\n",
    "import pickle\n",
    "import os\n",
    "\n",
    "import openai\n",
    "from openai import OpenAI\n",
    "os.environ['OPENAI_API_KEY'] = 'FILL'\n",
    "client = OpenAI()\n",
    "\n",
    "from scapy.all import *\n",
    "from scapy.utils import RawPcapReader, wrpcap\n",
    "import scapy.all as scapy\n",
    "\n",
    "from scapy.layers.inet import IP, TCP\n",
    "from scapy.layers.http import *\n",
    "\n",
    "openai.__version__"
   ]
  },
  {
   "cell_type": "markdown",
   "id": "966c530c-db4b-4638-920b-2bdbf500b2d1",
   "metadata": {},
   "source": [
    "## Step 1: Generación de la descipción de un paquete HTTP\n",
    "---"
   ]
  },
  {
   "cell_type": "markdown",
   "id": "c2022cfe-d5b3-4f83-a64d-c828d9053c45",
   "metadata": {
    "tags": []
   },
   "source": [
    "### 1.1 Explicación del protocolo\n",
    "<center><img src=\"https://www.oreilly.com/api/v2/epubs/1565925092/files/httpatomoreillycomsourceoreillyimages96840.png\">\n",
    "    \n",
    "<center> Esta imagen es genérica para una conversación HTTP.  \n",
    "\n",
    "    ***\n",
    "El protocolo HTTP nos permite solicitar y recibir recursos de una fuente, es un protocolo cliente-servidor. HTTP es un protocolo sin estado, es decir: **no guarda ningún dato entre dos peticiones en la mísma sesión**. Un paquete HTTP se manda sobre TCP, por lo que, primero será necesario establecer la conversación TCP. Esto no será necesario en este script, dado que se crea en otro específico para conversaciones TCP. Digamos que este notebook serviría para crear los paquetes intermedios de la conversación establecida en ese otro notebook."
   ]
  },
  {
   "cell_type": "markdown",
   "id": "e3709e96-b20a-47ab-b7e0-dacfa6801ca0",
   "metadata": {},
   "source": [
    "### 1.2 Creación de la query"
   ]
  },
  {
   "cell_type": "code",
   "execution_count": 2,
   "id": "42c7d91e-37a8-49e9-8c56-2b075754e0aa",
   "metadata": {
    "tags": []
   },
   "outputs": [],
   "source": [
    "system_message = \"In the next lines, I'll provide you with some packet descriptions for different types of HTTP packets and how to construct each one of them using scapy. Use each one of this as a base to guide you while creating packets if they are the same type, but DONT create ALL these types of packets for every description, evaluate to wich type does the summary belong, and generate JUST that packet command.\\n\\n\"\n",
    "system_message += \"HTTP packets can have various types and implement different methods, I will now try to explain the most important ones, using scapy 2.4.3.\\n\"\n",
    "\n",
    "system_message += \"This is a HTTP request summary:\\n\"\n",
    "system_message += \"192.168.110.10 212.144.254.123 HTTP 388 GET http://ip.webernetz.net/ HTTP/1.1 \\n\"\n",
    "system_message += \"This is the command to generate the packet:\\n\"\n",
    "system_message += 'IP(src=\"192.168.110.10\",  dst=\"212.144.254.123\") / TCP(sport=5678, dport=80) / HTTP() / HTTPRequest(Method =\"GET\", Http_Version=\"HTTP/1.1\", Host=\"ip.webernetz.net/\", Path=\"/\") \\n\\n'\n",
    "\n",
    "system_message += \"This is a HTTP response summary:\\n\"\n",
    "system_message += \"212.144.254.123 192.168.110.10 HTTP 166 HTTP/1.1 200 OK (text/html) \\n\"\n",
    "system_message += \"This is the command to generate the packet:\\n\"\n",
    "system_message += 'IP(src=\"212.144.254.123\",  dst=\"192.168.110.10\") / TCP(sport=80, dport=4321, flags=\"A\") /HTTP() / HTTPResponse(Http_Version= \"HTTP/1.1\", Status_Code= \"200\", Reason_Phrase= \"OK\", Content_Type=\"text/html\" ) / \"<HTML><BODY><H!>Hello World!</H1></BODY></HTML>\"'\n",
    "system_message += \"\\n\\n\"\n",
    "system_message += \"Take note that this response is just an example, sent info might be different, you mus also take into account different types of responses depending on the response status code, like: 400 = Bad Request, 403= Forbidden, etc.\\n\"\n",
    "system_message += \"You may be asked to generate different types of HTTP packets than these ones, please take a few seconds to think and figure out the best way to generate each of the packets.\\n\\n\"\n",
    "\n",
    "system_message += \"Pay special attention to the TCP ports, HTTP requests have port 80(http) as its destination port, while the sender port must be an ephemeral port(between 1025 and 655325) in http requests.\\n\"\n",
    "system_message += \"In the opposite direction, http responses have port 80 (http) as its sender port (sport), while having an ephimeral destination port(dport)\\n\"\n",
    "system_message += \"This is extremely important, so please, create a sport(for request) and dport(for responses) that make sense, they must me ephemeral ports and use them wuile creating the commands. You must follow the port structure already defined, dport=80 for http requests and sport=80 for http responses, create just the other side of the communication.\\n\""
   ]
  },
  {
   "cell_type": "code",
   "execution_count": 3,
   "id": "661e3e74-0651-4cc3-98bc-cc7892344165",
   "metadata": {
    "tags": []
   },
   "outputs": [
    {
     "name": "stdout",
     "output_type": "stream",
     "text": [
      "In the next lines, I'll provide you with some packet descriptions for different types of HTTP packets and how to construct each one of them using scapy. Use each one of this as a base to guide you while creating packets if they are the same type, but DONT create ALL these types of packets for every description, evaluate to wich type does the summary belong, and generate JUST that packet command.\n",
      "\n",
      "HTTP packets can have various types and implement different methods, I will now try to explain the most important ones, using scapy 2.4.3.\n",
      "This is a HTTP request summary:\n",
      "192.168.110.10 212.144.254.123 HTTP 388 GET http://ip.webernetz.net/ HTTP/1.1 \n",
      "This is the command to generate the packet:\n",
      "IP(src=\"192.168.110.10\",  dst=\"212.144.254.123\") / TCP(sport=5678, dport=80) / HTTP() / HTTPRequest(Method =\"GET\", Http_Version=\"HTTP/1.1\", Host=\"ip.webernetz.net/\", Path=\"/\") \n",
      "\n",
      "This is a HTTP response summary:\n",
      "212.144.254.123 192.168.110.10 HTTP 166 HTTP/1.1 200 OK (text/html) \n",
      "This is the command to generate the packet:\n",
      "IP(src=\"212.144.254.123\",  dst=\"192.168.110.10\") / TCP(sport=80, dport=4321, flags=\"A\") /HTTP() / HTTPResponse(Http_Version= \"HTTP/1.1\", Status_Code= \"200\", Reason_Phrase= \"OK\", Content_Type=\"text/html\" ) / \"<HTML><BODY><H!>Hello World!</H1></BODY></HTML>\"\n",
      "\n",
      "Take note that this response is just an example, sent info might be different, you mus also take into account different types of responses depending on the response status code, like: 400 = Bad Request, 403= Forbidden, etc.\n",
      "You may be asked to generate different types of HTTP packets than these ones, please take a few seconds to think and figure out the best way to generate each of the packets.\n",
      "\n",
      "Pay special attention to the TCP ports, HTTP requests have port 80(http) as its destination port, while the sender port must be an ephemeral port(between 1025 and 655325) in http requests.\n",
      "In the opposite direction, http responses have port 80 (http) as its sender port (sport), while having an ephimeral destination port(dport)\n",
      "This is extremely important, so please, create a sport(for request) and dport(for responses) that make sense, they must me ephemeral ports and use them wuile creating the commands. You must follow the port structure already defined, dport=80 for http requests and sport=80 for http responses, create just the other side of the communication.\n",
      "\n"
     ]
    }
   ],
   "source": [
    "print(system_message)"
   ]
  },
  {
   "cell_type": "markdown",
   "id": "42b6a1d3-3645-4f96-9aef-2f47afbb2f43",
   "metadata": {},
   "source": [
    "## Step 2: Carga de posibles descripciones\n",
    "---"
   ]
  },
  {
   "cell_type": "code",
   "execution_count": 4,
   "id": "4bf501e4-7aa3-405f-bacd-3531b83e585b",
   "metadata": {
    "tags": []
   },
   "outputs": [
    {
     "name": "stdout",
     "output_type": "stream",
     "text": [
      "Number of summaries: 999\n"
     ]
    }
   ],
   "source": [
    "with open(\"../../data/text/HTTP_TheUltimatePCAP_v2.txt\",\"r\") as f:\n",
    "    packets_summary = f.read().splitlines()\n",
    "print(\"Number of summaries: \" + str(len(packets_summary)))"
   ]
  },
  {
   "cell_type": "code",
   "execution_count": 7,
   "id": "e89ed01e",
   "metadata": {},
   "outputs": [],
   "source": [
    "test_group = random.choices(packets_summary,k=200)"
   ]
  },
  {
   "cell_type": "markdown",
   "id": "9e216e1b-854d-4604-9c76-38593c60809f",
   "metadata": {},
   "source": [
    "### 2.1 Carga de posibles conversaciones anteriores para concatenarlas"
   ]
  },
  {
   "cell_type": "code",
   "execution_count": 5,
   "id": "2bc08d0e-16e4-4943-8ddd-fd72e52afcd5",
   "metadata": {
    "tags": []
   },
   "outputs": [],
   "source": [
    "class response():\n",
    "    \"Stores name and place pairs\"\n",
    "    def __init__(self, name, place):\n",
    "        self.prompt_summary = name\n",
    "        self.completion = place"
   ]
  },
  {
   "cell_type": "code",
   "execution_count": 6,
   "id": "2e7343b6-89dc-49ed-955b-5c9f7a012311",
   "metadata": {
    "tags": []
   },
   "outputs": [
    {
     "name": "stdout",
     "output_type": "stream",
     "text": [
      "Number of previous responses: 0\n"
     ]
    }
   ],
   "source": [
    "try:\n",
    "    responses = pickle.load( open(\"../../data/Packets/HTTP/pickle/HTTP_packet_pairs_Aday_v3.pkl\", \"rb\" ))\n",
    "except:\n",
    "    responses = []\n",
    "\n",
    "print(\"Number of previous responses: \" + str(len(responses)))"
   ]
  },
  {
   "cell_type": "markdown",
   "id": "4de1f79a-ab55-452f-a43e-052930c04968",
   "metadata": {},
   "source": [
    "## Step 3: Generación de comandos de paquetes conversaciones TCP\n",
    "---"
   ]
  },
  {
   "cell_type": "markdown",
   "id": "28f16590-c5ef-4d1b-b155-3918e9dce4a4",
   "metadata": {},
   "source": [
    "### 3.1 Randomización de resumenes a generar"
   ]
  },
  {
   "cell_type": "markdown",
   "id": "d5f74bf6-e3df-40fa-bec5-9ff8fca02757",
   "metadata": {},
   "source": [
    "### 3.2 Solicitud al modelo para generación"
   ]
  },
  {
   "cell_type": "code",
   "execution_count": 14,
   "id": "1381627c",
   "metadata": {},
   "outputs": [],
   "source": [
    "index = 160"
   ]
  },
  {
   "cell_type": "code",
   "execution_count": 13,
   "id": "14da1bd3-70c8-4cc0-b889-3894c4c67486",
   "metadata": {
    "scrolled": true,
    "tags": []
   },
   "outputs": [
    {
     "name": "stdout",
     "output_type": "stream",
     "text": [
      "...........................................\n",
      " GENERATING SCAPY COMMANDS FOR THE FOLLOWING PACKETS (iter 18)\n",
      "\n",
      "Below, I'll give you the descriptions of the packets you have to generate, the previous where just examples\n",
      "\n",
      "\n",
      "Generate python code for creating JUST the packets of the summaries given with scapy framework and put them all in a list named pkt_list. DO NOT create commands for other types of HTTP rather than the ones belonging to the packets wanted to generate.Dont give back any comments or imports, just bare code and commands. Dont start the resposnses wiht ```python This is a flagrant error.\n",
      "Please create just the mentioned packets, don´t create any new packets.\n",
      "\n",
      "...Generated!\n"
     ]
    },
    {
     "ename": "SyntaxError",
     "evalue": "invalid syntax (<string>, line 1)",
     "output_type": "error",
     "traceback": [
      "Traceback \u001b[1;36m(most recent call last)\u001b[0m:\n",
      "\u001b[0m  File \u001b[0;32m~\\anaconda3\\envs\\PAC-GPT\\Lib\\site-packages\\IPython\\core\\interactiveshell.py:3553\u001b[0m in \u001b[0;35mrun_code\u001b[0m\n    exec(code_obj, self.user_global_ns, self.user_ns)\u001b[0m\n",
      "\u001b[1;36m  Cell \u001b[1;32mIn[13], line 43\u001b[1;36m\n\u001b[1;33m    exec(responses[-1].completion.choices[0].message.content)\u001b[1;36m\n",
      "\u001b[1;36m  File \u001b[1;32m<string>:1\u001b[1;36m\u001b[0m\n\u001b[1;33m    Please provide the packet summaries you would like to generate.\u001b[0m\n\u001b[1;37m           ^\u001b[0m\n\u001b[1;31mSyntaxError\u001b[0m\u001b[1;31m:\u001b[0m invalid syntax\n"
     ]
    }
   ],
   "source": [
    "import math\n",
    "\n",
    "\n",
    "for i in range(17, int(len(test_group)/10)):\n",
    "    \n",
    "    summaries = test_group[index:index+10]\n",
    "\n",
    "    index += 10\n",
    "    #print(summaries)\n",
    "    \n",
    "    print(\"...........................................\")\n",
    "    print( \" GENERATING SCAPY COMMANDS FOR THE FOLLOWING PACKETS (iter \" +str(i+1) +\")\")\n",
    "\n",
    "    text_sum = \"\"\n",
    "    \n",
    "    query_content = \"\\nBelow, I'll give you the descriptions of the packets you have to generate, the previous where just examples\\n\\n\"\n",
    "    \n",
    "    for summary in summaries:\n",
    "        query_content += \"This is a packet summary:\\n\"\n",
    "        query_content += summary + \"\\n\"\n",
    "        text_sum += summary + \"\\n\"\n",
    "        \n",
    "    query_content += \"\\nGenerate python code for creating JUST the packets of the summaries given with scapy framework and put them all in a list named pkt_list. DO NOT create commands for other types of HTTP rather than the ones belonging to the packets wanted to generate.Dont give back any comments or imports, just bare code and commands. Dont start the resposnses wiht ```python This is a flagrant error.\\n\"\n",
    "    query_content += \"Please create just the mentioned packets, don´t create any new packets.\\n\"\n",
    "    print(query_content)\n",
    "    \n",
    "    messages=[{\"role\": \"system\", \"content\": system_message},\n",
    "        {\"role\": \"user\", \"content\": query_content}]\n",
    "    \n",
    "    #Esta es la petición que le mandas al modelo de IA\n",
    "    completion = client.chat.completions.create(\n",
    "        model=\"gpt-4o\", \n",
    "        messages=messages,\n",
    "        max_tokens=2600,\n",
    "        temperature=0.1)\n",
    "\n",
    "    \n",
    "    print(\"...Generated!\")\n",
    "    \n",
    "    # Guardamos tanto el resumen de los paquetes que solicitamos y lo que devuelve el modelo para estos paquetes\n",
    "    responses.append(response(text_sum, completion))\n",
    "    \n",
    "    exec(responses[-1].completion.choices[0].message.content)\n",
    "    \n",
    "    with open(\"../../data/Packets/HTTP/pcap/HTTPgenerated_gpt4o_v3.pcap\", \"ba+\") as f:\n",
    "        wrpcap(f, pkt_list, append=True)\n",
    "    \n",
    "    # Guardamos tanto la petición como la respuesta en un archivo\n",
    "    pickle.dump(responses, open( \"../../data/Packets/HTTP/pickle/HTTP_packet_pairs_Aday_v3.pkl\", \"wb\" ) )\n",
    "    \n",
    "    print(\"Number of completitions done: \" + str(len(responses)))"
   ]
  },
  {
   "cell_type": "markdown",
   "id": "c4447dfb-d1fe-4472-b30b-17a1c43dfd91",
   "metadata": {},
   "source": [
    "### 3.3 Revisión de comandos generados"
   ]
  },
  {
   "cell_type": "code",
   "execution_count": 206,
   "id": "028d4d32-86ae-4ba6-afc7-62dd15a99ce4",
   "metadata": {
    "tags": []
   },
   "outputs": [
    {
     "name": "stdout",
     "output_type": "stream",
     "text": [
      "194.247.5.23          192.168.173.5         HTTP     541    HTTP/1.1 301 Moved Permanently  (text/html)\n",
      "\n",
      "\n",
      "pkt1 = IP(src=\"194.247.5.23\", dst=\"192.168.173.5\") / TCP(sport=1234, dport=80) / HTTP() / HTTPResponse(Http_Version=\"HTTP/1.1\", Status_Code=\"301\", Reason_Phrase=\"Moved Permanently\", Content_Type=\"text/html\") / \"<HTML><BODY><H1>Redirecting...</H1></BODY></HTML>\"\n",
      "\n",
      "pkt2 = IP(src=\"192.168.173.5\", dst=\"194.247.5.23\") / TCP(sport=80, dport=1234, flags=\"A\") / HTTP() / HTTPRequest(Method=\"GET\", Http_Version=\"HTTP/1.1\", Host=\"www.example.com\", Path=\"/index.html\")\n",
      "\n",
      "pkt3 = IP(src=\"10.0.0.1\", dst=\"192.168.1.1\") / TCP(sport=4321, dport=80) / HTTP() / HTTPRequest(Method=\"POST\", Http_Version=\"HTTP/1.1\", Host=\"www.example.com\", Path=\"/login\", Data=\"username=admin&password=1234\")\n",
      "\n",
      "pkt4 = IP(src=\"192.168.1.1\", dst=\"10.0.0.1\") / TCP(sport=80, dport=4321, flags=\"A\") / HTTP() / HTTPResponse(Http_Version=\"HTTP/1.1\", Status_Code=\"200\", Reason_Phrase=\"OK\", Content_Type=\"text/html\") / \"<HTML><BODY><H1>Login successful!</H1></BODY></HTML>\"\n",
      "\n",
      "pkt_list = [pkt1, pkt2, pkt3, pkt4]\n"
     ]
    }
   ],
   "source": [
    "# Este es el resumen de lo que está en el struct de responses para la última petición\n",
    "print(responses[-1].prompt_summary)\n",
    "print(responses[-1].completion.choices[0].text)"
   ]
  },
  {
   "cell_type": "markdown",
   "id": "bd91e117-b3bc-4376-8a9d-22f0dea30dd1",
   "metadata": {},
   "source": [
    "## Step 4: Generación de paquetes\n",
    "---"
   ]
  },
  {
   "cell_type": "code",
   "execution_count": 212,
   "id": "eb871940-bec1-409c-af35-05685d61196c",
   "metadata": {
    "tags": []
   },
   "outputs": [
    {
     "name": "stdout",
     "output_type": "stream",
     "text": [
      "[<IP  frag=0 proto=tcp src=194.247.5.7 dst=85.25.246.38 |<TCP  sport=1234 dport=http |<HTTP  |<HTTPRequest  Method='GET' Path='/' Http_Version='HTTP/1.1' Host='netsec.blog/' |>>>>, <IP  frag=0 proto=tcp src=85.25.246.38 dst=194.247.5.7 |<TCP  sport=http dport=4321 flags=A |<HTTP  |<HTTPResponse  Http_Version='HTTP/1.1' Status_Code='301' Reason_Phrase='Moved Permanently' Content_Type='text/html' |<Raw  load='<HTML><BODY><H1>Redirecting to new page...</H1></BODY></HTML>' |>>>>>, <IP  frag=0 proto=tcp src=194.247.5.7 dst=85.25.246.38 |<TCP  sport=rrac dport=http |<HTTP  |<HTTPRequest  Method='CONNECT' Http_Version='HTTP/1.1' Host='weberblog.net/' |>>>>, <IP  frag=0 proto=tcp src=85.25.246.38 dst=194.247.5.7 |<TCP  sport=http dport=4321 flags=A |<HTTP  |<HTTPResponse  Http_Version='HTTP/1.1' Status_Code='200' Reason_Phrase='Connection established' |>>>>, <IP  frag=0 proto=tcp src=192.168.173.5 dst=194.247.5.23 |<TCP  sport=1234 dport=http |<HTTP  |<HTTPRequest  Method='GET' Path='/' Http_Version='HTTP/1.1' Host='194.247.5.23/' |>>>>]\n"
     ]
    }
   ],
   "source": [
    "# Ejecutamos los comandos que devuelve el modelo para generar los paquetes\n",
    "#exec(responses[-1].completion.choices[0].text)\n",
    "print(pkt_list)"
   ]
  },
  {
   "cell_type": "code",
   "execution_count": 194,
   "id": "fd89a024-f51f-482a-9905-20db1ab19b6f",
   "metadata": {
    "tags": []
   },
   "outputs": [
    {
     "name": "stdout",
     "output_type": "stream",
     "text": [
      "\n",
      "Sent 5 packets.\n"
     ]
    }
   ],
   "source": [
    "#Enviarlos para probar si se envian correctamente\n",
    "send(pkt_list)"
   ]
  },
  {
   "cell_type": "markdown",
   "id": "7bf00ba6-ce81-42ee-a4af-7b85b0ca4b7c",
   "metadata": {},
   "source": [
    "## Step 5: Introducción en un pcap\n",
    "---"
   ]
  },
  {
   "cell_type": "code",
   "execution_count": 216,
   "id": "e6dfcbf1-8840-47b9-ab02-5c320e10027f",
   "metadata": {
    "tags": []
   },
   "outputs": [],
   "source": [
    "# Guardamos los paquetes generados en un pcap\n",
    "with open(\"../../data/Packets/HTTP/pcap/HTTP2generated_3_5_turbo-instruct_conv_ALL.pcap\", \"ba+\") as f:\n",
    "    wrpcap(f, pkt1, append=True)"
   ]
  },
  {
   "cell_type": "code",
   "execution_count": null,
   "id": "5c5a37c3-5940-4910-91b9-eb13461f67c2",
   "metadata": {},
   "outputs": [],
   "source": []
  }
 ],
 "metadata": {
  "kernelspec": {
   "display_name": "Python 3 (ipykernel)",
   "language": "python",
   "name": "python3"
  },
  "language_info": {
   "codemirror_mode": {
    "name": "ipython",
    "version": 3
   },
   "file_extension": ".py",
   "mimetype": "text/x-python",
   "name": "python",
   "nbconvert_exporter": "python",
   "pygments_lexer": "ipython3",
   "version": "3.11.7"
  }
 },
 "nbformat": 4,
 "nbformat_minor": 5
}
