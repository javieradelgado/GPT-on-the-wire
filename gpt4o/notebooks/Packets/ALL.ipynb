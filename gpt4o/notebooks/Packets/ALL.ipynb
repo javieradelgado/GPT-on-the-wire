{
 "cells": [
  {
   "cell_type": "code",
   "execution_count": 2,
   "id": "d8ab9384-bfd6-4e54-be3a-3bbb87fc4360",
   "metadata": {
    "scrolled": true,
    "tags": []
   },
   "outputs": [
    {
     "name": "stderr",
     "output_type": "stream",
     "text": [
      "C:\\Users\\adayd\\anaconda3\\envs\\PAC-GPT\\Lib\\site-packages\\scapy\\layers\\ipsec.py:469: CryptographyDeprecationWarning: Blowfish has been deprecated\n",
      "  cipher=algorithms.Blowfish,\n",
      "C:\\Users\\adayd\\anaconda3\\envs\\PAC-GPT\\Lib\\site-packages\\scapy\\layers\\ipsec.py:483: CryptographyDeprecationWarning: CAST5 has been deprecated\n",
      "  cipher=algorithms.CAST5,\n"
     ]
    },
    {
     "data": {
      "text/plain": [
       "'1.10.0'"
      ]
     },
     "execution_count": 2,
     "metadata": {},
     "output_type": "execute_result"
    }
   ],
   "source": [
    "import random\n",
    "import re\n",
    "import pickle\n",
    "\n",
    "import openai\n",
    "openai.api_key = 'Fill'\n",
    "\n",
    "from scapy.all import *\n",
    "from scapy.utils import RawPcapReader, wrpcap\n",
    "import scapy.all as scapy\n",
    "\n",
    "from scapy.layers.l2 import Ether, ARP\n",
    "from scapy.layers.inet import IP, TCP, ICMP\n",
    "\n",
    "openai.__version__"
   ]
  },
  {
   "cell_type": "code",
   "execution_count": 3,
   "id": "13c8bff7-218b-4916-8e91-663ddedddf8e",
   "metadata": {
    "tags": []
   },
   "outputs": [],
   "source": [
    "packets_per_request = 5 #Paquetes que pedir al modelo de IA"
   ]
  },
  {
   "cell_type": "code",
   "execution_count": 6,
   "id": "46f766e4-a85a-44f8-8d70-d10e4e3794bc",
   "metadata": {
    "tags": []
   },
   "outputs": [
    {
     "ename": "FileNotFoundError",
     "evalue": "[Errno 2] No such file or directory: '../data/text/tcp_summaries.txt'",
     "output_type": "error",
     "traceback": [
      "\u001b[1;31m---------------------------------------------------------------------------\u001b[0m",
      "\u001b[1;31mFileNotFoundError\u001b[0m                         Traceback (most recent call last)",
      "Cell \u001b[1;32mIn[6], line 1\u001b[0m\n\u001b[1;32m----> 1\u001b[0m \u001b[38;5;28;01mwith\u001b[39;00m \u001b[38;5;28mopen\u001b[39m(\u001b[38;5;124m\"\u001b[39m\u001b[38;5;124m../data/text/tcp_summaries.txt\u001b[39m\u001b[38;5;124m\"\u001b[39m,\u001b[38;5;124m\"\u001b[39m\u001b[38;5;124mr\u001b[39m\u001b[38;5;124m\"\u001b[39m) \u001b[38;5;28;01mas\u001b[39;00m f:\n\u001b[0;32m      2\u001b[0m     packets_summary \u001b[38;5;241m=\u001b[39m f\u001b[38;5;241m.\u001b[39mread()\u001b[38;5;241m.\u001b[39msplitlines()\n\u001b[0;32m      3\u001b[0m \u001b[38;5;28mlen\u001b[39m(packets_summary)\n",
      "File \u001b[1;32m~\\anaconda3\\envs\\PAC-GPT\\Lib\\site-packages\\IPython\\core\\interactiveshell.py:310\u001b[0m, in \u001b[0;36m_modified_open\u001b[1;34m(file, *args, **kwargs)\u001b[0m\n\u001b[0;32m    303\u001b[0m \u001b[38;5;28;01mif\u001b[39;00m file \u001b[38;5;129;01min\u001b[39;00m {\u001b[38;5;241m0\u001b[39m, \u001b[38;5;241m1\u001b[39m, \u001b[38;5;241m2\u001b[39m}:\n\u001b[0;32m    304\u001b[0m     \u001b[38;5;28;01mraise\u001b[39;00m \u001b[38;5;167;01mValueError\u001b[39;00m(\n\u001b[0;32m    305\u001b[0m         \u001b[38;5;124mf\u001b[39m\u001b[38;5;124m\"\u001b[39m\u001b[38;5;124mIPython won\u001b[39m\u001b[38;5;124m'\u001b[39m\u001b[38;5;124mt let you open fd=\u001b[39m\u001b[38;5;132;01m{\u001b[39;00mfile\u001b[38;5;132;01m}\u001b[39;00m\u001b[38;5;124m by default \u001b[39m\u001b[38;5;124m\"\u001b[39m\n\u001b[0;32m    306\u001b[0m         \u001b[38;5;124m\"\u001b[39m\u001b[38;5;124mas it is likely to crash IPython. If you know what you are doing, \u001b[39m\u001b[38;5;124m\"\u001b[39m\n\u001b[0;32m    307\u001b[0m         \u001b[38;5;124m\"\u001b[39m\u001b[38;5;124myou can use builtins\u001b[39m\u001b[38;5;124m'\u001b[39m\u001b[38;5;124m open.\u001b[39m\u001b[38;5;124m\"\u001b[39m\n\u001b[0;32m    308\u001b[0m     )\n\u001b[1;32m--> 310\u001b[0m \u001b[38;5;28;01mreturn\u001b[39;00m io_open(file, \u001b[38;5;241m*\u001b[39margs, \u001b[38;5;241m*\u001b[39m\u001b[38;5;241m*\u001b[39mkwargs)\n",
      "\u001b[1;31mFileNotFoundError\u001b[0m: [Errno 2] No such file or directory: '../data/text/tcp_summaries.txt'"
     ]
    }
   ],
   "source": [
    "with open(\"../data/text/tcp_summaries.txt\",\"r\") as f:\n",
    "    packets_summary = f.read().splitlines()\n",
    "len(packets_summary)"
   ]
  },
  {
   "cell_type": "code",
   "execution_count": 41,
   "id": "63f637c4-afbf-4435-ad9a-d0e6614c1a82",
   "metadata": {
    "tags": []
   },
   "outputs": [],
   "source": [
    "class response():\n",
    "    \"Stores name and place pairs\"\n",
    "    def __init__(self, name, place):\n",
    "        self.prompt_summary = name\n",
    "        self.completion = place"
   ]
  },
  {
   "cell_type": "code",
   "execution_count": 43,
   "id": "eb483584-6722-4aa7-ab4e-8a5b1deaf608",
   "metadata": {
    "tags": []
   },
   "outputs": [],
   "source": [
    "responses = pickle.load( open(\"../data/pickle/davinci_pairs_Aday.pkl\", \"rb\" ))\n"
   ]
  },
  {
   "cell_type": "code",
   "execution_count": 45,
   "id": "33c7c10f-5663-46c7-af40-2a31af33e860",
   "metadata": {
    "tags": []
   },
   "outputs": [
    {
     "data": {
      "text/plain": [
       "0"
      ]
     },
     "execution_count": 45,
     "metadata": {},
     "output_type": "execute_result"
    }
   ],
   "source": [
    "responses = []\n",
    "len(responses)"
   ]
  },
  {
   "cell_type": "code",
   "execution_count": 47,
   "id": "0d59e6de-48a1-4a0b-ad67-77dfbccd1f27",
   "metadata": {
    "tags": []
   },
   "outputs": [],
   "source": [
    "# Defines que protocolo estás probando\n",
    "protocol = 'TCP'"
   ]
  },
  {
   "cell_type": "code",
   "execution_count": 49,
   "id": "0f9964e5-74ee-4668-8295-91bd4b9120b2",
   "metadata": {
    "tags": []
   },
   "outputs": [
    {
     "name": "stdout",
     "output_type": "stream",
     "text": [
      "...........................................\n",
      " GENERATING SCAPY COMMANDS FOR THE FOLLOWING PACKETS (iter 1)\n",
      "This is a TCP packet summary in IPv6:\n",
      "2001:470:765b::b15:22 2620:fe::fe           TCP      78     42982 → 53 [ACK] Seq=1 Ack=1 Win=28800 Len=0\n",
      "This is the python code to generate the packet:\n",
      "scapy.IPv6(dst=\"2620:fe::fe\", src=\"2001:470:765b::b15:22\")/TCP(sport=42982, dport=53, flags=\"A\", seq=1, ack=1, window=28800)\n",
      "\n",
      "These are the packet summaries:\n",
      "192.168.7.15          192.168.7.17          TCP      66     36504 â†’ 10051 [FIN, ACK] Seq=89 Ack=105 Win=64256 Len=0 TSval=2239358533 TSecr=2250046823\n",
      "2a02:26f0:6c00::210:ba48 2001:470:765b:0:1c6e:18ae:ddb4:3bc1 TCP      74     80 â†’ 44718 [ACK] Seq=1 Ack=203 Win=29952 Len=0\n",
      "2a00:6020:5004:26aa:ccdd:5e3b:815:bcd5 2a01:238:4363:ee00:9169:a8a4:e572:d5f8 TCP      86     [TCP Retransmission] 11189 â†’ 21 [SYN] Seq=0 Win=64800 Len=0 MSS=1440 WS=256 SACK_PERM\n",
      "fe80::3a63:bbff:fe02:5a4d fe80::ca4:b90c:5dad:e86b TCP      1418   631 â†’ 56775 [ACK] Seq=221770 Ack=394 Win=8847 Len=1320 TSval=3847813 TSecr=406433583 [TCP segment of a reassembled PDU]\n",
      "192.168.7.15          192.168.7.17          TCP      66     10051 â†’ 53190 [FIN, ACK] Seq=106 Ack=4070 Win=64128 Len=0 TSval=2813124426 TSecr=1058435897\n",
      "\n",
      "Generate python code for creating these packets with scapy framework and put them all in a list named pkt_list.\n",
      "...Generated!\n",
      "Number of completitions done: 1\n",
      "...........................................\n",
      " GENERATING SCAPY COMMANDS FOR THE FOLLOWING PACKETS (iter 2)\n",
      "This is a TCP packet summary in IPv6:\n",
      "2001:470:765b::b15:22 2620:fe::fe           TCP      78     42982 → 53 [ACK] Seq=1 Ack=1 Win=28800 Len=0\n",
      "This is the python code to generate the packet:\n",
      "scapy.IPv6(dst=\"2620:fe::fe\", src=\"2001:470:765b::b15:22\")/TCP(sport=42982, dport=53, flags=\"A\", seq=1, ack=1, window=28800)\n",
      "\n",
      "These are the packet summaries:\n",
      "2001:470:765b:0:1c6e:18ae:ddb4:3bc1 2a01:cb0c:8315:a400:2118:60c1:e8e8:35b0 TCP      1514   80 â†’ 55031 [ACK] Seq=1421 Ack=172 Win=29568 Len=1420 [TCP segment of a reassembled PDU]\n",
      "2620:fe::fe           2001:470:765b::b15:22 TCP      78     53 â†’ 47038 [ACK] Seq=1 Ack=39 Win=28928 Len=0\n",
      "fe80::3a63:bbff:fe02:5a4d fe80::ca4:b90c:5dad:e86b TCP      1418   631 â†’ 56775 [ACK] Seq=620298 Ack=394 Win=8847 Len=1320 TSval=3848298 TSecr=406434051 [TCP segment of a reassembled PDU]\n",
      "10.200.200.102        10.200.200.101        TCP      72     [TCP Retransmission] 46330 â†’ 646 [ACK] Seq=1 Ack=19 Win=4110 Len=18\n",
      "192.168.7.12          192.168.7.1           TCP      64     1227 â†’ 51108 [ACK] Seq=1761 Ack=158 Win=65378 Len=0\n",
      "\n",
      "Generate python code for creating these packets with scapy framework and put them all in a list named pkt_list.\n",
      "...Generated!\n",
      "Number of completitions done: 2\n"
     ]
    }
   ],
   "source": [
    "for i in range(2):\n",
    "    \n",
    "    print(\"...........................................\")\n",
    "    print( \" GENERATING SCAPY COMMANDS FOR THE FOLLOWING PACKETS (iter \" +str(i+1) +\")\")\n",
    "    \n",
    "    # Le pones unos datos preseleccionados para que sepa como crear cada uno de los paquetes, en este caso, son un paquete ICMP y otro DNS\n",
    "    if protocol == 'ICMP-DNS':\n",
    "        query = \"This is a packet summary:\\n\"\n",
    "        query += \"192.168.1.194 → 192.168.1.190 ICMP 100 Echo (ping) request id=0x9015, seq=18917\\n\"\n",
    "        query += \"This is the python code to generate the packet:\\n\"\n",
    "        query += 'scapy.IP(src=\"192.168.1.194\", dst=\"192.168.1.190\")/scapy.ICMP(type=8, id=0x9015, seq=18917)\\n\\n'\n",
    "        query += \"This is a packet summary:\\n\"\n",
    "        query += \"192.168.1.190 → 192.168.1.152 DNS 193 Standard query response 0x0971 No such name AAAA a2z3kk2ebqzso7.iot.ap-southeast-2.amazonaws.com SOA ns-1926.awsdns-48.co.uk\\n\"\n",
    "        query += \"This is the python code to generate the packet:\\n\"\n",
    "        query += 'IP(src=\"192.168.1.190\", dst=\"192.168.1.152\")/DNS(id=0x0971, qr=1, opcode=0, rcode=3, qdcount=1, ancount=0, nscount=0, arcount=0, qd=DNSQR(qname=\"a2z3kk2ebqzso7.iot.ap-southeast-2.amazonaws.com\", qtype=\"SOA\", qclass=\"IN\"))\\n\\n'\n",
    "    \n",
    "    elif protocol == 'ARP':\n",
    "        query = \"This is a packet summary:\\n\"\n",
    "        query += \"c2:3d:19:6c:00:01     c2:3c:19:6c:00:01     ARP      60     Who has 10.0.0.2? Tell 10.0.0.1\\n\"\n",
    "        query += \"This is the python code to generate the packet:\\n\"\n",
    "        query += 'scapy.Ether(src=\"c2:3d:19:6c:00:01\", dst=\"c2:3c:19:6c:00:01\")/scapy.ARP(op=1, pdst=\"10.0.0.2\", psrc=\"10.0.0.1\", hwdst=\"c2:3c:19:6c:00:01\", hwsrc=\"c2:3d:19:6c:00:01\")\\n\\n'\n",
    "        query += \"This is a packet summary:\\n\"\n",
    "        query += \"c2:3c:19:6c:00:01     c2:3d:19:6c:00:01     ARP      60     10.0.0.2 is at c2:3c:19:6c:00:01\\n\"\n",
    "        query += \"This is the python code to generate the packet:\\n\"\n",
    "        query += 'scapy.Ether(src=\"c2:3c:19:6c:00:01\", dst=\"c2:3d:19:6c:00:01\")/scapy.ARP(op=2, psrc=\"10.0.0.2\", hwsrc=\"c2:3c:19:6c:00:01\", hwdst=\"c2:3d:19:6c:00:01\", )\\n\\n'\n",
    "    \n",
    "    elif protocol == 'TCP':\n",
    "        query = \"This is a TCP packet summary in IPv4:\\n\"\n",
    "        query += '193.24.227.230        9.9.9.9               TCP      64     40301 → 53 [ACK] Seq=45 Ack=108 Win=29312 Len=0\\n'\n",
    "        query += \"This is the python code to generate the packet:\\n\"\n",
    "        query += 'scapy.IP(dst=\"9.9.9.9\", src=\"193.24.227.230\")/scapy.TCP(sport=40301, dport=53, flags=\"A\", seq=45, ack=108, window=29312)\\n\\n'\n",
    "        query = \"This is a TCP packet summary in IPv6:\\n\"\n",
    "        query += '2001:470:765b::b15:22 2620:fe::fe           TCP      78     42982 → 53 [ACK] Seq=1 Ack=1 Win=28800 Len=0\\n'\n",
    "        query += \"This is the python code to generate the packet:\\n\"\n",
    "        query += 'scapy.IPv6(dst=\"2620:fe::fe\", src=\"2001:470:765b::b15:22\")/TCP(sport=42982, dport=53, flags=\"A\", seq=1, ack=1, window=28800)\\n\\n'\n",
    "    \n",
    "    ## Luego seleccionas aleatoriamente resumenes ya generados para pedirle que te saque el comando a partir del paquete\n",
    "    query += \"These are the packet summaries:\\n\"\n",
    "    summaries = random.choices(packets_summary,k=packets_per_request)\n",
    "    text_sum = \"\"\n",
    "    for summary in summaries:\n",
    "        query += summary + \"\\n\"\n",
    "        text_sum += summary + \"\\n\"\n",
    "\n",
    "    # Le pides que te genere los paquetes con scapy y los ponga en una lista llamada pkt_list\n",
    "    query += \"\\nGenerate python code for creating these packets with scapy framework and put them all in a list named pkt_list.\"\n",
    "\n",
    "    #Query es el mensaje que le envias al modelo\n",
    "    print(query)\n",
    "    \n",
    "    #Esta es la petición que le mandas al modelo de IA\n",
    "    completion = openai.completions.create(\n",
    "        model=\"gpt-3.5-turbo-instruct\", \n",
    "        prompt=query,\n",
    "        max_tokens=2600,\n",
    "        temperature=0.1)\n",
    "    \n",
    "    print(\"...Generated!\")\n",
    "    \n",
    "    # Guardamos tanto el resumen de los paquetes que solicitamos y lo que devuelve el modelo para estos paquetes\n",
    "    responses.append(response(text_sum, completion))\n",
    "    \n",
    "    # Guardamos tanto la petición como la respuesta en un archivo\n",
    "    pickle.dump(responses, open( \"../data/pickle/davinci_pairs_Aday.pkl\", \"wb\" ) )\n",
    "    \n",
    "    print(\"Number of completitions done: \" + str(len(responses)))\n",
    "    "
   ]
  },
  {
   "cell_type": "markdown",
   "id": "774b9c33-433a-4a8e-8f6d-bd1f9535360d",
   "metadata": {},
   "source": [
    "### Variables Importantes en completions de OpenAI\n",
    "\n",
    "1. **temperature**: What sampling temperature to use, between 0 and 2. Higher values like 0.8 will\n",
    "                make the output more random, while lower values like 0.2 will make it more\n",
    "                focused and deterministic.\n",
    "              \n",
    "2. **timeout**: Override the client-level default timeout for this request, in seconds\n",
    "\n",
    "3. **n**: How many completions to generate for each prompt.\n",
    "\n",
    "4. **max_tokens**: The maximum number of [tokens](/tokenizer) that can be generated in the\n",
    "              completion.\n",
    "\n",
    "              The token count of your prompt plus `max_tokens` cannot exceed the model's\n",
    "              context length.\n",
    "              [Example Python code](https://cookbook.openai.com/examples/how_to_count_tokens_with_tiktoken)\n",
    "              for counting tokens.\n",
    " \n",
    "5. **stop**: Up to 4 sequences where the API will stop generating further tokens. The\n",
    "              returned text will not contain the stop sequence.\n",
    " \n",
    "6. **best_of**: Generates `best_of` completions server-side and returns the \"best\" (the one with\n",
    "              the highest log probability per token). Results cannot be streamed.\n",
    "\n",
    "              When used with `n`, `best_of` controls the number of candidate completions and\n",
    "              `n` specifies how many to return – `best_of` must be greater than `n`.\n",
    "\n",
    "              **Note:** Because this parameter generates many completions, it can quickly\n",
    "              consume your token quota. Use carefully and ensure that you have reasonable\n",
    "              settings for `max_tokens` and `stop`.\n",
    "              \n",
    "7. **prompt**: The prompt(s) to generate completions for, encoded as a string, array of\n",
    "              strings, array of tokens, or array of token arrays.\n",
    "\n",
    "              Note that <|endoftext|> is the document separator that the model sees during\n",
    "              training, so if a prompt is not specified the model will generate as if from the\n",
    "              beginning of a new document.\n",
    "              \n",
    "              \n",
    "MUCHOS MÁS en https://github.com/openai/openai-python/blob/0c1e58d511bd60c4dd47ea8a8c0820dc2d013d1d/src/openai/resources/completions.py#L35"
   ]
  },
  {
   "cell_type": "code",
   "execution_count": 52,
   "id": "bb0b4459-1e4c-4c33-8656-d8a003d68190",
   "metadata": {
    "tags": []
   },
   "outputs": [
    {
     "name": "stdout",
     "output_type": "stream",
     "text": [
      "Completion(id='cmpl-90okuDJUN5hYn147RXjBI3Zc8VEhH', choices=[CompletionChoice(finish_reason='stop', index=0, logprobs=None, text='\\n\\npkt1 = scapy.IP(dst=\"2a01:cb0c:8315:a400:2118:60c1:e8e8:35b0\", src=\"2001:470:765b:0:1c6e:18ae:ddb4:3bc1\")/TCP(sport=80, dport=55031, flags=\"A\", seq=1421, ack=172, window=29568, options=[(\"MSS\", 1460)])/Raw(load=\"Lorem ipsum dolor sit amet, consectetur adipiscing elit. Sed euismod, nisi eu ultricies tristique, velit urna aliquet sapien, vel tincidunt nunc est vel nunc.\")\\npkt2 = scapy.IPv6(dst=\"2620:fe::fe\", src=\"2001:470:765b::b15:22\")/TCP(sport=53, dport=47038, flags=\"A\", seq=1, ack=39, window=28928)\\npkt3 = scapy.IPv6(dst=\"fe80::ca4:b90c:5dad:e86b\", src=\"fe80::3a63:bbff:fe02:5a4d\")/TCP(sport=631, dport=56775, flags=\"A\", seq=620298, ack=394, window=8847, options=[(\"NOP\", None), (\"NOP\", None), (\"Timestamp\", (3848298, 406434051))])/Raw(load=\"Suspendisse potenti. Fusce euismod, nisi eu ultricies tristique, velit urna aliquet sapien, vel tincidunt nunc est vel nunc.\")\\npkt4 = scapy.IP(src=\"10.200.200.102\", dst=\"10.200.200.101\")/TCP(sport=46330, dport=646, flags=\"A\", seq=1, ack=19, window=4110, options=[(\"NOP\", None), (\"NOP\", None), (\"Timestamp\", (3848298, 406434051))])/Raw(load=\"Duis euismod, nisi eu ultricies tristique, velit urna aliquet sapien, vel tincidunt nunc est vel nunc.\")\\npkt5 = scapy.IP(src=\"192.168.7.12\", dst=\"192.168.7.1\")/TCP(sport=1227, dport=51108, flags=\"A\", seq=1761, ack=158, window=65378)/Raw(load=\"Pellentesque habitant morbi tristique senectus et netus et malesuada fames ac turpis egestas. Sed euismod, nisi eu ultricies tristique, velit urna aliquet sapien, vel tincidunt nunc est vel nunc.\")\\n\\npkt_list = [pkt1, pkt2, pkt3, pkt4, pkt5]')], created=1709982132, model='gpt-3.5-turbo-instruct', object='text_completion', system_fingerprint=None, usage=CompletionUsage(completion_tokens=611, prompt_tokens=489, total_tokens=1100))\n"
     ]
    }
   ],
   "source": [
    "#Esta es la forma que tiene una respuesta del modelo de IA\n",
    "print(responses[-1].completion)"
   ]
  },
  {
   "cell_type": "code",
   "execution_count": 54,
   "id": "31f2709a-8b38-4d83-8420-1712fb6a6471",
   "metadata": {
    "tags": []
   },
   "outputs": [
    {
     "name": "stdout",
     "output_type": "stream",
     "text": [
      "2001:470:765b:0:1c6e:18ae:ddb4:3bc1 2a01:cb0c:8315:a400:2118:60c1:e8e8:35b0 TCP      1514   80 â†’ 55031 [ACK] Seq=1421 Ack=172 Win=29568 Len=1420 [TCP segment of a reassembled PDU]\n",
      "2620:fe::fe           2001:470:765b::b15:22 TCP      78     53 â†’ 47038 [ACK] Seq=1 Ack=39 Win=28928 Len=0\n",
      "fe80::3a63:bbff:fe02:5a4d fe80::ca4:b90c:5dad:e86b TCP      1418   631 â†’ 56775 [ACK] Seq=620298 Ack=394 Win=8847 Len=1320 TSval=3848298 TSecr=406434051 [TCP segment of a reassembled PDU]\n",
      "10.200.200.102        10.200.200.101        TCP      72     [TCP Retransmission] 46330 â†’ 646 [ACK] Seq=1 Ack=19 Win=4110 Len=18\n",
      "192.168.7.12          192.168.7.1           TCP      64     1227 â†’ 51108 [ACK] Seq=1761 Ack=158 Win=65378 Len=0\n",
      "\n",
      "\n",
      "\n",
      "pkt1 = scapy.IP(dst=\"2a01:cb0c:8315:a400:2118:60c1:e8e8:35b0\", src=\"2001:470:765b:0:1c6e:18ae:ddb4:3bc1\")/TCP(sport=80, dport=55031, flags=\"A\", seq=1421, ack=172, window=29568, options=[(\"MSS\", 1460)])/Raw(load=\"Lorem ipsum dolor sit amet, consectetur adipiscing elit. Sed euismod, nisi eu ultricies tristique, velit urna aliquet sapien, vel tincidunt nunc est vel nunc.\")\n",
      "pkt2 = scapy.IPv6(dst=\"2620:fe::fe\", src=\"2001:470:765b::b15:22\")/TCP(sport=53, dport=47038, flags=\"A\", seq=1, ack=39, window=28928)\n",
      "pkt3 = scapy.IPv6(dst=\"fe80::ca4:b90c:5dad:e86b\", src=\"fe80::3a63:bbff:fe02:5a4d\")/TCP(sport=631, dport=56775, flags=\"A\", seq=620298, ack=394, window=8847, options=[(\"NOP\", None), (\"NOP\", None), (\"Timestamp\", (3848298, 406434051))])/Raw(load=\"Suspendisse potenti. Fusce euismod, nisi eu ultricies tristique, velit urna aliquet sapien, vel tincidunt nunc est vel nunc.\")\n",
      "pkt4 = scapy.IP(src=\"10.200.200.102\", dst=\"10.200.200.101\")/TCP(sport=46330, dport=646, flags=\"A\", seq=1, ack=19, window=4110, options=[(\"NOP\", None), (\"NOP\", None), (\"Timestamp\", (3848298, 406434051))])/Raw(load=\"Duis euismod, nisi eu ultricies tristique, velit urna aliquet sapien, vel tincidunt nunc est vel nunc.\")\n",
      "pkt5 = scapy.IP(src=\"192.168.7.12\", dst=\"192.168.7.1\")/TCP(sport=1227, dport=51108, flags=\"A\", seq=1761, ack=158, window=65378)/Raw(load=\"Pellentesque habitant morbi tristique senectus et netus et malesuada fames ac turpis egestas. Sed euismod, nisi eu ultricies tristique, velit urna aliquet sapien, vel tincidunt nunc est vel nunc.\")\n",
      "\n",
      "pkt_list = [pkt1, pkt2, pkt3, pkt4, pkt5]\n"
     ]
    }
   ],
   "source": [
    "# Este es el resumen de lo que está en el struct de responses para la última petición\n",
    "print(responses[-1].prompt_summary)\n",
    "print(responses[-1].completion.choices[0].text)"
   ]
  },
  {
   "cell_type": "markdown",
   "id": "bf826a7c-6fc8-4621-9bfd-a57d637b3239",
   "metadata": {},
   "source": [
    "### Generación de paquetes"
   ]
  },
  {
   "cell_type": "code",
   "execution_count": 57,
   "id": "dd6d0027-5346-45ae-aaed-c759e55d904a",
   "metadata": {
    "tags": []
   },
   "outputs": [
    {
     "ename": "gaierror",
     "evalue": "[Errno 11001] getaddrinfo failed",
     "output_type": "error",
     "traceback": [
      "\u001b[1;31m---------------------------------------------------------------------------\u001b[0m",
      "\u001b[1;31mOSError\u001b[0m                                   Traceback (most recent call last)",
      "File \u001b[1;32m~\\anaconda3\\envs\\PAC-GPT\\Lib\\site-packages\\scapy\\fields.py:522\u001b[0m, in \u001b[0;36mIPField.h2i\u001b[1;34m(self, pkt, x)\u001b[0m\n\u001b[0;32m    521\u001b[0m \u001b[38;5;28;01mtry\u001b[39;00m:\n\u001b[1;32m--> 522\u001b[0m     inet_aton(x)\n\u001b[0;32m    523\u001b[0m \u001b[38;5;28;01mexcept\u001b[39;00m socket\u001b[38;5;241m.\u001b[39merror:\n",
      "\u001b[1;31mOSError\u001b[0m: illegal IP address string passed to inet_aton",
      "\nDuring handling of the above exception, another exception occurred:\n",
      "\u001b[1;31mgaierror\u001b[0m                                  Traceback (most recent call last)",
      "Cell \u001b[1;32mIn[57], line 2\u001b[0m\n\u001b[0;32m      1\u001b[0m \u001b[38;5;66;03m# Ejecutamos los comandos que devuelve el modelo para generar los paquetes\u001b[39;00m\n\u001b[1;32m----> 2\u001b[0m exec(responses[\u001b[38;5;241m-\u001b[39m\u001b[38;5;241m1\u001b[39m]\u001b[38;5;241m.\u001b[39mcompletion\u001b[38;5;241m.\u001b[39mchoices[\u001b[38;5;241m0\u001b[39m]\u001b[38;5;241m.\u001b[39mtext)\n\u001b[0;32m      3\u001b[0m \u001b[38;5;28mprint\u001b[39m(pkt_list)\n",
      "File \u001b[1;32m<string>:3\u001b[0m\n",
      "File \u001b[1;32m~\\anaconda3\\envs\\PAC-GPT\\Lib\\site-packages\\scapy\\base_classes.py:258\u001b[0m, in \u001b[0;36mPacket_metaclass.__call__\u001b[1;34m(cls, *args, **kargs)\u001b[0m\n\u001b[0;32m    256\u001b[0m         \u001b[38;5;28mcls\u001b[39m \u001b[38;5;241m=\u001b[39m config\u001b[38;5;241m.\u001b[39mconf\u001b[38;5;241m.\u001b[39mraw_layer\n\u001b[0;32m    257\u001b[0m i \u001b[38;5;241m=\u001b[39m \u001b[38;5;28mcls\u001b[39m\u001b[38;5;241m.\u001b[39m\u001b[38;5;21m__new__\u001b[39m(\u001b[38;5;28mcls\u001b[39m, \u001b[38;5;28mcls\u001b[39m\u001b[38;5;241m.\u001b[39m\u001b[38;5;18m__name__\u001b[39m, \u001b[38;5;28mcls\u001b[39m\u001b[38;5;241m.\u001b[39m\u001b[38;5;18m__bases__\u001b[39m, \u001b[38;5;28mcls\u001b[39m\u001b[38;5;241m.\u001b[39m\u001b[38;5;18m__dict__\u001b[39m)\n\u001b[1;32m--> 258\u001b[0m i\u001b[38;5;241m.\u001b[39m\u001b[38;5;21m__init__\u001b[39m(\u001b[38;5;241m*\u001b[39margs, \u001b[38;5;241m*\u001b[39m\u001b[38;5;241m*\u001b[39mkargs)\n\u001b[0;32m    259\u001b[0m \u001b[38;5;28;01mreturn\u001b[39;00m i\n",
      "File \u001b[1;32m~\\anaconda3\\envs\\PAC-GPT\\Lib\\site-packages\\scapy\\packet.py:159\u001b[0m, in \u001b[0;36mPacket.__init__\u001b[1;34m(self, _pkt, post_transform, _internal, _underlayer, **fields)\u001b[0m\n\u001b[0;32m    157\u001b[0m     \u001b[38;5;28;01mexcept\u001b[39;00m \u001b[38;5;167;01mKeyError\u001b[39;00m:\n\u001b[0;32m    158\u001b[0m         \u001b[38;5;28;01mcontinue\u001b[39;00m\n\u001b[1;32m--> 159\u001b[0m     \u001b[38;5;28mself\u001b[39m\u001b[38;5;241m.\u001b[39mfields[fname] \u001b[38;5;241m=\u001b[39m \u001b[38;5;28mself\u001b[39m\u001b[38;5;241m.\u001b[39mget_field(fname)\u001b[38;5;241m.\u001b[39many2i(\u001b[38;5;28mself\u001b[39m, value)\n\u001b[0;32m    160\u001b[0m \u001b[38;5;66;03m# The remaining fields are unknown\u001b[39;00m\n\u001b[0;32m    161\u001b[0m \u001b[38;5;28;01mfor\u001b[39;00m fname \u001b[38;5;129;01min\u001b[39;00m fields:\n",
      "File \u001b[1;32m~\\anaconda3\\envs\\PAC-GPT\\Lib\\site-packages\\scapy\\fields.py:549\u001b[0m, in \u001b[0;36mIPField.any2i\u001b[1;34m(self, pkt, x)\u001b[0m\n\u001b[0;32m    548\u001b[0m \u001b[38;5;28;01mdef\u001b[39;00m \u001b[38;5;21many2i\u001b[39m(\u001b[38;5;28mself\u001b[39m, pkt, x):\n\u001b[1;32m--> 549\u001b[0m     \u001b[38;5;28;01mreturn\u001b[39;00m \u001b[38;5;28mself\u001b[39m\u001b[38;5;241m.\u001b[39mh2i(pkt, x)\n",
      "File \u001b[1;32m~\\anaconda3\\envs\\PAC-GPT\\Lib\\site-packages\\scapy\\fields.py:524\u001b[0m, in \u001b[0;36mIPField.h2i\u001b[1;34m(self, pkt, x)\u001b[0m\n\u001b[0;32m    522\u001b[0m         inet_aton(x)\n\u001b[0;32m    523\u001b[0m     \u001b[38;5;28;01mexcept\u001b[39;00m socket\u001b[38;5;241m.\u001b[39merror:\n\u001b[1;32m--> 524\u001b[0m         x \u001b[38;5;241m=\u001b[39m Net(x)\n\u001b[0;32m    525\u001b[0m \u001b[38;5;28;01melif\u001b[39;00m \u001b[38;5;28misinstance\u001b[39m(x, \u001b[38;5;28mlist\u001b[39m):\n\u001b[0;32m    526\u001b[0m     x \u001b[38;5;241m=\u001b[39m [\u001b[38;5;28mself\u001b[39m\u001b[38;5;241m.\u001b[39mh2i(pkt, n) \u001b[38;5;28;01mfor\u001b[39;00m n \u001b[38;5;129;01min\u001b[39;00m x]\n",
      "File \u001b[1;32m~\\anaconda3\\envs\\PAC-GPT\\Lib\\site-packages\\scapy\\base_classes.py:108\u001b[0m, in \u001b[0;36mNet.__init__\u001b[1;34m(self, net)\u001b[0m\n\u001b[0;32m    106\u001b[0m \u001b[38;5;28;01mdef\u001b[39;00m \u001b[38;5;21m__init__\u001b[39m(\u001b[38;5;28mself\u001b[39m, net):\n\u001b[0;32m    107\u001b[0m     \u001b[38;5;28mself\u001b[39m\u001b[38;5;241m.\u001b[39mrepr \u001b[38;5;241m=\u001b[39m net\n\u001b[1;32m--> 108\u001b[0m     \u001b[38;5;28mself\u001b[39m\u001b[38;5;241m.\u001b[39mparsed, \u001b[38;5;28mself\u001b[39m\u001b[38;5;241m.\u001b[39mnetmask \u001b[38;5;241m=\u001b[39m \u001b[38;5;28mself\u001b[39m\u001b[38;5;241m.\u001b[39m_parse_net(net)\n",
      "File \u001b[1;32m~\\anaconda3\\envs\\PAC-GPT\\Lib\\site-packages\\scapy\\base_classes.py:101\u001b[0m, in \u001b[0;36mNet._parse_net\u001b[1;34m(cls, net)\u001b[0m\n\u001b[0;32m     99\u001b[0m tmp \u001b[38;5;241m=\u001b[39m net\u001b[38;5;241m.\u001b[39msplit(\u001b[38;5;124m'\u001b[39m\u001b[38;5;124m/\u001b[39m\u001b[38;5;124m'\u001b[39m) \u001b[38;5;241m+\u001b[39m [\u001b[38;5;124m\"\u001b[39m\u001b[38;5;124m32\u001b[39m\u001b[38;5;124m\"\u001b[39m]\n\u001b[0;32m    100\u001b[0m \u001b[38;5;28;01mif\u001b[39;00m \u001b[38;5;129;01mnot\u001b[39;00m \u001b[38;5;28mcls\u001b[39m\u001b[38;5;241m.\u001b[39mip_regex\u001b[38;5;241m.\u001b[39mmatch(net):\n\u001b[1;32m--> 101\u001b[0m     tmp[\u001b[38;5;241m0\u001b[39m] \u001b[38;5;241m=\u001b[39m socket\u001b[38;5;241m.\u001b[39mgethostbyname(tmp[\u001b[38;5;241m0\u001b[39m])\n\u001b[0;32m    102\u001b[0m netmask \u001b[38;5;241m=\u001b[39m \u001b[38;5;28mint\u001b[39m(tmp[\u001b[38;5;241m1\u001b[39m])\n\u001b[0;32m    103\u001b[0m ret_list \u001b[38;5;241m=\u001b[39m [\u001b[38;5;28mcls\u001b[39m\u001b[38;5;241m.\u001b[39m_parse_digit(x, y \u001b[38;5;241m-\u001b[39m netmask) \u001b[38;5;28;01mfor\u001b[39;00m (x, y) \u001b[38;5;129;01min\u001b[39;00m \u001b[38;5;28mzip\u001b[39m(tmp[\u001b[38;5;241m0\u001b[39m]\u001b[38;5;241m.\u001b[39msplit(\u001b[38;5;124m'\u001b[39m\u001b[38;5;124m.\u001b[39m\u001b[38;5;124m'\u001b[39m), [\u001b[38;5;241m8\u001b[39m, \u001b[38;5;241m16\u001b[39m, \u001b[38;5;241m24\u001b[39m, \u001b[38;5;241m32\u001b[39m])]  \u001b[38;5;66;03m# noqa: E501\u001b[39;00m\n",
      "\u001b[1;31mgaierror\u001b[0m: [Errno 11001] getaddrinfo failed"
     ]
    }
   ],
   "source": [
    "# Ejecutamos los comandos que devuelve el modelo para generar los paquetes\n",
    "exec(responses[-1].completion.choices[0].text)\n",
    "print(pkt_list)"
   ]
  },
  {
   "cell_type": "code",
   "execution_count": 59,
   "id": "990b9f61-d450-41f9-b835-2d6ad096070f",
   "metadata": {
    "tags": []
   },
   "outputs": [
    {
     "ename": "NameError",
     "evalue": "name 'pkt_list' is not defined",
     "output_type": "error",
     "traceback": [
      "\u001b[1;31m---------------------------------------------------------------------------\u001b[0m",
      "\u001b[1;31mNameError\u001b[0m                                 Traceback (most recent call last)",
      "Cell \u001b[1;32mIn[59], line 1\u001b[0m\n\u001b[1;32m----> 1\u001b[0m send(pkt_list)\n",
      "\u001b[1;31mNameError\u001b[0m: name 'pkt_list' is not defined"
     ]
    }
   ],
   "source": [
    "send(pkt_list)"
   ]
  },
  {
   "cell_type": "markdown",
   "id": "89d1d268-4b17-419d-9de6-ca9b6b130195",
   "metadata": {
    "tags": []
   },
   "source": [
    "## Introducción en un PCAP"
   ]
  },
  {
   "cell_type": "code",
   "execution_count": 62,
   "id": "f33b0c49-5d12-4392-b76b-f66a1c41be20",
   "metadata": {
    "tags": []
   },
   "outputs": [
    {
     "ename": "NameError",
     "evalue": "name 'pkt_list' is not defined",
     "output_type": "error",
     "traceback": [
      "\u001b[1;31m---------------------------------------------------------------------------\u001b[0m",
      "\u001b[1;31mNameError\u001b[0m                                 Traceback (most recent call last)",
      "Cell \u001b[1;32mIn[62], line 3\u001b[0m\n\u001b[0;32m      1\u001b[0m \u001b[38;5;66;03m# Guardamos los paquetes generados en un pcap\u001b[39;00m\n\u001b[0;32m      2\u001b[0m \u001b[38;5;28;01mwith\u001b[39;00m \u001b[38;5;28mopen\u001b[39m(\u001b[38;5;124m\"\u001b[39m\u001b[38;5;124m../data/pcap/createdChatGPT/ARPgenerated_3_5_turbo-instruct_commands.pcap\u001b[39m\u001b[38;5;124m\"\u001b[39m, \u001b[38;5;124m\"\u001b[39m\u001b[38;5;124mwb\u001b[39m\u001b[38;5;124m\"\u001b[39m) \u001b[38;5;28;01mas\u001b[39;00m f:\n\u001b[1;32m----> 3\u001b[0m     wrpcap(f, pkt_list)\n",
      "\u001b[1;31mNameError\u001b[0m: name 'pkt_list' is not defined"
     ]
    }
   ],
   "source": [
    "# Guardamos los paquetes generados en un pcap\n",
    "with open(\"../data/pcap/createdChatGPT/ARPgenerated_3_5_turbo-instruct_commands.pcap\", \"wb\") as f:\n",
    "    wrpcap(f, pkt_list)"
   ]
  },
  {
   "cell_type": "code",
   "execution_count": null,
   "id": "f5bf9b52-6b06-460e-8800-d71bd27c3e51",
   "metadata": {},
   "outputs": [],
   "source": []
  }
 ],
 "metadata": {
  "kernelspec": {
   "display_name": "Python 3 (ipykernel)",
   "language": "python",
   "name": "python3"
  },
  "language_info": {
   "codemirror_mode": {
    "name": "ipython",
    "version": 3
   },
   "file_extension": ".py",
   "mimetype": "text/x-python",
   "name": "python",
   "nbconvert_exporter": "python",
   "pygments_lexer": "ipython3",
   "version": "3.11.7"
  }
 },
 "nbformat": 4,
 "nbformat_minor": 5
}
