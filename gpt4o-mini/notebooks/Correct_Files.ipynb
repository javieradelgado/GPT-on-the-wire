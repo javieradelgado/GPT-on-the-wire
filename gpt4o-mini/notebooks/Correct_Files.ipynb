{
 "cells": [
  {
   "cell_type": "markdown",
   "id": "13433a18-385f-4c14-ba66-f3ca5ea6bf51",
   "metadata": {},
   "source": [
    "## Correct ICMP summaries \n",
    "---\n",
    "Deleting final parts like (request in XXX) or (reply in XXX)"
   ]
  },
  {
   "cell_type": "markdown",
   "id": "784440b8-bd50-4f9c-ac80-4e0e6a03160d",
   "metadata": {},
   "source": [
    "### Step 1: load the complete file"
   ]
  },
  {
   "cell_type": "code",
   "execution_count": 1,
   "id": "992edeea-2989-4db4-a107-d1aa839d8fde",
   "metadata": {
    "tags": []
   },
   "outputs": [
    {
     "data": {
      "text/plain": [
       "1271"
      ]
     },
     "execution_count": 1,
     "metadata": {},
     "output_type": "execute_result"
    }
   ],
   "source": [
    "with open(\"../data/text/icmp_summaries.txt\",\"r\") as f:\n",
    "    packets_summary = f.read().splitlines()\n",
    "len(packets_summary)"
   ]
  },
  {
   "cell_type": "code",
   "execution_count": 22,
   "id": "af79bc5e-3e53-4aca-95d3-1a73a56df698",
   "metadata": {
    "tags": []
   },
   "outputs": [
    {
     "name": "stdout",
     "output_type": "stream",
     "text": [
      "10.0.0.2              10.0.0.1              ICMP     114    Echo (ping) request  id=0x0001, seq=0/0, ttl=255 (no response found!)\n"
     ]
    }
   ],
   "source": [
    "print(packets_summary[0])"
   ]
  },
  {
   "cell_type": "markdown",
   "id": "6df3ed21-db42-4dd5-a5bb-a60b63a5b3cb",
   "metadata": {},
   "source": [
    "### Step 2: Filter that part of the summary"
   ]
  },
  {
   "cell_type": "code",
   "execution_count": 16,
   "id": "2de316bd-b0ed-467b-a30b-ccd261f45fd4",
   "metadata": {
    "tags": []
   },
   "outputs": [],
   "source": [
    "new_packets =[]\n",
    "new_line = []\n",
    "for line in packets_summary:\n",
    "    partes = line.split(' ')\n",
    "    for parte in partes:\n",
    "        if parte == '(request' or parte == '(reply' or parte == '(no':\n",
    "            break\n",
    "        else:\n",
    "            new_line.append(parte)\n",
    "    new_packets.append(\" \".join(new_line))    \n",
    "    new_line = []"
   ]
  },
  {
   "cell_type": "code",
   "execution_count": 20,
   "id": "22a2db6a-e903-4874-8fe7-685722693d66",
   "metadata": {
    "tags": []
   },
   "outputs": [
    {
     "name": "stdout",
     "output_type": "stream",
     "text": [
      "10.0.0.2              10.0.0.1              ICMP     114    Echo (ping) request  id=0x0001, seq=0/0, ttl=255\n"
     ]
    }
   ],
   "source": [
    "print(new_packets[0])"
   ]
  },
  {
   "cell_type": "markdown",
   "id": "46368dc3-0abc-4685-9882-953a9e76da23",
   "metadata": {},
   "source": [
    "### Step 3: Save the summaries"
   ]
  },
  {
   "cell_type": "code",
   "execution_count": 29,
   "id": "ea8bc701-d578-48b4-a827-e4cd2bc234a2",
   "metadata": {
    "tags": []
   },
   "outputs": [],
   "source": [
    "with open(\"../data/text/ICMP_summaries_CORRECTED.txt\", 'w') as fp:\n",
    "    for line in new_packets:\n",
    "        fp.write(f\"{line}\\n\")"
   ]
  }
 ],
 "metadata": {
  "kernelspec": {
   "display_name": "Python 3 (ipykernel)",
   "language": "python",
   "name": "python3"
  },
  "language_info": {
   "codemirror_mode": {
    "name": "ipython",
    "version": 3
   },
   "file_extension": ".py",
   "mimetype": "text/x-python",
   "name": "python",
   "nbconvert_exporter": "python",
   "pygments_lexer": "ipython3",
   "version": "3.11.7"
  }
 },
 "nbformat": 4,
 "nbformat_minor": 5
}
