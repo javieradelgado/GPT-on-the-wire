{
 "cells": [
  {
   "cell_type": "markdown",
   "id": "98857f5a-567a-4941-996a-019e0ba694f4",
   "metadata": {
    "tags": []
   },
   "source": [
    "# Creación de paquetes ARP"
   ]
  },
  {
   "cell_type": "markdown",
   "id": "833d122f-03c1-4db6-9953-5864d8f68b9e",
   "metadata": {
    "tags": []
   },
   "source": [
    "### Descripción: \n",
    "Con este código se va a intentar crear diferentes tipos de paquetes ARP, mediante IA generativa. Se pretende pasar una descripción de estos paquetes al modelo y que este sea capaz de crear todos los campos necesarios para replicar un paquete con esas mismas especificaciones."
   ]
  },
  {
   "cell_type": "code",
   "execution_count": null,
   "id": "af19945d-5027-48fa-a906-7efdf0b93876",
   "metadata": {
    "tags": []
   },
   "outputs": [
    {
     "name": "stderr",
     "output_type": "stream",
     "text": [
      "C:\\Users\\adayd\\anaconda3\\envs\\PAC-GPT\\Lib\\site-packages\\scapy\\layers\\ipsec.py:469: CryptographyDeprecationWarning: Blowfish has been deprecated\n",
      "  cipher=algorithms.Blowfish,\n",
      "C:\\Users\\adayd\\anaconda3\\envs\\PAC-GPT\\Lib\\site-packages\\scapy\\layers\\ipsec.py:483: CryptographyDeprecationWarning: CAST5 has been deprecated\n",
      "  cipher=algorithms.CAST5,\n"
     ]
    },
    {
     "data": {
      "text/plain": [
       "'1.10.0'"
      ]
     },
     "execution_count": 3,
     "metadata": {},
     "output_type": "execute_result"
    }
   ],
   "source": [
    "import random\n",
    "import re\n",
    "import pickle\n",
    "import os\n",
    "\n",
    "import openai\n",
    "from openai import OpenAI\n",
    "os.environ['OPENAI_API_KEY'] = ''\n",
    "client = OpenAI()\n",
    "\n",
    "from scapy.all import *\n",
    "from scapy.utils import RawPcapReader, wrpcap\n",
    "import scapy.all as scapy\n",
    "\n",
    "from scapy.layers.l2 import Ether,ARP\n",
    "\n",
    "openai.__version__"
   ]
  },
  {
   "cell_type": "markdown",
   "id": "966c530c-db4b-4638-920b-2bdbf500b2d1",
   "metadata": {
    "tags": []
   },
   "source": [
    "## Generación de la descipción de un paquete ICMP"
   ]
  },
  {
   "cell_type": "markdown",
   "id": "c2022cfe-d5b3-4f83-a64d-c828d9053c45",
   "metadata": {
    "tags": []
   },
   "source": [
    "<center><img src=\"https://dis.um.es/~lopezquesada/documentos/IES_1314/LMSGI/curso/xhtml/xhtml11/imagenes/arp.jpg\">\n",
    "    \n",
    "<center> Esta imagen es genérica para una conversación ARP.\n"
   ]
  },
  {
   "cell_type": "code",
   "execution_count": 11,
   "id": "42c7d91e-37a8-49e9-8c56-2b075754e0aa",
   "metadata": {
    "tags": []
   },
   "outputs": [],
   "source": [
    "system_message = \"In the next lines, I'll provide you with some packet descriptions for different types of ARP packets and how to construct each one of them using scapy. Use each one of this as a base to guide you while creating packets if they are the same type, but DONT create ALL these types of packets for every description, evaluate to wich type does the summary belong, and generate JUST that packet command.\\n\\n\"\n",
    "system_message += \"ARP packets can be 2 types, queries and responses. Inside queries, they can have as dst a specific IP or to broadcast\\n\"\n",
    "\n",
    "system_message += \"This is an ARP specific IP query summary:\\n\"\n",
    "system_message += '75:3a:0d:09:e2:5d 39:a6:a8:a5:73:c1 ARP 42 Who has 192.168.2.102? Tell 192.168.2.1\\n'\n",
    "system_message += \"This is the command to generate this packet\\n\"\n",
    "system_message += 'scapy.Ether(src=\"75:3a:0d:09:e2:5d\", dst=\"39:a6:a8:a5:73:c1\")/scapy.ARP(op=1, pdst=\"192.168.2.102\", psrc=\"192.168.2.1\", hwdst=\"00:00:00:00:00:00\", hwsrc=\"75:3a:0d:09:e2:5d\")\\n\\n'\n",
    "\n",
    "system_message += \"This is an ARP broadcast query summary:\\n\"\n",
    "system_message += 'c2:3d:19:6c:00:01 Broadcast ARP 64 Who has 192.168.121.2? Tell 192.168.121.253\\n'\n",
    "system_message += \"This is the command to generate this packet\\n\"\n",
    "system_message += 'scapy.Ether(src=\"c2:3d:19:6c:00:01\", dst=\"FF:FF:FF:FF:FF:FF\")/scapy.ARP(op=1, pdst=\"192.168.121.2\", psrc=\"192.168.121.253\", hwdst=\"00:00:00:00:00:00\", hwsrc=\"c2:3d:19:6c:00:01\")\\n\\n'\n",
    "\n",
    "system_message += \"This is an ARP response summary:\\n\"\n",
    "system_message += \"c2:3c:19:6c:00:01 c2:3d:19:6c:00:01 ARP 60 10.0.0.2 is at c2:3c:19:6c:00:01\"\n",
    "system_message += \"This is the command to generate the packet:\\n\"\n",
    "system_message += 'scapy.Ether(src=\"c2:3c:19:6c:00:01\", dst=\"c2:3d:19:6c:00:01\")/scapy.ARP(op=2, psrc=\"10.0.0.2\", hwsrc=\"c2:3c:19:6c:00:01\", hwdst=\"c2:3d:19:6c:00:01\",  pdst=socket.inet_ntoa(struct.pack(\">I\", random.randint(1, 0xffffffff))))\\n\\n'\n",
    "\n",
    "system_message += \"This is an Gratuitous ARP summary:\\n\"\n",
    "system_message += \"c2:3c:19:6c:00:01     Broadcast             ARP      60     Gratuitous ARP for 10.0.0.2\"\n",
    "system_message += \"This is the command to generate the packet:\\n\"\n",
    "system_message += 'scapy.Ether(src=\"c2:3c:19:6c:00:01\", dst=\"FF:FF:FF:FF:FF:FF\")/scapy.ARP(op=2, psrc=\"10.0.0.2\", hwsrc=\"c2:3c:19:6c:00:01\", hwdst=\"FF:FF:FF:FF:FF:FF\",  pdst=\"10.0.0.2\")\\n\\n'\n",
    "\n",
    "system_message += 'Take your time (few seconds) to think if the packets and their variables make sense for an ARP packet, if not, correct them. Create every packet, even if they are duplicated descriptions.\\n'"
   ]
  },
  {
   "cell_type": "code",
   "execution_count": 13,
   "id": "661e3e74-0651-4cc3-98bc-cc7892344165",
   "metadata": {
    "tags": []
   },
   "outputs": [
    {
     "name": "stdout",
     "output_type": "stream",
     "text": [
      "In the next lines, I'll provide you with some packet descriptions for different types of ARP packets and how to construct each one of them using scapy. Use each one of this as a base to guide you while creating packets if they are the same type, but DONT create ALL these types of packets for every description, evaluate to wich type does the summary belong, and generate JUST that packet command.\n",
      "\n",
      "ARP packets can be 2 types, queries and responses. Inside queries, they can have as dst a specific IP or to broadcast\n",
      "This is an ARP specific IP query summary:\n",
      "75:3a:0d:09:e2:5d 39:a6:a8:a5:73:c1 ARP 42 Who has 192.168.2.102? Tell 192.168.2.1\n",
      "This is the command to generate this packet\n",
      "scapy.Ether(src=\"75:3a:0d:09:e2:5d\", dst=\"39:a6:a8:a5:73:c1\")/scapy.ARP(op=1, pdst=\"192.168.2.102\", psrc=\"192.168.2.1\", hwdst=\"00:00:00:00:00:00\", hwsrc=\"75:3a:0d:09:e2:5d\")\n",
      "\n",
      "This is an ARP broadcast query summary:\n",
      "c2:3d:19:6c:00:01 Broadcast ARP 64 Who has 192.168.121.2? Tell 192.168.121.253\n",
      "This is the command to generate this packet\n",
      "scapy.Ether(src=\"c2:3d:19:6c:00:01\", dst=\"FF:FF:FF:FF:FF:FF\")/scapy.ARP(op=1, pdst=\"192.168.121.2\", psrc=\"192.168.121.253\", hwdst=\"00:00:00:00:00:00\", hwsrc=\"c2:3d:19:6c:00:01\")\n",
      "\n",
      "This is an ARP response summary:\n",
      "c2:3c:19:6c:00:01 c2:3d:19:6c:00:01 ARP 60 10.0.0.2 is at c2:3c:19:6c:00:01This is the command to generate the packet:\n",
      "scapy.Ether(src=\"c2:3c:19:6c:00:01\", dst=\"c2:3d:19:6c:00:01\")/scapy.ARP(op=2, psrc=\"10.0.0.2\", hwsrc=\"c2:3c:19:6c:00:01\", hwdst=\"c2:3d:19:6c:00:01\",  pdst=socket.inet_ntoa(struct.pack(\">I\", random.randint(1, 0xffffffff))))\n",
      "\n",
      "This is an Gratuitous ARP summary:\n",
      "c2:3c:19:6c:00:01     Broadcast             ARP      60     Gratuitous ARP for 10.0.0.2This is the command to generate the packet:\n",
      "scapy.Ether(src=\"c2:3c:19:6c:00:01\", dst=\"FF:FF:FF:FF:FF:FF\")/scapy.ARP(op=2, psrc=\"10.0.0.2\", hwsrc=\"c2:3c:19:6c:00:01\", hwdst=\"FF:FF:FF:FF:FF:FF\",  pdst=\"10.0.0.2\")\n",
      "\n",
      "Take your time (few seconds) to think if the packets and their variables make sense for an ARP packet, if not, correct them. Create every packet, even if they are duplicated descriptions.\n",
      "\n"
     ]
    }
   ],
   "source": [
    "print(system_message)"
   ]
  },
  {
   "cell_type": "markdown",
   "id": "42b6a1d3-3645-4f96-9aef-2f47afbb2f43",
   "metadata": {},
   "source": [
    "## Carga de posibles descripciones"
   ]
  },
  {
   "cell_type": "code",
   "execution_count": 16,
   "id": "4bf501e4-7aa3-405f-bacd-3531b83e585b",
   "metadata": {
    "tags": []
   },
   "outputs": [
    {
     "data": {
      "text/plain": [
       "92"
      ]
     },
     "execution_count": 16,
     "metadata": {},
     "output_type": "execute_result"
    }
   ],
   "source": [
    "with open(\"../../data/text/ARP_TheUltimatePCAP.txt\",\"r\") as f:\n",
    "    packets_summary = f.read().splitlines()\n",
    "len(packets_summary)"
   ]
  },
  {
   "cell_type": "markdown",
   "id": "9e216e1b-854d-4604-9c76-38593c60809f",
   "metadata": {},
   "source": [
    "### Carga de posibles conversaciones anteriores para concatenarlas"
   ]
  },
  {
   "cell_type": "code",
   "execution_count": 19,
   "id": "2bc08d0e-16e4-4943-8ddd-fd72e52afcd5",
   "metadata": {
    "tags": []
   },
   "outputs": [],
   "source": [
    "class response():\n",
    "    \"Stores name and place pairs\"\n",
    "    def __init__(self, name, place):\n",
    "        self.prompt_summary = name\n",
    "        self.completion = place"
   ]
  },
  {
   "cell_type": "code",
   "execution_count": 21,
   "id": "6e264363-3f91-42e1-85b8-2b75028f09c8",
   "metadata": {
    "tags": []
   },
   "outputs": [],
   "source": [
    "try:\n",
    "    responses = pickle.load( open(\"../../data/Packets/ARP/pickle/ARP_packet_pairs_Aday.pkl\", \"rb\" ))\n",
    "except:\n",
    "    responses = []"
   ]
  },
  {
   "cell_type": "markdown",
   "id": "4de1f79a-ab55-452f-a43e-052930c04968",
   "metadata": {},
   "source": [
    "## Generación de comandos de paquetes conversaciones TCP"
   ]
  },
  {
   "cell_type": "code",
   "execution_count": 24,
   "id": "9d093b9c-3e06-4e66-aa8e-478b68372d7a",
   "metadata": {
    "tags": []
   },
   "outputs": [],
   "source": [
    "summaries_per_request = 10"
   ]
  },
  {
   "cell_type": "code",
   "execution_count": 26,
   "id": "4895a35a-1f63-4263-a20e-0452e8c56621",
   "metadata": {
    "tags": []
   },
   "outputs": [
    {
     "name": "stdout",
     "output_type": "stream",
     "text": [
      "['d4:7b:ea:7e:00:02     d4:7a:ea:7e:00:02     ARP      60     192.168.1.5 is at d4:7b:ea:7e:00:02', 'd4:7b:ea:7e:00:02     d4:7a:ea:7e:00:02     ARP      60     192.168.1.5 is at d4:7b:ea:7e:00:02', 'e4:8d:8c:7b:00:03     e4:8d:8c:7b:00:04     ARP      60     Who has 172.16.0.3? Tell 172.16.0.4', 'd4:7a:ea:7e:00:02     d4:7b:ea:7e:00:02     ARP      60     Who has 192.168.1.5? Tell 192.168.1.4', 'c2:3c:19:6c:00:01     c2:3d:19:6c:00:01     ARP      60     10.0.0.2 is at c2:3c:19:6c:00:01', 'd4:7a:ea:7e:00:02     d4:7b:ea:7e:00:02     ARP      60     Who has 192.168.1.5? Tell 192.168.1.4', 'a4:9b:4f:53:00:09     Broadcast             ARP      60     Gratuitous ARP for 192.168.2.9 (Reply)', 'c2:3c:19:6c:00:01     c2:3d:19:6c:00:01     ARP      60     Who has 10.0.0.1? Tell 10.0.0.2', 'c2:3d:19:6c:00:01     c2:3c:19:6c:00:01     ARP      60     10.0.0.1 is at c2:3d:19:6c:00:01', 'c2:3d:19:6c:00:01     Broadcast             ARP      60     Who has 10.0.0.2? Tell 10.0.0.1']\n"
     ]
    }
   ],
   "source": [
    "## Luego seleccionas aleatoriamente resumenes ya generados para pedirle que te saque el comando a partir del paquete\n",
    "summaries = random.choices(packets_summary,k=summaries_per_request)\n",
    "print(summaries)"
   ]
  },
  {
   "cell_type": "code",
   "execution_count": 28,
   "id": "09f35eac-b765-4544-9019-d96830a50535",
   "metadata": {
    "tags": []
   },
   "outputs": [],
   "source": [
    "index = 0"
   ]
  },
  {
   "cell_type": "code",
   "execution_count": 30,
   "id": "14da1bd3-70c8-4cc0-b889-3894c4c67486",
   "metadata": {
    "tags": []
   },
   "outputs": [
    {
     "name": "stdout",
     "output_type": "stream",
     "text": [
      "...........................................\n",
      " GENERATING SCAPY COMMANDS FOR THE FOLLOWING PACKETS (iter 1)\n",
      "\n",
      "Below, I'll give you the descriptions of the packets you have to generate, the previous where just examples\n",
      "\n",
      "This is a packet summary:\n",
      "c2:3d:19:6c:00:01     c2:3c:19:6c:00:01     ARP      60     Who has 10.0.0.2? Tell 10.0.0.1\n",
      "This is a packet summary:\n",
      "c2:3d:19:6c:00:01     c2:3c:19:6c:00:01     ARP      60     Who has 10.0.0.2? Tell 10.0.0.1\n",
      "This is a packet summary:\n",
      "c2:3c:19:6c:00:01     c2:3d:19:6c:00:01     ARP      60     10.0.0.2 is at c2:3c:19:6c:00:01\n",
      "This is a packet summary:\n",
      "c2:3d:19:6c:00:01     Broadcast             ARP      60     Gratuitous ARP for 10.0.0.1 (Reply)\n",
      "This is a packet summary:\n",
      "c2:3c:19:6c:00:01     c2:3d:19:6c:00:01     ARP      60     10.0.0.2 is at c2:3c:19:6c:00:01\n",
      "This is a packet summary:\n",
      "c2:3d:19:6c:00:01     Broadcast             ARP      60     Gratuitous ARP for 10.0.0.1 (Reply)\n",
      "This is a packet summary:\n",
      "c2:3c:19:6c:00:01     c2:3d:19:6c:00:01     ARP      60     Who has 10.0.0.1? Tell 10.0.0.2\n",
      "This is a packet summary:\n",
      "c2:3c:19:6c:00:01     c2:3d:19:6c:00:01     ARP      60     Who has 10.0.0.1? Tell 10.0.0.2\n",
      "This is a packet summary:\n",
      "c2:3c:19:6c:00:01     Broadcast             ARP      60     Gratuitous ARP for 10.0.0.2 \n",
      "This is a packet summary:\n",
      "c2:3d:19:6c:00:01     c2:3c:19:6c:00:01     ARP      60     10.0.0.1 is at c2:3d:19:6c:00:01\n",
      "\n",
      "Generate python code for creating JUST the packets of the summaries given with scapy framework and put them all in a list named pkt_list. DO NOT create commands for other types of ARP. Dont give back any comments or imports, just bare code and commands.\n",
      "Use the following structure for the pkt_list: pkt_list[scapy.Ether(...)/scapy.ARP(..), scapy.Ether(...)/scapy.ARP(..), ...]\n",
      "...Generated!\n",
      "Number of completitions done: 1\n",
      "...........................................\n",
      " GENERATING SCAPY COMMANDS FOR THE FOLLOWING PACKETS (iter 2)\n",
      "\n",
      "Below, I'll give you the descriptions of the packets you have to generate, the previous where just examples\n",
      "\n",
      "This is a packet summary:\n",
      "c2:3c:19:6c:00:01     Broadcast             ARP      60     Gratuitous ARP for 10.0.0.2 (Reply)\n",
      "This is a packet summary:\n",
      "c2:3d:19:6c:00:01     c2:3c:19:6c:00:01     ARP      60     10.0.0.1 is at c2:3d:19:6c:00:01\n",
      "This is a packet summary:\n",
      "c2:3d:19:6c:00:01     c2:3c:19:6c:00:01     ARP      60     Who has 10.0.0.2? Tell 10.0.0.1\n",
      "This is a packet summary:\n",
      "c2:3d:19:6c:00:01     c2:3c:19:6c:00:01     ARP      60     Who has 10.0.0.2? Tell 10.0.0.1\n",
      "This is a packet summary:\n",
      "c2:3c:19:6c:00:01     c2:3d:19:6c:00:01     ARP      60     10.0.0.2 is at c2:3c:19:6c:00:01\n",
      "This is a packet summary:\n",
      "c2:3d:19:6c:00:01     Broadcast             ARP      60     Gratuitous ARP for 10.0.0.1 (Reply)\n",
      "This is a packet summary:\n",
      "c2:3c:19:6c:00:01     c2:3d:19:6c:00:01     ARP      60     10.0.0.2 is at c2:3c:19:6c:00:01\n",
      "This is a packet summary:\n",
      "c2:3d:19:6c:00:01     Broadcast             ARP      60     Gratuitous ARP for 10.0.0.1 (Reply)\n",
      "This is a packet summary:\n",
      "c2:3c:19:6c:00:01     c2:3d:19:6c:00:01     ARP      60     Who has 10.0.0.1? Tell 10.0.0.2\n",
      "This is a packet summary:\n",
      "c2:3c:19:6c:00:01     c2:3d:19:6c:00:01     ARP      60     Who has 10.0.0.1? Tell 10.0.0.2\n",
      "\n",
      "Generate python code for creating JUST the packets of the summaries given with scapy framework and put them all in a list named pkt_list. DO NOT create commands for other types of ARP. Dont give back any comments or imports, just bare code and commands.\n",
      "Use the following structure for the pkt_list: pkt_list[scapy.Ether(...)/scapy.ARP(..), scapy.Ether(...)/scapy.ARP(..), ...]\n",
      "...Generated!\n",
      "Number of completitions done: 2\n",
      "...........................................\n",
      " GENERATING SCAPY COMMANDS FOR THE FOLLOWING PACKETS (iter 3)\n",
      "\n",
      "Below, I'll give you the descriptions of the packets you have to generate, the previous where just examples\n",
      "\n",
      "This is a packet summary:\n",
      "c2:3c:19:6c:00:01     Broadcast             ARP      60     Gratuitous ARP for 10.0.0.2 (Reply)\n",
      "This is a packet summary:\n",
      "c2:3d:19:6c:00:01     c2:3c:19:6c:00:01     ARP      60     10.0.0.1 is at c2:3d:19:6c:00:01\n",
      "This is a packet summary:\n",
      "c2:3c:19:6c:00:01     Broadcast             ARP      60     Gratuitous ARP for 10.0.0.2 (Reply)\n",
      "This is a packet summary:\n",
      "c2:3d:19:6c:00:01     c2:3c:19:6c:00:01     ARP      60     10.0.0.1 is at c2:3d:19:6c:00:01\n",
      "This is a packet summary:\n",
      "c2:3d:19:6c:00:01     Broadcast             ARP      60     Gratuitous ARP for 10.0.0.1 (Reply)\n",
      "This is a packet summary:\n",
      "c2:3d:19:6c:00:01     Broadcast             ARP      60     Gratuitous ARP for 10.0.0.1 (Reply)\n",
      "This is a packet summary:\n",
      "c2:3d:19:6c:00:01     Broadcast             ARP      60     Gratuitous ARP for 10.0.0.1 (Reply)\n",
      "This is a packet summary:\n",
      "c2:3d:19:6c:00:01     Broadcast             ARP      60     Gratuitous ARP for 10.0.0.1 (Reply)\n",
      "This is a packet summary:\n",
      "c2:3d:19:6c:00:01     Broadcast             ARP      60     Who has 10.0.0.2? Tell 10.0.0.1\n",
      "This is a packet summary:\n",
      "c2:3d:19:6c:00:01     Broadcast             ARP      60     Who has 10.0.0.2? Tell 10.0.0.1\n",
      "\n",
      "Generate python code for creating JUST the packets of the summaries given with scapy framework and put them all in a list named pkt_list. DO NOT create commands for other types of ARP. Dont give back any comments or imports, just bare code and commands.\n",
      "Use the following structure for the pkt_list: pkt_list[scapy.Ether(...)/scapy.ARP(..), scapy.Ether(...)/scapy.ARP(..), ...]\n",
      "...Generated!\n",
      "Number of completitions done: 3\n",
      "...........................................\n",
      " GENERATING SCAPY COMMANDS FOR THE FOLLOWING PACKETS (iter 4)\n",
      "\n",
      "Below, I'll give you the descriptions of the packets you have to generate, the previous where just examples\n",
      "\n",
      "This is a packet summary:\n",
      "c2:3d:19:6c:00:01     Broadcast             ARP      60     Who has 10.0.0.2? Tell 10.0.0.1\n",
      "This is a packet summary:\n",
      "c2:3d:19:6c:00:01     Broadcast             ARP      60     Who has 10.0.0.2? Tell 10.0.0.1\n",
      "This is a packet summary:\n",
      "c2:3c:19:6c:00:01     c2:3d:19:6c:00:01     ARP      60     10.0.0.2 is at c2:3c:19:6c:00:01\n",
      "This is a packet summary:\n",
      "c2:3c:19:6c:00:01     c2:3d:19:6c:00:01     ARP      60     10.0.0.2 is at c2:3c:19:6c:00:01\n",
      "This is a packet summary:\n",
      "c2:3c:19:6c:00:01     c2:3d:19:6c:00:01     ARP      60     10.0.0.2 is at c2:3c:19:6c:00:01\n",
      "This is a packet summary:\n",
      "c2:3c:19:6c:00:01     c2:3d:19:6c:00:01     ARP      60     10.0.0.2 is at c2:3c:19:6c:00:01\n",
      "This is a packet summary:\n",
      "d4:7a:ea:7e:00:02     d4:7b:ea:7e:00:02     ARP      60     Who has 192.168.1.5? Tell 192.168.1.4\n",
      "This is a packet summary:\n",
      "d4:7a:ea:7e:00:02     d4:7b:ea:7e:00:02     ARP      60     Who has 192.168.1.5? Tell 192.168.1.4\n",
      "This is a packet summary:\n",
      "d4:7b:ea:7e:00:02     d4:7a:ea:7e:00:02     ARP      60     192.168.1.5 is at d4:7b:ea:7e:00:02\n",
      "This is a packet summary:\n",
      "d4:7a:ea:7e:00:02     Broadcast             ARP      60     Gratuitous ARP for 192.168.1.4 (Reply)\n",
      "\n",
      "Generate python code for creating JUST the packets of the summaries given with scapy framework and put them all in a list named pkt_list. DO NOT create commands for other types of ARP. Dont give back any comments or imports, just bare code and commands.\n",
      "Use the following structure for the pkt_list: pkt_list[scapy.Ether(...)/scapy.ARP(..), scapy.Ether(...)/scapy.ARP(..), ...]\n",
      "...Generated!\n",
      "Number of completitions done: 4\n",
      "...........................................\n",
      " GENERATING SCAPY COMMANDS FOR THE FOLLOWING PACKETS (iter 5)\n",
      "\n",
      "Below, I'll give you the descriptions of the packets you have to generate, the previous where just examples\n",
      "\n",
      "This is a packet summary:\n",
      "d4:7b:ea:7e:00:02     d4:7a:ea:7e:00:02     ARP      60     192.168.1.5 is at d4:7b:ea:7e:00:02\n",
      "This is a packet summary:\n",
      "d4:7a:ea:7e:00:02     Broadcast             ARP      60     Gratuitous ARP for 192.168.1.4 (Reply)\n",
      "This is a packet summary:\n",
      "d4:7b:ea:7e:00:02     d4:7a:ea:7e:00:02     ARP      60     Who has 192.168.1.4? Tell 192.168.1.5\n",
      "This is a packet summary:\n",
      "d4:7b:ea:7e:00:02     d4:7a:ea:7e:00:02     ARP      60     Who has 192.168.1.4? Tell 192.168.1.5\n",
      "This is a packet summary:\n",
      "d4:7b:ea:7e:00:02     Broadcast             ARP      60     Gratuitous ARP for 192.168.1.5 (Reply)\n",
      "This is a packet summary:\n",
      "d4:7a:ea:7e:00:02     d4:7b:ea:7e:00:02     ARP      60     192.168.1.4 is at d4:7a:ea:7e:00:02\n",
      "This is a packet summary:\n",
      "d4:7b:ea:7e:00:02     Broadcast             ARP      60     Gratuitous ARP for 192.168.1.5 (Reply)\n",
      "This is a packet summary:\n",
      "d4:7a:ea:7e:00:02     d4:7b:ea:7e:00:02     ARP      60     192.168.1.4 is at d4:7a:ea:7e:00:02\n",
      "This is a packet summary:\n",
      "d4:7a:ea:7e:00:02     d4:7b:ea:7e:00:02     ARP      60     Who has 192.168.1.5? Tell 192.168.1.4\n",
      "This is a packet summary:\n",
      "d4:7a:ea:7e:00:02     d4:7b:ea:7e:00:02     ARP      60     Who has 192.168.1.5? Tell 192.168.1.4\n",
      "\n",
      "Generate python code for creating JUST the packets of the summaries given with scapy framework and put them all in a list named pkt_list. DO NOT create commands for other types of ARP. Dont give back any comments or imports, just bare code and commands.\n",
      "Use the following structure for the pkt_list: pkt_list[scapy.Ether(...)/scapy.ARP(..), scapy.Ether(...)/scapy.ARP(..), ...]\n",
      "...Generated!\n",
      "Number of completitions done: 5\n",
      "...........................................\n",
      " GENERATING SCAPY COMMANDS FOR THE FOLLOWING PACKETS (iter 6)\n",
      "\n",
      "Below, I'll give you the descriptions of the packets you have to generate, the previous where just examples\n",
      "\n",
      "This is a packet summary:\n",
      "d4:7b:ea:7e:00:02     d4:7a:ea:7e:00:02     ARP      60     192.168.1.5 is at d4:7b:ea:7e:00:02\n",
      "This is a packet summary:\n",
      "d4:7a:ea:7e:00:02     Broadcast             ARP      60     Gratuitous ARP for 192.168.1.4 (Reply)\n",
      "This is a packet summary:\n",
      "d4:7b:ea:7e:00:02     d4:7a:ea:7e:00:02     ARP      60     192.168.1.5 is at d4:7b:ea:7e:00:02\n",
      "This is a packet summary:\n",
      "d4:7a:ea:7e:00:02     Broadcast             ARP      60     Gratuitous ARP for 192.168.1.4 (Reply)\n",
      "This is a packet summary:\n",
      "d4:7b:ea:7e:00:02     d4:7a:ea:7e:00:02     ARP      60     Who has 192.168.1.4? Tell 192.168.1.5\n",
      "This is a packet summary:\n",
      "d4:7b:ea:7e:00:02     d4:7a:ea:7e:00:02     ARP      60     Who has 192.168.1.4? Tell 192.168.1.5\n",
      "This is a packet summary:\n",
      "d4:7b:ea:7e:00:02     Broadcast             ARP      60     Gratuitous ARP for 192.168.1.5 (Reply)\n",
      "This is a packet summary:\n",
      "e4:8d:8c:7b:00:03     Broadcast             ARP      60     Gratuitous ARP for 172.16.0.3 (Request)\n",
      "This is a packet summary:\n",
      "e4:8d:8c:7b:00:04     e4:8d:8c:7b:00:03     ARP      60     Who has 172.16.0.4? Tell 172.16.0.3\n",
      "This is a packet summary:\n",
      "e4:8d:8c:7b:00:03     e4:8d:8c:7b:00:04     ARP      60     172.16.0.3 is at e4:8d:8c:7b:00:03\n",
      "\n",
      "Generate python code for creating JUST the packets of the summaries given with scapy framework and put them all in a list named pkt_list. DO NOT create commands for other types of ARP. Dont give back any comments or imports, just bare code and commands.\n",
      "Use the following structure for the pkt_list: pkt_list[scapy.Ether(...)/scapy.ARP(..), scapy.Ether(...)/scapy.ARP(..), ...]\n",
      "...Generated!\n",
      "Number of completitions done: 6\n",
      "...........................................\n",
      " GENERATING SCAPY COMMANDS FOR THE FOLLOWING PACKETS (iter 7)\n",
      "\n",
      "Below, I'll give you the descriptions of the packets you have to generate, the previous where just examples\n",
      "\n",
      "This is a packet summary:\n",
      "e4:8d:8c:7b:00:04     Broadcast             ARP      60     Gratuitous ARP for 172.16.0.4 (Reply)\n",
      "This is a packet summary:\n",
      "e4:8d:8c:7b:00:03     e4:8d:8c:7b:00:04     ARP      60     Who has 172.16.0.3? Tell 172.16.0.4\n",
      "This is a packet summary:\n",
      "e4:8d:8c:7b:00:04     e4:8d:8c:7b:00:03     ARP      60     172.16.0.4 is at e4:8d:8c:7b:00:04\n",
      "This is a packet summary:\n",
      "e4:8d:8c:7b:00:03     Broadcast             ARP      60     Gratuitous ARP for 172.16.0.3 (Reply)\n",
      "This is a packet summary:\n",
      "e4:8d:8c:7b:00:04     e4:8d:8c:7b:00:03     ARP      60     Who has 172.16.0.4? Tell 172.16.0.3\n",
      "This is a packet summary:\n",
      "e4:8d:8c:7b:00:03     e4:8d:8c:7b:00:04     ARP      60     172.16.0.3 is at e4:8d:8c:7b:00:03\n",
      "This is a packet summary:\n",
      "e4:8d:8c:7b:00:04     Broadcast             ARP      60     Gratuitous ARP for 172.16.0.4 (Request)\n",
      "This is a packet summary:\n",
      "e4:8d:8c:7b:00:03     e4:8d:8c:7b:00:04     ARP      60     172.16.0.3 is at e4:8d:8c:7b:00:03\n",
      "This is a packet summary:\n",
      "e4:8d:8c:7b:00:04     e4:8d:8c:7b:00:03     ARP      60     Who has 172.16.0.4? Tell 172.16.0.3\n",
      "This is a packet summary:\n",
      "e4:8d:8c:7b:00:03     Broadcast             ARP      60     Gratuitous ARP for 172.16.0.3 (Reply)\n",
      "\n",
      "Generate python code for creating JUST the packets of the summaries given with scapy framework and put them all in a list named pkt_list. DO NOT create commands for other types of ARP. Dont give back any comments or imports, just bare code and commands.\n",
      "Use the following structure for the pkt_list: pkt_list[scapy.Ether(...)/scapy.ARP(..), scapy.Ether(...)/scapy.ARP(..), ...]\n",
      "...Generated!\n",
      "Number of completitions done: 7\n",
      "...........................................\n",
      " GENERATING SCAPY COMMANDS FOR THE FOLLOWING PACKETS (iter 8)\n",
      "\n",
      "Below, I'll give you the descriptions of the packets you have to generate, the previous where just examples\n",
      "\n",
      "This is a packet summary:\n",
      "e4:8d:8c:7b:00:04     e4:8d:8c:7b:00:03     ARP      60     172.16.0.4 is at e4:8d:8c:7b:00:04\n",
      "This is a packet summary:\n",
      "e4:8d:8c:7b:00:03     e4:8d:8c:7b:00:04     ARP      60     Who has 172.16.0.3? Tell 172.16.0.4\n",
      "This is a packet summary:\n",
      "e4:8d:8c:7b:00:04     Broadcast             ARP      60     Gratuitous ARP for 172.16.0.4 (Reply)\n",
      "This is a packet summary:\n",
      "a4:9b:4f:53:00:09     Broadcast             ARP      60     Gratuitous ARP for 192.168.2.9 (Request)\n",
      "This is a packet summary:\n",
      "a4:9b:4f:53:00:0a     a4:9b:4f:53:00:09     ARP      60     Who has 192.168.2.10? Tell 192.168.2.9\n",
      "This is a packet summary:\n",
      "a4:9b:4f:53:00:09     a4:9b:4f:53:00:0a     ARP      60     192.168.2.9 is at a4:9b:4f:53:00:09\n",
      "This is a packet summary:\n",
      "a4:9b:4f:53:00:0a     Broadcast             ARP      60     Gratuitous ARP for 192.168.2.10 (Reply)\n",
      "This is a packet summary:\n",
      "a4:9b:4f:53:00:09     a4:9b:4f:53:00:0a     ARP      60     Who has 192.168.2.9? Tell 192.168.2.10\n",
      "This is a packet summary:\n",
      "a4:9b:4f:53:00:0a     a4:9b:4f:53:00:09     ARP      60     192.168.2.10 is at a4:9b:4f:53:00:0a\n",
      "This is a packet summary:\n",
      "a4:9b:4f:53:00:09     Broadcast             ARP      60     Gratuitous ARP for 192.168.2.9 (Reply)\n",
      "\n",
      "Generate python code for creating JUST the packets of the summaries given with scapy framework and put them all in a list named pkt_list. DO NOT create commands for other types of ARP. Dont give back any comments or imports, just bare code and commands.\n",
      "Use the following structure for the pkt_list: pkt_list[scapy.Ether(...)/scapy.ARP(..), scapy.Ether(...)/scapy.ARP(..), ...]\n",
      "...Generated!\n",
      "Number of completitions done: 8\n",
      "...........................................\n",
      " GENERATING SCAPY COMMANDS FOR THE FOLLOWING PACKETS (iter 9)\n",
      "\n",
      "Below, I'll give you the descriptions of the packets you have to generate, the previous where just examples\n",
      "\n",
      "This is a packet summary:\n",
      "a4:9b:4f:53:00:0b     a4:9b:4f:53:00:0a     ARP      60     Who has 192.168.2.11? Tell 192.168.2.10\n",
      "This is a packet summary:\n",
      "a4:9b:4f:53:00:0a     a4:9b:4f:53:00:0b     ARP      60     192.168.2.10 is at a4:9b:4f:53:00:0a\n",
      "This is a packet summary:\n",
      "a4:9b:4f:53:00:0b     Broadcast             ARP      60     Gratuitous ARP for 192.168.2.11 (Request)\n",
      "This is a packet summary:\n",
      "a4:9b:4f:53:00:0c     a4:9b:4f:53:00:0b     ARP      60     Who has 192.168.2.12? Tell 192.168.2.11\n",
      "This is a packet summary:\n",
      "a4:9b:4f:53:00:0b     a4:9b:4f:53:00:0c     ARP      60     192.168.2.11 is at a4:9b:4f:53:00:0b\n",
      "This is a packet summary:\n",
      "a4:9b:4f:53:00:0c     Broadcast             ARP      60     Gratuitous ARP for 192.168.2.12 (Reply)\n",
      "This is a packet summary:\n",
      "a4:9b:4f:53:00:0d     a4:9b:4f:53:00:0c     ARP      60     Who has 192.168.2.13? Tell 192.168.2.12\n",
      "This is a packet summary:\n",
      "a4:9b:4f:53:00:0c     a4:9b:4f:53:00:0d     ARP      60     192.168.2.12 is at a4:9b:4f:53:00:0c\n",
      "This is a packet summary:\n",
      "a4:9b:4f:53:00:0d     Broadcast             ARP      60     Gratuitous ARP for 192.168.2.13 (Request)\n",
      "This is a packet summary:\n",
      "a4:9b:4f:53:00:0e     a4:9b:4f:53:00:0d     ARP      60     Who has 192.168.2.14? Tell 192.168.2.13\n",
      "\n",
      "Generate python code for creating JUST the packets of the summaries given with scapy framework and put them all in a list named pkt_list. DO NOT create commands for other types of ARP. Dont give back any comments or imports, just bare code and commands.\n",
      "Use the following structure for the pkt_list: pkt_list[scapy.Ether(...)/scapy.ARP(..), scapy.Ether(...)/scapy.ARP(..), ...]\n",
      "...Generated!\n",
      "Number of completitions done: 9\n",
      "...........................................\n",
      " GENERATING SCAPY COMMANDS FOR THE FOLLOWING PACKETS (iter 10)\n",
      "\n",
      "Below, I'll give you the descriptions of the packets you have to generate, the previous where just examples\n",
      "\n",
      "This is a packet summary:\n",
      "a4:9b:4f:53:00:0d     a4:9b:4f:53:00:0e     ARP      60     192.168.2.13 is at a4:9b:4f:53:00:0d\n",
      "This is a packet summary:\n",
      "a4:9b:4f:53:00:0e     Broadcast             ARP      60     Gratuitous ARP for 192.168.2.14 (Reply)\n",
      "\n",
      "Generate python code for creating JUST the packets of the summaries given with scapy framework and put them all in a list named pkt_list. DO NOT create commands for other types of ARP. Dont give back any comments or imports, just bare code and commands.\n",
      "Use the following structure for the pkt_list: pkt_list[scapy.Ether(...)/scapy.ARP(..), scapy.Ether(...)/scapy.ARP(..), ...]\n",
      "...Generated!\n",
      "Number of completitions done: 10\n"
     ]
    }
   ],
   "source": [
    "for i in range(math.ceil(len(packets_summary)/10)):\n",
    "    \n",
    "    summaries = packets_summary[index:index+10]\n",
    "    index += 10\n",
    "    #print(index)\n",
    "    \n",
    "    print(\"...........................................\")\n",
    "    print( \" GENERATING SCAPY COMMANDS FOR THE FOLLOWING PACKETS (iter \" +str(i+1) +\")\")\n",
    "    \n",
    "\n",
    "    text_sum = \"\"\n",
    "    \n",
    "    query_content = \"\\nBelow, I'll give you the descriptions of the packets you have to generate, the previous where just examples\\n\\n\"\n",
    "    \n",
    "    for summary in summaries:\n",
    "        query_content += \"This is a packet summary:\\n\"\n",
    "        query_content += summary + \"\\n\"\n",
    "        text_sum += summary + \"\\n\"\n",
    "        \n",
    "    query_content += \"\\nGenerate python code for creating JUST the packets of the summaries given with scapy framework and put them all in a list named pkt_list. DO NOT create commands for other types of ARP. Dont give back any comments or imports, just bare code and commands.\\n\"\n",
    "    query_content += \"Use the following structure for the pkt_list: pkt_list[scapy.Ether(...)/scapy.ARP(..), scapy.Ether(...)/scapy.ARP(..), ...]\"\n",
    "    \n",
    "    print(query_content)\n",
    "    \n",
    "    messages=[{\"role\": \"system\", \"content\": system_message},\n",
    "        {\"role\": \"user\", \"content\": query_content}]\n",
    "    \n",
    "    #Esta es la petición que le mandas al modelo de IA\n",
    "    completion = client.chat.completions.create(\n",
    "        model=\"gpt-4o-mini\", \n",
    "        messages=messages,\n",
    "        max_tokens=2600,\n",
    "        temperature=0.1)\n",
    "\n",
    "    \n",
    "    print(\"...Generated!\")\n",
    "    \n",
    "    # Guardamos tanto el resumen de los paquetes que solicitamos y lo que devuelve el modelo para estos paquetes\n",
    "    responses.append(response(text_sum, completion))\n",
    "    \n",
    "    codigo = responses[-1].completion.choices[0].message.content\n",
    "    \n",
    "    if codigo.startswith(\"```python\"):\n",
    "        codigo = codigo[len(\"```python\"):].lstrip()  # Elimina ```python al inicio\n",
    "    if codigo.endswith(\"```\"):\n",
    "        codigo = codigo[:-len(\"```\")].rstrip()  # Elimina ``` al final\n",
    "    \n",
    "    exec(codigo)\n",
    "    \n",
    "    with open(\"../../data/Packets/ARP/pcap/ARPgenerated_gpt_4o_conv.pcap\", \"ba+\") as f:\n",
    "        wrpcap(f, pkt_list, append=True)\n",
    "    \n",
    "    # Guardamos tanto la petición como la respuesta en un archivo\n",
    "    pickle.dump(responses, open( \"../../data/Packets/ARP/pickle/ARP_packet_pairs_Aday.pkl\", \"wb\" ) )\n",
    "    \n",
    "    print(\"Number of completitions done: \" + str(len(responses)))"
   ]
  },
  {
   "cell_type": "code",
   "execution_count": 70,
   "id": "d4a0eb40-8e0e-424e-9b94-d09401873d35",
   "metadata": {
    "tags": []
   },
   "outputs": [
    {
     "name": "stdout",
     "output_type": "stream",
     "text": [
      "Number of completitions done: 8\n"
     ]
    }
   ],
   "source": [
    "exec(responses[-1].completion.choices[0].message.content[10:-4])\n",
    "    \n",
    "with open(\"../../data/Packets/ARP/pcap/ARPgenerated_gpt_4o_conv.pcap\", \"ba+\") as f:\n",
    "    wrpcap(f, pkt_list, append=True)\n",
    "\n",
    "# Guardamos tanto la petición como la respuesta en un archivo\n",
    "pickle.dump(responses, open( \"../../data/Packets/ARP/pickle/ARP_packet_pairs_Aday.pkl\", \"wb\" ) )\n",
    "\n",
    "print(\"Number of completitions done: \" + str(len(responses)))"
   ]
  },
  {
   "cell_type": "code",
   "execution_count": 217,
   "id": "028d4d32-86ae-4ba6-afc7-62dd15a99ce4",
   "metadata": {
    "tags": []
   },
   "outputs": [
    {
     "name": "stdout",
     "output_type": "stream",
     "text": [
      "a4:9b:4f:53:00:0d     a4:9b:4f:53:00:0e     ARP      60     192.168.2.13 is at a4:9b:4f:53:00:0d\n",
      "a4:9b:4f:53:00:0e     Broadcast             ARP      60     Gratuitous ARP for 192.168.2.14 (Reply)\n",
      "\n",
      "\n",
      "\n",
      "pkt_list = [\n",
      "    scapy.Ether(src=\"a4:9b:4f:53:00:0d\", dst=\"a4:9b:4f:53:00:0e\")/scapy.ARP(op=2, psrc=\"192.168.2.13\", hwsrc=\"a4:9b:4f:53:00:0d\", hwdst=\"a4:9b:4f:53:00:0e\"),\n",
      "    scapy.Ether(src=\"a4:9b:4f:53:00:0e\", dst=\"FF:FF:FF:FF:FF:FF\")/scapy.ARP(op=2, psrc=\"192.168.2.14\", hwsrc=\"a4:9b:4f:53:00:0e\", hwdst=\"FF:FF:FF:FF:FF:FF\", pdst=\"192.168.2.14\")\n",
      "]\n"
     ]
    }
   ],
   "source": [
    "# Este es el resumen de lo que está en el struct de responses para la última petición\n",
    "print(responses[-1].prompt_summary)\n",
    "print(responses[-1].completion.choices[0].text)"
   ]
  },
  {
   "cell_type": "markdown",
   "id": "bd91e117-b3bc-4376-8a9d-22f0dea30dd1",
   "metadata": {},
   "source": [
    "### Generación de paquetes"
   ]
  },
  {
   "cell_type": "code",
   "execution_count": 220,
   "id": "eb871940-bec1-409c-af35-05685d61196c",
   "metadata": {
    "tags": []
   },
   "outputs": [
    {
     "name": "stdout",
     "output_type": "stream",
     "text": [
      "[<Ether  dst=a4:9b:4f:53:00:0e src=a4:9b:4f:53:00:0d type=ARP |<ARP  op=is-at hwsrc=a4:9b:4f:53:00:0d psrc=192.168.2.13 hwdst=a4:9b:4f:53:00:0e |>>, <Ether  dst=FF:FF:FF:FF:FF:FF src=a4:9b:4f:53:00:0e type=ARP |<ARP  op=is-at hwsrc=a4:9b:4f:53:00:0e psrc=192.168.2.14 hwdst=FF:FF:FF:FF:FF:FF pdst=192.168.2.14 |>>]\n"
     ]
    }
   ],
   "source": [
    "# Ejecutamos los comandos que devuelve el modelo para generar los paquetes\n",
    "exec(responses[-1].completion.choices[0].text)\n",
    "print(pkt_list)"
   ]
  },
  {
   "cell_type": "code",
   "execution_count": 222,
   "id": "fd89a024-f51f-482a-9905-20db1ab19b6f",
   "metadata": {
    "tags": []
   },
   "outputs": [
    {
     "name": "stdout",
     "output_type": "stream",
     "text": [
      "\n",
      "Sent 2 packets.\n"
     ]
    }
   ],
   "source": [
    "#Enviarlos para probar si se envian correctamente\n",
    "send(pkt_list)"
   ]
  },
  {
   "cell_type": "markdown",
   "id": "7bf00ba6-ce81-42ee-a4af-7b85b0ca4b7c",
   "metadata": {},
   "source": [
    "### Introducción en un pcap"
   ]
  },
  {
   "cell_type": "code",
   "execution_count": 225,
   "id": "e6dfcbf1-8840-47b9-ab02-5c320e10027f",
   "metadata": {
    "tags": []
   },
   "outputs": [],
   "source": [
    "# Guardamos los paquetes generados en un pcap\n",
    "with open(\"../../data/Packets/ARP/pcap/Validation_v2_ARPgenerated_3_5_turbo-instruct_conv.pcap\", \"ba+\") as f:\n",
    "    wrpcap(f, pkt_list, append=True)"
   ]
  },
  {
   "cell_type": "code",
   "execution_count": null,
   "id": "28ac3850-43fe-4c23-bbb9-2edf7bf5d333",
   "metadata": {},
   "outputs": [],
   "source": []
  }
 ],
 "metadata": {
  "kernelspec": {
   "display_name": "Python 3 (ipykernel)",
   "language": "python",
   "name": "python3"
  },
  "language_info": {
   "codemirror_mode": {
    "name": "ipython",
    "version": 3
   },
   "file_extension": ".py",
   "mimetype": "text/x-python",
   "name": "python",
   "nbconvert_exporter": "python",
   "pygments_lexer": "ipython3",
   "version": "3.11.7"
  }
 },
 "nbformat": 4,
 "nbformat_minor": 5
}
